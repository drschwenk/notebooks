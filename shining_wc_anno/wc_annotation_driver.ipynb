{
 "cells": [
  {
   "cell_type": "markdown",
   "metadata": {},
   "source": [
    "# Table of Contents\n",
    "* [Submitting HITs](#Submitting-HITs)\n",
    "\t* [Building URLs for images on s3](#Building-URLs-for-images-on-s3)\n",
    "\t* [submitting HITs in groups](#submitting-HITs-in-groups)\n",
    "\t\t* [creates HITs, careful with this one](#creates-HITs,-careful-with-this-one)\n",
    "* [Reviewing latest HITs](#Reviewing-latest-HITs)\n",
    "* [Merging latest round of HITs into combined dataset](#Merging-latest-round-of-HITs-into-combined-dataset)\n",
    "\t* [Load prior complete dataset if not in memory](#Load-prior-complete-dataset-if-not-in-memory)\n",
    "\t* [Updating full dataset](#Updating-full-dataset)\n",
    "\t* [Working with full dataset](#Working-with-full-dataset)\n",
    "* [Worker Analysis](#Worker-Analysis)\n",
    "\t* [Basic worker stats](#Basic-worker-stats)\n",
    "\t\t* [HIT duration for pricing](#HIT-duration-for-pricing)\n",
    "\t\t* [Identifying high and low consensus workers](#Identifying-high-and-low-consensus-workers)\n",
    "\t* [Messaging workers](#Messaging-workers)\n",
    "* [HIT end-of-life](#HIT-end-of-life)\n",
    "\t* [Pickle latest results](#Pickle-latest-results)\n",
    "\t* [Pickle combined dataset](#Pickle-combined-dataset)\n",
    "\t* [Accepting and deleting HITs... careful with these](#Accepting-and-deleting-HITs...-careful-with-these)\n"
   ]
  },
  {
   "cell_type": "code",
   "execution_count": 77,
   "metadata": {
    "collapsed": false,
    "run_control": {
     "frozen": false,
     "read_only": false
    }
   },
   "outputs": [],
   "source": [
    "%%capture\n",
    "from __future__ import division\n",
    "import numpy as np\n",
    "import pandas as pd\n",
    "import scipy.stats as st\n",
    "import itertools\n",
    "import math\n",
    "from collections import Counter, defaultdict\n",
    "%load_ext autoreload\n",
    "%autoreload 2\n",
    "\n",
    "#The lines commented below set the look and feel of mpl generated plots.\n",
    "import matplotlib as mpl\n",
    "# mpl.use(\"Agg\")\n",
    "# import matplotlib.pylab as plt\n",
    "# #%matplotlib notebook\n",
    "# %matplotlib inline\n",
    "# %load_ext base16_mplrc\n",
    "# %base16_mplrc light default\n",
    "# plt.rcParams['figure.figsize'] = (16.0, 10.0)\n",
    "\n",
    "import re\n",
    "import pickle\n",
    "import boto\n",
    "import json\n",
    "import os\n",
    "\n",
    "from copy import deepcopy\n",
    "import boto.mturk.connection as tc\n",
    "import boto.mturk.question as tq\n",
    "from boto.mturk.qualification import PercentAssignmentsApprovedRequirement, Qualifications, Requirement\n",
    "\n",
    "# These lines import my aws access keys\n",
    "from keysTkingdom import mturk_ai2\n",
    "from keysTkingdom import aws_tokes\n",
    "\n",
    "\n",
    "import amt_utils.process_hits as amt_util\n",
    "import amt_utils.turk_email_utils as turkmail_util\n",
    "import amt_utils.shining_rel_build as rbuild\n",
    "import glob"
   ]
  },
  {
   "cell_type": "markdown",
   "metadata": {},
   "source": [
    "# **Submitting HITs**"
   ]
  },
  {
   "cell_type": "markdown",
   "metadata": {},
   "source": [
    "## Building URLs for images on s3"
   ]
  },
  {
   "cell_type": "code",
   "execution_count": 78,
   "metadata": {
    "collapsed": false,
    "run_control": {
     "frozen": false,
     "read_only": false
    },
    "scrolled": true
   },
   "outputs": [
    {
     "data": {
      "text/plain": [
       "400"
      ]
     },
     "execution_count": 78,
     "metadata": {},
     "output_type": "execute_result"
    }
   ],
   "source": [
    "images_to_annotate = pd.read_csv('./list_to_annotate.txt', header=None)\n",
    "images_to_annotate.columns= ['image_name']\n",
    "images_to_annotate_list = images_to_annotate['image_name'].tolist()\n",
    "len(images_to_annotate_list)"
   ]
  },
  {
   "cell_type": "code",
   "execution_count": 91,
   "metadata": {
    "collapsed": false,
    "run_control": {
     "frozen": false,
     "read_only": false
    }
   },
   "outputs": [],
   "source": [
    "with open('dim_lookup.pkl',) as f:\n",
    "    img_dim_lookup = pickle.load(f)\n",
    "with open('bad_images.pkl',) as f:\n",
    "    bad_images = pickle.load(f)"
   ]
  },
  {
   "cell_type": "code",
   "execution_count": 107,
   "metadata": {
    "collapsed": true
   },
   "outputs": [],
   "source": [
    "bad_images\n",
    "bad_pages = [app_url_base + page + '&hd=' + str(img_dim_lookup[page][0]) +'&vd=' + str(img_dim_lookup[page][1]) for page in bad_images]"
   ]
  },
  {
   "cell_type": "code",
   "execution_count": 108,
   "metadata": {
    "collapsed": true
   },
   "outputs": [],
   "source": [
    "%page bad_pages"
   ]
  },
  {
   "cell_type": "code",
   "execution_count": 99,
   "metadata": {
    "collapsed": false,
    "run_control": {
     "frozen": false,
     "read_only": false
    }
   },
   "outputs": [],
   "source": [
    "app_url_base = 'https://s3-us-west-2.amazonaws.com/ai2-vision-turk-data/shining-3-watercycle-test/build/index.html?url='\n",
    "\n",
    "pages_to_use = [app_url_base + page + '&hd=' + str(img_dim_lookup[page][0]) +'&vd=' + str(img_dim_lookup[page][1]) for page in images_to_annotate_list]\n",
    "# pages_to_use = [app_url_base + page + '&hd=' + str(img_dim_lookup[page][0]) +'&vd=' + str(img_dim_lookup[page][1]) for page in bad_images]"
   ]
  },
  {
   "cell_type": "code",
   "execution_count": 105,
   "metadata": {
    "collapsed": false,
    "run_control": {
     "frozen": false,
     "read_only": false
    }
   },
   "outputs": [],
   "source": [
    "pages_to_use_sub = pages_to_use[151:152]"
   ]
  },
  {
   "cell_type": "markdown",
   "metadata": {},
   "source": [
    "## submitting HITs in groups"
   ]
  },
  {
   "cell_type": "markdown",
   "metadata": {},
   "source": [
    "**DON'T FORGET to change submission POST request in the client when changing host**"
   ]
  },
  {
   "cell_type": "code",
   "execution_count": 102,
   "metadata": {
    "collapsed": false,
    "run_control": {
     "frozen": false,
     "read_only": false
    }
   },
   "outputs": [
    {
     "name": "stdout",
     "output_type": "stream",
     "text": [
      "Working in the SANDBOX with\n",
      "$10,000.00\n"
     ]
    }
   ],
   "source": [
    "## Switch between sandbox and the real world here ##\n",
    "## DON'T FORGET to change submission POST request in the client ##\n",
    "\n",
    "sandbox_host = 'mechanicalturk.sandbox.amazonaws.com' \n",
    "real_world_host = 'mechanicalturk.amazonaws.com'\n",
    "mturk = tc.MTurkConnection(\n",
    "    aws_access_key_id = aws_tokes.access_key,\n",
    "    aws_secret_access_key = aws_tokes.access_secret_key,\n",
    "    host = sandbox_host,\n",
    "    debug = 1 # debug = 2 prints out all requests.\n",
    ")\n",
    "current_account_balance = mturk.get_account_balance()[0]\n",
    "if current_account_balance.amount == 10000:\n",
    "    print \"Working in the SANDBOX with\"\n",
    "else:\n",
    "    print \"Working in the REAL WORLD with\"\n",
    "print current_account_balance # a reminder of sandbox"
   ]
  },
  {
   "cell_type": "code",
   "execution_count": 103,
   "metadata": {
    "code_folding": [],
    "collapsed": false,
    "run_control": {
     "frozen": false,
     "read_only": false
    }
   },
   "outputs": [
    {
     "name": "stdout",
     "output_type": "stream",
     "text": [
      "expect this batch of HITs to cost: $1.0\n"
     ]
    }
   ],
   "source": [
    "static_params = {\n",
    "    'title': \"Annotate shining 3 water cycles\",\n",
    "    'description': \"you know what to do\",\n",
    "    'keywords': ['findme'],\n",
    "    'frame_height': 1000,\n",
    "    'amount': 1.0,\n",
    "    'duration': 3600 * 12,\n",
    "    'lifetime': 3600 * 24 * 3,\n",
    "    'max_assignments': 1   # change to 3 when running for real\n",
    "}\n",
    "\n",
    "expected_cost = len(pages_to_use_sub) *  static_params['amount'] * static_params['max_assignments']\n",
    "if float(current_account_balance.amount) < expected_cost:\n",
    "    print('WARNING -- account balance is too low -- WARNING')\n",
    "print('expect this batch of HITs to cost: $' + str(expected_cost))"
   ]
  },
  {
   "cell_type": "markdown",
   "metadata": {},
   "source": [
    "### creates HITs, careful with this one"
   ]
  },
  {
   "cell_type": "markdown",
   "metadata": {},
   "source": [
    "**uncomment cell below only when ready to submit**"
   ]
  },
  {
   "cell_type": "code",
   "execution_count": 106,
   "metadata": {
    "code_folding": [],
    "collapsed": false,
    "run_control": {
     "frozen": false,
     "read_only": false
    }
   },
   "outputs": [],
   "source": [
    "amt_util.create_hits_from_pages(mturk, pages_to_use_sub, static_params)"
   ]
  },
  {
   "cell_type": "markdown",
   "metadata": {
    "heading_collapsed": true
   },
   "source": [
    "## Qualifications"
   ]
  },
  {
   "cell_type": "code",
   "execution_count": 34,
   "metadata": {
    "collapsed": false,
    "hidden": true,
    "run_control": {
     "frozen": false,
     "read_only": false
    }
   },
   "outputs": [],
   "source": [
    "new_qual_name = 'science textbook annotation'\n",
    "new_qual_description = 'Qualification for workers who have proved to be good at annotating science textbooks'\n",
    "# my_qual_type = mturk.create_qualification_type(new_qual_name, new_qual_description, status='Active')\n",
    "\n",
    "my_qual_type = mturk.search_qualification_types(new_qual_name)[0]"
   ]
  },
  {
   "cell_type": "code",
   "execution_count": 55,
   "metadata": {
    "collapsed": false,
    "hidden": true,
    "run_control": {
     "frozen": false,
     "read_only": false
    }
   },
   "outputs": [],
   "source": [
    "my_qual_id = my_qual_type.QualificationTypeId\n",
    "print my_qual_id"
   ]
  },
  {
   "cell_type": "code",
   "execution_count": null,
   "metadata": {
    "collapsed": true,
    "hidden": true,
    "run_control": {
     "frozen": false,
     "read_only": false
    }
   },
   "outputs": [],
   "source": [
    "mturk.assign_qualification(my_qual_id, worker_id)"
   ]
  },
  {
   "cell_type": "markdown",
   "metadata": {},
   "source": [
    "# **Reviewing HITs**"
   ]
  },
  {
   "cell_type": "markdown",
   "metadata": {},
   "source": [
    "### Retrieving and processing latest HITs"
   ]
  },
  {
   "cell_type": "code",
   "execution_count": 109,
   "metadata": {
    "collapsed": true,
    "run_control": {
     "frozen": false,
     "read_only": false
    }
   },
   "outputs": [],
   "source": [
    "r_hits_current_batch = amt_util.get_completed_hits(mturk)\n",
    "assignment_results_current_batch = amt_util.get_assignments(mturk, r_hits_current_batch, 'Submitted')"
   ]
  },
  {
   "cell_type": "code",
   "execution_count": 110,
   "metadata": {
    "collapsed": true,
    "run_control": {
     "frozen": false,
     "read_only": false
    }
   },
   "outputs": [],
   "source": [
    "raw_hit_results_current_batch = amt_util.process_raw_hits(assignment_results_current_batch)"
   ]
  },
  {
   "cell_type": "code",
   "execution_count": 111,
   "metadata": {
    "collapsed": false,
    "run_control": {
     "frozen": false,
     "read_only": false
    }
   },
   "outputs": [
    {
     "data": {
      "text/plain": [
       "Submitted    2\n",
       "dtype: int64"
      ]
     },
     "execution_count": 111,
     "metadata": {},
     "output_type": "execute_result"
    }
   ],
   "source": [
    "amt_util.get_assignment_statuses(assignment_results_current_batch )"
   ]
  },
  {
   "cell_type": "markdown",
   "metadata": {},
   "source": [
    "The commands above interact with mechanical turk and can take a while"
   ]
  },
  {
   "cell_type": "code",
   "execution_count": 112,
   "metadata": {
    "collapsed": false,
    "run_control": {
     "frozen": false,
     "read_only": false
    }
   },
   "outputs": [],
   "source": [
    "results_df_shining_batch = amt_util.make_shining_results_df(raw_hit_results_current_batch)"
   ]
  },
  {
   "cell_type": "code",
   "execution_count": 114,
   "metadata": {
    "collapsed": false,
    "run_control": {
     "frozen": false,
     "read_only": false
    },
    "scrolled": true
   },
   "outputs": [
    {
     "data": {
      "text/html": [
       "<div>\n",
       "<table border=\"1\" class=\"dataframe\">\n",
       "  <thead>\n",
       "    <tr style=\"text-align: right;\">\n",
       "      <th></th>\n",
       "      <th>page</th>\n",
       "      <th>category</th>\n",
       "      <th>hit_id</th>\n",
       "      <th>assignment_id</th>\n",
       "      <th>id</th>\n",
       "      <th>worker_id</th>\n",
       "      <th>group_n</th>\n",
       "    </tr>\n",
       "  </thead>\n",
       "  <tbody>\n",
       "    <tr>\n",
       "      <th>0</th>\n",
       "      <td>2798.png</td>\n",
       "      <td>[unlabeled]</td>\n",
       "      <td>3HO4MYYR12PH0HGR4ND12NK3VZAU68</td>\n",
       "      <td>36U2A8VAG1083PJF6U9T4BQF674KYW</td>\n",
       "      <td>T10</td>\n",
       "      <td>AO235WMFCB1D9</td>\n",
       "      <td>[[0, 0]]</td>\n",
       "    </tr>\n",
       "    <tr>\n",
       "      <th>1</th>\n",
       "      <td>2798.png</td>\n",
       "      <td>[unlabeled, IntraObjectLabel]</td>\n",
       "      <td>3HO4MYYR12PH0HGR4ND12NK3VZAU68</td>\n",
       "      <td>36U2A8VAG1083PJF6U9T4BQF674KYW</td>\n",
       "      <td>T11</td>\n",
       "      <td>AO235WMFCB1D9</td>\n",
       "      <td>[[0, 0], [12, 1]]</td>\n",
       "    </tr>\n",
       "    <tr>\n",
       "      <th>2</th>\n",
       "      <td>2798.png</td>\n",
       "      <td>[unlabeled, IntraObjectLabel]</td>\n",
       "      <td>3HO4MYYR12PH0HGR4ND12NK3VZAU68</td>\n",
       "      <td>36U2A8VAG1083PJF6U9T4BQF674KYW</td>\n",
       "      <td>T12</td>\n",
       "      <td>AO235WMFCB1D9</td>\n",
       "      <td>[[0, 0], [13, 2]]</td>\n",
       "    </tr>\n",
       "    <tr>\n",
       "      <th>3</th>\n",
       "      <td>2798.png</td>\n",
       "      <td>[unlabeled]</td>\n",
       "      <td>3HO4MYYR12PH0HGR4ND12NK3VZAU68</td>\n",
       "      <td>36U2A8VAG1083PJF6U9T4BQF674KYW</td>\n",
       "      <td>A10</td>\n",
       "      <td>AO235WMFCB1D9</td>\n",
       "      <td>[[0, 0]]</td>\n",
       "    </tr>\n",
       "    <tr>\n",
       "      <th>4</th>\n",
       "      <td>2798.png</td>\n",
       "      <td>[unlabeled, IntraObjectLinkage]</td>\n",
       "      <td>3HO4MYYR12PH0HGR4ND12NK3VZAU68</td>\n",
       "      <td>36U2A8VAG1083PJF6U9T4BQF674KYW</td>\n",
       "      <td>A1</td>\n",
       "      <td>AO235WMFCB1D9</td>\n",
       "      <td>[[0, 0], [8, 2]]</td>\n",
       "    </tr>\n",
       "    <tr>\n",
       "      <th>5</th>\n",
       "      <td>2798.png</td>\n",
       "      <td>[unlabeled, IntraObjectLinkage]</td>\n",
       "      <td>3HO4MYYR12PH0HGR4ND12NK3VZAU68</td>\n",
       "      <td>36U2A8VAG1083PJF6U9T4BQF674KYW</td>\n",
       "      <td>A0</td>\n",
       "      <td>AO235WMFCB1D9</td>\n",
       "      <td>[[0, 0], [7, 2]]</td>\n",
       "    </tr>\n",
       "    <tr>\n",
       "      <th>6</th>\n",
       "      <td>2798.png</td>\n",
       "      <td>[unlabeled, IntraObjectLinkage, arrowDescriptor]</td>\n",
       "      <td>3HO4MYYR12PH0HGR4ND12NK3VZAU68</td>\n",
       "      <td>36U2A8VAG1083PJF6U9T4BQF674KYW</td>\n",
       "      <td>A3</td>\n",
       "      <td>AO235WMFCB1D9</td>\n",
       "      <td>[[0, 0], [9, 2], [19, 1]]</td>\n",
       "    </tr>\n",
       "    <tr>\n",
       "      <th>7</th>\n",
       "      <td>2798.png</td>\n",
       "      <td>[unlabeled, IntraObjectLinkage, arrowDescriptor]</td>\n",
       "      <td>3HO4MYYR12PH0HGR4ND12NK3VZAU68</td>\n",
       "      <td>36U2A8VAG1083PJF6U9T4BQF674KYW</td>\n",
       "      <td>A2</td>\n",
       "      <td>AO235WMFCB1D9</td>\n",
       "      <td>[[0, 0], [10, 2], [18, 2]]</td>\n",
       "    </tr>\n",
       "    <tr>\n",
       "      <th>8</th>\n",
       "      <td>2798.png</td>\n",
       "      <td>[unlabeled]</td>\n",
       "      <td>3HO4MYYR12PH0HGR4ND12NK3VZAU68</td>\n",
       "      <td>36U2A8VAG1083PJF6U9T4BQF674KYW</td>\n",
       "      <td>A5</td>\n",
       "      <td>AO235WMFCB1D9</td>\n",
       "      <td>[[0, 0]]</td>\n",
       "    </tr>\n",
       "    <tr>\n",
       "      <th>9</th>\n",
       "      <td>2798.png</td>\n",
       "      <td>[unlabeled, IntraObjectLinkage]</td>\n",
       "      <td>3HO4MYYR12PH0HGR4ND12NK3VZAU68</td>\n",
       "      <td>36U2A8VAG1083PJF6U9T4BQF674KYW</td>\n",
       "      <td>A4</td>\n",
       "      <td>AO235WMFCB1D9</td>\n",
       "      <td>[[0, 0], [11, 2]]</td>\n",
       "    </tr>\n",
       "    <tr>\n",
       "      <th>10</th>\n",
       "      <td>2798.png</td>\n",
       "      <td>[unlabeled]</td>\n",
       "      <td>3HO4MYYR12PH0HGR4ND12NK3VZAU68</td>\n",
       "      <td>36U2A8VAG1083PJF6U9T4BQF674KYW</td>\n",
       "      <td>A7</td>\n",
       "      <td>AO235WMFCB1D9</td>\n",
       "      <td>[[0, 0]]</td>\n",
       "    </tr>\n",
       "    <tr>\n",
       "      <th>11</th>\n",
       "      <td>2798.png</td>\n",
       "      <td>[unlabeled]</td>\n",
       "      <td>3HO4MYYR12PH0HGR4ND12NK3VZAU68</td>\n",
       "      <td>36U2A8VAG1083PJF6U9T4BQF674KYW</td>\n",
       "      <td>A6</td>\n",
       "      <td>AO235WMFCB1D9</td>\n",
       "      <td>[[0, 0]]</td>\n",
       "    </tr>\n",
       "    <tr>\n",
       "      <th>12</th>\n",
       "      <td>2798.png</td>\n",
       "      <td>[unlabeled, IntraObjectLinkage]</td>\n",
       "      <td>3HO4MYYR12PH0HGR4ND12NK3VZAU68</td>\n",
       "      <td>36U2A8VAG1083PJF6U9T4BQF674KYW</td>\n",
       "      <td>A9</td>\n",
       "      <td>AO235WMFCB1D9</td>\n",
       "      <td>[[0, 0], [17, 2]]</td>\n",
       "    </tr>\n",
       "    <tr>\n",
       "      <th>13</th>\n",
       "      <td>2798.png</td>\n",
       "      <td>[unlabeled, IntraObjectLinkage]</td>\n",
       "      <td>3HO4MYYR12PH0HGR4ND12NK3VZAU68</td>\n",
       "      <td>36U2A8VAG1083PJF6U9T4BQF674KYW</td>\n",
       "      <td>A8</td>\n",
       "      <td>AO235WMFCB1D9</td>\n",
       "      <td>[[0, 0], [16, 2]]</td>\n",
       "    </tr>\n",
       "    <tr>\n",
       "      <th>14</th>\n",
       "      <td>2798.png</td>\n",
       "      <td>[unlabeled, imageCaption]</td>\n",
       "      <td>3HO4MYYR12PH0HGR4ND12NK3VZAU68</td>\n",
       "      <td>36U2A8VAG1083PJF6U9T4BQF674KYW</td>\n",
       "      <td>T8</td>\n",
       "      <td>AO235WMFCB1D9</td>\n",
       "      <td>[[0, 0], [6, 1]]</td>\n",
       "    </tr>\n",
       "    <tr>\n",
       "      <th>15</th>\n",
       "      <td>2798.png</td>\n",
       "      <td>[unlabeled, IntraObjectLabel]</td>\n",
       "      <td>3HO4MYYR12PH0HGR4ND12NK3VZAU68</td>\n",
       "      <td>36U2A8VAG1083PJF6U9T4BQF674KYW</td>\n",
       "      <td>T9</td>\n",
       "      <td>AO235WMFCB1D9</td>\n",
       "      <td>[[0, 0], [5, 1]]</td>\n",
       "    </tr>\n",
       "    <tr>\n",
       "      <th>16</th>\n",
       "      <td>2798.png</td>\n",
       "      <td>[unlabeled]</td>\n",
       "      <td>3HO4MYYR12PH0HGR4ND12NK3VZAU68</td>\n",
       "      <td>36U2A8VAG1083PJF6U9T4BQF674KYW</td>\n",
       "      <td>T6</td>\n",
       "      <td>AO235WMFCB1D9</td>\n",
       "      <td>[[0, 0]]</td>\n",
       "    </tr>\n",
       "    <tr>\n",
       "      <th>17</th>\n",
       "      <td>2798.png</td>\n",
       "      <td>[unlabeled, arrowDescriptor, arrowDescriptor]</td>\n",
       "      <td>3HO4MYYR12PH0HGR4ND12NK3VZAU68</td>\n",
       "      <td>36U2A8VAG1083PJF6U9T4BQF674KYW</td>\n",
       "      <td>T7</td>\n",
       "      <td>AO235WMFCB1D9</td>\n",
       "      <td>[[0, 0], [18, 1], [19, 2]]</td>\n",
       "    </tr>\n",
       "    <tr>\n",
       "      <th>18</th>\n",
       "      <td>2798.png</td>\n",
       "      <td>[unlabeled, IntraObjectLabel]</td>\n",
       "      <td>3HO4MYYR12PH0HGR4ND12NK3VZAU68</td>\n",
       "      <td>36U2A8VAG1083PJF6U9T4BQF674KYW</td>\n",
       "      <td>T4</td>\n",
       "      <td>AO235WMFCB1D9</td>\n",
       "      <td>[[0, 0], [4, 1]]</td>\n",
       "    </tr>\n",
       "    <tr>\n",
       "      <th>19</th>\n",
       "      <td>2798.png</td>\n",
       "      <td>[unlabeled, IntraObjectLabel]</td>\n",
       "      <td>3HO4MYYR12PH0HGR4ND12NK3VZAU68</td>\n",
       "      <td>36U2A8VAG1083PJF6U9T4BQF674KYW</td>\n",
       "      <td>T5</td>\n",
       "      <td>AO235WMFCB1D9</td>\n",
       "      <td>[[0, 0], [3, 1]]</td>\n",
       "    </tr>\n",
       "    <tr>\n",
       "      <th>20</th>\n",
       "      <td>2798.png</td>\n",
       "      <td>[unlabeled, IntraObjectLabel]</td>\n",
       "      <td>3HO4MYYR12PH0HGR4ND12NK3VZAU68</td>\n",
       "      <td>36U2A8VAG1083PJF6U9T4BQF674KYW</td>\n",
       "      <td>T2</td>\n",
       "      <td>AO235WMFCB1D9</td>\n",
       "      <td>[[0, 0], [1, 1]]</td>\n",
       "    </tr>\n",
       "    <tr>\n",
       "      <th>21</th>\n",
       "      <td>2798.png</td>\n",
       "      <td>[unlabeled, IntraObjectLabel]</td>\n",
       "      <td>3HO4MYYR12PH0HGR4ND12NK3VZAU68</td>\n",
       "      <td>36U2A8VAG1083PJF6U9T4BQF674KYW</td>\n",
       "      <td>T3</td>\n",
       "      <td>AO235WMFCB1D9</td>\n",
       "      <td>[[0, 0], [2, 1]]</td>\n",
       "    </tr>\n",
       "    <tr>\n",
       "      <th>22</th>\n",
       "      <td>2798.png</td>\n",
       "      <td>[unlabeled, IntraObjectLabel]</td>\n",
       "      <td>3HO4MYYR12PH0HGR4ND12NK3VZAU68</td>\n",
       "      <td>36U2A8VAG1083PJF6U9T4BQF674KYW</td>\n",
       "      <td>T0</td>\n",
       "      <td>AO235WMFCB1D9</td>\n",
       "      <td>[[0, 0], [14, 2]]</td>\n",
       "    </tr>\n",
       "    <tr>\n",
       "      <th>23</th>\n",
       "      <td>2798.png</td>\n",
       "      <td>[unlabeled, IntraObjectLabel]</td>\n",
       "      <td>3HO4MYYR12PH0HGR4ND12NK3VZAU68</td>\n",
       "      <td>36U2A8VAG1083PJF6U9T4BQF674KYW</td>\n",
       "      <td>T1</td>\n",
       "      <td>AO235WMFCB1D9</td>\n",
       "      <td>[[0, 0], [15, 2]]</td>\n",
       "    </tr>\n",
       "    <tr>\n",
       "      <th>24</th>\n",
       "      <td>2798.png</td>\n",
       "      <td>[unlabeled, IntraObjectLabel, IntraObjectLinka...</td>\n",
       "      <td>3HO4MYYR12PH0HGR4ND12NK3VZAU68</td>\n",
       "      <td>36U2A8VAG1083PJF6U9T4BQF674KYW</td>\n",
       "      <td>B4</td>\n",
       "      <td>AO235WMFCB1D9</td>\n",
       "      <td>[[0, 0], [3, 2], [8, 3], [9, 1]]</td>\n",
       "    </tr>\n",
       "    <tr>\n",
       "      <th>25</th>\n",
       "      <td>2798.png</td>\n",
       "      <td>[unlabeled, IntraObjectLinkage]</td>\n",
       "      <td>3HO4MYYR12PH0HGR4ND12NK3VZAU68</td>\n",
       "      <td>36U2A8VAG1083PJF6U9T4BQF674KYW</td>\n",
       "      <td>B5</td>\n",
       "      <td>AO235WMFCB1D9</td>\n",
       "      <td>[[0, 0], [11, 3]]</td>\n",
       "    </tr>\n",
       "    <tr>\n",
       "      <th>26</th>\n",
       "      <td>2798.png</td>\n",
       "      <td>[unlabeled, IntraObjectLabel, IntraObjectLinkage]</td>\n",
       "      <td>3HO4MYYR12PH0HGR4ND12NK3VZAU68</td>\n",
       "      <td>36U2A8VAG1083PJF6U9T4BQF674KYW</td>\n",
       "      <td>B6</td>\n",
       "      <td>AO235WMFCB1D9</td>\n",
       "      <td>[[0, 0], [14, 1], [17, 3]]</td>\n",
       "    </tr>\n",
       "    <tr>\n",
       "      <th>27</th>\n",
       "      <td>2798.png</td>\n",
       "      <td>[unlabeled, IntraObjectLabel]</td>\n",
       "      <td>3HO4MYYR12PH0HGR4ND12NK3VZAU68</td>\n",
       "      <td>36U2A8VAG1083PJF6U9T4BQF674KYW</td>\n",
       "      <td>B7</td>\n",
       "      <td>AO235WMFCB1D9</td>\n",
       "      <td>[[0, 0], [15, 1]]</td>\n",
       "    </tr>\n",
       "    <tr>\n",
       "      <th>28</th>\n",
       "      <td>2798.png</td>\n",
       "      <td>[unlabeled, IntraObjectLabel, IntraObjectLinkage]</td>\n",
       "      <td>3HO4MYYR12PH0HGR4ND12NK3VZAU68</td>\n",
       "      <td>36U2A8VAG1083PJF6U9T4BQF674KYW</td>\n",
       "      <td>B0</td>\n",
       "      <td>AO235WMFCB1D9</td>\n",
       "      <td>[[0, 0], [1, 2], [7, 1]]</td>\n",
       "    </tr>\n",
       "    <tr>\n",
       "      <th>29</th>\n",
       "      <td>2798.png</td>\n",
       "      <td>[unlabeled, IntraObjectLabel, IntraObjectLinkage]</td>\n",
       "      <td>3HO4MYYR12PH0HGR4ND12NK3VZAU68</td>\n",
       "      <td>36U2A8VAG1083PJF6U9T4BQF674KYW</td>\n",
       "      <td>B1</td>\n",
       "      <td>AO235WMFCB1D9</td>\n",
       "      <td>[[0, 0], [2, 2], [8, 1]]</td>\n",
       "    </tr>\n",
       "    <tr>\n",
       "      <th>30</th>\n",
       "      <td>2798.png</td>\n",
       "      <td>[unlabeled, IntraObjectLabel, IntraObjectLinka...</td>\n",
       "      <td>3HO4MYYR12PH0HGR4ND12NK3VZAU68</td>\n",
       "      <td>36U2A8VAG1083PJF6U9T4BQF674KYW</td>\n",
       "      <td>B2</td>\n",
       "      <td>AO235WMFCB1D9</td>\n",
       "      <td>[[0, 0], [4, 2], [7, 3], [10, 1]]</td>\n",
       "    </tr>\n",
       "    <tr>\n",
       "      <th>31</th>\n",
       "      <td>2798.png</td>\n",
       "      <td>[unlabeled, IntraObjectLabel, IntraObjectLinka...</td>\n",
       "      <td>3HO4MYYR12PH0HGR4ND12NK3VZAU68</td>\n",
       "      <td>36U2A8VAG1083PJF6U9T4BQF674KYW</td>\n",
       "      <td>B3</td>\n",
       "      <td>AO235WMFCB1D9</td>\n",
       "      <td>[[0, 0], [5, 2], [9, 3], [10, 3], [11, 1]]</td>\n",
       "    </tr>\n",
       "    <tr>\n",
       "      <th>32</th>\n",
       "      <td>2798.png</td>\n",
       "      <td>[unlabeled, IntraObjectLabel, IntraObjectLinka...</td>\n",
       "      <td>3HO4MYYR12PH0HGR4ND12NK3VZAU68</td>\n",
       "      <td>36U2A8VAG1083PJF6U9T4BQF674KYW</td>\n",
       "      <td>B8</td>\n",
       "      <td>AO235WMFCB1D9</td>\n",
       "      <td>[[0, 0], [13, 1], [16, 3], [17, 1]]</td>\n",
       "    </tr>\n",
       "    <tr>\n",
       "      <th>33</th>\n",
       "      <td>2798.png</td>\n",
       "      <td>[unlabeled, IntraObjectLabel, IntraObjectLinkage]</td>\n",
       "      <td>3HO4MYYR12PH0HGR4ND12NK3VZAU68</td>\n",
       "      <td>36U2A8VAG1083PJF6U9T4BQF674KYW</td>\n",
       "      <td>B9</td>\n",
       "      <td>AO235WMFCB1D9</td>\n",
       "      <td>[[0, 0], [12, 2], [16, 1]]</td>\n",
       "    </tr>\n",
       "    <tr>\n",
       "      <th>34</th>\n",
       "      <td>2797.png</td>\n",
       "      <td>[unlabeled, arrowDescriptor]</td>\n",
       "      <td>3FVBZG9CLJFHHKOS2ZQLA7LMOON0HD</td>\n",
       "      <td>3F1567XTNW6FDR92BN1A1G9XW4BQ95</td>\n",
       "      <td>T4</td>\n",
       "      <td>AO235WMFCB1D9</td>\n",
       "      <td>[[0, 0], [7, 2]]</td>\n",
       "    </tr>\n",
       "    <tr>\n",
       "      <th>35</th>\n",
       "      <td>2797.png</td>\n",
       "      <td>[unlabeled, IntraObjectLabel]</td>\n",
       "      <td>3FVBZG9CLJFHHKOS2ZQLA7LMOON0HD</td>\n",
       "      <td>3F1567XTNW6FDR92BN1A1G9XW4BQ95</td>\n",
       "      <td>T2</td>\n",
       "      <td>AO235WMFCB1D9</td>\n",
       "      <td>[[0, 0], [1, 1]]</td>\n",
       "    </tr>\n",
       "    <tr>\n",
       "      <th>36</th>\n",
       "      <td>2797.png</td>\n",
       "      <td>[unlabeled, IntraObjectLabel]</td>\n",
       "      <td>3FVBZG9CLJFHHKOS2ZQLA7LMOON0HD</td>\n",
       "      <td>3F1567XTNW6FDR92BN1A1G9XW4BQ95</td>\n",
       "      <td>T3</td>\n",
       "      <td>AO235WMFCB1D9</td>\n",
       "      <td>[[0, 0], [6, 2]]</td>\n",
       "    </tr>\n",
       "    <tr>\n",
       "      <th>37</th>\n",
       "      <td>2797.png</td>\n",
       "      <td>[unlabeled, IntraObjectLinkage]</td>\n",
       "      <td>3FVBZG9CLJFHHKOS2ZQLA7LMOON0HD</td>\n",
       "      <td>3F1567XTNW6FDR92BN1A1G9XW4BQ95</td>\n",
       "      <td>T0</td>\n",
       "      <td>AO235WMFCB1D9</td>\n",
       "      <td>[[0, 0], [3, 1]]</td>\n",
       "    </tr>\n",
       "    <tr>\n",
       "      <th>38</th>\n",
       "      <td>2797.png</td>\n",
       "      <td>[unlabeled, IntraObjectLabel, arrowDescriptor]</td>\n",
       "      <td>3FVBZG9CLJFHHKOS2ZQLA7LMOON0HD</td>\n",
       "      <td>3F1567XTNW6FDR92BN1A1G9XW4BQ95</td>\n",
       "      <td>T1</td>\n",
       "      <td>AO235WMFCB1D9</td>\n",
       "      <td>[[0, 0], [4, 2], [4, 2]]</td>\n",
       "    </tr>\n",
       "    <tr>\n",
       "      <th>39</th>\n",
       "      <td>2797.png</td>\n",
       "      <td>[unlabeled, IntraObjectLinkage, IntraObjectLab...</td>\n",
       "      <td>3FVBZG9CLJFHHKOS2ZQLA7LMOON0HD</td>\n",
       "      <td>3F1567XTNW6FDR92BN1A1G9XW4BQ95</td>\n",
       "      <td>A1</td>\n",
       "      <td>AO235WMFCB1D9</td>\n",
       "      <td>[[0, 0], [3, 2], [4, 1], [4, 1]]</td>\n",
       "    </tr>\n",
       "    <tr>\n",
       "      <th>40</th>\n",
       "      <td>2797.png</td>\n",
       "      <td>[unlabeled, IntraObjectLinkage]</td>\n",
       "      <td>3FVBZG9CLJFHHKOS2ZQLA7LMOON0HD</td>\n",
       "      <td>3F1567XTNW6FDR92BN1A1G9XW4BQ95</td>\n",
       "      <td>A0</td>\n",
       "      <td>AO235WMFCB1D9</td>\n",
       "      <td>[[0, 0], [2, 2]]</td>\n",
       "    </tr>\n",
       "    <tr>\n",
       "      <th>41</th>\n",
       "      <td>2797.png</td>\n",
       "      <td>[unlabeled, arrowDescriptor]</td>\n",
       "      <td>3FVBZG9CLJFHHKOS2ZQLA7LMOON0HD</td>\n",
       "      <td>3F1567XTNW6FDR92BN1A1G9XW4BQ95</td>\n",
       "      <td>A3</td>\n",
       "      <td>AO235WMFCB1D9</td>\n",
       "      <td>[[0, 0], [7, 1]]</td>\n",
       "    </tr>\n",
       "    <tr>\n",
       "      <th>42</th>\n",
       "      <td>2797.png</td>\n",
       "      <td>[unlabeled, IntraObjectLinkage]</td>\n",
       "      <td>3FVBZG9CLJFHHKOS2ZQLA7LMOON0HD</td>\n",
       "      <td>3F1567XTNW6FDR92BN1A1G9XW4BQ95</td>\n",
       "      <td>A2</td>\n",
       "      <td>AO235WMFCB1D9</td>\n",
       "      <td>[[0, 0], [5, 2]]</td>\n",
       "    </tr>\n",
       "    <tr>\n",
       "      <th>43</th>\n",
       "      <td>2797.png</td>\n",
       "      <td>[unlabeled, IntraObjectLabel]</td>\n",
       "      <td>3FVBZG9CLJFHHKOS2ZQLA7LMOON0HD</td>\n",
       "      <td>3F1567XTNW6FDR92BN1A1G9XW4BQ95</td>\n",
       "      <td>B0</td>\n",
       "      <td>AO235WMFCB1D9</td>\n",
       "      <td>[[0, 0], [6, 1]]</td>\n",
       "    </tr>\n",
       "    <tr>\n",
       "      <th>44</th>\n",
       "      <td>2797.png</td>\n",
       "      <td>[unlabeled, IntraObjectLinkage]</td>\n",
       "      <td>3FVBZG9CLJFHHKOS2ZQLA7LMOON0HD</td>\n",
       "      <td>3F1567XTNW6FDR92BN1A1G9XW4BQ95</td>\n",
       "      <td>B1</td>\n",
       "      <td>AO235WMFCB1D9</td>\n",
       "      <td>[[0, 0], [5, 3]]</td>\n",
       "    </tr>\n",
       "    <tr>\n",
       "      <th>45</th>\n",
       "      <td>2797.png</td>\n",
       "      <td>[unlabeled, IntraObjectLabel, IntraObjectLinkage]</td>\n",
       "      <td>3FVBZG9CLJFHHKOS2ZQLA7LMOON0HD</td>\n",
       "      <td>3F1567XTNW6FDR92BN1A1G9XW4BQ95</td>\n",
       "      <td>B2</td>\n",
       "      <td>AO235WMFCB1D9</td>\n",
       "      <td>[[0, 0], [1, 2], [2, 1]]</td>\n",
       "    </tr>\n",
       "    <tr>\n",
       "      <th>46</th>\n",
       "      <td>2797.png</td>\n",
       "      <td>[unlabeled, IntraObjectLinkage, IntraObjectLin...</td>\n",
       "      <td>3FVBZG9CLJFHHKOS2ZQLA7LMOON0HD</td>\n",
       "      <td>3F1567XTNW6FDR92BN1A1G9XW4BQ95</td>\n",
       "      <td>B3</td>\n",
       "      <td>AO235WMFCB1D9</td>\n",
       "      <td>[[0, 0], [2, 3], [3, 3], [5, 1]]</td>\n",
       "    </tr>\n",
       "  </tbody>\n",
       "</table>\n",
       "</div>"
      ],
      "text/plain": [
       "        page                                           category  \\\n",
       "0   2798.png                                        [unlabeled]   \n",
       "1   2798.png                      [unlabeled, IntraObjectLabel]   \n",
       "2   2798.png                      [unlabeled, IntraObjectLabel]   \n",
       "3   2798.png                                        [unlabeled]   \n",
       "4   2798.png                    [unlabeled, IntraObjectLinkage]   \n",
       "5   2798.png                    [unlabeled, IntraObjectLinkage]   \n",
       "6   2798.png   [unlabeled, IntraObjectLinkage, arrowDescriptor]   \n",
       "7   2798.png   [unlabeled, IntraObjectLinkage, arrowDescriptor]   \n",
       "8   2798.png                                        [unlabeled]   \n",
       "9   2798.png                    [unlabeled, IntraObjectLinkage]   \n",
       "10  2798.png                                        [unlabeled]   \n",
       "11  2798.png                                        [unlabeled]   \n",
       "12  2798.png                    [unlabeled, IntraObjectLinkage]   \n",
       "13  2798.png                    [unlabeled, IntraObjectLinkage]   \n",
       "14  2798.png                          [unlabeled, imageCaption]   \n",
       "15  2798.png                      [unlabeled, IntraObjectLabel]   \n",
       "16  2798.png                                        [unlabeled]   \n",
       "17  2798.png      [unlabeled, arrowDescriptor, arrowDescriptor]   \n",
       "18  2798.png                      [unlabeled, IntraObjectLabel]   \n",
       "19  2798.png                      [unlabeled, IntraObjectLabel]   \n",
       "20  2798.png                      [unlabeled, IntraObjectLabel]   \n",
       "21  2798.png                      [unlabeled, IntraObjectLabel]   \n",
       "22  2798.png                      [unlabeled, IntraObjectLabel]   \n",
       "23  2798.png                      [unlabeled, IntraObjectLabel]   \n",
       "24  2798.png  [unlabeled, IntraObjectLabel, IntraObjectLinka...   \n",
       "25  2798.png                    [unlabeled, IntraObjectLinkage]   \n",
       "26  2798.png  [unlabeled, IntraObjectLabel, IntraObjectLinkage]   \n",
       "27  2798.png                      [unlabeled, IntraObjectLabel]   \n",
       "28  2798.png  [unlabeled, IntraObjectLabel, IntraObjectLinkage]   \n",
       "29  2798.png  [unlabeled, IntraObjectLabel, IntraObjectLinkage]   \n",
       "30  2798.png  [unlabeled, IntraObjectLabel, IntraObjectLinka...   \n",
       "31  2798.png  [unlabeled, IntraObjectLabel, IntraObjectLinka...   \n",
       "32  2798.png  [unlabeled, IntraObjectLabel, IntraObjectLinka...   \n",
       "33  2798.png  [unlabeled, IntraObjectLabel, IntraObjectLinkage]   \n",
       "34  2797.png                       [unlabeled, arrowDescriptor]   \n",
       "35  2797.png                      [unlabeled, IntraObjectLabel]   \n",
       "36  2797.png                      [unlabeled, IntraObjectLabel]   \n",
       "37  2797.png                    [unlabeled, IntraObjectLinkage]   \n",
       "38  2797.png     [unlabeled, IntraObjectLabel, arrowDescriptor]   \n",
       "39  2797.png  [unlabeled, IntraObjectLinkage, IntraObjectLab...   \n",
       "40  2797.png                    [unlabeled, IntraObjectLinkage]   \n",
       "41  2797.png                       [unlabeled, arrowDescriptor]   \n",
       "42  2797.png                    [unlabeled, IntraObjectLinkage]   \n",
       "43  2797.png                      [unlabeled, IntraObjectLabel]   \n",
       "44  2797.png                    [unlabeled, IntraObjectLinkage]   \n",
       "45  2797.png  [unlabeled, IntraObjectLabel, IntraObjectLinkage]   \n",
       "46  2797.png  [unlabeled, IntraObjectLinkage, IntraObjectLin...   \n",
       "\n",
       "                            hit_id                   assignment_id   id  \\\n",
       "0   3HO4MYYR12PH0HGR4ND12NK3VZAU68  36U2A8VAG1083PJF6U9T4BQF674KYW  T10   \n",
       "1   3HO4MYYR12PH0HGR4ND12NK3VZAU68  36U2A8VAG1083PJF6U9T4BQF674KYW  T11   \n",
       "2   3HO4MYYR12PH0HGR4ND12NK3VZAU68  36U2A8VAG1083PJF6U9T4BQF674KYW  T12   \n",
       "3   3HO4MYYR12PH0HGR4ND12NK3VZAU68  36U2A8VAG1083PJF6U9T4BQF674KYW  A10   \n",
       "4   3HO4MYYR12PH0HGR4ND12NK3VZAU68  36U2A8VAG1083PJF6U9T4BQF674KYW   A1   \n",
       "5   3HO4MYYR12PH0HGR4ND12NK3VZAU68  36U2A8VAG1083PJF6U9T4BQF674KYW   A0   \n",
       "6   3HO4MYYR12PH0HGR4ND12NK3VZAU68  36U2A8VAG1083PJF6U9T4BQF674KYW   A3   \n",
       "7   3HO4MYYR12PH0HGR4ND12NK3VZAU68  36U2A8VAG1083PJF6U9T4BQF674KYW   A2   \n",
       "8   3HO4MYYR12PH0HGR4ND12NK3VZAU68  36U2A8VAG1083PJF6U9T4BQF674KYW   A5   \n",
       "9   3HO4MYYR12PH0HGR4ND12NK3VZAU68  36U2A8VAG1083PJF6U9T4BQF674KYW   A4   \n",
       "10  3HO4MYYR12PH0HGR4ND12NK3VZAU68  36U2A8VAG1083PJF6U9T4BQF674KYW   A7   \n",
       "11  3HO4MYYR12PH0HGR4ND12NK3VZAU68  36U2A8VAG1083PJF6U9T4BQF674KYW   A6   \n",
       "12  3HO4MYYR12PH0HGR4ND12NK3VZAU68  36U2A8VAG1083PJF6U9T4BQF674KYW   A9   \n",
       "13  3HO4MYYR12PH0HGR4ND12NK3VZAU68  36U2A8VAG1083PJF6U9T4BQF674KYW   A8   \n",
       "14  3HO4MYYR12PH0HGR4ND12NK3VZAU68  36U2A8VAG1083PJF6U9T4BQF674KYW   T8   \n",
       "15  3HO4MYYR12PH0HGR4ND12NK3VZAU68  36U2A8VAG1083PJF6U9T4BQF674KYW   T9   \n",
       "16  3HO4MYYR12PH0HGR4ND12NK3VZAU68  36U2A8VAG1083PJF6U9T4BQF674KYW   T6   \n",
       "17  3HO4MYYR12PH0HGR4ND12NK3VZAU68  36U2A8VAG1083PJF6U9T4BQF674KYW   T7   \n",
       "18  3HO4MYYR12PH0HGR4ND12NK3VZAU68  36U2A8VAG1083PJF6U9T4BQF674KYW   T4   \n",
       "19  3HO4MYYR12PH0HGR4ND12NK3VZAU68  36U2A8VAG1083PJF6U9T4BQF674KYW   T5   \n",
       "20  3HO4MYYR12PH0HGR4ND12NK3VZAU68  36U2A8VAG1083PJF6U9T4BQF674KYW   T2   \n",
       "21  3HO4MYYR12PH0HGR4ND12NK3VZAU68  36U2A8VAG1083PJF6U9T4BQF674KYW   T3   \n",
       "22  3HO4MYYR12PH0HGR4ND12NK3VZAU68  36U2A8VAG1083PJF6U9T4BQF674KYW   T0   \n",
       "23  3HO4MYYR12PH0HGR4ND12NK3VZAU68  36U2A8VAG1083PJF6U9T4BQF674KYW   T1   \n",
       "24  3HO4MYYR12PH0HGR4ND12NK3VZAU68  36U2A8VAG1083PJF6U9T4BQF674KYW   B4   \n",
       "25  3HO4MYYR12PH0HGR4ND12NK3VZAU68  36U2A8VAG1083PJF6U9T4BQF674KYW   B5   \n",
       "26  3HO4MYYR12PH0HGR4ND12NK3VZAU68  36U2A8VAG1083PJF6U9T4BQF674KYW   B6   \n",
       "27  3HO4MYYR12PH0HGR4ND12NK3VZAU68  36U2A8VAG1083PJF6U9T4BQF674KYW   B7   \n",
       "28  3HO4MYYR12PH0HGR4ND12NK3VZAU68  36U2A8VAG1083PJF6U9T4BQF674KYW   B0   \n",
       "29  3HO4MYYR12PH0HGR4ND12NK3VZAU68  36U2A8VAG1083PJF6U9T4BQF674KYW   B1   \n",
       "30  3HO4MYYR12PH0HGR4ND12NK3VZAU68  36U2A8VAG1083PJF6U9T4BQF674KYW   B2   \n",
       "31  3HO4MYYR12PH0HGR4ND12NK3VZAU68  36U2A8VAG1083PJF6U9T4BQF674KYW   B3   \n",
       "32  3HO4MYYR12PH0HGR4ND12NK3VZAU68  36U2A8VAG1083PJF6U9T4BQF674KYW   B8   \n",
       "33  3HO4MYYR12PH0HGR4ND12NK3VZAU68  36U2A8VAG1083PJF6U9T4BQF674KYW   B9   \n",
       "34  3FVBZG9CLJFHHKOS2ZQLA7LMOON0HD  3F1567XTNW6FDR92BN1A1G9XW4BQ95   T4   \n",
       "35  3FVBZG9CLJFHHKOS2ZQLA7LMOON0HD  3F1567XTNW6FDR92BN1A1G9XW4BQ95   T2   \n",
       "36  3FVBZG9CLJFHHKOS2ZQLA7LMOON0HD  3F1567XTNW6FDR92BN1A1G9XW4BQ95   T3   \n",
       "37  3FVBZG9CLJFHHKOS2ZQLA7LMOON0HD  3F1567XTNW6FDR92BN1A1G9XW4BQ95   T0   \n",
       "38  3FVBZG9CLJFHHKOS2ZQLA7LMOON0HD  3F1567XTNW6FDR92BN1A1G9XW4BQ95   T1   \n",
       "39  3FVBZG9CLJFHHKOS2ZQLA7LMOON0HD  3F1567XTNW6FDR92BN1A1G9XW4BQ95   A1   \n",
       "40  3FVBZG9CLJFHHKOS2ZQLA7LMOON0HD  3F1567XTNW6FDR92BN1A1G9XW4BQ95   A0   \n",
       "41  3FVBZG9CLJFHHKOS2ZQLA7LMOON0HD  3F1567XTNW6FDR92BN1A1G9XW4BQ95   A3   \n",
       "42  3FVBZG9CLJFHHKOS2ZQLA7LMOON0HD  3F1567XTNW6FDR92BN1A1G9XW4BQ95   A2   \n",
       "43  3FVBZG9CLJFHHKOS2ZQLA7LMOON0HD  3F1567XTNW6FDR92BN1A1G9XW4BQ95   B0   \n",
       "44  3FVBZG9CLJFHHKOS2ZQLA7LMOON0HD  3F1567XTNW6FDR92BN1A1G9XW4BQ95   B1   \n",
       "45  3FVBZG9CLJFHHKOS2ZQLA7LMOON0HD  3F1567XTNW6FDR92BN1A1G9XW4BQ95   B2   \n",
       "46  3FVBZG9CLJFHHKOS2ZQLA7LMOON0HD  3F1567XTNW6FDR92BN1A1G9XW4BQ95   B3   \n",
       "\n",
       "        worker_id                                     group_n  \n",
       "0   AO235WMFCB1D9                                    [[0, 0]]  \n",
       "1   AO235WMFCB1D9                           [[0, 0], [12, 1]]  \n",
       "2   AO235WMFCB1D9                           [[0, 0], [13, 2]]  \n",
       "3   AO235WMFCB1D9                                    [[0, 0]]  \n",
       "4   AO235WMFCB1D9                            [[0, 0], [8, 2]]  \n",
       "5   AO235WMFCB1D9                            [[0, 0], [7, 2]]  \n",
       "6   AO235WMFCB1D9                   [[0, 0], [9, 2], [19, 1]]  \n",
       "7   AO235WMFCB1D9                  [[0, 0], [10, 2], [18, 2]]  \n",
       "8   AO235WMFCB1D9                                    [[0, 0]]  \n",
       "9   AO235WMFCB1D9                           [[0, 0], [11, 2]]  \n",
       "10  AO235WMFCB1D9                                    [[0, 0]]  \n",
       "11  AO235WMFCB1D9                                    [[0, 0]]  \n",
       "12  AO235WMFCB1D9                           [[0, 0], [17, 2]]  \n",
       "13  AO235WMFCB1D9                           [[0, 0], [16, 2]]  \n",
       "14  AO235WMFCB1D9                            [[0, 0], [6, 1]]  \n",
       "15  AO235WMFCB1D9                            [[0, 0], [5, 1]]  \n",
       "16  AO235WMFCB1D9                                    [[0, 0]]  \n",
       "17  AO235WMFCB1D9                  [[0, 0], [18, 1], [19, 2]]  \n",
       "18  AO235WMFCB1D9                            [[0, 0], [4, 1]]  \n",
       "19  AO235WMFCB1D9                            [[0, 0], [3, 1]]  \n",
       "20  AO235WMFCB1D9                            [[0, 0], [1, 1]]  \n",
       "21  AO235WMFCB1D9                            [[0, 0], [2, 1]]  \n",
       "22  AO235WMFCB1D9                           [[0, 0], [14, 2]]  \n",
       "23  AO235WMFCB1D9                           [[0, 0], [15, 2]]  \n",
       "24  AO235WMFCB1D9            [[0, 0], [3, 2], [8, 3], [9, 1]]  \n",
       "25  AO235WMFCB1D9                           [[0, 0], [11, 3]]  \n",
       "26  AO235WMFCB1D9                  [[0, 0], [14, 1], [17, 3]]  \n",
       "27  AO235WMFCB1D9                           [[0, 0], [15, 1]]  \n",
       "28  AO235WMFCB1D9                    [[0, 0], [1, 2], [7, 1]]  \n",
       "29  AO235WMFCB1D9                    [[0, 0], [2, 2], [8, 1]]  \n",
       "30  AO235WMFCB1D9           [[0, 0], [4, 2], [7, 3], [10, 1]]  \n",
       "31  AO235WMFCB1D9  [[0, 0], [5, 2], [9, 3], [10, 3], [11, 1]]  \n",
       "32  AO235WMFCB1D9         [[0, 0], [13, 1], [16, 3], [17, 1]]  \n",
       "33  AO235WMFCB1D9                  [[0, 0], [12, 2], [16, 1]]  \n",
       "34  AO235WMFCB1D9                            [[0, 0], [7, 2]]  \n",
       "35  AO235WMFCB1D9                            [[0, 0], [1, 1]]  \n",
       "36  AO235WMFCB1D9                            [[0, 0], [6, 2]]  \n",
       "37  AO235WMFCB1D9                            [[0, 0], [3, 1]]  \n",
       "38  AO235WMFCB1D9                    [[0, 0], [4, 2], [4, 2]]  \n",
       "39  AO235WMFCB1D9            [[0, 0], [3, 2], [4, 1], [4, 1]]  \n",
       "40  AO235WMFCB1D9                            [[0, 0], [2, 2]]  \n",
       "41  AO235WMFCB1D9                            [[0, 0], [7, 1]]  \n",
       "42  AO235WMFCB1D9                            [[0, 0], [5, 2]]  \n",
       "43  AO235WMFCB1D9                            [[0, 0], [6, 1]]  \n",
       "44  AO235WMFCB1D9                            [[0, 0], [5, 3]]  \n",
       "45  AO235WMFCB1D9                    [[0, 0], [1, 2], [2, 1]]  \n",
       "46  AO235WMFCB1D9            [[0, 0], [2, 3], [3, 3], [5, 1]]  "
      ]
     },
     "execution_count": 114,
     "metadata": {},
     "output_type": "execute_result"
    }
   ],
   "source": [
    "results_df_shining_batch"
   ]
  },
  {
   "cell_type": "code",
   "execution_count": 118,
   "metadata": {
    "collapsed": true,
    "run_control": {
     "frozen": false,
     "read_only": false
    }
   },
   "outputs": [],
   "source": [
    "anno_dir = './simpleAnnotations/'\n",
    "new_anno_dir = './newAnnotations/'\n",
    "test_image_file = '1311.png'\n",
    "test_anno_file = test_image_file + '.json'"
   ]
  },
  {
   "cell_type": "code",
   "execution_count": 132,
   "metadata": {
    "collapsed": false,
    "run_control": {
     "frozen": false,
     "read_only": false
    }
   },
   "outputs": [],
   "source": [
    "_ = results_df_shining_batch.groupby('page').apply(rbuild.build_and_write_relationships, anno_dir, new_anno_dir)"
   ]
  },
  {
   "cell_type": "code",
   "execution_count": null,
   "metadata": {
    "collapsed": true
   },
   "outputs": [],
   "source": []
  },
  {
   "cell_type": "code",
   "execution_count": null,
   "metadata": {
    "collapsed": true
   },
   "outputs": [],
   "source": []
  },
  {
   "cell_type": "code",
   "execution_count": null,
   "metadata": {
    "collapsed": true
   },
   "outputs": [],
   "source": []
  },
  {
   "cell_type": "code",
   "execution_count": null,
   "metadata": {
    "collapsed": true
   },
   "outputs": [],
   "source": []
  },
  {
   "cell_type": "code",
   "execution_count": null,
   "metadata": {
    "collapsed": true
   },
   "outputs": [],
   "source": []
  },
  {
   "cell_type": "markdown",
   "metadata": {
    "heading_collapsed": true
   },
   "source": [
    "### consensus"
   ]
  },
  {
   "cell_type": "code",
   "execution_count": 237,
   "metadata": {
    "collapsed": true,
    "hidden": true,
    "run_control": {
     "frozen": false,
     "read_only": false
    }
   },
   "outputs": [],
   "source": [
    "# results_df_question_batch['group_memberships'] = results_df_question_batch['g_list'].apply(lambda x:[el[0] for el in x if el[0] > 0])"
   ]
  },
  {
   "cell_type": "code",
   "execution_count": 158,
   "metadata": {
    "collapsed": false,
    "hidden": true,
    "run_control": {
     "frozen": false,
     "read_only": false
    }
   },
   "outputs": [],
   "source": [
    "# consensus_results_df_current_batch = amt_util.make_consensus_df(results_df_question_batch, 'No Consensus')"
   ]
  },
  {
   "cell_type": "code",
   "execution_count": 319,
   "metadata": {
    "collapsed": true,
    "hidden": true,
    "run_control": {
     "frozen": false,
     "read_only": false
    }
   },
   "outputs": [],
   "source": [
    "question_cats = ['Multiple Choice',\n",
    "                 'Fill-in-the-Blank',\n",
    "                 'Short Answer',\n",
    "                 'Discussion']"
   ]
  },
  {
   "cell_type": "code",
   "execution_count": 332,
   "metadata": {
    "collapsed": false,
    "hidden": true,
    "run_control": {
     "frozen": false,
     "read_only": false
    }
   },
   "outputs": [],
   "source": [
    "question_only_cons_df = consensus_results_df_current_batch[consensus_results_df_current_batch['box_id'].apply(lambda x:x[0] == 'Q' ) | consensus_results_df_current_batch['category'].isin(question_cats)]"
   ]
  },
  {
   "cell_type": "code",
   "execution_count": 312,
   "metadata": {
    "collapsed": false,
    "hidden": true,
    "run_control": {
     "frozen": false,
     "read_only": false
    }
   },
   "outputs": [],
   "source": [
    "no_consensus_hits_cat = consensus_results_df_current_batch[consensus_results_df_current_batch['category'] == 'No Consensus']\n",
    "\n",
    "flaw_rate = len(no_consensus_hits_cat) / len(consensus_results_df_current_batch)\n",
    "print 'question boxes without category consensus comprise ' + '{0:0.2f}% '.format(flaw_rate * 100) + 'of the total'  "
   ]
  },
  {
   "cell_type": "markdown",
   "metadata": {
    "hidden": true
   },
   "source": [
    "These numbers differ because-\n",
    "1. The first counts non-con results from the first round (non-question results)\n",
    "\n",
    "2. The second counts only boxes either previously marked as a question, or selected in ths round"
   ]
  },
  {
   "cell_type": "code",
   "execution_count": 338,
   "metadata": {
    "collapsed": false,
    "hidden": true,
    "run_control": {
     "frozen": false,
     "read_only": false
    }
   },
   "outputs": [],
   "source": [
    "no_consensus_hits_cat = question_only_cons_df[question_only_cons_df['category'] == 'No Consensus']\n",
    "\n",
    "flaw_rate = len(no_consensus_hits_cat) / len(question_only_cons_df)\n",
    "print 'question boxes without category consensus comprise ' + '{0:0.2f}% '.format(flaw_rate * 100) + 'of the total'  "
   ]
  },
  {
   "cell_type": "code",
   "execution_count": 315,
   "metadata": {
    "collapsed": false,
    "hidden": true,
    "run_control": {
     "frozen": false,
     "read_only": false
    },
    "scrolled": true
   },
   "outputs": [],
   "source": [
    "amt_util.write_results_df(consensus_results_df_current_batch, 'annotations-w-questions/', 'simpler-test-questions/')"
   ]
  },
  {
   "cell_type": "code",
   "execution_count": 317,
   "metadata": {
    "collapsed": false,
    "hidden": true,
    "run_control": {
     "frozen": false,
     "read_only": false
    }
   },
   "outputs": [],
   "source": [
    "# consensus_results_df_current_batch[consensus_results_df_current_batch['page'] == 'Spectrum_Science_Grade_8_8.jpeg']"
   ]
  },
  {
   "cell_type": "markdown",
   "metadata": {
    "heading_collapsed": true
   },
   "source": [
    "## **sending to review tool**"
   ]
  },
  {
   "cell_type": "markdown",
   "metadata": {
    "heading_collapsed": true,
    "hidden": true
   },
   "source": [
    "### randomly sampling HITs "
   ]
  },
  {
   "cell_type": "code",
   "execution_count": 375,
   "metadata": {
    "collapsed": true,
    "hidden": true,
    "run_control": {
     "frozen": false,
     "read_only": false
    }
   },
   "outputs": [],
   "source": [
    "pages_to_review = np.unique(consensus_results_df_current_batch['page'])"
   ]
  },
  {
   "cell_type": "code",
   "execution_count": 376,
   "metadata": {
    "collapsed": false,
    "hidden": true,
    "run_control": {
     "frozen": false,
     "read_only": false
    }
   },
   "outputs": [],
   "source": [
    "sampling_rate = 0.1\n",
    "sample_size = int(len(pages_to_review) * sampling_rate)\n",
    "sampled_pages_to_review = list(np.random.choice(pages_to_review, size= sample_size, replace=False))\n",
    "print 'sampling ' + str(sample_size) + ' pages out of ' + str(len(pages_to_review))\n",
    "to_review = ['start_seq'] + sampled_pages_to_review"
   ]
  },
  {
   "cell_type": "code",
   "execution_count": 377,
   "metadata": {
    "collapsed": false,
    "hidden": true,
    "run_control": {
     "frozen": false,
     "read_only": false
    }
   },
   "outputs": [],
   "source": [
    "anno_dir = 'simpler-test-questions/'\n",
    "amt_util.review_results(to_review, anno_dir)\n",
    "print 'posting to review tool, navigate to http://localhost:8080/ to see the sampled consensus results'"
   ]
  },
  {
   "cell_type": "markdown",
   "metadata": {
    "heading_collapsed": true,
    "hidden": true
   },
   "source": [
    "### sampling no consensus"
   ]
  },
  {
   "cell_type": "code",
   "execution_count": 378,
   "metadata": {
    "collapsed": true,
    "hidden": true,
    "run_control": {
     "frozen": false,
     "read_only": false
    }
   },
   "outputs": [],
   "source": [
    "pages_to_review =pd.unique(no_consensus_hits_cat['page'])"
   ]
  },
  {
   "cell_type": "code",
   "execution_count": 379,
   "metadata": {
    "collapsed": false,
    "hidden": true,
    "run_control": {
     "frozen": false,
     "read_only": false
    }
   },
   "outputs": [],
   "source": [
    "sampling_rate = 0.5\n",
    "sample_size = int(len(pages_to_review) * sampling_rate)\n",
    "sampled_pages_to_review = list(np.random.choice(pages_to_review, size= sample_size, replace=False))\n",
    "print 'sampling ' + str(sample_size) + ' pages out of ' + str(len(pages_to_review))\n",
    "to_review = ['start_seq'] + sampled_pages_to_review"
   ]
  },
  {
   "cell_type": "code",
   "execution_count": 380,
   "metadata": {
    "collapsed": false,
    "hidden": true,
    "run_control": {
     "frozen": false,
     "read_only": false
    }
   },
   "outputs": [],
   "source": [
    "anno_dir = 'simpler-test-questions/'\n",
    "amt_util.review_results(to_review, anno_dir)\n",
    "print 'posting to review tool, navigate to http://localhost:8080/ to see the sampled consensus results'"
   ]
  },
  {
   "cell_type": "markdown",
   "metadata": {
    "heading_collapsed": true,
    "hidden": true
   },
   "source": [
    "### looking at individual workers"
   ]
  },
  {
   "cell_type": "code",
   "execution_count": 276,
   "metadata": {
    "collapsed": true,
    "hidden": true,
    "run_control": {
     "frozen": false,
     "read_only": false
    }
   },
   "outputs": [],
   "source": [
    "ind_worker_dir = 'individual-worker-results/'"
   ]
  },
  {
   "cell_type": "code",
   "execution_count": 342,
   "metadata": {
    "collapsed": false,
    "hidden": true,
    "run_control": {
     "frozen": false,
     "read_only": false
    }
   },
   "outputs": [],
   "source": [
    "bad_and_prolific_to_review"
   ]
  },
  {
   "cell_type": "code",
   "execution_count": 384,
   "metadata": {
    "collapsed": false,
    "hidden": true,
    "run_control": {
     "frozen": false,
     "read_only": false
    }
   },
   "outputs": [],
   "source": [
    "# workers_to_review = turkers_contacted_me[:1]\n",
    "workers_to_review = really_bad_workers_to_review\n",
    "subset_by_worker = results_df_question_batch[results_df_question_batch['worker_id'].isin(workers_to_review)]\n",
    "\n",
    "amt_util.write_results_df(subset_by_worker, 'annotations-w-questions/', ind_worker_dir)\n",
    "pages_to_review = pd.unique(subset_by_worker['page']).tolist()\n",
    "to_review = ['start_seq'] + pages_to_review "
   ]
  },
  {
   "cell_type": "code",
   "execution_count": 383,
   "metadata": {
    "collapsed": false,
    "hidden": true,
    "run_control": {
     "frozen": false,
     "read_only": false
    }
   },
   "outputs": [],
   "source": [
    "anno_dir = ind_worker_dir\n",
    "amt_util.review_results(to_review, anno_dir)\n",
    "print 'posting to review tool, navigate to http://localhost:8080/ to see the sampled consensus results'"
   ]
  },
  {
   "cell_type": "markdown",
   "metadata": {
    "heading_collapsed": true,
    "hidden": true
   },
   "source": [
    "### store cells"
   ]
  },
  {
   "cell_type": "code",
   "execution_count": 207,
   "metadata": {
    "collapsed": true,
    "hidden": true,
    "run_control": {
     "frozen": false,
     "read_only": false
    }
   },
   "outputs": [],
   "source": [
    "multi_choice_pages = consensus_results_df_complete[consensus_results_df_complete['category'] == 'Multiple Choice']\n",
    "pages_to_review =pd.unique(multi_choice_pages['page'])\n",
    "to_review = ['start_seq'] + pages_to_review.tolist()\n",
    "\n",
    "# consensus_results_df_complete = amt_util.make_consensus_df(results_df_question_batch, 'No Consensus')\n",
    "consensus_results_df_complete = combined_consensus_df\n",
    "\n",
    "# amt_util.write_results_df(consensus_results_df_complete, 'annotations-w-questions/' ,'labeled-questions/')\n",
    "\n",
    "spdf = results_df_question_batch[results_df_question_batch['page'] == 'Spectrum_Science_Grade_3_80.jpeg']\n",
    "\n",
    "amt_util.write_results_df(spdf, 'annotations-w-questions/', 'simpler-test-questions/')\n",
    "\n",
    "## all pages from the latest batch\n",
    "pages_to_review =pd.unique(consensus_results_df_complete['page'])\n",
    "to_review = ['start_seq'] + pages_to_review.tolist()\n",
    "\n",
    "# all pages from the latest batch with a no-consensus box\n",
    "# pages_to_review =pd.unique(no_consensus_hits['page'])\n",
    "\n",
    "pd.Series(to_review[1:]).to_pickle('rev_seq.pkl')\n",
    "\n",
    "single_page = ['Daily_Science_Grade_2_Evan_Moor_33.jpeg']\n",
    "\n",
    "problem_pages = pd.read_pickle('problem_pages.pkl').tolist()\n",
    "\n",
    "to_review = ['start_seq'] + problem_pages\n",
    "\n",
    "to_review = ['start_seq'] + single_page\n",
    "\n",
    "suspect_subset = combined_results_df[combined_results_df['worker_id'].isin(bad_and_prolific_to_review)]\n",
    "# suspect_subset = combined_results_df[combined_results_df['worker_id'].isin(['A3VE5OH94HYHET'])]\n",
    "amt_util.write_results_df(suspect_subset, 'annotations-w-questions/' ,'labeled-questions2/')\n",
    "pages_to_review = pd.unique(suspect_subset['page'])"
   ]
  },
  {
   "cell_type": "code",
   "execution_count": 150,
   "metadata": {
    "collapsed": true,
    "hidden": true,
    "run_control": {
     "frozen": false,
     "read_only": false
    }
   },
   "outputs": [],
   "source": [
    "## all pages from the latest batch\n",
    "pages_to_review =pd.unique(results_df_question_batch['page'])\n",
    "to_review = ['start_seq'] + pages_to_review.tolist()"
   ]
  },
  {
   "cell_type": "code",
   "execution_count": null,
   "metadata": {
    "collapsed": true,
    "hidden": true,
    "run_control": {
     "frozen": false,
     "read_only": false
    }
   },
   "outputs": [],
   "source": [
    "%%capture \n",
    "# all pages from the latest batch with a no-consensus box\n",
    "suspect_subset = results_df_current_batch[results_df_current_batch['worker_id'].isin(suspect_workers[:5])]\n",
    "amt_util.write_results_df(suspect_subset)\n",
    "pages_to_review = pd.unique(suspect_subset['page'])"
   ]
  },
  {
   "cell_type": "markdown",
   "metadata": {
    "heading_collapsed": true
   },
   "source": [
    "# Merging latest round of HITs into combined dataset  "
   ]
  },
  {
   "cell_type": "markdown",
   "metadata": {
    "heading_collapsed": true,
    "hidden": true
   },
   "source": [
    "## Load prior complete dataset if not in memory"
   ]
  },
  {
   "cell_type": "code",
   "execution_count": 17,
   "metadata": {
    "collapsed": true,
    "hidden": true,
    "run_control": {
     "frozen": false,
     "read_only": false
    }
   },
   "outputs": [],
   "source": [
    "data_pickled_dir = './store_hit_results_metadata/question_anno/group_latest_combined/' "
   ]
  },
  {
   "cell_type": "code",
   "execution_count": 18,
   "metadata": {
    "collapsed": false,
    "hidden": true,
    "run_control": {
     "frozen": false,
     "read_only": false
    }
   },
   "outputs": [],
   "source": [
    "combined_results_df = pd.read_pickle(data_pickled_dir + 'complete_df.pkl')\n",
    "combined_consensus_df = pd.read_pickle(data_pickled_dir + 'consensus_df.pkl')\n",
    "combined_consensus_with_workerid_df = pd.read_pickle(data_pickled_dir + 'consensus_df_w_workers.pkl') "
   ]
  },
  {
   "cell_type": "code",
   "execution_count": 19,
   "metadata": {
    "collapsed": false,
    "hidden": true,
    "run_control": {
     "frozen": false,
     "read_only": false
    }
   },
   "outputs": [],
   "source": [
    "amt_util.count_pages_in_df(combined_consensus_with_workerid_df)"
   ]
  },
  {
   "cell_type": "markdown",
   "metadata": {
    "heading_collapsed": true,
    "hidden": true
   },
   "source": [
    "## Updating full dataset"
   ]
  },
  {
   "cell_type": "code",
   "execution_count": 15,
   "metadata": {
    "collapsed": false,
    "hidden": true,
    "run_control": {
     "frozen": false,
     "read_only": false
    }
   },
   "outputs": [],
   "source": [
    "combined_results_df = results_df_question_batch\n",
    "combined_consensus_df = consensus_results_df_complete\n",
    "combined_consensus_with_workerid_df = consensus_with_workerid_df"
   ]
  },
  {
   "cell_type": "markdown",
   "metadata": {
    "heading_collapsed": true,
    "hidden": true
   },
   "source": [
    "## Working with full dataset"
   ]
  },
  {
   "cell_type": "code",
   "execution_count": 16,
   "metadata": {
    "collapsed": true,
    "hidden": true,
    "run_control": {
     "frozen": false,
     "read_only": false
    }
   },
   "outputs": [],
   "source": [
    "%%capture\n",
    "no_consensus_hits = combined_consensus_df[combined_consensus_df['category'] == 'No Consensus']"
   ]
  },
  {
   "cell_type": "code",
   "execution_count": 964,
   "metadata": {
    "collapsed": false,
    "hidden": true,
    "run_control": {
     "frozen": false,
     "read_only": false
    }
   },
   "outputs": [],
   "source": [
    "flaw_rate = len(no_consensus_hits) / len(combined_consensus_df)\n",
    "print 'text boxes without consensus are ' + '{0:0.2f}% '.format(flaw_rate * 100) + 'of the total'  "
   ]
  },
  {
   "cell_type": "code",
   "execution_count": 227,
   "metadata": {
    "collapsed": false,
    "hidden": true,
    "run_control": {
     "frozen": false,
     "read_only": false
    }
   },
   "outputs": [],
   "source": [
    "worker_quality_df[worker_quality_df['submitted'] > 50].sort_values('flaw_ratio', ascending= True).head(25)"
   ]
  },
  {
   "cell_type": "code",
   "execution_count": 205,
   "metadata": {
    "collapsed": false,
    "hidden": true,
    "run_control": {
     "frozen": false,
     "read_only": false
    }
   },
   "outputs": [],
   "source": [
    "bad_and_prolific_workers[:15]"
   ]
  },
  {
   "cell_type": "markdown",
   "metadata": {
    "hidden": true
   },
   "source": [
    "After looking through the top few offenders, it's clear that \n",
    "\n",
    "1. the very worst intentionally submitted many blank pages\n",
    "\n",
    "2. the rest didn't read the directions very closely\n",
    "\n",
    "3. I'm comfortable rejecting the work of those with > 100 submissions\n",
    "\n",
    "4. I'll ban the worst 15 from future HITs\n"
   ]
  },
  {
   "cell_type": "code",
   "execution_count": 49,
   "metadata": {
    "collapsed": true,
    "hidden": true,
    "run_control": {
     "frozen": false,
     "read_only": false
    }
   },
   "outputs": [],
   "source": [
    "amt_util.write_results_df(combined_consensus_df)"
   ]
  },
  {
   "cell_type": "code",
   "execution_count": 45,
   "metadata": {
    "collapsed": true,
    "hidden": true,
    "run_control": {
     "frozen": false,
     "read_only": false
    }
   },
   "outputs": [],
   "source": [
    "# all pages from the complete\n",
    "pages_to_review =pd.unique(combined_consensus_df['page'])"
   ]
  },
  {
   "cell_type": "code",
   "execution_count": 165,
   "metadata": {
    "collapsed": true,
    "hidden": true,
    "run_control": {
     "frozen": false,
     "read_only": false
    }
   },
   "outputs": [],
   "source": [
    "# all pages from the complete dataset with a no-consensus box\n",
    "pages_to_review =pd.unique(no_consensus_hits['page'])"
   ]
  },
  {
   "cell_type": "code",
   "execution_count": 208,
   "metadata": {
    "collapsed": false,
    "hidden": true,
    "run_control": {
     "frozen": false,
     "read_only": false
    }
   },
   "outputs": [],
   "source": [
    "%%capture \n",
    "# all pages from the latest batch with a no-consensus box\n",
    "suspect_subset = combined_results_df[combined_results_df['worker_id'].isin(bad_and_prolific_to_review[10:15])]\n",
    "amt_util.write_results_df(suspect_subset)\n",
    "pages_to_review = pd.unique(suspect_subset['page'])"
   ]
  },
  {
   "cell_type": "code",
   "execution_count": 50,
   "metadata": {
    "collapsed": false,
    "hidden": true,
    "run_control": {
     "frozen": false,
     "read_only": false
    }
   },
   "outputs": [],
   "source": [
    "sampling_rate = 0.2\n",
    "sample_size = int(len(pages_to_review) * sampling_rate)\n",
    "sampled_pages_to_review = list(np.random.choice(pages_to_review, size= sample_size, replace=False))\n",
    "print 'sampling ' + str(sample_size) + ' pages out of ' + str(len(pages_to_review))\n",
    "to_review = ['start_seq'] + sampled_pages_to_review"
   ]
  },
  {
   "cell_type": "code",
   "execution_count": 51,
   "metadata": {
    "collapsed": false,
    "hidden": true,
    "run_control": {
     "frozen": false,
     "read_only": false
    }
   },
   "outputs": [],
   "source": [
    "amt_util.review_results(to_review)\n",
    "print 'posting to review tool, navigate to http://localhost:8080/ to see the sampled consensus results'"
   ]
  },
  {
   "cell_type": "markdown",
   "metadata": {
    "heading_collapsed": true
   },
   "source": [
    "# Worker Analysis"
   ]
  },
  {
   "cell_type": "markdown",
   "metadata": {
    "heading_collapsed": true,
    "hidden": true
   },
   "source": [
    "## Basic worker stats"
   ]
  },
  {
   "cell_type": "code",
   "execution_count": 209,
   "metadata": {
    "collapsed": false,
    "hidden": true,
    "run_control": {
     "frozen": false,
     "read_only": false
    }
   },
   "outputs": [],
   "source": [
    "consensus_with_workerid_df = amt_util.make_consensus_df_w_worker_id(results_df_question_batch, consensus_results_df_current_batch)"
   ]
  },
  {
   "cell_type": "code",
   "execution_count": 250,
   "metadata": {
    "collapsed": false,
    "hidden": true,
    "run_control": {
     "frozen": false,
     "read_only": false
    },
    "scrolled": true
   },
   "outputs": [],
   "source": [
    "print 'number of unique workers:', pd.unique(results_df_question_batch['worker_id']).shape[0]"
   ]
  },
  {
   "cell_type": "code",
   "execution_count": 212,
   "metadata": {
    "collapsed": true,
    "hidden": true,
    "run_control": {
     "frozen": false,
     "read_only": false
    }
   },
   "outputs": [],
   "source": [
    "_ = results_df_question_batch['worker_id'].value_counts().hist(bins= 30)"
   ]
  },
  {
   "cell_type": "markdown",
   "metadata": {
    "heading_collapsed": true,
    "hidden": true
   },
   "source": [
    "### HIT duration for pricing"
   ]
  },
  {
   "cell_type": "code",
   "execution_count": 213,
   "metadata": {
    "collapsed": false,
    "hidden": true,
    "run_control": {
     "frozen": false,
     "read_only": false
    }
   },
   "outputs": [],
   "source": [
    "task_duration_seconds = []\n",
    "for hit_id, assignments in assignment_results_current_batch.items():\n",
    "    for assignment in assignments:\n",
    "        hit_duration = dt_parse.parse(assignment.SubmitTime) - dt_parse.parse(assignment.AcceptTime)\n",
    "        task_duration_seconds.append(hit_duration.seconds)"
   ]
  },
  {
   "cell_type": "code",
   "execution_count": 214,
   "metadata": {
    "collapsed": false,
    "hidden": true,
    "run_control": {
     "frozen": false,
     "read_only": false
    }
   },
   "outputs": [],
   "source": [
    "task_duration_series = pd.Series(task_duration_seconds)"
   ]
  },
  {
   "cell_type": "code",
   "execution_count": 94,
   "metadata": {
    "collapsed": true,
    "hidden": true,
    "run_control": {
     "frozen": false,
     "read_only": false
    }
   },
   "outputs": [],
   "source": [
    "_ = task_duration_series.hist(bins=30, log=True)"
   ]
  },
  {
   "cell_type": "code",
   "execution_count": 220,
   "metadata": {
    "collapsed": false,
    "hidden": true,
    "run_control": {
     "frozen": false,
     "read_only": false
    }
   },
   "outputs": [],
   "source": [
    "winsorized_durations = [t for t in task_duration_seconds if t < 150]\n",
    "w_duration_series = pd.Series(winsorized_durations)"
   ]
  },
  {
   "cell_type": "code",
   "execution_count": 221,
   "metadata": {
    "collapsed": false,
    "hidden": true,
    "run_control": {
     "frozen": false,
     "read_only": false
    }
   },
   "outputs": [],
   "source": [
    "_ = pd.Series(w_duration_series).hist(bins=60)\n",
    "plt.title('Worker task duration', fontsize=50, verticalalignment='bottom', color = b16_colors.b)\n",
    "plt.ylabel(\"Number of Workers\", fontsize=30, labelpad=10, color = b16_colors.b)\n",
    "plt.xlabel(\"Seconds Spent on HIT\", fontsize=30, labelpad=10, color = b16_colors.b)\n",
    "plt.tick_params(axis='x', which='major', labelsize=20)\n",
    "plt.tick_params(axis='y', which='major', labelsize=20)"
   ]
  },
  {
   "cell_type": "code",
   "execution_count": 224,
   "metadata": {
    "collapsed": false,
    "hidden": true,
    "run_control": {
     "frozen": false,
     "read_only": false
    }
   },
   "outputs": [],
   "source": [
    "dur_mode = w_duration_series.mode().values[0]\n",
    "dur_median = w_duration_series.median()\n",
    "print 'duration mode= ' + str(dur_mode)\n",
    "print 'duration median= ' + str(dur_median)"
   ]
  },
  {
   "cell_type": "markdown",
   "metadata": {
    "heading_collapsed": true,
    "hidden": true
   },
   "source": [
    "### HIT pricing check"
   ]
  },
  {
   "cell_type": "markdown",
   "metadata": {
    "hidden": true
   },
   "source": [
    "We'd like the effective hourly rate to be between 10-12 dollars. This is considered equitable in the world of mechanical turk."
   ]
  },
  {
   "cell_type": "code",
   "execution_count": 241,
   "metadata": {
    "collapsed": false,
    "hidden": true,
    "run_control": {
     "frozen": false,
     "read_only": false
    }
   },
   "outputs": [],
   "source": [
    "hits_per_hour_high = 3600 / dur_mode\n",
    "hits_per_hour_low = 3600 / dur_median\n",
    "print 'effective hourly rate = $', hits_per_hour_low * static_params['amount'], 'to' , hits_per_hour_high * static_params['amount']"
   ]
  },
  {
   "cell_type": "markdown",
   "metadata": {
    "heading_collapsed": true,
    "hidden": true
   },
   "source": [
    "## Identifying high and low consensus workers"
   ]
  },
  {
   "cell_type": "markdown",
   "metadata": {
    "heading_collapsed": true,
    "hidden": true
   },
   "source": [
    "### high"
   ]
  },
  {
   "cell_type": "code",
   "execution_count": 244,
   "metadata": {
    "collapsed": false,
    "hidden": true,
    "run_control": {
     "frozen": false,
     "read_only": false
    }
   },
   "outputs": [],
   "source": [
    "worker_conflicts = consensus_with_workerid_df[consensus_with_workerid_df['category'] != consensus_with_workerid_df['consensus_category']]\n",
    "all_worker_counts = results_df_question_batch['worker_id'].value_counts()\n",
    "bad_worker_counts = worker_conflicts['worker_id'].value_counts()\n",
    "worker_quality_df = pd.DataFrame([all_worker_counts, bad_worker_counts]).T\n",
    "worker_quality_df.columns=['submitted', 'incorrect']\n",
    "worker_quality_df['flaw_ratio'] = worker_quality_df['incorrect']/worker_quality_df['submitted']\n",
    "good_workers = worker_quality_df.sort_values('flaw_ratio', ascending= True).index.tolist()\n",
    "\n",
    "worker_quality_df.sort_values('flaw_ratio', ascending= True).head(10)"
   ]
  },
  {
   "cell_type": "code",
   "execution_count": 263,
   "metadata": {
    "collapsed": false,
    "hidden": true,
    "run_control": {
     "frozen": false,
     "read_only": false
    }
   },
   "outputs": [],
   "source": [
    "good_and_prolific_workers = worker_quality_df.sort_values('flaw_ratio', ascending= True).head(10).index.tolist()"
   ]
  },
  {
   "cell_type": "markdown",
   "metadata": {
    "hidden": true
   },
   "source": [
    "I became concerned that I missed the perfect performers, but as I suspected perfect workers only did 1-2 HITs at most"
   ]
  },
  {
   "cell_type": "code",
   "execution_count": 66,
   "metadata": {
    "collapsed": false,
    "hidden": true,
    "run_control": {
     "frozen": false,
     "read_only": false
    }
   },
   "outputs": [],
   "source": [
    "# aw_set = set(all_worker_counts.index)\n",
    "# bw_set = set(bad_worker_counts.index)\n",
    "# flawless_workers = list(aw_set.difference(bw_set))\n",
    "# all_worker_counts[all_worker_counts.index.isin(best_workers)]"
   ]
  },
  {
   "cell_type": "markdown",
   "metadata": {
    "heading_collapsed": true,
    "hidden": true
   },
   "source": [
    "### low"
   ]
  },
  {
   "cell_type": "code",
   "execution_count": 292,
   "metadata": {
    "collapsed": false,
    "hidden": true,
    "run_control": {
     "frozen": false,
     "read_only": false
    }
   },
   "outputs": [],
   "source": [
    "bad_and_prolific_workers = worker_quality_df.sort_values('flaw_ratio', ascending= False).head(25).sort_values('incorrect', ascending= False)"
   ]
  },
  {
   "cell_type": "code",
   "execution_count": 362,
   "metadata": {
    "collapsed": false,
    "hidden": true,
    "run_control": {
     "frozen": false,
     "read_only": false
    }
   },
   "outputs": [],
   "source": [
    "bad_and_prolific_to_review = list(bad_and_prolific_workers[:5].index)\n",
    "really_bad_workers_to_review = list(really_bad_workers[:5].index)"
   ]
  },
  {
   "cell_type": "code",
   "execution_count": 294,
   "metadata": {
    "collapsed": false,
    "hidden": true,
    "run_control": {
     "frozen": false,
     "read_only": false
    }
   },
   "outputs": [],
   "source": [
    "bad_and_prolific_workers.head(15)"
   ]
  },
  {
   "cell_type": "code",
   "execution_count": 381,
   "metadata": {
    "collapsed": false,
    "hidden": true,
    "run_control": {
     "frozen": false,
     "read_only": false
    }
   },
   "outputs": [],
   "source": [
    "really_bad_workers = bad_and_prolific_workers[bad_and_prolific_workers['flaw_ratio'] > 0.5]\n",
    "really_bad_workers"
   ]
  },
  {
   "cell_type": "markdown",
   "metadata": {
    "collapsed": true,
    "hidden": true,
    "run_control": {
     "frozen": false,
     "read_only": false
    }
   },
   "source": [
    "bad worker decisions-\n",
    "\n",
    "1- didn't read directions\n",
    "\n",
    "2- many blank pages\n",
    "\n",
    "3- many blank pages\n",
    "\n",
    "4- incomplete\n",
    "\n",
    "the really bad workers are largely incomplete"
   ]
  },
  {
   "cell_type": "markdown",
   "metadata": {
    "heading_collapsed": true,
    "hidden": true
   },
   "source": [
    "## Email contact with workers"
   ]
  },
  {
   "cell_type": "code",
   "execution_count": 253,
   "metadata": {
    "collapsed": false,
    "hidden": true,
    "run_control": {
     "frozen": false,
     "read_only": false
    }
   },
   "outputs": [],
   "source": [
    "turkers_contacted_me = turkmail_util.get_latest_worker_communication()"
   ]
  },
  {
   "cell_type": "code",
   "execution_count": 257,
   "metadata": {
    "collapsed": false,
    "hidden": true,
    "run_control": {
     "frozen": false,
     "read_only": false
    }
   },
   "outputs": [],
   "source": [
    "turkers_contacted_me = [w_id[0] for w_id in turkers_contacted_me.values()]"
   ]
  },
  {
   "cell_type": "code",
   "execution_count": 258,
   "metadata": {
    "collapsed": false,
    "hidden": true,
    "run_control": {
     "frozen": false,
     "read_only": false
    }
   },
   "outputs": [],
   "source": [
    "turkers_contacted_me"
   ]
  },
  {
   "cell_type": "code",
   "execution_count": 269,
   "metadata": {
    "collapsed": false,
    "hidden": true,
    "run_control": {
     "frozen": false,
     "read_only": false
    }
   },
   "outputs": [],
   "source": [
    "good_set = set(good_and_prolific_workers)\n",
    "bad_set = set(bad_and_prolific_to_review)\n",
    "contact_set = set(turkers_contacted_me)"
   ]
  },
  {
   "cell_type": "code",
   "execution_count": 271,
   "metadata": {
    "collapsed": false,
    "hidden": true,
    "run_control": {
     "frozen": false,
     "read_only": false
    }
   },
   "outputs": [],
   "source": [
    "print good_set.intersection(contact_set)\n",
    "print bad_set.intersection(contact_set)"
   ]
  },
  {
   "cell_type": "markdown",
   "metadata": {
    "hidden": true
   },
   "source": []
  },
  {
   "cell_type": "markdown",
   "metadata": {
    "heading_collapsed": true,
    "hidden": true
   },
   "source": [
    "## Messaging workers"
   ]
  },
  {
   "cell_type": "code",
   "execution_count": 889,
   "metadata": {
    "collapsed": true,
    "hidden": true,
    "run_control": {
     "frozen": false,
     "read_only": false
    }
   },
   "outputs": [],
   "source": [
    "subject = \"More science book annotation HITs are available\"\n",
    "message = \"\"\"\n",
    "Hello, \n",
    "\n",
    "If you're receiving this message you were among the top performers on the first group HITs I submitted.\n",
    "I've submitted another group of HITs, with more to follow in the next few days. \n",
    "I've added some additional instructions, and have removed the default instruction page (they can still be accessed by Read\n",
    "Instruction Button).\n",
    "\n",
    "Happy to get any feedback you might have for the new HITs.\n",
    "\"\"\""
   ]
  },
  {
   "cell_type": "code",
   "execution_count": 693,
   "metadata": {
    "collapsed": false,
    "hidden": true,
    "run_control": {
     "frozen": false,
     "read_only": false
    }
   },
   "outputs": [],
   "source": [
    "# _ = mturk.notify_workers(good_workers[:20], subject, message)"
   ]
  },
  {
   "cell_type": "markdown",
   "metadata": {},
   "source": [
    "# **HIT end-of-life**"
   ]
  },
  {
   "cell_type": "markdown",
   "metadata": {
    "heading_collapsed": true
   },
   "source": [
    "## Pickle latest results"
   ]
  },
  {
   "cell_type": "code",
   "execution_count": 208,
   "metadata": {
    "collapsed": true,
    "hidden": true,
    "run_control": {
     "frozen": false,
     "read_only": false
    }
   },
   "outputs": [],
   "source": [
    "#reset as needed\n",
    "# gn = 2"
   ]
  },
  {
   "cell_type": "code",
   "execution_count": 207,
   "metadata": {
    "collapsed": false,
    "hidden": true,
    "run_control": {
     "frozen": false,
     "read_only": false
    }
   },
   "outputs": [],
   "source": [
    "next_group = gn + 1\n",
    "group_n = '_' + str(gn) + '/'\n",
    "\n",
    "temp_store_dir = './store_hit_results_metadata/question_anno/group'\n",
    "try:\n",
    "    os.mkdir(temp_store_dir + group_n)\n",
    "except:\n",
    "    OSError\n",
    "    \n",
    "result_file_name = 'hit_info.pkl'\n",
    "assignment_file_name = 'assignment_info.pkl'\n",
    "raw_results_file_name = 'raw_res.pkl'\n",
    "complete_results_file = 'complete_df.pkl'\n",
    "consensus_results_file = 'consensus_df.pkl'\n",
    "\n",
    "amt_util.pickle_this(r_hits_current_batch, temp_store_dir + group_n + result_file_name)\n",
    "amt_util.pickle_this(assignment_results_current_batch, temp_store_dir + group_n + assignment_file_name)\n",
    "amt_util.pickle_this(results_df_question_batch, temp_store_dir + group_n + raw_results_file_name)\n",
    "# results_df_current_batch.to_pickle(temp_store_dir + group_n + complete_results_file)\n",
    "consensus_results_df_current_batch.to_pickle(temp_store_dir + group_n + consensus_results_file)\n",
    "print 'saved HIT batch number ' + str(gn)\n",
    "print 'now onto batch ' +str(next_group) \n",
    "gn = next_group"
   ]
  },
  {
   "cell_type": "markdown",
   "metadata": {
    "heading_collapsed": true
   },
   "source": [
    "## Pickle combined dataset"
   ]
  },
  {
   "cell_type": "code",
   "execution_count": 110,
   "metadata": {
    "collapsed": false,
    "hidden": true,
    "run_control": {
     "frozen": false,
     "read_only": false
    }
   },
   "outputs": [],
   "source": [
    "temp_store_dir = './store_hit_results_metadata/question_anno/group'\n",
    "group_n = '_latest_combined/'\n",
    "try:\n",
    "    os.mkdir(temp_store_dir + group_n)\n",
    "except:\n",
    "    OSError\n",
    "    \n",
    "complete_results_file = 'complete_df.pkl'\n",
    "consensus_results_file = 'consensus_df.pkl'\n",
    "consensus_results_file_w_workers = 'consensus_df_w_workers.pkl'\n",
    "\n",
    "combined_results_df.to_pickle(temp_store_dir + group_n + complete_results_file)\n",
    "combined_consensus_df.to_pickle(temp_store_dir + group_n + consensus_results_file)\n",
    "combined_consensus_with_workerid_df.to_pickle(temp_store_dir + group_n + consensus_results_file_w_workers)"
   ]
  },
  {
   "cell_type": "markdown",
   "metadata": {},
   "source": [
    "## Accepting and deleting HITs... careful with these"
   ]
  },
  {
   "cell_type": "markdown",
   "metadata": {
    "heading_collapsed": true
   },
   "source": [
    "### rejecting HITS, banning bad workers"
   ]
  },
  {
   "cell_type": "markdown",
   "metadata": {
    "hidden": true
   },
   "source": [
    "Uncomment only when ready to accept or delete hits"
   ]
  },
  {
   "cell_type": "code",
   "execution_count": 122,
   "metadata": {
    "collapsed": false,
    "hidden": true,
    "run_control": {
     "frozen": false,
     "read_only": false
    }
   },
   "outputs": [],
   "source": [
    "def reject_bad_assignments(rejected_assignment_ids, rejected_worker_ids):\n",
    "    for assignment in rejected_assignment_ids:\n",
    "        mturk.reject_assignment(assignment)\n",
    "        \n",
    "        rejection_message_subject = \"One of your HITs was rejected\"\n",
    "        \n",
    "        rejection_message = \"\"\"\n",
    "        Your HIT was rejected because it was either incomplete or largely incorrect.\n",
    "        \"\"\"\n",
    "        \n",
    "        mturk.notify_workers(rejected_worker_ids, rejection_message_subject, rejection_message)"
   ]
  },
  {
   "cell_type": "code",
   "execution_count": 155,
   "metadata": {
    "collapsed": true,
    "hidden": true,
    "run_control": {
     "frozen": false,
     "read_only": false
    }
   },
   "outputs": [],
   "source": [
    "workers_to_ban = bad_and_prolific_workers[:2].index.tolist()"
   ]
  },
  {
   "cell_type": "code",
   "execution_count": 156,
   "metadata": {
    "collapsed": false,
    "hidden": true,
    "run_control": {
     "frozen": false,
     "read_only": false
    }
   },
   "outputs": [],
   "source": [
    "workers_to_ban"
   ]
  },
  {
   "cell_type": "code",
   "execution_count": 157,
   "metadata": {
    "collapsed": false,
    "hidden": true,
    "run_control": {
     "frozen": false,
     "read_only": false
    }
   },
   "outputs": [],
   "source": [
    "number_rejected_assignments, number_rejected_workers = amt_util.reject_assignments(mturk, workers_to_ban, combined_consensus_with_workerid_df)\n",
    "print 'rejecting ' + str(number_rejected_assignments) + ' assignments' + ' from ' + str(number_rejected_workers) + ' workers'"
   ]
  },
  {
   "cell_type": "code",
   "execution_count": 174,
   "metadata": {
    "collapsed": true,
    "hidden": true,
    "run_control": {
     "frozen": false,
     "read_only": false
    }
   },
   "outputs": [],
   "source": [
    "# assignments_to_accept = []\n",
    "assignment_status = []\n",
    "for hit_id, assignments in assignment_results_after_rejects.items():\n",
    "    for assignment in assignments:\n",
    "        assignment_status.append(assignment.AssignmentStatus)\n",
    "        if assignment.AssignmentStatus == 'Submitted':\n",
    "            assignments_to_accept.append(assignment)\n",
    "status_series = pd.Series(assignment_status)"
   ]
  },
  {
   "cell_type": "code",
   "execution_count": 182,
   "metadata": {
    "collapsed": true,
    "hidden": true,
    "run_control": {
     "frozen": false,
     "read_only": false
    }
   },
   "outputs": [],
   "source": [
    "r_hits_after_rejects = amt_util.get_completed_hits(mturk)"
   ]
  },
  {
   "cell_type": "code",
   "execution_count": 183,
   "metadata": {
    "collapsed": true,
    "hidden": true,
    "run_control": {
     "frozen": false,
     "read_only": false
    }
   },
   "outputs": [],
   "source": [
    "assignment_results_after_rejects = amt_util.get_assignments(mturk, r_hits_after_rejects)"
   ]
  },
  {
   "cell_type": "markdown",
   "metadata": {
    "heading_collapsed": true
   },
   "source": [
    "### accepting HITS"
   ]
  },
  {
   "cell_type": "code",
   "execution_count": 184,
   "metadata": {
    "collapsed": true,
    "hidden": true,
    "run_control": {
     "frozen": false,
     "read_only": false
    }
   },
   "outputs": [],
   "source": [
    "# amt_util.accept_hits(mturk, assignment_results_after_rejects)"
   ]
  },
  {
   "cell_type": "markdown",
   "metadata": {
    "heading_collapsed": true
   },
   "source": [
    "### deleting all HITS"
   ]
  },
  {
   "cell_type": "code",
   "execution_count": 98,
   "metadata": {
    "collapsed": false,
    "hidden": true,
    "run_control": {
     "frozen": false,
     "read_only": false
    }
   },
   "outputs": [],
   "source": [
    "amt_util.delete_all_hits(mturk)"
   ]
  },
  {
   "cell_type": "markdown",
   "metadata": {
    "heading_collapsed": true
   },
   "source": [
    "# End"
   ]
  },
  {
   "cell_type": "code",
   "execution_count": 47,
   "metadata": {
    "collapsed": true,
    "hidden": true,
    "run_control": {
     "frozen": false,
     "read_only": false
    }
   },
   "outputs": [],
   "source": [
    "images_to_test = ['1262.png', '1311.png', '1315.png', '1503.png', '193.png', '2822.png', '4106.png', '4138.png', '4930.png', '4947.png', '4949.png', '61.png','77.png']"
   ]
  }
 ],
 "metadata": {
  "kernelspec": {
   "display_name": "Python 2",
   "language": "python",
   "name": "python2"
  },
  "language_info": {
   "codemirror_mode": {
    "name": "ipython",
    "version": 2
   },
   "file_extension": ".py",
   "mimetype": "text/x-python",
   "name": "python",
   "nbconvert_exporter": "python",
   "pygments_lexer": "ipython2",
   "version": "2.7.10"
  }
 },
 "nbformat": 4,
 "nbformat_minor": 0
}
