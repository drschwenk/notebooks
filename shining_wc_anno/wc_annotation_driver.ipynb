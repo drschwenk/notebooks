{
 "cells": [
  {
   "cell_type": "code",
   "execution_count": 184,
   "metadata": {
    "collapsed": true,
    "run_control": {
     "frozen": false,
     "read_only": false
    }
   },
   "outputs": [],
   "source": [
    "# amt_util.accept_hits(mturk, assignment_results_after_rejects)"
   ]
  },
  {
   "cell_type": "code",
   "execution_count": 180,
   "metadata": {
    "collapsed": false,
    "run_control": {
     "frozen": false,
     "read_only": false
    }
   },
   "outputs": [],
   "source": [
    "%%capture\n",
    "from __future__ import division\n",
    "import numpy as np\n",
    "import pandas as pd\n",
    "import scipy.stats as st\n",
    "import itertools\n",
    "import math\n",
    "from collections import Counter, defaultdict\n",
    "%load_ext autoreload\n",
    "%autoreload 2\n",
    "\n",
    "#The lines commented below set the look and feel of mpl generated plots.\n",
    "import matplotlib as mpl\n",
    "# mpl.use(\"Agg\")\n",
    "# import matplotlib.pylab as plt\n",
    "# #%matplotlib notebook\n",
    "# %matplotlib inline\n",
    "# %load_ext base16_mplrc\n",
    "# %base16_mplrc light default\n",
    "# plt.rcParams['figure.figsize'] = (16.0, 10.0)\n",
    "\n",
    "import re\n",
    "import pickle\n",
    "import boto\n",
    "import json\n",
    "import os\n",
    "\n",
    "from copy import deepcopy\n",
    "import boto.mturk.connection as tc\n",
    "import boto.mturk.question as tq\n",
    "from boto.mturk.qualification import PercentAssignmentsApprovedRequirement, Qualifications, Requirement\n",
    "\n",
    "# These lines import my aws access keys\n",
    "from keysTkingdom import mturk_ai2\n",
    "from keysTkingdom import aws_tokes\n",
    "\n",
    "\n",
    "import amt_utils.process_hits as amt_util\n",
    "import amt_utils.turk_email_utils as turkmail_util\n",
    "import amt_utils.shining_rel_build as rbuild\n",
    "import glob"
   ]
  },
  {
   "cell_type": "markdown",
   "metadata": {},
   "source": [
    "# **Submitting HITs**"
   ]
  },
  {
   "cell_type": "markdown",
   "metadata": {},
   "source": [
    "## Building URLs for images on s3"
   ]
  },
  {
   "cell_type": "code",
   "execution_count": 330,
   "metadata": {
    "collapsed": false,
    "run_control": {
     "frozen": false,
     "read_only": false
    },
    "scrolled": true
   },
   "outputs": [],
   "source": [
    "images_to_annotate = pd.read_csv('./list_to_annotate.txt', header=None)\n",
    "images_to_annotate.columns= ['image_name']\n",
    "images_to_annotate_list = images_to_annotate['image_name'].tolist()\n",
    "# len(images_to_annotate_list)"
   ]
  },
  {
   "cell_type": "code",
   "execution_count": 331,
   "metadata": {
    "collapsed": false,
    "run_control": {
     "frozen": false,
     "read_only": false
    },
    "scrolled": true
   },
   "outputs": [],
   "source": [
    "images_to_annotate_new = pd.read_csv('./to_annotate_minus_other.txt', header=None)\n",
    "images_to_annotate_new.columns= ['image_name']\n",
    "images_to_annotate_new_list = images_to_annotate_new['image_name'].tolist()\n",
    "# len(images_to_annotate_new_list)"
   ]
  },
  {
   "cell_type": "code",
   "execution_count": 332,
   "metadata": {
    "collapsed": false
   },
   "outputs": [],
   "source": [
    "bad_images = pd.read_csv('./bad.txt', header=None)\n",
    "bad_images.columns= ['image_name']\n",
    "bad_images = bad_images['image_name'].tolist()\n",
    "easy_images = pd.read_csv('./easy.txt', header=None)\n",
    "easy_images.columns= ['image_name']\n",
    "easy_images = easy_images['image_name'].tolist()\n",
    "difficult_images = pd.read_csv('./difficult.txt', header=None)\n",
    "difficult_images.columns= ['image_name']\n",
    "difficult_images = difficult_images['image_name'].tolist()\n",
    "lbi = len(bad_images)\n",
    "lei = len(easy_images)\n",
    "ldi = len(difficult_images)\n",
    "# print ldi + lei + lbi\n",
    "images_we_triaged = bad_images + easy_images + difficult_images"
   ]
  },
  {
   "cell_type": "code",
   "execution_count": 329,
   "metadata": {
    "collapsed": false
   },
   "outputs": [],
   "source": [
    "# sorted(set(images_to_annotate_new_list).difference(set(images_we_triaged)), key=lambda x:int(x.split('.')[0]))\n",
    "# sorted(set(images_to_annotate_list).difference(set(images_to_annotate_new_list)), key=lambda x:int(x.split('.')[0]))"
   ]
  },
  {
   "cell_type": "code",
   "execution_count": 335,
   "metadata": {
    "collapsed": true,
    "run_control": {
     "frozen": false,
     "read_only": false
    }
   },
   "outputs": [],
   "source": [
    "with open('dim_lookup.pkl',) as f:\n",
    "    img_dim_lookup = pickle.load(f)"
   ]
  },
  {
   "cell_type": "code",
   "execution_count": 334,
   "metadata": {
    "collapsed": false
   },
   "outputs": [],
   "source": [
    "app_url_base = 'https://s3-us-west-2.amazonaws.com/ai2-vision-turk-data/shining-3-watercycle-test/build/index.html?url='\n",
    "completed_images = pd.read_csv('completed_images.csv', header=None).values"
   ]
  },
  {
   "cell_type": "code",
   "execution_count": 336,
   "metadata": {
    "collapsed": false,
    "run_control": {
     "frozen": false,
     "read_only": false
    }
   },
   "outputs": [],
   "source": [
    "easy_image_urls = amt_util.make_diagram_hit_urls(easy_images, img_dim_lookup, app_url_base, completed_images) \n",
    "difficult_image_urls = amt_util.make_diagram_hit_urls(difficult_images, img_dim_lookup, app_url_base, completed_images) "
   ]
  },
  {
   "cell_type": "code",
   "execution_count": 349,
   "metadata": {
    "collapsed": false
   },
   "outputs": [
    {
     "name": "stdout",
     "output_type": "stream",
     "text": [
      "23.5\n",
      "89.0\n",
      "272\n"
     ]
    }
   ],
   "source": [
    "print len(easy_image_urls) / 4\n",
    "print len(difficult_image_urls) / 2\n",
    "print len(easy_image_urls) + len(difficult_image_urls)"
   ]
  },
  {
   "cell_type": "markdown",
   "metadata": {},
   "source": [
    "## submitting HITs in groups"
   ]
  },
  {
   "cell_type": "markdown",
   "metadata": {},
   "source": [
    "**DON'T FORGET to change submission POST request in the client when changing host**"
   ]
  },
  {
   "cell_type": "code",
   "execution_count": 197,
   "metadata": {
    "collapsed": false,
    "run_control": {
     "frozen": false,
     "read_only": false
    }
   },
   "outputs": [
    {
     "name": "stdout",
     "output_type": "stream",
     "text": [
      "Working in the SANDBOX with\n",
      "$10,000.00\n"
     ]
    }
   ],
   "source": [
    "## Switch between sandbox and the real world here ##\n",
    "## DON'T FORGET to change submission POST request in the client ##\n",
    "\n",
    "sandbox_host = 'mechanicalturk.sandbox.amazonaws.com' \n",
    "real_world_host = 'mechanicalturk.amazonaws.com'\n",
    "mturk = tc.MTurkConnection(\n",
    "    aws_access_key_id = aws_tokes.access_key,\n",
    "    aws_secret_access_key = aws_tokes.access_secret_key,\n",
    "    host = sandbox_host,\n",
    "    debug = 1 # debug = 2 prints out all requests.\n",
    ")\n",
    "current_account_balance = mturk.get_account_balance()[0]\n",
    "if current_account_balance.amount == 10000:\n",
    "    print \"Working in the SANDBOX with\"\n",
    "else:\n",
    "    print \"Working in the REAL WORLD with\"\n",
    "print current_account_balance # a reminder of sandbox"
   ]
  },
  {
   "cell_type": "code",
   "execution_count": 204,
   "metadata": {
    "code_folding": [],
    "collapsed": false,
    "run_control": {
     "frozen": false,
     "read_only": false
    }
   },
   "outputs": [
    {
     "name": "stdout",
     "output_type": "stream",
     "text": [
      "expect this batch of HITs to cost: $20.0\n"
     ]
    }
   ],
   "source": [
    "static_params = {\n",
    "    'title': \"Annotate shining 3 water cycles\",\n",
    "    'description': \"you know what to do\",\n",
    "    'keywords': ['findme'],\n",
    "    'frame_height': 800,\n",
    "    'amount': 1.0,\n",
    "    'duration': 3600 * 12,\n",
    "    'lifetime': 3600 * 24 * 3,\n",
    "    'max_assignments': 1   # change to 3 when running for real\n",
    "}\n",
    "\n",
    "expected_cost = len(pages_to_use_sub) *  static_params['amount'] * static_params['max_assignments']\n",
    "if float(current_account_balance.amount) < expected_cost:\n",
    "    print('WARNING -- account balance is too low -- WARNING')\n",
    "print('expect this batch of HITs to cost: $' + str(expected_cost))"
   ]
  },
  {
   "cell_type": "markdown",
   "metadata": {},
   "source": [
    "### creates HITs, careful with this one"
   ]
  },
  {
   "cell_type": "markdown",
   "metadata": {},
   "source": [
    "**uncomment cell below only when ready to submit**"
   ]
  },
  {
   "cell_type": "code",
   "execution_count": 275,
   "metadata": {
    "code_folding": [],
    "collapsed": false,
    "run_control": {
     "frozen": false,
     "read_only": false
    }
   },
   "outputs": [],
   "source": [
    "amt_util.create_hits_from_pages(mturk, pages_to_use_sub, static_params)"
   ]
  },
  {
   "cell_type": "markdown",
   "metadata": {},
   "source": [
    "# **Reviewing HITs**"
   ]
  },
  {
   "cell_type": "markdown",
   "metadata": {},
   "source": [
    "### bad images"
   ]
  },
  {
   "cell_type": "markdown",
   "metadata": {},
   "source": [
    "68.png\n",
    "\n",
    "67 dupe\n",
    "\n",
    "\n",
    "look into why image 76 doesn't work\n",
    "\n",
    "review tool by category\n",
    "\n",
    "\n",
    "default to blobs for linkages"
   ]
  },
  {
   "cell_type": "markdown",
   "metadata": {},
   "source": [
    "### Retrieving and processing latest HITs"
   ]
  },
  {
   "cell_type": "code",
   "execution_count": 319,
   "metadata": {
    "collapsed": true,
    "run_control": {
     "frozen": false,
     "read_only": false
    }
   },
   "outputs": [],
   "source": [
    "r_hits_current_batch = amt_util.get_completed_hits(mturk)\n",
    "assignment_results_current_batch = amt_util.get_assignments(mturk, r_hits_current_batch, 'Submitted')"
   ]
  },
  {
   "cell_type": "code",
   "execution_count": 320,
   "metadata": {
    "collapsed": true,
    "run_control": {
     "frozen": false,
     "read_only": false
    }
   },
   "outputs": [],
   "source": [
    "raw_hit_results_current_batch = amt_util.process_raw_hits(assignment_results_current_batch)"
   ]
  },
  {
   "cell_type": "code",
   "execution_count": 350,
   "metadata": {
    "collapsed": false,
    "run_control": {
     "frozen": false,
     "read_only": false
    }
   },
   "outputs": [
    {
     "data": {
      "text/plain": [
       "Submitted    10\n",
       "dtype: int64"
      ]
     },
     "execution_count": 350,
     "metadata": {},
     "output_type": "execute_result"
    }
   ],
   "source": [
    "amt_util.get_assignment_statuses(assignment_results_current_batch )"
   ]
  },
  {
   "cell_type": "markdown",
   "metadata": {},
   "source": [
    "The commands above interact with mechanical turk and can take a while"
   ]
  },
  {
   "cell_type": "code",
   "execution_count": 351,
   "metadata": {
    "collapsed": false,
    "run_control": {
     "frozen": false,
     "read_only": false
    }
   },
   "outputs": [],
   "source": [
    "results_df_shining_batch = amt_util.make_shining_results_df(raw_hit_results_current_batch)"
   ]
  },
  {
   "cell_type": "code",
   "execution_count": 271,
   "metadata": {
    "collapsed": true,
    "run_control": {
     "frozen": false,
     "read_only": false
    }
   },
   "outputs": [
    {
     "data": {
      "text/html": [
       "<div>\n",
       "<table border=\"1\" class=\"dataframe\">\n",
       "  <thead>\n",
       "    <tr style=\"text-align: right;\">\n",
       "      <th></th>\n",
       "      <th>page</th>\n",
       "      <th>category</th>\n",
       "      <th>hit_id</th>\n",
       "      <th>assignment_id</th>\n",
       "      <th>id</th>\n",
       "      <th>worker_id</th>\n",
       "      <th>group_n</th>\n",
       "    </tr>\n",
       "  </thead>\n",
       "  <tbody>\n",
       "    <tr>\n",
       "      <th>0</th>\n",
       "      <td>63.png</td>\n",
       "      <td>[unlabeled, IntraObjectLabel]</td>\n",
       "      <td>3B9J25CZ25EQ1LXOP9V49MUP6O2SCK</td>\n",
       "      <td>3Q5C1WP23M28V0N9NIYEOZWN2W115V</td>\n",
       "      <td>T10</td>\n",
       "      <td>AO235WMFCB1D9</td>\n",
       "      <td>[[0, 0], [11, 3]]</td>\n",
       "    </tr>\n",
       "    <tr>\n",
       "      <th>1</th>\n",
       "      <td>63.png</td>\n",
       "      <td>[unlabeled, arrowDescriptor]</td>\n",
       "      <td>3B9J25CZ25EQ1LXOP9V49MUP6O2SCK</td>\n",
       "      <td>3Q5C1WP23M28V0N9NIYEOZWN2W115V</td>\n",
       "      <td>T11</td>\n",
       "      <td>AO235WMFCB1D9</td>\n",
       "      <td>[[0, 0], [6, 1]]</td>\n",
       "    </tr>\n",
       "    <tr>\n",
       "      <th>2</th>\n",
       "      <td>63.png</td>\n",
       "      <td>[unlabeled, IntraObjectLabel]</td>\n",
       "      <td>3B9J25CZ25EQ1LXOP9V49MUP6O2SCK</td>\n",
       "      <td>3Q5C1WP23M28V0N9NIYEOZWN2W115V</td>\n",
       "      <td>T12</td>\n",
       "      <td>AO235WMFCB1D9</td>\n",
       "      <td>[[0, 0], [10, 1]]</td>\n",
       "    </tr>\n",
       "    <tr>\n",
       "      <th>3</th>\n",
       "      <td>63.png</td>\n",
       "      <td>[unlabeled, IntraObjectLabel]</td>\n",
       "      <td>3B9J25CZ25EQ1LXOP9V49MUP6O2SCK</td>\n",
       "      <td>3Q5C1WP23M28V0N9NIYEOZWN2W115V</td>\n",
       "      <td>T13</td>\n",
       "      <td>AO235WMFCB1D9</td>\n",
       "      <td>[[0, 0], [11, 1]]</td>\n",
       "    </tr>\n",
       "    <tr>\n",
       "      <th>4</th>\n",
       "      <td>63.png</td>\n",
       "      <td>[unlabeled, arrowDescriptor, InterObjectLinkage]</td>\n",
       "      <td>3B9J25CZ25EQ1LXOP9V49MUP6O2SCK</td>\n",
       "      <td>3Q5C1WP23M28V0N9NIYEOZWN2W115V</td>\n",
       "      <td>A1</td>\n",
       "      <td>AO235WMFCB1D9</td>\n",
       "      <td>[[0, 0], [3, 2], [14, 2]]</td>\n",
       "    </tr>\n",
       "    <tr>\n",
       "      <th>5</th>\n",
       "      <td>63.png</td>\n",
       "      <td>[unlabeled, arrowDescriptor, InterObjectLinkage]</td>\n",
       "      <td>3B9J25CZ25EQ1LXOP9V49MUP6O2SCK</td>\n",
       "      <td>3Q5C1WP23M28V0N9NIYEOZWN2W115V</td>\n",
       "      <td>A0</td>\n",
       "      <td>AO235WMFCB1D9</td>\n",
       "      <td>[[0, 0], [2, 1], [13, 2]]</td>\n",
       "    </tr>\n",
       "    <tr>\n",
       "      <th>6</th>\n",
       "      <td>63.png</td>\n",
       "      <td>[unlabeled, arrowDescriptor, InterObjectLinkage]</td>\n",
       "      <td>3B9J25CZ25EQ1LXOP9V49MUP6O2SCK</td>\n",
       "      <td>3Q5C1WP23M28V0N9NIYEOZWN2W115V</td>\n",
       "      <td>A3</td>\n",
       "      <td>AO235WMFCB1D9</td>\n",
       "      <td>[[0, 0], [5, 1], [17, 2]]</td>\n",
       "    </tr>\n",
       "    <tr>\n",
       "      <th>7</th>\n",
       "      <td>63.png</td>\n",
       "      <td>[unlabeled, arrowDescriptor, InterObjectLinkage]</td>\n",
       "      <td>3B9J25CZ25EQ1LXOP9V49MUP6O2SCK</td>\n",
       "      <td>3Q5C1WP23M28V0N9NIYEOZWN2W115V</td>\n",
       "      <td>A2</td>\n",
       "      <td>AO235WMFCB1D9</td>\n",
       "      <td>[[0, 0], [4, 2], [16, 2]]</td>\n",
       "    </tr>\n",
       "    <tr>\n",
       "      <th>8</th>\n",
       "      <td>63.png</td>\n",
       "      <td>[unlabeled, InterObjectLinkage]</td>\n",
       "      <td>3B9J25CZ25EQ1LXOP9V49MUP6O2SCK</td>\n",
       "      <td>3Q5C1WP23M28V0N9NIYEOZWN2W115V</td>\n",
       "      <td>A5</td>\n",
       "      <td>AO235WMFCB1D9</td>\n",
       "      <td>[[0, 0], [12, 2]]</td>\n",
       "    </tr>\n",
       "    <tr>\n",
       "      <th>9</th>\n",
       "      <td>63.png</td>\n",
       "      <td>[unlabeled, arrowDescriptor, InterObjectLinkage]</td>\n",
       "      <td>3B9J25CZ25EQ1LXOP9V49MUP6O2SCK</td>\n",
       "      <td>3Q5C1WP23M28V0N9NIYEOZWN2W115V</td>\n",
       "      <td>A6</td>\n",
       "      <td>AO235WMFCB1D9</td>\n",
       "      <td>[[0, 0], [6, 2], [18, 2]]</td>\n",
       "    </tr>\n",
       "    <tr>\n",
       "      <th>10</th>\n",
       "      <td>63.png</td>\n",
       "      <td>[unlabeled, IntraObjectLabel]</td>\n",
       "      <td>3B9J25CZ25EQ1LXOP9V49MUP6O2SCK</td>\n",
       "      <td>3Q5C1WP23M28V0N9NIYEOZWN2W115V</td>\n",
       "      <td>T8</td>\n",
       "      <td>AO235WMFCB1D9</td>\n",
       "      <td>[[0, 0], [8, 1]]</td>\n",
       "    </tr>\n",
       "    <tr>\n",
       "      <th>11</th>\n",
       "      <td>63.png</td>\n",
       "      <td>[unlabeled, IntraObjectLabel]</td>\n",
       "      <td>3B9J25CZ25EQ1LXOP9V49MUP6O2SCK</td>\n",
       "      <td>3Q5C1WP23M28V0N9NIYEOZWN2W115V</td>\n",
       "      <td>T9</td>\n",
       "      <td>AO235WMFCB1D9</td>\n",
       "      <td>[[0, 0], [9, 1]]</td>\n",
       "    </tr>\n",
       "    <tr>\n",
       "      <th>12</th>\n",
       "      <td>63.png</td>\n",
       "      <td>[unlabeled, arrowDescriptor]</td>\n",
       "      <td>3B9J25CZ25EQ1LXOP9V49MUP6O2SCK</td>\n",
       "      <td>3Q5C1WP23M28V0N9NIYEOZWN2W115V</td>\n",
       "      <td>T6</td>\n",
       "      <td>AO235WMFCB1D9</td>\n",
       "      <td>[[0, 0], [5, 2]]</td>\n",
       "    </tr>\n",
       "    <tr>\n",
       "      <th>13</th>\n",
       "      <td>63.png</td>\n",
       "      <td>[unlabeled, IntraObjectLabel]</td>\n",
       "      <td>3B9J25CZ25EQ1LXOP9V49MUP6O2SCK</td>\n",
       "      <td>3Q5C1WP23M28V0N9NIYEOZWN2W115V</td>\n",
       "      <td>T7</td>\n",
       "      <td>AO235WMFCB1D9</td>\n",
       "      <td>[[0, 0], [15, 1]]</td>\n",
       "    </tr>\n",
       "    <tr>\n",
       "      <th>14</th>\n",
       "      <td>63.png</td>\n",
       "      <td>[unlabeled, arrowDescriptor]</td>\n",
       "      <td>3B9J25CZ25EQ1LXOP9V49MUP6O2SCK</td>\n",
       "      <td>3Q5C1WP23M28V0N9NIYEOZWN2W115V</td>\n",
       "      <td>T4</td>\n",
       "      <td>AO235WMFCB1D9</td>\n",
       "      <td>[[0, 0], [3, 1]]</td>\n",
       "    </tr>\n",
       "    <tr>\n",
       "      <th>15</th>\n",
       "      <td>63.png</td>\n",
       "      <td>[unlabeled, arrowDescriptor]</td>\n",
       "      <td>3B9J25CZ25EQ1LXOP9V49MUP6O2SCK</td>\n",
       "      <td>3Q5C1WP23M28V0N9NIYEOZWN2W115V</td>\n",
       "      <td>T5</td>\n",
       "      <td>AO235WMFCB1D9</td>\n",
       "      <td>[[0, 0], [4, 1]]</td>\n",
       "    </tr>\n",
       "    <tr>\n",
       "      <th>16</th>\n",
       "      <td>63.png</td>\n",
       "      <td>[unlabeled, arrowDescriptor]</td>\n",
       "      <td>3B9J25CZ25EQ1LXOP9V49MUP6O2SCK</td>\n",
       "      <td>3Q5C1WP23M28V0N9NIYEOZWN2W115V</td>\n",
       "      <td>T2</td>\n",
       "      <td>AO235WMFCB1D9</td>\n",
       "      <td>[[0, 0], [2, 2]]</td>\n",
       "    </tr>\n",
       "    <tr>\n",
       "      <th>17</th>\n",
       "      <td>63.png</td>\n",
       "      <td>[unlabeled, InterObjectLinkage, InterObjectLin...</td>\n",
       "      <td>3B9J25CZ25EQ1LXOP9V49MUP6O2SCK</td>\n",
       "      <td>3Q5C1WP23M28V0N9NIYEOZWN2W115V</td>\n",
       "      <td>T3</td>\n",
       "      <td>AO235WMFCB1D9</td>\n",
       "      <td>[[0, 0], [13, 3], [14, 1], [16, 3], [17, 1]]</td>\n",
       "    </tr>\n",
       "    <tr>\n",
       "      <th>18</th>\n",
       "      <td>63.png</td>\n",
       "      <td>[unlabeled, imageTitle]</td>\n",
       "      <td>3B9J25CZ25EQ1LXOP9V49MUP6O2SCK</td>\n",
       "      <td>3Q5C1WP23M28V0N9NIYEOZWN2W115V</td>\n",
       "      <td>T0</td>\n",
       "      <td>AO235WMFCB1D9</td>\n",
       "      <td>[[0, 0], [1, 1]]</td>\n",
       "    </tr>\n",
       "    <tr>\n",
       "      <th>19</th>\n",
       "      <td>63.png</td>\n",
       "      <td>[unlabeled, IntraObjectLabel]</td>\n",
       "      <td>3B9J25CZ25EQ1LXOP9V49MUP6O2SCK</td>\n",
       "      <td>3Q5C1WP23M28V0N9NIYEOZWN2W115V</td>\n",
       "      <td>T1</td>\n",
       "      <td>AO235WMFCB1D9</td>\n",
       "      <td>[[0, 0], [7, 1]]</td>\n",
       "    </tr>\n",
       "    <tr>\n",
       "      <th>20</th>\n",
       "      <td>63.png</td>\n",
       "      <td>[unlabeled, InterObjectLinkage, IntraObjectLab...</td>\n",
       "      <td>3B9J25CZ25EQ1LXOP9V49MUP6O2SCK</td>\n",
       "      <td>3Q5C1WP23M28V0N9NIYEOZWN2W115V</td>\n",
       "      <td>B4</td>\n",
       "      <td>AO235WMFCB1D9</td>\n",
       "      <td>[[0, 0], [14, 3], [15, 2], [16, 1], [18, 1]]</td>\n",
       "    </tr>\n",
       "    <tr>\n",
       "      <th>21</th>\n",
       "      <td>63.png</td>\n",
       "      <td>[unlabeled, IntraObjectLabel, InterObjectLinka...</td>\n",
       "      <td>3B9J25CZ25EQ1LXOP9V49MUP6O2SCK</td>\n",
       "      <td>3Q5C1WP23M28V0N9NIYEOZWN2W115V</td>\n",
       "      <td>B5</td>\n",
       "      <td>AO235WMFCB1D9</td>\n",
       "      <td>[[0, 0], [8, 2], [12, 1], [18, 3]]</td>\n",
       "    </tr>\n",
       "    <tr>\n",
       "      <th>22</th>\n",
       "      <td>63.png</td>\n",
       "      <td>[unlabeled, IntraObjectLabel, IntraObjectLabel]</td>\n",
       "      <td>3B9J25CZ25EQ1LXOP9V49MUP6O2SCK</td>\n",
       "      <td>3Q5C1WP23M28V0N9NIYEOZWN2W115V</td>\n",
       "      <td>B6</td>\n",
       "      <td>AO235WMFCB1D9</td>\n",
       "      <td>[[0, 0], [9, 2], [11, 4]]</td>\n",
       "    </tr>\n",
       "    <tr>\n",
       "      <th>23</th>\n",
       "      <td>63.png</td>\n",
       "      <td>[unlabeled, IntraObjectLabel, IntraObjectLabel...</td>\n",
       "      <td>3B9J25CZ25EQ1LXOP9V49MUP6O2SCK</td>\n",
       "      <td>3Q5C1WP23M28V0N9NIYEOZWN2W115V</td>\n",
       "      <td>B7</td>\n",
       "      <td>AO235WMFCB1D9</td>\n",
       "      <td>[[0, 0], [10, 2], [11, 2], [17, 3]]</td>\n",
       "    </tr>\n",
       "    <tr>\n",
       "      <th>24</th>\n",
       "      <td>63.png</td>\n",
       "      <td>[unlabeled, IntraObjectLabel]</td>\n",
       "      <td>3B9J25CZ25EQ1LXOP9V49MUP6O2SCK</td>\n",
       "      <td>3Q5C1WP23M28V0N9NIYEOZWN2W115V</td>\n",
       "      <td>B0</td>\n",
       "      <td>AO235WMFCB1D9</td>\n",
       "      <td>[[0, 0], [7, 2]]</td>\n",
       "    </tr>\n",
       "    <tr>\n",
       "      <th>25</th>\n",
       "      <td>63.png</td>\n",
       "      <td>[unlabeled]</td>\n",
       "      <td>3B9J25CZ25EQ1LXOP9V49MUP6O2SCK</td>\n",
       "      <td>3Q5C1WP23M28V0N9NIYEOZWN2W115V</td>\n",
       "      <td>B1</td>\n",
       "      <td>AO235WMFCB1D9</td>\n",
       "      <td>[[0, 0]]</td>\n",
       "    </tr>\n",
       "    <tr>\n",
       "      <th>26</th>\n",
       "      <td>63.png</td>\n",
       "      <td>[unlabeled]</td>\n",
       "      <td>3B9J25CZ25EQ1LXOP9V49MUP6O2SCK</td>\n",
       "      <td>3Q5C1WP23M28V0N9NIYEOZWN2W115V</td>\n",
       "      <td>B2</td>\n",
       "      <td>AO235WMFCB1D9</td>\n",
       "      <td>[[0, 0]]</td>\n",
       "    </tr>\n",
       "    <tr>\n",
       "      <th>27</th>\n",
       "      <td>63.png</td>\n",
       "      <td>[unlabeled, InterObjectLinkage, InterObjectLin...</td>\n",
       "      <td>3B9J25CZ25EQ1LXOP9V49MUP6O2SCK</td>\n",
       "      <td>3Q5C1WP23M28V0N9NIYEOZWN2W115V</td>\n",
       "      <td>B3</td>\n",
       "      <td>AO235WMFCB1D9</td>\n",
       "      <td>[[0, 0], [12, 3], [13, 1]]</td>\n",
       "    </tr>\n",
       "    <tr>\n",
       "      <th>28</th>\n",
       "      <td>63.png</td>\n",
       "      <td>[unlabeled]</td>\n",
       "      <td>3B9J25CZ25EQ1LXOP9V49MUP6O2SCK</td>\n",
       "      <td>3Q5C1WP23M28V0N9NIYEOZWN2W115V</td>\n",
       "      <td>B8</td>\n",
       "      <td>AO235WMFCB1D9</td>\n",
       "      <td>[[0, 0]]</td>\n",
       "    </tr>\n",
       "    <tr>\n",
       "      <th>29</th>\n",
       "      <td>63.png</td>\n",
       "      <td>[unlabeled]</td>\n",
       "      <td>3B9J25CZ25EQ1LXOP9V49MUP6O2SCK</td>\n",
       "      <td>3Q5C1WP23M28V0N9NIYEOZWN2W115V</td>\n",
       "      <td>B9</td>\n",
       "      <td>AO235WMFCB1D9</td>\n",
       "      <td>[[0, 0]]</td>\n",
       "    </tr>\n",
       "    <tr>\n",
       "      <th>30</th>\n",
       "      <td>73.png</td>\n",
       "      <td>[unlabeled, arrowDescriptor, InterObjectLinkage]</td>\n",
       "      <td>3JHB4BPSFKACQ7B8LLW8CWEGIFEQ9C</td>\n",
       "      <td>3WJ1OXY92AHNC6JBHZYABKZH8G88AS</td>\n",
       "      <td>A1</td>\n",
       "      <td>AO235WMFCB1D9</td>\n",
       "      <td>[[0, 0], [4, 2], [7, 2]]</td>\n",
       "    </tr>\n",
       "    <tr>\n",
       "      <th>31</th>\n",
       "      <td>73.png</td>\n",
       "      <td>[unlabeled, arrowDescriptor, InterObjectLinkage]</td>\n",
       "      <td>3JHB4BPSFKACQ7B8LLW8CWEGIFEQ9C</td>\n",
       "      <td>3WJ1OXY92AHNC6JBHZYABKZH8G88AS</td>\n",
       "      <td>A0</td>\n",
       "      <td>AO235WMFCB1D9</td>\n",
       "      <td>[[0, 0], [3, 2], [8, 2]]</td>\n",
       "    </tr>\n",
       "    <tr>\n",
       "      <th>32</th>\n",
       "      <td>73.png</td>\n",
       "      <td>[unlabeled, arrowDescriptor]</td>\n",
       "      <td>3JHB4BPSFKACQ7B8LLW8CWEGIFEQ9C</td>\n",
       "      <td>3WJ1OXY92AHNC6JBHZYABKZH8G88AS</td>\n",
       "      <td>T4</td>\n",
       "      <td>AO235WMFCB1D9</td>\n",
       "      <td>[[0, 0], [1, 1]]</td>\n",
       "    </tr>\n",
       "    <tr>\n",
       "      <th>33</th>\n",
       "      <td>73.png</td>\n",
       "      <td>[unlabeled, arrowDescriptor, InterObjectLinkage]</td>\n",
       "      <td>3JHB4BPSFKACQ7B8LLW8CWEGIFEQ9C</td>\n",
       "      <td>3WJ1OXY92AHNC6JBHZYABKZH8G88AS</td>\n",
       "      <td>A4</td>\n",
       "      <td>AO235WMFCB1D9</td>\n",
       "      <td>[[0, 0], [5, 2], [9, 2]]</td>\n",
       "    </tr>\n",
       "    <tr>\n",
       "      <th>34</th>\n",
       "      <td>73.png</td>\n",
       "      <td>[unlabeled, arrowDescriptor, arrowDescriptor]</td>\n",
       "      <td>3JHB4BPSFKACQ7B8LLW8CWEGIFEQ9C</td>\n",
       "      <td>3WJ1OXY92AHNC6JBHZYABKZH8G88AS</td>\n",
       "      <td>T2</td>\n",
       "      <td>AO235WMFCB1D9</td>\n",
       "      <td>[[0, 0], [5, 1], [6, 1]]</td>\n",
       "    </tr>\n",
       "    <tr>\n",
       "      <th>35</th>\n",
       "      <td>73.png</td>\n",
       "      <td>[unlabeled, arrowDescriptor]</td>\n",
       "      <td>3JHB4BPSFKACQ7B8LLW8CWEGIFEQ9C</td>\n",
       "      <td>3WJ1OXY92AHNC6JBHZYABKZH8G88AS</td>\n",
       "      <td>T3</td>\n",
       "      <td>AO235WMFCB1D9</td>\n",
       "      <td>[[0, 0], [2, 1]]</td>\n",
       "    </tr>\n",
       "    <tr>\n",
       "      <th>36</th>\n",
       "      <td>73.png</td>\n",
       "      <td>[unlabeled, arrowDescriptor]</td>\n",
       "      <td>3JHB4BPSFKACQ7B8LLW8CWEGIFEQ9C</td>\n",
       "      <td>3WJ1OXY92AHNC6JBHZYABKZH8G88AS</td>\n",
       "      <td>T0</td>\n",
       "      <td>AO235WMFCB1D9</td>\n",
       "      <td>[[0, 0], [3, 1]]</td>\n",
       "    </tr>\n",
       "    <tr>\n",
       "      <th>37</th>\n",
       "      <td>73.png</td>\n",
       "      <td>[unlabeled, arrowDescriptor]</td>\n",
       "      <td>3JHB4BPSFKACQ7B8LLW8CWEGIFEQ9C</td>\n",
       "      <td>3WJ1OXY92AHNC6JBHZYABKZH8G88AS</td>\n",
       "      <td>T1</td>\n",
       "      <td>AO235WMFCB1D9</td>\n",
       "      <td>[[0, 0], [4, 1]]</td>\n",
       "    </tr>\n",
       "    <tr>\n",
       "      <th>38</th>\n",
       "      <td>73.png</td>\n",
       "      <td>[unlabeled, InterObjectLinkage, InterObjectLin...</td>\n",
       "      <td>3JHB4BPSFKACQ7B8LLW8CWEGIFEQ9C</td>\n",
       "      <td>3WJ1OXY92AHNC6JBHZYABKZH8G88AS</td>\n",
       "      <td>B4</td>\n",
       "      <td>AO235WMFCB1D9</td>\n",
       "      <td>[[0, 0], [11, 1], [12, 3]]</td>\n",
       "    </tr>\n",
       "    <tr>\n",
       "      <th>39</th>\n",
       "      <td>73.png</td>\n",
       "      <td>[unlabeled, InterObjectLinkage, InterObjectLin...</td>\n",
       "      <td>3JHB4BPSFKACQ7B8LLW8CWEGIFEQ9C</td>\n",
       "      <td>3WJ1OXY92AHNC6JBHZYABKZH8G88AS</td>\n",
       "      <td>B5</td>\n",
       "      <td>AO235WMFCB1D9</td>\n",
       "      <td>[[0, 0], [9, 3], [10, 3]]</td>\n",
       "    </tr>\n",
       "    <tr>\n",
       "      <th>40</th>\n",
       "      <td>73.png</td>\n",
       "      <td>[unlabeled, InterObjectLinkage, InterObjectLin...</td>\n",
       "      <td>3JHB4BPSFKACQ7B8LLW8CWEGIFEQ9C</td>\n",
       "      <td>3WJ1OXY92AHNC6JBHZYABKZH8G88AS</td>\n",
       "      <td>B6</td>\n",
       "      <td>AO235WMFCB1D9</td>\n",
       "      <td>[[0, 0], [7, 3], [8, 1]]</td>\n",
       "    </tr>\n",
       "    <tr>\n",
       "      <th>41</th>\n",
       "      <td>73.png</td>\n",
       "      <td>[unlabeled, InterObjectLinkage, InterObjectLin...</td>\n",
       "      <td>3JHB4BPSFKACQ7B8LLW8CWEGIFEQ9C</td>\n",
       "      <td>3WJ1OXY92AHNC6JBHZYABKZH8G88AS</td>\n",
       "      <td>B7</td>\n",
       "      <td>AO235WMFCB1D9</td>\n",
       "      <td>[[0, 0], [11, 3], [12, 1]]</td>\n",
       "    </tr>\n",
       "    <tr>\n",
       "      <th>42</th>\n",
       "      <td>73.png</td>\n",
       "      <td>[unlabeled, InterObjectLinkage, InterObjectLin...</td>\n",
       "      <td>3JHB4BPSFKACQ7B8LLW8CWEGIFEQ9C</td>\n",
       "      <td>3WJ1OXY92AHNC6JBHZYABKZH8G88AS</td>\n",
       "      <td>B0</td>\n",
       "      <td>AO235WMFCB1D9</td>\n",
       "      <td>[[0, 0], [7, 1], [8, 3]]</td>\n",
       "    </tr>\n",
       "    <tr>\n",
       "      <th>43</th>\n",
       "      <td>73.png</td>\n",
       "      <td>[unlabeled]</td>\n",
       "      <td>3JHB4BPSFKACQ7B8LLW8CWEGIFEQ9C</td>\n",
       "      <td>3WJ1OXY92AHNC6JBHZYABKZH8G88AS</td>\n",
       "      <td>B1</td>\n",
       "      <td>AO235WMFCB1D9</td>\n",
       "      <td>[[0, 0]]</td>\n",
       "    </tr>\n",
       "    <tr>\n",
       "      <th>44</th>\n",
       "      <td>73.png</td>\n",
       "      <td>[unlabeled]</td>\n",
       "      <td>3JHB4BPSFKACQ7B8LLW8CWEGIFEQ9C</td>\n",
       "      <td>3WJ1OXY92AHNC6JBHZYABKZH8G88AS</td>\n",
       "      <td>B2</td>\n",
       "      <td>AO235WMFCB1D9</td>\n",
       "      <td>[[0, 0]]</td>\n",
       "    </tr>\n",
       "    <tr>\n",
       "      <th>45</th>\n",
       "      <td>73.png</td>\n",
       "      <td>[unlabeled]</td>\n",
       "      <td>3JHB4BPSFKACQ7B8LLW8CWEGIFEQ9C</td>\n",
       "      <td>3WJ1OXY92AHNC6JBHZYABKZH8G88AS</td>\n",
       "      <td>B3</td>\n",
       "      <td>AO235WMFCB1D9</td>\n",
       "      <td>[[0, 0]]</td>\n",
       "    </tr>\n",
       "    <tr>\n",
       "      <th>46</th>\n",
       "      <td>73.png</td>\n",
       "      <td>[unlabeled, arrowDescriptor, InterObjectLinkage]</td>\n",
       "      <td>3JHB4BPSFKACQ7B8LLW8CWEGIFEQ9C</td>\n",
       "      <td>3WJ1OXY92AHNC6JBHZYABKZH8G88AS</td>\n",
       "      <td>A5</td>\n",
       "      <td>AO235WMFCB1D9</td>\n",
       "      <td>[[0, 0], [6, 2], [10, 2]]</td>\n",
       "    </tr>\n",
       "    <tr>\n",
       "      <th>47</th>\n",
       "      <td>73.png</td>\n",
       "      <td>[unlabeled]</td>\n",
       "      <td>3JHB4BPSFKACQ7B8LLW8CWEGIFEQ9C</td>\n",
       "      <td>3WJ1OXY92AHNC6JBHZYABKZH8G88AS</td>\n",
       "      <td>B8</td>\n",
       "      <td>AO235WMFCB1D9</td>\n",
       "      <td>[[0, 0]]</td>\n",
       "    </tr>\n",
       "    <tr>\n",
       "      <th>48</th>\n",
       "      <td>73.png</td>\n",
       "      <td>[unlabeled, arrowDescriptor, InterObjectLinkage]</td>\n",
       "      <td>3JHB4BPSFKACQ7B8LLW8CWEGIFEQ9C</td>\n",
       "      <td>3WJ1OXY92AHNC6JBHZYABKZH8G88AS</td>\n",
       "      <td>A2</td>\n",
       "      <td>AO235WMFCB1D9</td>\n",
       "      <td>[[0, 0], [2, 2], [12, 2]]</td>\n",
       "    </tr>\n",
       "    <tr>\n",
       "      <th>49</th>\n",
       "      <td>73.png</td>\n",
       "      <td>[unlabeled, InterObjectLinkage, InterObjectLin...</td>\n",
       "      <td>3JHB4BPSFKACQ7B8LLW8CWEGIFEQ9C</td>\n",
       "      <td>3WJ1OXY92AHNC6JBHZYABKZH8G88AS</td>\n",
       "      <td>G0</td>\n",
       "      <td>AO235WMFCB1D9</td>\n",
       "      <td>[[0, 0], [9, 1], [10, 1]]</td>\n",
       "    </tr>\n",
       "  </tbody>\n",
       "</table>\n",
       "</div>"
      ],
      "text/plain": [
       "      page                                           category  \\\n",
       "0   63.png                      [unlabeled, IntraObjectLabel]   \n",
       "1   63.png                       [unlabeled, arrowDescriptor]   \n",
       "2   63.png                      [unlabeled, IntraObjectLabel]   \n",
       "3   63.png                      [unlabeled, IntraObjectLabel]   \n",
       "4   63.png   [unlabeled, arrowDescriptor, InterObjectLinkage]   \n",
       "5   63.png   [unlabeled, arrowDescriptor, InterObjectLinkage]   \n",
       "6   63.png   [unlabeled, arrowDescriptor, InterObjectLinkage]   \n",
       "7   63.png   [unlabeled, arrowDescriptor, InterObjectLinkage]   \n",
       "8   63.png                    [unlabeled, InterObjectLinkage]   \n",
       "9   63.png   [unlabeled, arrowDescriptor, InterObjectLinkage]   \n",
       "10  63.png                      [unlabeled, IntraObjectLabel]   \n",
       "11  63.png                      [unlabeled, IntraObjectLabel]   \n",
       "12  63.png                       [unlabeled, arrowDescriptor]   \n",
       "13  63.png                      [unlabeled, IntraObjectLabel]   \n",
       "14  63.png                       [unlabeled, arrowDescriptor]   \n",
       "15  63.png                       [unlabeled, arrowDescriptor]   \n",
       "16  63.png                       [unlabeled, arrowDescriptor]   \n",
       "17  63.png  [unlabeled, InterObjectLinkage, InterObjectLin...   \n",
       "18  63.png                            [unlabeled, imageTitle]   \n",
       "19  63.png                      [unlabeled, IntraObjectLabel]   \n",
       "20  63.png  [unlabeled, InterObjectLinkage, IntraObjectLab...   \n",
       "21  63.png  [unlabeled, IntraObjectLabel, InterObjectLinka...   \n",
       "22  63.png    [unlabeled, IntraObjectLabel, IntraObjectLabel]   \n",
       "23  63.png  [unlabeled, IntraObjectLabel, IntraObjectLabel...   \n",
       "24  63.png                      [unlabeled, IntraObjectLabel]   \n",
       "25  63.png                                        [unlabeled]   \n",
       "26  63.png                                        [unlabeled]   \n",
       "27  63.png  [unlabeled, InterObjectLinkage, InterObjectLin...   \n",
       "28  63.png                                        [unlabeled]   \n",
       "29  63.png                                        [unlabeled]   \n",
       "30  73.png   [unlabeled, arrowDescriptor, InterObjectLinkage]   \n",
       "31  73.png   [unlabeled, arrowDescriptor, InterObjectLinkage]   \n",
       "32  73.png                       [unlabeled, arrowDescriptor]   \n",
       "33  73.png   [unlabeled, arrowDescriptor, InterObjectLinkage]   \n",
       "34  73.png      [unlabeled, arrowDescriptor, arrowDescriptor]   \n",
       "35  73.png                       [unlabeled, arrowDescriptor]   \n",
       "36  73.png                       [unlabeled, arrowDescriptor]   \n",
       "37  73.png                       [unlabeled, arrowDescriptor]   \n",
       "38  73.png  [unlabeled, InterObjectLinkage, InterObjectLin...   \n",
       "39  73.png  [unlabeled, InterObjectLinkage, InterObjectLin...   \n",
       "40  73.png  [unlabeled, InterObjectLinkage, InterObjectLin...   \n",
       "41  73.png  [unlabeled, InterObjectLinkage, InterObjectLin...   \n",
       "42  73.png  [unlabeled, InterObjectLinkage, InterObjectLin...   \n",
       "43  73.png                                        [unlabeled]   \n",
       "44  73.png                                        [unlabeled]   \n",
       "45  73.png                                        [unlabeled]   \n",
       "46  73.png   [unlabeled, arrowDescriptor, InterObjectLinkage]   \n",
       "47  73.png                                        [unlabeled]   \n",
       "48  73.png   [unlabeled, arrowDescriptor, InterObjectLinkage]   \n",
       "49  73.png  [unlabeled, InterObjectLinkage, InterObjectLin...   \n",
       "\n",
       "                            hit_id                   assignment_id   id  \\\n",
       "0   3B9J25CZ25EQ1LXOP9V49MUP6O2SCK  3Q5C1WP23M28V0N9NIYEOZWN2W115V  T10   \n",
       "1   3B9J25CZ25EQ1LXOP9V49MUP6O2SCK  3Q5C1WP23M28V0N9NIYEOZWN2W115V  T11   \n",
       "2   3B9J25CZ25EQ1LXOP9V49MUP6O2SCK  3Q5C1WP23M28V0N9NIYEOZWN2W115V  T12   \n",
       "3   3B9J25CZ25EQ1LXOP9V49MUP6O2SCK  3Q5C1WP23M28V0N9NIYEOZWN2W115V  T13   \n",
       "4   3B9J25CZ25EQ1LXOP9V49MUP6O2SCK  3Q5C1WP23M28V0N9NIYEOZWN2W115V   A1   \n",
       "5   3B9J25CZ25EQ1LXOP9V49MUP6O2SCK  3Q5C1WP23M28V0N9NIYEOZWN2W115V   A0   \n",
       "6   3B9J25CZ25EQ1LXOP9V49MUP6O2SCK  3Q5C1WP23M28V0N9NIYEOZWN2W115V   A3   \n",
       "7   3B9J25CZ25EQ1LXOP9V49MUP6O2SCK  3Q5C1WP23M28V0N9NIYEOZWN2W115V   A2   \n",
       "8   3B9J25CZ25EQ1LXOP9V49MUP6O2SCK  3Q5C1WP23M28V0N9NIYEOZWN2W115V   A5   \n",
       "9   3B9J25CZ25EQ1LXOP9V49MUP6O2SCK  3Q5C1WP23M28V0N9NIYEOZWN2W115V   A6   \n",
       "10  3B9J25CZ25EQ1LXOP9V49MUP6O2SCK  3Q5C1WP23M28V0N9NIYEOZWN2W115V   T8   \n",
       "11  3B9J25CZ25EQ1LXOP9V49MUP6O2SCK  3Q5C1WP23M28V0N9NIYEOZWN2W115V   T9   \n",
       "12  3B9J25CZ25EQ1LXOP9V49MUP6O2SCK  3Q5C1WP23M28V0N9NIYEOZWN2W115V   T6   \n",
       "13  3B9J25CZ25EQ1LXOP9V49MUP6O2SCK  3Q5C1WP23M28V0N9NIYEOZWN2W115V   T7   \n",
       "14  3B9J25CZ25EQ1LXOP9V49MUP6O2SCK  3Q5C1WP23M28V0N9NIYEOZWN2W115V   T4   \n",
       "15  3B9J25CZ25EQ1LXOP9V49MUP6O2SCK  3Q5C1WP23M28V0N9NIYEOZWN2W115V   T5   \n",
       "16  3B9J25CZ25EQ1LXOP9V49MUP6O2SCK  3Q5C1WP23M28V0N9NIYEOZWN2W115V   T2   \n",
       "17  3B9J25CZ25EQ1LXOP9V49MUP6O2SCK  3Q5C1WP23M28V0N9NIYEOZWN2W115V   T3   \n",
       "18  3B9J25CZ25EQ1LXOP9V49MUP6O2SCK  3Q5C1WP23M28V0N9NIYEOZWN2W115V   T0   \n",
       "19  3B9J25CZ25EQ1LXOP9V49MUP6O2SCK  3Q5C1WP23M28V0N9NIYEOZWN2W115V   T1   \n",
       "20  3B9J25CZ25EQ1LXOP9V49MUP6O2SCK  3Q5C1WP23M28V0N9NIYEOZWN2W115V   B4   \n",
       "21  3B9J25CZ25EQ1LXOP9V49MUP6O2SCK  3Q5C1WP23M28V0N9NIYEOZWN2W115V   B5   \n",
       "22  3B9J25CZ25EQ1LXOP9V49MUP6O2SCK  3Q5C1WP23M28V0N9NIYEOZWN2W115V   B6   \n",
       "23  3B9J25CZ25EQ1LXOP9V49MUP6O2SCK  3Q5C1WP23M28V0N9NIYEOZWN2W115V   B7   \n",
       "24  3B9J25CZ25EQ1LXOP9V49MUP6O2SCK  3Q5C1WP23M28V0N9NIYEOZWN2W115V   B0   \n",
       "25  3B9J25CZ25EQ1LXOP9V49MUP6O2SCK  3Q5C1WP23M28V0N9NIYEOZWN2W115V   B1   \n",
       "26  3B9J25CZ25EQ1LXOP9V49MUP6O2SCK  3Q5C1WP23M28V0N9NIYEOZWN2W115V   B2   \n",
       "27  3B9J25CZ25EQ1LXOP9V49MUP6O2SCK  3Q5C1WP23M28V0N9NIYEOZWN2W115V   B3   \n",
       "28  3B9J25CZ25EQ1LXOP9V49MUP6O2SCK  3Q5C1WP23M28V0N9NIYEOZWN2W115V   B8   \n",
       "29  3B9J25CZ25EQ1LXOP9V49MUP6O2SCK  3Q5C1WP23M28V0N9NIYEOZWN2W115V   B9   \n",
       "30  3JHB4BPSFKACQ7B8LLW8CWEGIFEQ9C  3WJ1OXY92AHNC6JBHZYABKZH8G88AS   A1   \n",
       "31  3JHB4BPSFKACQ7B8LLW8CWEGIFEQ9C  3WJ1OXY92AHNC6JBHZYABKZH8G88AS   A0   \n",
       "32  3JHB4BPSFKACQ7B8LLW8CWEGIFEQ9C  3WJ1OXY92AHNC6JBHZYABKZH8G88AS   T4   \n",
       "33  3JHB4BPSFKACQ7B8LLW8CWEGIFEQ9C  3WJ1OXY92AHNC6JBHZYABKZH8G88AS   A4   \n",
       "34  3JHB4BPSFKACQ7B8LLW8CWEGIFEQ9C  3WJ1OXY92AHNC6JBHZYABKZH8G88AS   T2   \n",
       "35  3JHB4BPSFKACQ7B8LLW8CWEGIFEQ9C  3WJ1OXY92AHNC6JBHZYABKZH8G88AS   T3   \n",
       "36  3JHB4BPSFKACQ7B8LLW8CWEGIFEQ9C  3WJ1OXY92AHNC6JBHZYABKZH8G88AS   T0   \n",
       "37  3JHB4BPSFKACQ7B8LLW8CWEGIFEQ9C  3WJ1OXY92AHNC6JBHZYABKZH8G88AS   T1   \n",
       "38  3JHB4BPSFKACQ7B8LLW8CWEGIFEQ9C  3WJ1OXY92AHNC6JBHZYABKZH8G88AS   B4   \n",
       "39  3JHB4BPSFKACQ7B8LLW8CWEGIFEQ9C  3WJ1OXY92AHNC6JBHZYABKZH8G88AS   B5   \n",
       "40  3JHB4BPSFKACQ7B8LLW8CWEGIFEQ9C  3WJ1OXY92AHNC6JBHZYABKZH8G88AS   B6   \n",
       "41  3JHB4BPSFKACQ7B8LLW8CWEGIFEQ9C  3WJ1OXY92AHNC6JBHZYABKZH8G88AS   B7   \n",
       "42  3JHB4BPSFKACQ7B8LLW8CWEGIFEQ9C  3WJ1OXY92AHNC6JBHZYABKZH8G88AS   B0   \n",
       "43  3JHB4BPSFKACQ7B8LLW8CWEGIFEQ9C  3WJ1OXY92AHNC6JBHZYABKZH8G88AS   B1   \n",
       "44  3JHB4BPSFKACQ7B8LLW8CWEGIFEQ9C  3WJ1OXY92AHNC6JBHZYABKZH8G88AS   B2   \n",
       "45  3JHB4BPSFKACQ7B8LLW8CWEGIFEQ9C  3WJ1OXY92AHNC6JBHZYABKZH8G88AS   B3   \n",
       "46  3JHB4BPSFKACQ7B8LLW8CWEGIFEQ9C  3WJ1OXY92AHNC6JBHZYABKZH8G88AS   A5   \n",
       "47  3JHB4BPSFKACQ7B8LLW8CWEGIFEQ9C  3WJ1OXY92AHNC6JBHZYABKZH8G88AS   B8   \n",
       "48  3JHB4BPSFKACQ7B8LLW8CWEGIFEQ9C  3WJ1OXY92AHNC6JBHZYABKZH8G88AS   A2   \n",
       "49  3JHB4BPSFKACQ7B8LLW8CWEGIFEQ9C  3WJ1OXY92AHNC6JBHZYABKZH8G88AS   G0   \n",
       "\n",
       "        worker_id                                       group_n  \n",
       "0   AO235WMFCB1D9                             [[0, 0], [11, 3]]  \n",
       "1   AO235WMFCB1D9                              [[0, 0], [6, 1]]  \n",
       "2   AO235WMFCB1D9                             [[0, 0], [10, 1]]  \n",
       "3   AO235WMFCB1D9                             [[0, 0], [11, 1]]  \n",
       "4   AO235WMFCB1D9                     [[0, 0], [3, 2], [14, 2]]  \n",
       "5   AO235WMFCB1D9                     [[0, 0], [2, 1], [13, 2]]  \n",
       "6   AO235WMFCB1D9                     [[0, 0], [5, 1], [17, 2]]  \n",
       "7   AO235WMFCB1D9                     [[0, 0], [4, 2], [16, 2]]  \n",
       "8   AO235WMFCB1D9                             [[0, 0], [12, 2]]  \n",
       "9   AO235WMFCB1D9                     [[0, 0], [6, 2], [18, 2]]  \n",
       "10  AO235WMFCB1D9                              [[0, 0], [8, 1]]  \n",
       "11  AO235WMFCB1D9                              [[0, 0], [9, 1]]  \n",
       "12  AO235WMFCB1D9                              [[0, 0], [5, 2]]  \n",
       "13  AO235WMFCB1D9                             [[0, 0], [15, 1]]  \n",
       "14  AO235WMFCB1D9                              [[0, 0], [3, 1]]  \n",
       "15  AO235WMFCB1D9                              [[0, 0], [4, 1]]  \n",
       "16  AO235WMFCB1D9                              [[0, 0], [2, 2]]  \n",
       "17  AO235WMFCB1D9  [[0, 0], [13, 3], [14, 1], [16, 3], [17, 1]]  \n",
       "18  AO235WMFCB1D9                              [[0, 0], [1, 1]]  \n",
       "19  AO235WMFCB1D9                              [[0, 0], [7, 1]]  \n",
       "20  AO235WMFCB1D9  [[0, 0], [14, 3], [15, 2], [16, 1], [18, 1]]  \n",
       "21  AO235WMFCB1D9            [[0, 0], [8, 2], [12, 1], [18, 3]]  \n",
       "22  AO235WMFCB1D9                     [[0, 0], [9, 2], [11, 4]]  \n",
       "23  AO235WMFCB1D9           [[0, 0], [10, 2], [11, 2], [17, 3]]  \n",
       "24  AO235WMFCB1D9                              [[0, 0], [7, 2]]  \n",
       "25  AO235WMFCB1D9                                      [[0, 0]]  \n",
       "26  AO235WMFCB1D9                                      [[0, 0]]  \n",
       "27  AO235WMFCB1D9                    [[0, 0], [12, 3], [13, 1]]  \n",
       "28  AO235WMFCB1D9                                      [[0, 0]]  \n",
       "29  AO235WMFCB1D9                                      [[0, 0]]  \n",
       "30  AO235WMFCB1D9                      [[0, 0], [4, 2], [7, 2]]  \n",
       "31  AO235WMFCB1D9                      [[0, 0], [3, 2], [8, 2]]  \n",
       "32  AO235WMFCB1D9                              [[0, 0], [1, 1]]  \n",
       "33  AO235WMFCB1D9                      [[0, 0], [5, 2], [9, 2]]  \n",
       "34  AO235WMFCB1D9                      [[0, 0], [5, 1], [6, 1]]  \n",
       "35  AO235WMFCB1D9                              [[0, 0], [2, 1]]  \n",
       "36  AO235WMFCB1D9                              [[0, 0], [3, 1]]  \n",
       "37  AO235WMFCB1D9                              [[0, 0], [4, 1]]  \n",
       "38  AO235WMFCB1D9                    [[0, 0], [11, 1], [12, 3]]  \n",
       "39  AO235WMFCB1D9                     [[0, 0], [9, 3], [10, 3]]  \n",
       "40  AO235WMFCB1D9                      [[0, 0], [7, 3], [8, 1]]  \n",
       "41  AO235WMFCB1D9                    [[0, 0], [11, 3], [12, 1]]  \n",
       "42  AO235WMFCB1D9                      [[0, 0], [7, 1], [8, 3]]  \n",
       "43  AO235WMFCB1D9                                      [[0, 0]]  \n",
       "44  AO235WMFCB1D9                                      [[0, 0]]  \n",
       "45  AO235WMFCB1D9                                      [[0, 0]]  \n",
       "46  AO235WMFCB1D9                     [[0, 0], [6, 2], [10, 2]]  \n",
       "47  AO235WMFCB1D9                                      [[0, 0]]  \n",
       "48  AO235WMFCB1D9                     [[0, 0], [2, 2], [12, 2]]  \n",
       "49  AO235WMFCB1D9                     [[0, 0], [9, 1], [10, 1]]  "
      ]
     },
     "execution_count": 271,
     "metadata": {},
     "output_type": "execute_result"
    }
   ],
   "source": [
    "results_df_shining_batch.head(50)"
   ]
  },
  {
   "cell_type": "code",
   "execution_count": 352,
   "metadata": {
    "collapsed": true,
    "run_control": {
     "frozen": false,
     "read_only": false
    }
   },
   "outputs": [],
   "source": [
    "anno_dir = './simpleAnnotations/'\n",
    "new_anno_dir = './newAnnotations/'"
   ]
  },
  {
   "cell_type": "code",
   "execution_count": 356,
   "metadata": {
    "collapsed": false,
    "run_control": {
     "frozen": false,
     "read_only": false
    }
   },
   "outputs": [],
   "source": [
    "# _ = results_df_shining_batch.groupby('page').apply(rbuild.build_and_write_relationships, anno_dir, new_anno_dir)"
   ]
  },
  {
   "cell_type": "markdown",
   "metadata": {},
   "source": [
    "Write to record of completed images"
   ]
  },
  {
   "cell_type": "code",
   "execution_count": 318,
   "metadata": {
    "code_folding": [],
    "collapsed": false,
    "run_control": {
     "frozen": false,
     "read_only": false
    }
   },
   "outputs": [],
   "source": [
    "# pd.Series(pd.unique(results_df_shining_batch['page'])).to_csv('completed_images.csv', mode='a', index=False)"
   ]
  },
  {
   "cell_type": "markdown",
   "metadata": {
    "heading_collapsed": true
   },
   "source": [
    "### consensus"
   ]
  },
  {
   "cell_type": "code",
   "execution_count": 237,
   "metadata": {
    "collapsed": true,
    "hidden": true,
    "run_control": {
     "frozen": false,
     "read_only": false
    }
   },
   "outputs": [],
   "source": [
    "# results_df_question_batch['group_memberships'] = results_df_question_batch['g_list'].apply(lambda x:[el[0] for el in x if el[0] > 0])"
   ]
  },
  {
   "cell_type": "code",
   "execution_count": 158,
   "metadata": {
    "collapsed": false,
    "hidden": true,
    "run_control": {
     "frozen": false,
     "read_only": false
    }
   },
   "outputs": [],
   "source": [
    "# consensus_results_df_current_batch = amt_util.make_consensus_df(results_df_question_batch, 'No Consensus')"
   ]
  },
  {
   "cell_type": "code",
   "execution_count": 319,
   "metadata": {
    "collapsed": true,
    "hidden": true,
    "run_control": {
     "frozen": false,
     "read_only": false
    }
   },
   "outputs": [],
   "source": [
    "question_cats = ['Multiple Choice',\n",
    "                 'Fill-in-the-Blank',\n",
    "                 'Short Answer',\n",
    "                 'Discussion']"
   ]
  },
  {
   "cell_type": "code",
   "execution_count": 332,
   "metadata": {
    "collapsed": false,
    "hidden": true,
    "run_control": {
     "frozen": false,
     "read_only": false
    }
   },
   "outputs": [],
   "source": [
    "question_only_cons_df = consensus_results_df_current_batch[consensus_results_df_current_batch['box_id'].apply(lambda x:x[0] == 'Q' ) | consensus_results_df_current_batch['category'].isin(question_cats)]"
   ]
  },
  {
   "cell_type": "code",
   "execution_count": 312,
   "metadata": {
    "collapsed": false,
    "hidden": true,
    "run_control": {
     "frozen": false,
     "read_only": false
    }
   },
   "outputs": [],
   "source": [
    "no_consensus_hits_cat = consensus_results_df_current_batch[consensus_results_df_current_batch['category'] == 'No Consensus']\n",
    "\n",
    "flaw_rate = len(no_consensus_hits_cat) / len(consensus_results_df_current_batch)\n",
    "print 'question boxes without category consensus comprise ' + '{0:0.2f}% '.format(flaw_rate * 100) + 'of the total'  "
   ]
  },
  {
   "cell_type": "markdown",
   "metadata": {
    "hidden": true
   },
   "source": [
    "These numbers differ because-\n",
    "1. The first counts non-con results from the first round (non-question results)\n",
    "\n",
    "2. The second counts only boxes either previously marked as a question, or selected in ths round"
   ]
  },
  {
   "cell_type": "code",
   "execution_count": 338,
   "metadata": {
    "collapsed": false,
    "hidden": true,
    "run_control": {
     "frozen": false,
     "read_only": false
    }
   },
   "outputs": [],
   "source": [
    "no_consensus_hits_cat = question_only_cons_df[question_only_cons_df['category'] == 'No Consensus']\n",
    "\n",
    "flaw_rate = len(no_consensus_hits_cat) / len(question_only_cons_df)\n",
    "print 'question boxes without category consensus comprise ' + '{0:0.2f}% '.format(flaw_rate * 100) + 'of the total'  "
   ]
  },
  {
   "cell_type": "code",
   "execution_count": 315,
   "metadata": {
    "collapsed": false,
    "hidden": true,
    "run_control": {
     "frozen": false,
     "read_only": false
    },
    "scrolled": true
   },
   "outputs": [],
   "source": [
    "amt_util.write_results_df(consensus_results_df_current_batch, 'annotations-w-questions/', 'simpler-test-questions/')"
   ]
  },
  {
   "cell_type": "code",
   "execution_count": 317,
   "metadata": {
    "collapsed": false,
    "hidden": true,
    "run_control": {
     "frozen": false,
     "read_only": false
    }
   },
   "outputs": [],
   "source": [
    "# consensus_results_df_current_batch[consensus_results_df_current_batch['page'] == 'Spectrum_Science_Grade_8_8.jpeg']"
   ]
  },
  {
   "cell_type": "markdown",
   "metadata": {
    "heading_collapsed": true
   },
   "source": [
    "## **sending to review tool**"
   ]
  },
  {
   "cell_type": "markdown",
   "metadata": {
    "heading_collapsed": true,
    "hidden": true
   },
   "source": [
    "### randomly sampling HITs "
   ]
  },
  {
   "cell_type": "code",
   "execution_count": 375,
   "metadata": {
    "collapsed": true,
    "hidden": true,
    "run_control": {
     "frozen": false,
     "read_only": false
    }
   },
   "outputs": [],
   "source": [
    "pages_to_review = np.unique(consensus_results_df_current_batch['page'])"
   ]
  },
  {
   "cell_type": "code",
   "execution_count": 376,
   "metadata": {
    "collapsed": false,
    "hidden": true,
    "run_control": {
     "frozen": false,
     "read_only": false
    }
   },
   "outputs": [],
   "source": [
    "sampling_rate = 0.1\n",
    "sample_size = int(len(pages_to_review) * sampling_rate)\n",
    "sampled_pages_to_review = list(np.random.choice(pages_to_review, size= sample_size, replace=False))\n",
    "print 'sampling ' + str(sample_size) + ' pages out of ' + str(len(pages_to_review))\n",
    "to_review = ['start_seq'] + sampled_pages_to_review"
   ]
  },
  {
   "cell_type": "code",
   "execution_count": 377,
   "metadata": {
    "collapsed": false,
    "hidden": true,
    "run_control": {
     "frozen": false,
     "read_only": false
    }
   },
   "outputs": [],
   "source": [
    "anno_dir = 'simpler-test-questions/'\n",
    "amt_util.review_results(to_review, anno_dir)\n",
    "print 'posting to review tool, navigate to http://localhost:8080/ to see the sampled consensus results'"
   ]
  },
  {
   "cell_type": "markdown",
   "metadata": {
    "heading_collapsed": true,
    "hidden": true
   },
   "source": [
    "### sampling no consensus"
   ]
  },
  {
   "cell_type": "code",
   "execution_count": 378,
   "metadata": {
    "collapsed": true,
    "hidden": true,
    "run_control": {
     "frozen": false,
     "read_only": false
    }
   },
   "outputs": [],
   "source": [
    "pages_to_review =pd.unique(no_consensus_hits_cat['page'])"
   ]
  },
  {
   "cell_type": "code",
   "execution_count": 379,
   "metadata": {
    "collapsed": false,
    "hidden": true,
    "run_control": {
     "frozen": false,
     "read_only": false
    }
   },
   "outputs": [],
   "source": [
    "sampling_rate = 0.5\n",
    "sample_size = int(len(pages_to_review) * sampling_rate)\n",
    "sampled_pages_to_review = list(np.random.choice(pages_to_review, size= sample_size, replace=False))\n",
    "print 'sampling ' + str(sample_size) + ' pages out of ' + str(len(pages_to_review))\n",
    "to_review = ['start_seq'] + sampled_pages_to_review"
   ]
  },
  {
   "cell_type": "code",
   "execution_count": 380,
   "metadata": {
    "collapsed": false,
    "hidden": true,
    "run_control": {
     "frozen": false,
     "read_only": false
    }
   },
   "outputs": [],
   "source": [
    "anno_dir = 'simpler-test-questions/'\n",
    "amt_util.review_results(to_review, anno_dir)\n",
    "print 'posting to review tool, navigate to http://localhost:8080/ to see the sampled consensus results'"
   ]
  },
  {
   "cell_type": "markdown",
   "metadata": {
    "heading_collapsed": true,
    "hidden": true
   },
   "source": [
    "### looking at individual workers"
   ]
  },
  {
   "cell_type": "code",
   "execution_count": 276,
   "metadata": {
    "collapsed": true,
    "hidden": true,
    "run_control": {
     "frozen": false,
     "read_only": false
    }
   },
   "outputs": [],
   "source": [
    "ind_worker_dir = 'individual-worker-results/'"
   ]
  },
  {
   "cell_type": "code",
   "execution_count": 342,
   "metadata": {
    "collapsed": false,
    "hidden": true,
    "run_control": {
     "frozen": false,
     "read_only": false
    }
   },
   "outputs": [],
   "source": [
    "bad_and_prolific_to_review"
   ]
  },
  {
   "cell_type": "code",
   "execution_count": 384,
   "metadata": {
    "collapsed": false,
    "hidden": true,
    "run_control": {
     "frozen": false,
     "read_only": false
    }
   },
   "outputs": [],
   "source": [
    "# workers_to_review = turkers_contacted_me[:1]\n",
    "workers_to_review = really_bad_workers_to_review\n",
    "subset_by_worker = results_df_question_batch[results_df_question_batch['worker_id'].isin(workers_to_review)]\n",
    "\n",
    "amt_util.write_results_df(subset_by_worker, 'annotations-w-questions/', ind_worker_dir)\n",
    "pages_to_review = pd.unique(subset_by_worker['page']).tolist()\n",
    "to_review = ['start_seq'] + pages_to_review "
   ]
  },
  {
   "cell_type": "code",
   "execution_count": 383,
   "metadata": {
    "collapsed": false,
    "hidden": true,
    "run_control": {
     "frozen": false,
     "read_only": false
    }
   },
   "outputs": [],
   "source": [
    "anno_dir = ind_worker_dir\n",
    "amt_util.review_results(to_review, anno_dir)\n",
    "print 'posting to review tool, navigate to http://localhost:8080/ to see the sampled consensus results'"
   ]
  },
  {
   "cell_type": "markdown",
   "metadata": {
    "heading_collapsed": true,
    "hidden": true
   },
   "source": [
    "### store cells"
   ]
  },
  {
   "cell_type": "code",
   "execution_count": 207,
   "metadata": {
    "collapsed": true,
    "hidden": true,
    "run_control": {
     "frozen": false,
     "read_only": false
    }
   },
   "outputs": [],
   "source": [
    "multi_choice_pages = consensus_results_df_complete[consensus_results_df_complete['category'] == 'Multiple Choice']\n",
    "pages_to_review =pd.unique(multi_choice_pages['page'])\n",
    "to_review = ['start_seq'] + pages_to_review.tolist()\n",
    "\n",
    "# consensus_results_df_complete = amt_util.make_consensus_df(results_df_question_batch, 'No Consensus')\n",
    "consensus_results_df_complete = combined_consensus_df\n",
    "\n",
    "# amt_util.write_results_df(consensus_results_df_complete, 'annotations-w-questions/' ,'labeled-questions/')\n",
    "\n",
    "spdf = results_df_question_batch[results_df_question_batch['page'] == 'Spectrum_Science_Grade_3_80.jpeg']\n",
    "\n",
    "amt_util.write_results_df(spdf, 'annotations-w-questions/', 'simpler-test-questions/')\n",
    "\n",
    "## all pages from the latest batch\n",
    "pages_to_review =pd.unique(consensus_results_df_complete['page'])\n",
    "to_review = ['start_seq'] + pages_to_review.tolist()\n",
    "\n",
    "# all pages from the latest batch with a no-consensus box\n",
    "# pages_to_review =pd.unique(no_consensus_hits['page'])\n",
    "\n",
    "pd.Series(to_review[1:]).to_pickle('rev_seq.pkl')\n",
    "\n",
    "single_page = ['Daily_Science_Grade_2_Evan_Moor_33.jpeg']\n",
    "\n",
    "problem_pages = pd.read_pickle('problem_pages.pkl').tolist()\n",
    "\n",
    "to_review = ['start_seq'] + problem_pages\n",
    "\n",
    "to_review = ['start_seq'] + single_page\n",
    "\n",
    "suspect_subset = combined_results_df[combined_results_df['worker_id'].isin(bad_and_prolific_to_review)]\n",
    "# suspect_subset = combined_results_df[combined_results_df['worker_id'].isin(['A3VE5OH94HYHET'])]\n",
    "amt_util.write_results_df(suspect_subset, 'annotations-w-questions/' ,'labeled-questions2/')\n",
    "pages_to_review = pd.unique(suspect_subset['page'])"
   ]
  },
  {
   "cell_type": "code",
   "execution_count": 150,
   "metadata": {
    "collapsed": true,
    "hidden": true,
    "run_control": {
     "frozen": false,
     "read_only": false
    }
   },
   "outputs": [],
   "source": [
    "## all pages from the latest batch\n",
    "pages_to_review =pd.unique(results_df_question_batch['page'])\n",
    "to_review = ['start_seq'] + pages_to_review.tolist()"
   ]
  },
  {
   "cell_type": "code",
   "execution_count": null,
   "metadata": {
    "collapsed": true,
    "hidden": true,
    "run_control": {
     "frozen": false,
     "read_only": false
    }
   },
   "outputs": [],
   "source": [
    "%%capture \n",
    "# all pages from the latest batch with a no-consensus box\n",
    "suspect_subset = results_df_current_batch[results_df_current_batch['worker_id'].isin(suspect_workers[:5])]\n",
    "amt_util.write_results_df(suspect_subset)\n",
    "pages_to_review = pd.unique(suspect_subset['page'])"
   ]
  },
  {
   "cell_type": "markdown",
   "metadata": {
    "heading_collapsed": true
   },
   "source": [
    "# Merging latest round of HITs into combined dataset  "
   ]
  },
  {
   "cell_type": "markdown",
   "metadata": {
    "heading_collapsed": true,
    "hidden": true
   },
   "source": [
    "## Load prior complete dataset if not in memory"
   ]
  },
  {
   "cell_type": "code",
   "execution_count": 17,
   "metadata": {
    "collapsed": true,
    "hidden": true,
    "run_control": {
     "frozen": false,
     "read_only": false
    }
   },
   "outputs": [],
   "source": [
    "data_pickled_dir = './store_hit_results_metadata/question_anno/group_latest_combined/' "
   ]
  },
  {
   "cell_type": "code",
   "execution_count": 18,
   "metadata": {
    "collapsed": false,
    "hidden": true,
    "run_control": {
     "frozen": false,
     "read_only": false
    }
   },
   "outputs": [],
   "source": [
    "combined_results_df = pd.read_pickle(data_pickled_dir + 'complete_df.pkl')\n",
    "combined_consensus_df = pd.read_pickle(data_pickled_dir + 'consensus_df.pkl')\n",
    "combined_consensus_with_workerid_df = pd.read_pickle(data_pickled_dir + 'consensus_df_w_workers.pkl') "
   ]
  },
  {
   "cell_type": "code",
   "execution_count": 19,
   "metadata": {
    "collapsed": false,
    "hidden": true,
    "run_control": {
     "frozen": false,
     "read_only": false
    }
   },
   "outputs": [],
   "source": [
    "amt_util.count_pages_in_df(combined_consensus_with_workerid_df)"
   ]
  },
  {
   "cell_type": "markdown",
   "metadata": {
    "heading_collapsed": true,
    "hidden": true
   },
   "source": [
    "## Updating full dataset"
   ]
  },
  {
   "cell_type": "code",
   "execution_count": 15,
   "metadata": {
    "collapsed": false,
    "hidden": true,
    "run_control": {
     "frozen": false,
     "read_only": false
    }
   },
   "outputs": [],
   "source": [
    "combined_results_df = results_df_question_batch\n",
    "combined_consensus_df = consensus_results_df_complete\n",
    "combined_consensus_with_workerid_df = consensus_with_workerid_df"
   ]
  },
  {
   "cell_type": "markdown",
   "metadata": {
    "heading_collapsed": true,
    "hidden": true
   },
   "source": [
    "## Working with full dataset"
   ]
  },
  {
   "cell_type": "code",
   "execution_count": 16,
   "metadata": {
    "collapsed": true,
    "hidden": true,
    "run_control": {
     "frozen": false,
     "read_only": false
    }
   },
   "outputs": [],
   "source": [
    "%%capture\n",
    "no_consensus_hits = combined_consensus_df[combined_consensus_df['category'] == 'No Consensus']"
   ]
  },
  {
   "cell_type": "code",
   "execution_count": 964,
   "metadata": {
    "collapsed": false,
    "hidden": true,
    "run_control": {
     "frozen": false,
     "read_only": false
    }
   },
   "outputs": [],
   "source": [
    "flaw_rate = len(no_consensus_hits) / len(combined_consensus_df)\n",
    "print 'text boxes without consensus are ' + '{0:0.2f}% '.format(flaw_rate * 100) + 'of the total'  "
   ]
  },
  {
   "cell_type": "code",
   "execution_count": 227,
   "metadata": {
    "collapsed": false,
    "hidden": true,
    "run_control": {
     "frozen": false,
     "read_only": false
    }
   },
   "outputs": [],
   "source": [
    "worker_quality_df[worker_quality_df['submitted'] > 50].sort_values('flaw_ratio', ascending= True).head(25)"
   ]
  },
  {
   "cell_type": "code",
   "execution_count": 205,
   "metadata": {
    "collapsed": false,
    "hidden": true,
    "run_control": {
     "frozen": false,
     "read_only": false
    }
   },
   "outputs": [],
   "source": [
    "bad_and_prolific_workers[:15]"
   ]
  },
  {
   "cell_type": "markdown",
   "metadata": {
    "hidden": true
   },
   "source": [
    "After looking through the top few offenders, it's clear that \n",
    "\n",
    "1. the very worst intentionally submitted many blank pages\n",
    "\n",
    "2. the rest didn't read the directions very closely\n",
    "\n",
    "3. I'm comfortable rejecting the work of those with > 100 submissions\n",
    "\n",
    "4. I'll ban the worst 15 from future HITs\n"
   ]
  },
  {
   "cell_type": "code",
   "execution_count": 49,
   "metadata": {
    "collapsed": true,
    "hidden": true,
    "run_control": {
     "frozen": false,
     "read_only": false
    }
   },
   "outputs": [],
   "source": [
    "amt_util.write_results_df(combined_consensus_df)"
   ]
  },
  {
   "cell_type": "code",
   "execution_count": 45,
   "metadata": {
    "collapsed": true,
    "hidden": true,
    "run_control": {
     "frozen": false,
     "read_only": false
    }
   },
   "outputs": [],
   "source": [
    "# all pages from the complete\n",
    "pages_to_review =pd.unique(combined_consensus_df['page'])"
   ]
  },
  {
   "cell_type": "code",
   "execution_count": 165,
   "metadata": {
    "collapsed": true,
    "hidden": true,
    "run_control": {
     "frozen": false,
     "read_only": false
    }
   },
   "outputs": [],
   "source": [
    "# all pages from the complete dataset with a no-consensus box\n",
    "pages_to_review =pd.unique(no_consensus_hits['page'])"
   ]
  },
  {
   "cell_type": "code",
   "execution_count": 208,
   "metadata": {
    "collapsed": false,
    "hidden": true,
    "run_control": {
     "frozen": false,
     "read_only": false
    }
   },
   "outputs": [],
   "source": [
    "%%capture \n",
    "# all pages from the latest batch with a no-consensus box\n",
    "suspect_subset = combined_results_df[combined_results_df['worker_id'].isin(bad_and_prolific_to_review[10:15])]\n",
    "amt_util.write_results_df(suspect_subset)\n",
    "pages_to_review = pd.unique(suspect_subset['page'])"
   ]
  },
  {
   "cell_type": "code",
   "execution_count": 50,
   "metadata": {
    "collapsed": false,
    "hidden": true,
    "run_control": {
     "frozen": false,
     "read_only": false
    }
   },
   "outputs": [],
   "source": [
    "sampling_rate = 0.2\n",
    "sample_size = int(len(pages_to_review) * sampling_rate)\n",
    "sampled_pages_to_review = list(np.random.choice(pages_to_review, size= sample_size, replace=False))\n",
    "print 'sampling ' + str(sample_size) + ' pages out of ' + str(len(pages_to_review))\n",
    "to_review = ['start_seq'] + sampled_pages_to_review"
   ]
  },
  {
   "cell_type": "code",
   "execution_count": 51,
   "metadata": {
    "collapsed": false,
    "hidden": true,
    "run_control": {
     "frozen": false,
     "read_only": false
    }
   },
   "outputs": [],
   "source": [
    "amt_util.review_results(to_review)\n",
    "print 'posting to review tool, navigate to http://localhost:8080/ to see the sampled consensus results'"
   ]
  },
  {
   "cell_type": "markdown",
   "metadata": {
    "heading_collapsed": true
   },
   "source": [
    "# Worker Analysis"
   ]
  },
  {
   "cell_type": "markdown",
   "metadata": {
    "heading_collapsed": true,
    "hidden": true
   },
   "source": [
    "## Basic worker stats"
   ]
  },
  {
   "cell_type": "code",
   "execution_count": 209,
   "metadata": {
    "collapsed": false,
    "hidden": true,
    "run_control": {
     "frozen": false,
     "read_only": false
    }
   },
   "outputs": [],
   "source": [
    "consensus_with_workerid_df = amt_util.make_consensus_df_w_worker_id(results_df_question_batch, consensus_results_df_current_batch)"
   ]
  },
  {
   "cell_type": "code",
   "execution_count": 250,
   "metadata": {
    "collapsed": false,
    "hidden": true,
    "run_control": {
     "frozen": false,
     "read_only": false
    },
    "scrolled": true
   },
   "outputs": [],
   "source": [
    "print 'number of unique workers:', pd.unique(results_df_question_batch['worker_id']).shape[0]"
   ]
  },
  {
   "cell_type": "code",
   "execution_count": 212,
   "metadata": {
    "collapsed": true,
    "hidden": true,
    "run_control": {
     "frozen": false,
     "read_only": false
    }
   },
   "outputs": [],
   "source": [
    "_ = results_df_question_batch['worker_id'].value_counts().hist(bins= 30)"
   ]
  },
  {
   "cell_type": "markdown",
   "metadata": {
    "heading_collapsed": true,
    "hidden": true
   },
   "source": [
    "### HIT duration for pricing"
   ]
  },
  {
   "cell_type": "code",
   "execution_count": 213,
   "metadata": {
    "collapsed": false,
    "hidden": true,
    "run_control": {
     "frozen": false,
     "read_only": false
    }
   },
   "outputs": [],
   "source": [
    "task_duration_seconds = []\n",
    "for hit_id, assignments in assignment_results_current_batch.items():\n",
    "    for assignment in assignments:\n",
    "        hit_duration = dt_parse.parse(assignment.SubmitTime) - dt_parse.parse(assignment.AcceptTime)\n",
    "        task_duration_seconds.append(hit_duration.seconds)"
   ]
  },
  {
   "cell_type": "code",
   "execution_count": 214,
   "metadata": {
    "collapsed": false,
    "hidden": true,
    "run_control": {
     "frozen": false,
     "read_only": false
    }
   },
   "outputs": [],
   "source": [
    "task_duration_series = pd.Series(task_duration_seconds)"
   ]
  },
  {
   "cell_type": "code",
   "execution_count": 94,
   "metadata": {
    "collapsed": true,
    "hidden": true,
    "run_control": {
     "frozen": false,
     "read_only": false
    }
   },
   "outputs": [],
   "source": [
    "_ = task_duration_series.hist(bins=30, log=True)"
   ]
  },
  {
   "cell_type": "code",
   "execution_count": 220,
   "metadata": {
    "collapsed": false,
    "hidden": true,
    "run_control": {
     "frozen": false,
     "read_only": false
    }
   },
   "outputs": [],
   "source": [
    "winsorized_durations = [t for t in task_duration_seconds if t < 150]\n",
    "w_duration_series = pd.Series(winsorized_durations)"
   ]
  },
  {
   "cell_type": "code",
   "execution_count": 221,
   "metadata": {
    "collapsed": false,
    "hidden": true,
    "run_control": {
     "frozen": false,
     "read_only": false
    }
   },
   "outputs": [],
   "source": [
    "_ = pd.Series(w_duration_series).hist(bins=60)\n",
    "plt.title('Worker task duration', fontsize=50, verticalalignment='bottom', color = b16_colors.b)\n",
    "plt.ylabel(\"Number of Workers\", fontsize=30, labelpad=10, color = b16_colors.b)\n",
    "plt.xlabel(\"Seconds Spent on HIT\", fontsize=30, labelpad=10, color = b16_colors.b)\n",
    "plt.tick_params(axis='x', which='major', labelsize=20)\n",
    "plt.tick_params(axis='y', which='major', labelsize=20)"
   ]
  },
  {
   "cell_type": "code",
   "execution_count": 224,
   "metadata": {
    "collapsed": false,
    "hidden": true,
    "run_control": {
     "frozen": false,
     "read_only": false
    }
   },
   "outputs": [],
   "source": [
    "dur_mode = w_duration_series.mode().values[0]\n",
    "dur_median = w_duration_series.median()\n",
    "print 'duration mode= ' + str(dur_mode)\n",
    "print 'duration median= ' + str(dur_median)"
   ]
  },
  {
   "cell_type": "markdown",
   "metadata": {
    "heading_collapsed": true,
    "hidden": true
   },
   "source": [
    "### HIT pricing check"
   ]
  },
  {
   "cell_type": "markdown",
   "metadata": {
    "hidden": true
   },
   "source": [
    "We'd like the effective hourly rate to be between 10-12 dollars. This is considered equitable in the world of mechanical turk."
   ]
  },
  {
   "cell_type": "code",
   "execution_count": 241,
   "metadata": {
    "collapsed": false,
    "hidden": true,
    "run_control": {
     "frozen": false,
     "read_only": false
    }
   },
   "outputs": [],
   "source": [
    "hits_per_hour_high = 3600 / dur_mode\n",
    "hits_per_hour_low = 3600 / dur_median\n",
    "print 'effective hourly rate = $', hits_per_hour_low * static_params['amount'], 'to' , hits_per_hour_high * static_params['amount']"
   ]
  },
  {
   "cell_type": "markdown",
   "metadata": {
    "heading_collapsed": true,
    "hidden": true
   },
   "source": [
    "## Identifying high and low consensus workers"
   ]
  },
  {
   "cell_type": "markdown",
   "metadata": {
    "heading_collapsed": true,
    "hidden": true
   },
   "source": [
    "### high"
   ]
  },
  {
   "cell_type": "code",
   "execution_count": 244,
   "metadata": {
    "collapsed": false,
    "hidden": true,
    "run_control": {
     "frozen": false,
     "read_only": false
    }
   },
   "outputs": [],
   "source": [
    "worker_conflicts = consensus_with_workerid_df[consensus_with_workerid_df['category'] != consensus_with_workerid_df['consensus_category']]\n",
    "all_worker_counts = results_df_question_batch['worker_id'].value_counts()\n",
    "bad_worker_counts = worker_conflicts['worker_id'].value_counts()\n",
    "worker_quality_df = pd.DataFrame([all_worker_counts, bad_worker_counts]).T\n",
    "worker_quality_df.columns=['submitted', 'incorrect']\n",
    "worker_quality_df['flaw_ratio'] = worker_quality_df['incorrect']/worker_quality_df['submitted']\n",
    "good_workers = worker_quality_df.sort_values('flaw_ratio', ascending= True).index.tolist()\n",
    "\n",
    "worker_quality_df.sort_values('flaw_ratio', ascending= True).head(10)"
   ]
  },
  {
   "cell_type": "code",
   "execution_count": 263,
   "metadata": {
    "collapsed": false,
    "hidden": true,
    "run_control": {
     "frozen": false,
     "read_only": false
    }
   },
   "outputs": [],
   "source": [
    "good_and_prolific_workers = worker_quality_df.sort_values('flaw_ratio', ascending= True).head(10).index.tolist()"
   ]
  },
  {
   "cell_type": "markdown",
   "metadata": {
    "hidden": true
   },
   "source": [
    "I became concerned that I missed the perfect performers, but as I suspected perfect workers only did 1-2 HITs at most"
   ]
  },
  {
   "cell_type": "code",
   "execution_count": 66,
   "metadata": {
    "collapsed": false,
    "hidden": true,
    "run_control": {
     "frozen": false,
     "read_only": false
    }
   },
   "outputs": [],
   "source": [
    "# aw_set = set(all_worker_counts.index)\n",
    "# bw_set = set(bad_worker_counts.index)\n",
    "# flawless_workers = list(aw_set.difference(bw_set))\n",
    "# all_worker_counts[all_worker_counts.index.isin(best_workers)]"
   ]
  },
  {
   "cell_type": "markdown",
   "metadata": {
    "heading_collapsed": true,
    "hidden": true
   },
   "source": [
    "### low"
   ]
  },
  {
   "cell_type": "code",
   "execution_count": 292,
   "metadata": {
    "collapsed": false,
    "hidden": true,
    "run_control": {
     "frozen": false,
     "read_only": false
    }
   },
   "outputs": [],
   "source": [
    "bad_and_prolific_workers = worker_quality_df.sort_values('flaw_ratio', ascending= False).head(25).sort_values('incorrect', ascending= False)"
   ]
  },
  {
   "cell_type": "code",
   "execution_count": 362,
   "metadata": {
    "collapsed": false,
    "hidden": true,
    "run_control": {
     "frozen": false,
     "read_only": false
    }
   },
   "outputs": [],
   "source": [
    "bad_and_prolific_to_review = list(bad_and_prolific_workers[:5].index)\n",
    "really_bad_workers_to_review = list(really_bad_workers[:5].index)"
   ]
  },
  {
   "cell_type": "code",
   "execution_count": 294,
   "metadata": {
    "collapsed": false,
    "hidden": true,
    "run_control": {
     "frozen": false,
     "read_only": false
    }
   },
   "outputs": [],
   "source": [
    "bad_and_prolific_workers.head(15)"
   ]
  },
  {
   "cell_type": "code",
   "execution_count": 381,
   "metadata": {
    "collapsed": false,
    "hidden": true,
    "run_control": {
     "frozen": false,
     "read_only": false
    }
   },
   "outputs": [],
   "source": [
    "really_bad_workers = bad_and_prolific_workers[bad_and_prolific_workers['flaw_ratio'] > 0.5]\n",
    "really_bad_workers"
   ]
  },
  {
   "cell_type": "markdown",
   "metadata": {
    "collapsed": true,
    "hidden": true,
    "run_control": {
     "frozen": false,
     "read_only": false
    }
   },
   "source": [
    "bad worker decisions-\n",
    "\n",
    "1- didn't read directions\n",
    "\n",
    "2- many blank pages\n",
    "\n",
    "3- many blank pages\n",
    "\n",
    "4- incomplete\n",
    "\n",
    "the really bad workers are largely incomplete"
   ]
  },
  {
   "cell_type": "markdown",
   "metadata": {
    "heading_collapsed": true,
    "hidden": true
   },
   "source": [
    "## Email contact with workers"
   ]
  },
  {
   "cell_type": "code",
   "execution_count": 253,
   "metadata": {
    "collapsed": false,
    "hidden": true,
    "run_control": {
     "frozen": false,
     "read_only": false
    }
   },
   "outputs": [],
   "source": [
    "turkers_contacted_me = turkmail_util.get_latest_worker_communication()"
   ]
  },
  {
   "cell_type": "code",
   "execution_count": 257,
   "metadata": {
    "collapsed": false,
    "hidden": true,
    "run_control": {
     "frozen": false,
     "read_only": false
    }
   },
   "outputs": [],
   "source": [
    "turkers_contacted_me = [w_id[0] for w_id in turkers_contacted_me.values()]"
   ]
  },
  {
   "cell_type": "code",
   "execution_count": 258,
   "metadata": {
    "collapsed": false,
    "hidden": true,
    "run_control": {
     "frozen": false,
     "read_only": false
    }
   },
   "outputs": [],
   "source": [
    "turkers_contacted_me"
   ]
  },
  {
   "cell_type": "code",
   "execution_count": 269,
   "metadata": {
    "collapsed": false,
    "hidden": true,
    "run_control": {
     "frozen": false,
     "read_only": false
    }
   },
   "outputs": [],
   "source": [
    "good_set = set(good_and_prolific_workers)\n",
    "bad_set = set(bad_and_prolific_to_review)\n",
    "contact_set = set(turkers_contacted_me)"
   ]
  },
  {
   "cell_type": "code",
   "execution_count": 271,
   "metadata": {
    "collapsed": false,
    "hidden": true,
    "run_control": {
     "frozen": false,
     "read_only": false
    }
   },
   "outputs": [],
   "source": [
    "print good_set.intersection(contact_set)\n",
    "print bad_set.intersection(contact_set)"
   ]
  },
  {
   "cell_type": "markdown",
   "metadata": {
    "hidden": true
   },
   "source": []
  },
  {
   "cell_type": "markdown",
   "metadata": {
    "heading_collapsed": true,
    "hidden": true
   },
   "source": [
    "## Messaging workers"
   ]
  },
  {
   "cell_type": "code",
   "execution_count": 889,
   "metadata": {
    "collapsed": true,
    "hidden": true,
    "run_control": {
     "frozen": false,
     "read_only": false
    }
   },
   "outputs": [],
   "source": [
    "subject = \"More science book annotation HITs are available\"\n",
    "message = \"\"\"\n",
    "Hello, \n",
    "\n",
    "If you're receiving this message you were among the top performers on the first group HITs I submitted.\n",
    "I've submitted another group of HITs, with more to follow in the next few days. \n",
    "I've added some additional instructions, and have removed the default instruction page (they can still be accessed by Read\n",
    "Instruction Button).\n",
    "\n",
    "Happy to get any feedback you might have for the new HITs.\n",
    "\"\"\""
   ]
  },
  {
   "cell_type": "code",
   "execution_count": 693,
   "metadata": {
    "collapsed": false,
    "hidden": true,
    "run_control": {
     "frozen": false,
     "read_only": false
    }
   },
   "outputs": [],
   "source": [
    "# _ = mturk.notify_workers(good_workers[:20], subject, message)"
   ]
  },
  {
   "cell_type": "markdown",
   "metadata": {},
   "source": [
    "# **HIT end-of-life**"
   ]
  },
  {
   "cell_type": "markdown",
   "metadata": {
    "heading_collapsed": true
   },
   "source": [
    "## Pickle latest results"
   ]
  },
  {
   "cell_type": "code",
   "execution_count": 357,
   "metadata": {
    "collapsed": true,
    "hidden": true,
    "run_control": {
     "frozen": false,
     "read_only": false
    }
   },
   "outputs": [],
   "source": [
    "#reset as needed\n",
    "gn = 1"
   ]
  },
  {
   "cell_type": "code",
   "execution_count": 358,
   "metadata": {
    "collapsed": false,
    "hidden": true,
    "run_control": {
     "frozen": false,
     "read_only": false
    }
   },
   "outputs": [
    {
     "name": "stdout",
     "output_type": "stream",
     "text": [
      "saved HIT batch number 1\n",
      "now onto batch 2\n"
     ]
    }
   ],
   "source": [
    "next_group = gn + 1\n",
    "group_n = '_' + str(gn) + '/'\n",
    "\n",
    "temp_store_dir = './store_hit_results_metadata/group'\n",
    "try:\n",
    "    os.mkdir(temp_store_dir + group_n)\n",
    "except:\n",
    "    OSError\n",
    "    \n",
    "result_file_name = 'hit_info.pkl'\n",
    "assignment_file_name = 'assignment_info.pkl'\n",
    "raw_results_file_name = 'raw_res_df.pkl'\n",
    "complete_results_file = 'complete_df.pkl'\n",
    "consensus_results_file = 'consensus_df.pkl'\n",
    "\n",
    "amt_util.pickle_this(r_hits_current_batch, temp_store_dir + group_n + result_file_name)\n",
    "amt_util.pickle_this(assignment_results_current_batch, temp_store_dir + group_n + assignment_file_name)\n",
    "# amt_util.pickle_this(results_df_question_batch, temp_store_dir + group_n + raw_results_file_name)\n",
    "results_df_shining_batch.to_pickle(temp_store_dir + group_n + raw_results_file_name)\n",
    "print 'saved HIT batch number ' + str(gn)\n",
    "print 'now onto batch ' +str(next_group) \n",
    "gn = next_group"
   ]
  },
  {
   "cell_type": "markdown",
   "metadata": {
    "heading_collapsed": true
   },
   "source": [
    "## Pickle combined dataset"
   ]
  },
  {
   "cell_type": "code",
   "execution_count": 110,
   "metadata": {
    "collapsed": false,
    "hidden": true,
    "run_control": {
     "frozen": false,
     "read_only": false
    }
   },
   "outputs": [],
   "source": [
    "temp_store_dir = './store_hit_results_metadata/question_anno/group'\n",
    "group_n = '_latest_combined/'\n",
    "try:\n",
    "    os.mkdir(temp_store_dir + group_n)\n",
    "except:\n",
    "    OSError\n",
    "    \n",
    "complete_results_file = 'complete_df.pkl'\n",
    "consensus_results_file = 'consensus_df.pkl'\n",
    "consensus_results_file_w_workers = 'consensus_df_w_workers.pkl'\n",
    "\n",
    "combined_results_df.to_pickle(temp_store_dir + group_n + complete_results_file)\n",
    "combined_consensus_df.to_pickle(temp_store_dir + group_n + consensus_results_file)\n",
    "combined_consensus_with_workerid_df.to_pickle(temp_store_dir + group_n + consensus_results_file_w_workers)"
   ]
  },
  {
   "cell_type": "markdown",
   "metadata": {
    "heading_collapsed": true
   },
   "source": [
    "## Accepting and deleting HITs... careful with these"
   ]
  },
  {
   "cell_type": "markdown",
   "metadata": {
    "hidden": true
   },
   "source": [
    "Uncomment only when ready to accept or delete hits"
   ]
  },
  {
   "cell_type": "markdown",
   "metadata": {
    "hidden": true
   },
   "source": [
    "### accepting HITS"
   ]
  },
  {
   "cell_type": "markdown",
   "metadata": {
    "heading_collapsed": true,
    "hidden": true
   },
   "source": [
    "### rejecting HITS, banning bad workers"
   ]
  },
  {
   "cell_type": "code",
   "execution_count": 122,
   "metadata": {
    "collapsed": false,
    "hidden": true,
    "run_control": {
     "frozen": false,
     "read_only": false
    }
   },
   "outputs": [],
   "source": [
    "def reject_bad_assignments(rejected_assignment_ids, rejected_worker_ids):\n",
    "    for assignment in rejected_assignment_ids:\n",
    "        mturk.reject_assignment(assignment)\n",
    "        \n",
    "        rejection_message_subject = \"One of your HITs was rejected\"\n",
    "        \n",
    "        rejection_message = \"\"\"\n",
    "        Your HIT was rejected because it was either incomplete or largely incorrect.\n",
    "        \"\"\"\n",
    "        \n",
    "        mturk.notify_workers(rejected_worker_ids, rejection_message_subject, rejection_message)"
   ]
  },
  {
   "cell_type": "code",
   "execution_count": 155,
   "metadata": {
    "collapsed": true,
    "hidden": true,
    "run_control": {
     "frozen": false,
     "read_only": false
    }
   },
   "outputs": [],
   "source": [
    "workers_to_ban = bad_and_prolific_workers[:2].index.tolist()"
   ]
  },
  {
   "cell_type": "code",
   "execution_count": 156,
   "metadata": {
    "collapsed": false,
    "hidden": true,
    "run_control": {
     "frozen": false,
     "read_only": false
    }
   },
   "outputs": [],
   "source": [
    "workers_to_ban"
   ]
  },
  {
   "cell_type": "code",
   "execution_count": 157,
   "metadata": {
    "collapsed": false,
    "hidden": true,
    "run_control": {
     "frozen": false,
     "read_only": false
    }
   },
   "outputs": [],
   "source": [
    "number_rejected_assignments, number_rejected_workers = amt_util.reject_assignments(mturk, workers_to_ban, combined_consensus_with_workerid_df)\n",
    "print 'rejecting ' + str(number_rejected_assignments) + ' assignments' + ' from ' + str(number_rejected_workers) + ' workers'"
   ]
  },
  {
   "cell_type": "code",
   "execution_count": 183,
   "metadata": {
    "collapsed": true,
    "hidden": true,
    "run_control": {
     "frozen": false,
     "read_only": false
    }
   },
   "outputs": [],
   "source": [
    "assignment_results_after_rejects = amt_util.get_assignments(mturk, r_hits_after_rejects)"
   ]
  },
  {
   "cell_type": "code",
   "execution_count": 174,
   "metadata": {
    "collapsed": true,
    "hidden": true,
    "run_control": {
     "frozen": false,
     "read_only": false
    }
   },
   "outputs": [],
   "source": [
    "# assignments_to_accept = []\n",
    "assignment_status = []\n",
    "for hit_id, assignments in assignment_results_after_rejects.items():\n",
    "    for assignment in assignments:\n",
    "        assignment_status.append(assignment.AssignmentStatus)\n",
    "        if assignment.AssignmentStatus == 'Submitted':\n",
    "            assignments_to_accept.append(assignment)\n",
    "status_series = pd.Series(assignment_status)"
   ]
  },
  {
   "cell_type": "code",
   "execution_count": 182,
   "metadata": {
    "collapsed": true,
    "hidden": true,
    "run_control": {
     "frozen": false,
     "read_only": false
    }
   },
   "outputs": [],
   "source": [
    "r_hits_after_rejects = amt_util.get_completed_hits(mturk)"
   ]
  },
  {
   "cell_type": "markdown",
   "metadata": {
    "heading_collapsed": true,
    "hidden": true
   },
   "source": [
    "### deleting all HITS"
   ]
  },
  {
   "cell_type": "code",
   "execution_count": 200,
   "metadata": {
    "collapsed": false,
    "hidden": true,
    "run_control": {
     "frozen": false,
     "read_only": false
    }
   },
   "outputs": [],
   "source": [
    "amt_util.delete_all_hits(mturk)"
   ]
  },
  {
   "cell_type": "markdown",
   "metadata": {
    "heading_collapsed": true
   },
   "source": [
    "# End"
   ]
  },
  {
   "cell_type": "code",
   "execution_count": 47,
   "metadata": {
    "collapsed": false,
    "hidden": true,
    "run_control": {
     "frozen": false,
     "read_only": false
    }
   },
   "outputs": [],
   "source": [
    "images_to_test = ['1262.png', '1311.png', '1315.png', '1503.png', '193.png', '2822.png', '4106.png', '4138.png', '4930.png', '4947.png', '4949.png', '61.png','77.png']"
   ]
  },
  {
   "cell_type": "code",
   "execution_count": null,
   "metadata": {
    "collapsed": true,
    "hidden": true,
    "run_control": {
     "frozen": false,
     "read_only": false
    }
   },
   "outputs": [],
   "source": [
    "with open('bad_images.pkl',) as f:\n",
    "    bad_images = pickle.load(f)\n",
    "\n",
    "bad_pages = [app_url_base + page + '&hd=' + str(img_dim_lookup[page][0]) +'&vd=' + str(img_dim_lookup[page][1]) for page in bad_images]\n",
    "# pages_to_use = [app_url_base + page + '&hd=' + str(img_dim_lookup[page][0]) +'&vd=' + str(img_dim_lookup[page][1]) for page in bad_images]"
   ]
  }
 ],
 "metadata": {
  "kernelspec": {
   "display_name": "Python 2",
   "language": "python",
   "name": "python2"
  },
  "language_info": {
   "codemirror_mode": {
    "name": "ipython",
    "version": 2
   },
   "file_extension": ".py",
   "mimetype": "text/x-python",
   "name": "python",
   "nbconvert_exporter": "python",
   "pygments_lexer": "ipython2",
   "version": "2.7.10"
  }
 },
 "nbformat": 4,
 "nbformat_minor": 0
}
