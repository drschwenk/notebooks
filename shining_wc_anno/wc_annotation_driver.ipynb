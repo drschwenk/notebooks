{
 "cells": [
  {
   "cell_type": "markdown",
   "metadata": {},
   "source": [
    "# Table of Contents\n",
    "* [Submitting HITs](#Submitting-HITs)\n",
    "\t* [Building URLs for images on s3](#Building-URLs-for-images-on-s3)\n",
    "\t* [submitting HITs in groups](#submitting-HITs-in-groups)\n",
    "\t\t* [creates HITs, careful with this one](#creates-HITs,-careful-with-this-one)\n",
    "* [Reviewing latest HITs](#Reviewing-latest-HITs)\n",
    "* [Merging latest round of HITs into combined dataset](#Merging-latest-round-of-HITs-into-combined-dataset)\n",
    "\t* [Load prior complete dataset if not in memory](#Load-prior-complete-dataset-if-not-in-memory)\n",
    "\t* [Updating full dataset](#Updating-full-dataset)\n",
    "\t* [Working with full dataset](#Working-with-full-dataset)\n",
    "* [Worker Analysis](#Worker-Analysis)\n",
    "\t* [Basic worker stats](#Basic-worker-stats)\n",
    "\t\t* [HIT duration for pricing](#HIT-duration-for-pricing)\n",
    "\t\t* [Identifying high and low consensus workers](#Identifying-high-and-low-consensus-workers)\n",
    "\t* [Messaging workers](#Messaging-workers)\n",
    "* [HIT end-of-life](#HIT-end-of-life)\n",
    "\t* [Pickle latest results](#Pickle-latest-results)\n",
    "\t* [Pickle combined dataset](#Pickle-combined-dataset)\n",
    "\t* [Accepting and deleting HITs... careful with these](#Accepting-and-deleting-HITs...-careful-with-these)\n"
   ]
  },
  {
   "cell_type": "code",
   "execution_count": 2,
   "metadata": {
    "collapsed": false,
    "run_control": {
     "frozen": false,
     "read_only": false
    }
   },
   "outputs": [],
   "source": [
    "%%capture\n",
    "from __future__ import division\n",
    "import numpy as np\n",
    "import pandas as pd\n",
    "import scipy.stats as st\n",
    "import itertools\n",
    "import math\n",
    "from collections import Counter, defaultdict\n",
    "%load_ext autoreload\n",
    "%autoreload 2\n",
    "\n",
    "#The lines commented below set the look and feel of mpl generated plots.\n",
    "import matplotlib as mpl\n",
    "# mpl.use(\"Agg\")\n",
    "# import matplotlib.pylab as plt\n",
    "# #%matplotlib notebook\n",
    "# %matplotlib inline\n",
    "# %load_ext base16_mplrc\n",
    "# %base16_mplrc light default\n",
    "# plt.rcParams['figure.figsize'] = (16.0, 10.0)\n",
    "\n",
    "import re\n",
    "import pickle\n",
    "import boto\n",
    "import json\n",
    "import os\n",
    "\n",
    "from copy import deepcopy\n",
    "import boto.mturk.connection as tc\n",
    "import boto.mturk.question as tq\n",
    "from boto.mturk.qualification import PercentAssignmentsApprovedRequirement, Qualifications, Requirement\n",
    "\n",
    "# These lines import my aws access keys\n",
    "from keysTkingdom import mturk_ai2\n",
    "from keysTkingdom import aws_tokes\n",
    "\n",
    "\n",
    "import amt_utils.process_hits as amt_util\n",
    "import amt_utils.turk_email_utils as turkmail_util\n",
    "import amt_utils.shining_rel_build as rbuild\n",
    "import glob"
   ]
  },
  {
   "cell_type": "markdown",
   "metadata": {},
   "source": [
    "# **Submitting HITs**"
   ]
  },
  {
   "cell_type": "markdown",
   "metadata": {},
   "source": [
    "## Building URLs for images on s3"
   ]
  },
  {
   "cell_type": "code",
   "execution_count": 4,
   "metadata": {
    "collapsed": false,
    "run_control": {
     "frozen": false,
     "read_only": false
    },
    "scrolled": true
   },
   "outputs": [
    {
     "data": {
      "text/plain": [
       "400"
      ]
     },
     "execution_count": 4,
     "metadata": {},
     "output_type": "execute_result"
    }
   ],
   "source": [
    "images_to_annotate = pd.read_csv('./list_to_annotate.txt', header=None)\n",
    "images_to_annotate.columns= ['image_name']\n",
    "images_to_annotate_list = images_to_annotate['image_name'].tolist()\n",
    "len(images_to_annotate_list)"
   ]
  },
  {
   "cell_type": "code",
   "execution_count": 59,
   "metadata": {
    "collapsed": false,
    "run_control": {
     "frozen": false,
     "read_only": false
    }
   },
   "outputs": [
    {
     "data": {
      "text/plain": [
       "{'112.png': (665, 877),\n",
       " '1261.png': (800, 685),\n",
       " '1262.png': (400, 373),\n",
       " '1263.png': (297, 285),\n",
       " '1264.png': (432, 383),\n",
       " '1265.png': (350, 312),\n",
       " '1266.png': (600, 800),\n",
       " '1267.png': (597, 600),\n",
       " '1268.png': (400, 400),\n",
       " '1269.png': (421, 281),\n",
       " '1270.png': (372, 286),\n",
       " '1271.png': (418, 600),\n",
       " '1272.png': (640, 480),\n",
       " '1273.png': (702, 660),\n",
       " '1274.png': (612, 792),\n",
       " '1275.png': (617, 600),\n",
       " '1276.png': (1024, 767),\n",
       " '1277.png': (349, 366),\n",
       " '1305.png': (729, 544),\n",
       " '1306.png': (640, 712),\n",
       " '1308.png': (404, 361),\n",
       " '1309.png': (501, 402),\n",
       " '1310.png': (398, 399),\n",
       " '1312.png': (417, 377),\n",
       " '1313.png': (336, 218),\n",
       " '1316.png': (1081, 1500),\n",
       " '1317.png': (365, 329),\n",
       " '1318.png': (600, 600),\n",
       " '1319.png': (425, 400),\n",
       " '1322.png': (836, 800),\n",
       " '1478.png': (500, 340),\n",
       " '1479.png': (1224, 839),\n",
       " '1480.png': (500, 382),\n",
       " '1481.png': (510, 354),\n",
       " '1482.png': (401, 301),\n",
       " '1483.png': (700, 480),\n",
       " '1484.png': (1280, 720),\n",
       " '1485.png': (500, 508),\n",
       " '1486.png': (962, 716),\n",
       " '1487.png': (452, 306),\n",
       " '1488.png': (400, 265),\n",
       " '1489.png': (880, 611),\n",
       " '1490.png': (795, 589),\n",
       " '1491.png': (600, 424),\n",
       " '1492.png': (516, 524),\n",
       " '1493.png': (954, 792),\n",
       " '1494.png': (1260, 655),\n",
       " '1495.png': (572, 504),\n",
       " '1496.png': (725, 595),\n",
       " '1497.png': (483, 288),\n",
       " '1498.png': (507, 412),\n",
       " '1499.png': (1167, 750),\n",
       " '1500.png': (648, 504),\n",
       " '1501.png': (379, 245),\n",
       " '1502.png': (358, 193),\n",
       " '1503.png': (1116, 581),\n",
       " '1576.png': (350, 228),\n",
       " '1811.png': (960, 720),\n",
       " '1889.png': (700, 564),\n",
       " '193.png': (800, 600),\n",
       " '1932.png': (686, 500),\n",
       " '197.png': (834, 434),\n",
       " '203.png': (570, 468),\n",
       " '2766.png': (460, 400),\n",
       " '2767.png': (480, 360),\n",
       " '2768.png': (710, 508),\n",
       " '2769.png': (1500, 1032),\n",
       " '2770.png': (799, 611),\n",
       " '2771.png': (703, 209),\n",
       " '2772.png': (364, 248),\n",
       " '2773.png': (720, 540),\n",
       " '2774.png': (946, 406),\n",
       " '2775.png': (250, 369),\n",
       " '2776.png': (214, 340),\n",
       " '2777.png': (347, 265),\n",
       " '2778.png': (1312, 1500),\n",
       " '2779.png': (1280, 998),\n",
       " '2780.png': (379, 279),\n",
       " '2781.png': (520, 476),\n",
       " '2782.png': (668, 202),\n",
       " '2783.png': (515, 231),\n",
       " '2784.png': (406, 359),\n",
       " '2785.png': (500, 274),\n",
       " '2786.png': (641, 546),\n",
       " '2787.png': (726, 427),\n",
       " '2788.png': (760, 760),\n",
       " '2789.png': (450, 291),\n",
       " '2790.png': (574, 188),\n",
       " '2791.png': (680, 246),\n",
       " '2792.png': (694, 619),\n",
       " '2793.png': (1500, 663),\n",
       " '2794.png': (599, 771),\n",
       " '2795.png': (428, 308),\n",
       " '2796.png': (488, 350),\n",
       " '2797.png': (455, 315),\n",
       " '2798.png': (465, 631),\n",
       " '2799.png': (680, 600),\n",
       " '2800.png': (1500, 345),\n",
       " '2801.png': (615, 360),\n",
       " '2802.png': (553, 384),\n",
       " '2803.png': (800, 299),\n",
       " '2804.png': (601, 732),\n",
       " '2805.png': (400, 371),\n",
       " '2806.png': (400, 283),\n",
       " '2807.png': (400, 283),\n",
       " '2808.png': (1159, 1500),\n",
       " '2809.png': (525, 438),\n",
       " '2810.png': (500, 281),\n",
       " '2811.png': (1500, 1060),\n",
       " '2812.png': (624, 640),\n",
       " '2813.png': (600, 368),\n",
       " '2814.png': (420, 643),\n",
       " '2815.png': (650, 334),\n",
       " '2816.png': (900, 488),\n",
       " '2817.png': (546, 313),\n",
       " '2818.png': (550, 300),\n",
       " '2819.png': (960, 720),\n",
       " '2820.png': (478, 359),\n",
       " '2821.png': (320, 240),\n",
       " '2822.png': (451, 416),\n",
       " '2823.png': (600, 400),\n",
       " '2824.png': (778, 556),\n",
       " '2825.png': (626, 824),\n",
       " '2826.png': (512, 656),\n",
       " '2827.png': (1500, 965),\n",
       " '2828.png': (905, 649),\n",
       " '2829.png': (275, 262),\n",
       " '2830.png': (400, 209),\n",
       " '2831.png': (450, 400),\n",
       " '2832.png': (511, 424),\n",
       " '2833.png': (1280, 1090),\n",
       " '2834.png': (500, 426),\n",
       " '2835.png': (1500, 827),\n",
       " '2836.png': (400, 233),\n",
       " '2837.png': (600, 567),\n",
       " '299.png': (1500, 1229),\n",
       " '326.png': (400, 600),\n",
       " '329.png': (300, 326),\n",
       " '330.png': (540, 244),\n",
       " '331.png': (400, 497),\n",
       " '332.png': (430, 600),\n",
       " '360.png': (482, 323),\n",
       " '361.png': (960, 720),\n",
       " '362.png': (250, 329),\n",
       " '363.png': (589, 197),\n",
       " '364.png': (300, 686),\n",
       " '386.png': (350, 144),\n",
       " '395.png': (350, 172),\n",
       " '4.png': (320, 246),\n",
       " '4088.png': (550, 428),\n",
       " '4089.png': (520, 622),\n",
       " '4090.png': (400, 357),\n",
       " '4091.png': (600, 500),\n",
       " '4092.png': (385, 262),\n",
       " '4093.png': (300, 201),\n",
       " '4094.png': (560, 336),\n",
       " '4095.png': (600, 300),\n",
       " '4096.png': (736, 913),\n",
       " '4097.png': (468, 269),\n",
       " '4098.png': (600, 541),\n",
       " '4099.png': (480, 360),\n",
       " '4100.png': (236, 255),\n",
       " '4101.png': (468, 269),\n",
       " '4102.png': (500, 135),\n",
       " '4103.png': (529, 506),\n",
       " '4104.png': (950, 712),\n",
       " '4105.png': (358, 477),\n",
       " '4106.png': (400, 400),\n",
       " '4107.png': (700, 550),\n",
       " '4108.png': (500, 423),\n",
       " '4109.png': (480, 360),\n",
       " '4110.png': (374, 283),\n",
       " '4111.png': (935, 1050),\n",
       " '4112.png': (1440, 900),\n",
       " '4113.png': (432, 288),\n",
       " '4114.png': (555, 852),\n",
       " '4115.png': (373, 400),\n",
       " '4116.png': (1139, 836),\n",
       " '4117.png': (960, 720),\n",
       " '4118.png': (960, 720),\n",
       " '4119.png': (478, 556),\n",
       " '4120.png': (638, 479),\n",
       " '4121.png': (1218, 814),\n",
       " '4122.png': (583, 529),\n",
       " '4123.png': (312, 221),\n",
       " '4124.png': (416, 284),\n",
       " '4125.png': (480, 360),\n",
       " '4126.png': (1209, 1500),\n",
       " '4127.png': (256, 256),\n",
       " '4128.png': (589, 500),\n",
       " '4129.png': (624, 250),\n",
       " '4130.png': (600, 600),\n",
       " '4131.png': (357, 289),\n",
       " '4132.png': (375, 209),\n",
       " '4133.png': (226, 174),\n",
       " '4134.png': (792, 612),\n",
       " '4135.png': (252, 243),\n",
       " '4136.png': (525, 270),\n",
       " '4139.png': (484, 599),\n",
       " '4140.png': (401, 396),\n",
       " '4141.png': (574, 800),\n",
       " '4142.png': (500, 437),\n",
       " '4143.png': (269, 404),\n",
       " '4145.png': (762, 1026),\n",
       " '4146.png': (724, 956),\n",
       " '451.png': (387, 182),\n",
       " '455.png': (355, 216),\n",
       " '460.png': (319, 210),\n",
       " '4908.png': (638, 479),\n",
       " '4909.png': (570, 338),\n",
       " '491.png': (1280, 930),\n",
       " '4910.png': (587, 588),\n",
       " '4911.png': (480, 351),\n",
       " '4912.png': (890, 539),\n",
       " '4913.png': (632, 443),\n",
       " '4914.png': (660, 535),\n",
       " '4915.png': (600, 321),\n",
       " '4916.png': (500, 322),\n",
       " '4917.png': (400, 300),\n",
       " '4918.png': (1256, 1472),\n",
       " '4919.png': (640, 512),\n",
       " '4920.png': (550, 400),\n",
       " '4921.png': (700, 534),\n",
       " '4922.png': (720, 540),\n",
       " '4923.png': (480, 360),\n",
       " '4924.png': (425, 292),\n",
       " '4925.png': (400, 311),\n",
       " '4926.png': (800, 575),\n",
       " '4927.png': (466, 320),\n",
       " '4928.png': (1262, 800),\n",
       " '4929.png': (480, 346),\n",
       " '4930.png': (538, 391),\n",
       " '4931.png': (444, 267),\n",
       " '4932.png': (361, 300),\n",
       " '4933.png': (400, 224),\n",
       " '4934.png': (1500, 1081),\n",
       " '4935.png': (830, 803),\n",
       " '4936.png': (500, 307),\n",
       " '4937.png': (832, 400),\n",
       " '4938.png': (408, 365),\n",
       " '4939.png': (1440, 1014),\n",
       " '4940.png': (600, 776),\n",
       " '4941.png': (800, 591),\n",
       " '4942.png': (624, 351),\n",
       " '4943.png': (480, 360),\n",
       " '4944.png': (1206, 908),\n",
       " '4945.png': (409, 294),\n",
       " '4946.png': (846, 510),\n",
       " '4947.png': (480, 360),\n",
       " '4948.png': (638, 479),\n",
       " '4949.png': (396, 448),\n",
       " '4950.png': (720, 464),\n",
       " '4951.png': (550, 550),\n",
       " '4952.png': (600, 330),\n",
       " '4953.png': (600, 600),\n",
       " '4954.png': (318, 234),\n",
       " '4955.png': (600, 499),\n",
       " '4956.png': (1296, 1028),\n",
       " '4957.png': (1305, 1050),\n",
       " '4958.png': (1299, 1048),\n",
       " '4959.png': (948, 694),\n",
       " '4960.png': (301, 305),\n",
       " '4961.png': (549, 390),\n",
       " '4962.png': (509, 339),\n",
       " '4963.png': (960, 720),\n",
       " '4964.png': (500, 357),\n",
       " '4965.png': (700, 490),\n",
       " '4966.png': (800, 566),\n",
       " '4967.png': (719, 539),\n",
       " '4968.png': (1063, 751),\n",
       " '4969.png': (480, 320),\n",
       " '4971.png': (254, 254),\n",
       " '4972.png': (435, 278),\n",
       " '4973.png': (650, 418),\n",
       " '4974.png': (780, 527),\n",
       " '4975.png': (562, 444),\n",
       " '4976.png': (758, 683),\n",
       " '4977.png': (422, 301),\n",
       " '4978.png': (660, 347),\n",
       " '4979.png': (400, 252),\n",
       " '4980.png': (472, 239),\n",
       " '4981.png': (400, 268),\n",
       " '4982.png': (600, 480),\n",
       " '4983.png': (446, 280),\n",
       " '4984.png': (638, 479),\n",
       " '4985.png': (500, 300),\n",
       " '4986.png': (419, 340),\n",
       " '4987.png': (288, 288),\n",
       " '4988.png': (504, 779),\n",
       " '4989.png': (241, 238),\n",
       " '4990.png': (395, 275),\n",
       " '4991.png': (1500, 1026),\n",
       " '4992.png': (600, 418),\n",
       " '4993.png': (586, 385),\n",
       " '4994.png': (500, 376),\n",
       " '4995.png': (728, 546),\n",
       " '4996.png': (1500, 1196),\n",
       " '4997.png': (425, 259),\n",
       " '4998.png': (1500, 1159),\n",
       " '4999.png': (1000, 431),\n",
       " '5000.png': (304, 304),\n",
       " '5001.png': (400, 300),\n",
       " '5002.png': (365, 295),\n",
       " '5003.png': (378, 385),\n",
       " '5004.png': (579, 289),\n",
       " '5005.png': (389, 376),\n",
       " '5006.png': (600, 353),\n",
       " '5007.png': (800, 616),\n",
       " '5008.png': (382, 382),\n",
       " '5009.png': (506, 525),\n",
       " '5010.png': (605, 447),\n",
       " '5011.png': (800, 547),\n",
       " '5012.png': (960, 662),\n",
       " '5013.png': (450, 250),\n",
       " '5014.png': (400, 360),\n",
       " '5015.png': (721, 468),\n",
       " '5016.png': (563, 388),\n",
       " '5017.png': (497, 422),\n",
       " '5018.png': (638, 479),\n",
       " '5019.png': (681, 678),\n",
       " '5020.png': (638, 479),\n",
       " '5021.png': (720, 473),\n",
       " '5022.png': (960, 720),\n",
       " '5023.png': (623, 445),\n",
       " '5024.png': (724, 502),\n",
       " '5025.png': (600, 463),\n",
       " '5026.png': (1500, 1125),\n",
       " '5027.png': (591, 392),\n",
       " '5028.png': (728, 546),\n",
       " '5029.png': (723, 465),\n",
       " '5030.png': (1040, 591),\n",
       " '5031.png': (450, 333),\n",
       " '5032.png': (876, 676),\n",
       " '5033.png': (1500, 1500),\n",
       " '5034.png': (998, 750),\n",
       " '5035.png': (960, 720),\n",
       " '5036.png': (753, 400),\n",
       " '5037.png': (550, 425),\n",
       " '5038.png': (486, 444),\n",
       " '5039.png': (638, 479),\n",
       " '5040.png': (441, 281),\n",
       " '5041.png': (854, 553),\n",
       " '5042.png': (261, 379),\n",
       " '5043.png': (288, 288),\n",
       " '5044.png': (754, 425),\n",
       " '5045.png': (1275, 1275),\n",
       " '5046.png': (750, 555),\n",
       " '5047.png': (460, 343),\n",
       " '5048.png': (662, 519),\n",
       " '5049.png': (844, 738),\n",
       " '5050.png': (600, 400),\n",
       " '5051.png': (638, 479),\n",
       " '5052.png': (728, 546),\n",
       " '5053.png': (728, 546),\n",
       " '5054.png': (1160, 854),\n",
       " '5055.png': (900, 491),\n",
       " '5056.png': (960, 720),\n",
       " '5057.png': (962, 850),\n",
       " '5058.png': (524, 321),\n",
       " '5059.png': (1131, 687),\n",
       " '5060.png': (714, 361),\n",
       " '5061.png': (525, 328),\n",
       " '507.png': (230, 236),\n",
       " '513.png': (299, 227),\n",
       " '521.png': (320, 403),\n",
       " '529.png': (400, 200),\n",
       " '59.png': (456, 115),\n",
       " '6.png': (514, 466),\n",
       " '61.png': (360, 360),\n",
       " '62.png': (505, 346),\n",
       " '63.png': (998, 688),\n",
       " '635.png': (516, 348),\n",
       " '64.png': (454, 304),\n",
       " '65.png': (792, 551),\n",
       " '66.png': (500, 518),\n",
       " '663.png': (624, 348),\n",
       " '664.png': (1500, 825),\n",
       " '67.png': (998, 688),\n",
       " '68.png': (400, 400),\n",
       " '69.png': (550, 408),\n",
       " '70.png': (400, 405),\n",
       " '71.png': (652, 580),\n",
       " '72.png': (333, 243),\n",
       " '73.png': (600, 452),\n",
       " '75.png': (681, 442),\n",
       " '76.png': (480, 360),\n",
       " '77.png': (1024, 713),\n",
       " '78.png': (460, 383),\n",
       " '782.png': (546, 294),\n",
       " '783.png': (747, 885),\n",
       " '784.png': (734, 469),\n",
       " '785.png': (450, 381),\n",
       " '786.png': (1500, 1079),\n",
       " '787.png': (997, 521),\n",
       " '788.png': (1024, 777),\n",
       " '79.png': (670, 551),\n",
       " '80.png': (1032, 631),\n",
       " '856.png': (1024, 779),\n",
       " '892.png': (660, 315),\n",
       " '925.png': (327, 178)}"
      ]
     },
     "execution_count": 59,
     "metadata": {},
     "output_type": "execute_result"
    }
   ],
   "source": [
    "with open('dim_lookup.pkl',) as f:\n",
    "    img_dim_lookup = pickle.load(f)\n",
    "img_dim_lookup[]"
   ]
  },
  {
   "cell_type": "code",
   "execution_count": 75,
   "metadata": {
    "collapsed": false,
    "run_control": {
     "frozen": false,
     "read_only": false
    }
   },
   "outputs": [],
   "source": [
    "app_url_base = 'https://s3-us-west-2.amazonaws.com/ai2-vision-turk-data/shining-3-watercycle-test/build/index.html?url='\n",
    "\n",
    "pages_to_use = [app_url_base + page + '&hd=' + str(img_dim_lookup[page][0]) +'&vd=' + str(img_dim_lookup[page][1]) for page in images_to_annotate_list]"
   ]
  },
  {
   "cell_type": "code",
   "execution_count": 76,
   "metadata": {
    "collapsed": false,
    "run_control": {
     "frozen": false,
     "read_only": false
    }
   },
   "outputs": [
    {
     "data": {
      "text/plain": [
       "'https://s3-us-west-2.amazonaws.com/ai2-vision-turk-data/shining-3-watercycle-test/build/index.html?url=2797.png&hd=455&vd=315'"
      ]
     },
     "execution_count": 76,
     "metadata": {},
     "output_type": "execute_result"
    }
   ],
   "source": [
    "pages_to_use[150]"
   ]
  },
  {
   "cell_type": "markdown",
   "metadata": {},
   "source": [
    "## submitting HITs in groups"
   ]
  },
  {
   "cell_type": "markdown",
   "metadata": {},
   "source": [
    "**DON'T FORGET to change submission POST request in the client when changing host**"
   ]
  },
  {
   "cell_type": "code",
   "execution_count": 38,
   "metadata": {
    "collapsed": false,
    "run_control": {
     "frozen": false,
     "read_only": false
    }
   },
   "outputs": [
    {
     "name": "stdout",
     "output_type": "stream",
     "text": [
      "Working in the SANDBOX with\n",
      "$10,000.00\n"
     ]
    }
   ],
   "source": [
    "## Switch between sandbox and the real world here ##\n",
    "## DON'T FORGET to change submission POST request in the client ##\n",
    "\n",
    "sandbox_host = 'mechanicalturk.sandbox.amazonaws.com' \n",
    "real_world_host = 'mechanicalturk.amazonaws.com'\n",
    "mturk = tc.MTurkConnection(\n",
    "    aws_access_key_id = aws_tokes.access_key,\n",
    "    aws_secret_access_key = aws_tokes.access_secret_key,\n",
    "    host = sandbox_host,\n",
    "    debug = 1 # debug = 2 prints out all requests.\n",
    ")\n",
    "current_account_balance = mturk.get_account_balance()[0]\n",
    "if current_account_balance.amount == 10000:\n",
    "    print \"Working in the SANDBOX with\"\n",
    "else:\n",
    "    print \"Working in the REAL WORLD with\"\n",
    "print current_account_balance # a reminder of sandbox"
   ]
  },
  {
   "cell_type": "code",
   "execution_count": 56,
   "metadata": {
    "code_folding": [],
    "collapsed": false,
    "run_control": {
     "frozen": false,
     "read_only": false
    }
   },
   "outputs": [
    {
     "name": "stdout",
     "output_type": "stream",
     "text": [
      "expect this batch of HITs to cost: $400.0\n"
     ]
    }
   ],
   "source": [
    "static_params = {\n",
    "    'title': \"Annotate shining 3 water cycles\",\n",
    "    'description': \"you know what to do\",\n",
    "    'keywords': ['findme'],\n",
    "    'frame_height': 1000,\n",
    "    'amount': 1.0,\n",
    "    'duration': 3600 * 12,\n",
    "    'lifetime': 3600 * 24 * 3,\n",
    "    'max_assignments': 1   # change to 3 when running for real\n",
    "}\n",
    "\n",
    "expected_cost = len(pages_to_use) *  static_params['amount'] * static_params['max_assignments']\n",
    "if float(current_account_balance.amount) < expected_cost:\n",
    "    print('WARNING -- account balance is too low -- WARNING')\n",
    "print('expect this batch of HITs to cost: $' + str(expected_cost))"
   ]
  },
  {
   "cell_type": "markdown",
   "metadata": {},
   "source": [
    "### creates HITs, careful with this one"
   ]
  },
  {
   "cell_type": "markdown",
   "metadata": {},
   "source": [
    "**uncomment cell below only when ready to submit**"
   ]
  },
  {
   "cell_type": "code",
   "execution_count": 46,
   "metadata": {
    "code_folding": [],
    "collapsed": false,
    "run_control": {
     "frozen": false,
     "read_only": false
    }
   },
   "outputs": [],
   "source": [
    "amt_util.create_hits_from_pages(mturk, pages_to_use, static_params)"
   ]
  },
  {
   "cell_type": "markdown",
   "metadata": {
    "heading_collapsed": true
   },
   "source": [
    "## Qualifications"
   ]
  },
  {
   "cell_type": "code",
   "execution_count": 34,
   "metadata": {
    "collapsed": false,
    "hidden": true,
    "run_control": {
     "frozen": false,
     "read_only": false
    }
   },
   "outputs": [],
   "source": [
    "new_qual_name = 'science textbook annotation'\n",
    "new_qual_description = 'Qualification for workers who have proved to be good at annotating science textbooks'\n",
    "# my_qual_type = mturk.create_qualification_type(new_qual_name, new_qual_description, status='Active')\n",
    "\n",
    "my_qual_type = mturk.search_qualification_types(new_qual_name)[0]"
   ]
  },
  {
   "cell_type": "code",
   "execution_count": 55,
   "metadata": {
    "collapsed": false,
    "hidden": true,
    "run_control": {
     "frozen": false,
     "read_only": false
    }
   },
   "outputs": [],
   "source": [
    "my_qual_id = my_qual_type.QualificationTypeId\n",
    "print my_qual_id"
   ]
  },
  {
   "cell_type": "code",
   "execution_count": null,
   "metadata": {
    "collapsed": true,
    "hidden": true,
    "run_control": {
     "frozen": false,
     "read_only": false
    }
   },
   "outputs": [],
   "source": [
    "mturk.assign_qualification(my_qual_id, worker_id)"
   ]
  },
  {
   "cell_type": "markdown",
   "metadata": {},
   "source": [
    "# **Reviewing HITs**"
   ]
  },
  {
   "cell_type": "markdown",
   "metadata": {
    "heading_collapsed": true
   },
   "source": [
    "### Retrieving and processing latest HITs"
   ]
  },
  {
   "cell_type": "code",
   "execution_count": 26,
   "metadata": {
    "collapsed": true,
    "hidden": true,
    "run_control": {
     "frozen": false,
     "read_only": false
    }
   },
   "outputs": [],
   "source": [
    "r_hits_current_batch = amt_util.get_completed_hits(mturk)\n",
    "assignment_results_current_batch = amt_util.get_assignments(mturk, r_hits_current_batch, 'Submitted')"
   ]
  },
  {
   "cell_type": "code",
   "execution_count": 27,
   "metadata": {
    "collapsed": true,
    "hidden": true,
    "run_control": {
     "frozen": false,
     "read_only": false
    }
   },
   "outputs": [],
   "source": [
    "raw_hit_results_current_batch = amt_util.process_raw_hits(assignment_results_current_batch)"
   ]
  },
  {
   "cell_type": "code",
   "execution_count": 252,
   "metadata": {
    "collapsed": false,
    "hidden": true,
    "run_control": {
     "frozen": false,
     "read_only": false
    }
   },
   "outputs": [],
   "source": [
    "amt_util.get_assignment_statuses(assignment_results_current_batch )"
   ]
  },
  {
   "cell_type": "markdown",
   "metadata": {
    "hidden": true
   },
   "source": [
    "The commands above interact with mechanical turk and can take a while"
   ]
  },
  {
   "cell_type": "code",
   "execution_count": 28,
   "metadata": {
    "collapsed": false,
    "hidden": true,
    "run_control": {
     "frozen": false,
     "read_only": false
    }
   },
   "outputs": [],
   "source": [
    "results_df_shining_batch = amt_util.make_shining_results_df(raw_hit_results_current_batch)"
   ]
  },
  {
   "cell_type": "code",
   "execution_count": 55,
   "metadata": {
    "collapsed": false,
    "hidden": true,
    "run_control": {
     "frozen": false,
     "read_only": false
    }
   },
   "outputs": [
    {
     "data": {
      "text/html": [
       "<div>\n",
       "<table border=\"1\" class=\"dataframe\">\n",
       "  <thead>\n",
       "    <tr style=\"text-align: right;\">\n",
       "      <th></th>\n",
       "      <th>page</th>\n",
       "      <th>category</th>\n",
       "      <th>hit_id</th>\n",
       "      <th>assignment_id</th>\n",
       "      <th>id</th>\n",
       "      <th>worker_id</th>\n",
       "      <th>group_n</th>\n",
       "    </tr>\n",
       "  </thead>\n",
       "  <tbody>\n",
       "    <tr>\n",
       "      <th>0</th>\n",
       "      <td>1315.png</td>\n",
       "      <td>[unlabeled, IntraObjectLabel]</td>\n",
       "      <td>3MQY1YVHS3LEMHOKHUK37KB3Q9U2BB</td>\n",
       "      <td>378XPAWRUCEG1CVOQLA1O9TVBCBAI0</td>\n",
       "      <td>T4</td>\n",
       "      <td>A31Z1QJOPW8QID</td>\n",
       "      <td>[[0, 0], [8, 1]]</td>\n",
       "    </tr>\n",
       "  </tbody>\n",
       "</table>\n",
       "</div>"
      ],
      "text/plain": [
       "       page                       category                          hit_id  \\\n",
       "0  1315.png  [unlabeled, IntraObjectLabel]  3MQY1YVHS3LEMHOKHUK37KB3Q9U2BB   \n",
       "\n",
       "                    assignment_id  id       worker_id           group_n  \n",
       "0  378XPAWRUCEG1CVOQLA1O9TVBCBAI0  T4  A31Z1QJOPW8QID  [[0, 0], [8, 1]]  "
      ]
     },
     "execution_count": 55,
     "metadata": {},
     "output_type": "execute_result"
    }
   ],
   "source": [
    "results_df_shining_batch.head(1)"
   ]
  },
  {
   "cell_type": "code",
   "execution_count": 304,
   "metadata": {
    "collapsed": false,
    "hidden": true,
    "run_control": {
     "frozen": false,
     "read_only": false
    }
   },
   "outputs": [],
   "source": [
    "rel_dict = rbuild.build_relationship_dict(results_df_shining_batch)\n",
    "rel_to_add = rbuild.build_relationships(rel_dict)"
   ]
  },
  {
   "cell_type": "code",
   "execution_count": 305,
   "metadata": {
    "collapsed": true,
    "hidden": true,
    "run_control": {
     "frozen": false,
     "read_only": false
    }
   },
   "outputs": [],
   "source": [
    "image_dir = './images/' \n",
    "anno_dir = './simpleAnnotations/'\n",
    "new_anno_dir = './newAnnotations/'\n",
    "test_image_file = '1311.png'\n",
    "test_anno_file = test_image_file + '.json'"
   ]
  },
  {
   "cell_type": "code",
   "execution_count": 306,
   "metadata": {
    "collapsed": false,
    "hidden": true,
    "run_control": {
     "frozen": false,
     "read_only": false
    }
   },
   "outputs": [],
   "source": [
    "append_to_annotations(anno_dir, new_anno_dir, test_anno_file, rel_to_add)"
   ]
  },
  {
   "cell_type": "markdown",
   "metadata": {
    "heading_collapsed": true
   },
   "source": [
    "### consensus"
   ]
  },
  {
   "cell_type": "code",
   "execution_count": 237,
   "metadata": {
    "collapsed": true,
    "hidden": true,
    "run_control": {
     "frozen": false,
     "read_only": false
    }
   },
   "outputs": [],
   "source": [
    "# results_df_question_batch['group_memberships'] = results_df_question_batch['g_list'].apply(lambda x:[el[0] for el in x if el[0] > 0])"
   ]
  },
  {
   "cell_type": "code",
   "execution_count": 158,
   "metadata": {
    "collapsed": false,
    "hidden": true,
    "run_control": {
     "frozen": false,
     "read_only": false
    }
   },
   "outputs": [],
   "source": [
    "# consensus_results_df_current_batch = amt_util.make_consensus_df(results_df_question_batch, 'No Consensus')"
   ]
  },
  {
   "cell_type": "code",
   "execution_count": 319,
   "metadata": {
    "collapsed": true,
    "hidden": true,
    "run_control": {
     "frozen": false,
     "read_only": false
    }
   },
   "outputs": [],
   "source": [
    "question_cats = ['Multiple Choice',\n",
    "                 'Fill-in-the-Blank',\n",
    "                 'Short Answer',\n",
    "                 'Discussion']"
   ]
  },
  {
   "cell_type": "code",
   "execution_count": 332,
   "metadata": {
    "collapsed": false,
    "hidden": true,
    "run_control": {
     "frozen": false,
     "read_only": false
    }
   },
   "outputs": [],
   "source": [
    "question_only_cons_df = consensus_results_df_current_batch[consensus_results_df_current_batch['box_id'].apply(lambda x:x[0] == 'Q' ) | consensus_results_df_current_batch['category'].isin(question_cats)]"
   ]
  },
  {
   "cell_type": "code",
   "execution_count": 312,
   "metadata": {
    "collapsed": false,
    "hidden": true,
    "run_control": {
     "frozen": false,
     "read_only": false
    }
   },
   "outputs": [],
   "source": [
    "no_consensus_hits_cat = consensus_results_df_current_batch[consensus_results_df_current_batch['category'] == 'No Consensus']\n",
    "\n",
    "flaw_rate = len(no_consensus_hits_cat) / len(consensus_results_df_current_batch)\n",
    "print 'question boxes without category consensus comprise ' + '{0:0.2f}% '.format(flaw_rate * 100) + 'of the total'  "
   ]
  },
  {
   "cell_type": "markdown",
   "metadata": {
    "hidden": true
   },
   "source": [
    "These numbers differ because-\n",
    "1. The first counts non-con results from the first round (non-question results)\n",
    "\n",
    "2. The second counts only boxes either previously marked as a question, or selected in ths round"
   ]
  },
  {
   "cell_type": "code",
   "execution_count": 338,
   "metadata": {
    "collapsed": false,
    "hidden": true,
    "run_control": {
     "frozen": false,
     "read_only": false
    }
   },
   "outputs": [],
   "source": [
    "no_consensus_hits_cat = question_only_cons_df[question_only_cons_df['category'] == 'No Consensus']\n",
    "\n",
    "flaw_rate = len(no_consensus_hits_cat) / len(question_only_cons_df)\n",
    "print 'question boxes without category consensus comprise ' + '{0:0.2f}% '.format(flaw_rate * 100) + 'of the total'  "
   ]
  },
  {
   "cell_type": "code",
   "execution_count": 315,
   "metadata": {
    "collapsed": false,
    "hidden": true,
    "run_control": {
     "frozen": false,
     "read_only": false
    },
    "scrolled": true
   },
   "outputs": [],
   "source": [
    "amt_util.write_results_df(consensus_results_df_current_batch, 'annotations-w-questions/', 'simpler-test-questions/')"
   ]
  },
  {
   "cell_type": "code",
   "execution_count": 317,
   "metadata": {
    "collapsed": false,
    "hidden": true,
    "run_control": {
     "frozen": false,
     "read_only": false
    }
   },
   "outputs": [],
   "source": [
    "# consensus_results_df_current_batch[consensus_results_df_current_batch['page'] == 'Spectrum_Science_Grade_8_8.jpeg']"
   ]
  },
  {
   "cell_type": "markdown",
   "metadata": {
    "heading_collapsed": true
   },
   "source": [
    "## **sending to review tool**"
   ]
  },
  {
   "cell_type": "markdown",
   "metadata": {
    "heading_collapsed": true,
    "hidden": true
   },
   "source": [
    "### randomly sampling HITs "
   ]
  },
  {
   "cell_type": "code",
   "execution_count": 375,
   "metadata": {
    "collapsed": true,
    "hidden": true,
    "run_control": {
     "frozen": false,
     "read_only": false
    }
   },
   "outputs": [],
   "source": [
    "pages_to_review = np.unique(consensus_results_df_current_batch['page'])"
   ]
  },
  {
   "cell_type": "code",
   "execution_count": 376,
   "metadata": {
    "collapsed": false,
    "hidden": true,
    "run_control": {
     "frozen": false,
     "read_only": false
    }
   },
   "outputs": [],
   "source": [
    "sampling_rate = 0.1\n",
    "sample_size = int(len(pages_to_review) * sampling_rate)\n",
    "sampled_pages_to_review = list(np.random.choice(pages_to_review, size= sample_size, replace=False))\n",
    "print 'sampling ' + str(sample_size) + ' pages out of ' + str(len(pages_to_review))\n",
    "to_review = ['start_seq'] + sampled_pages_to_review"
   ]
  },
  {
   "cell_type": "code",
   "execution_count": 377,
   "metadata": {
    "collapsed": false,
    "hidden": true,
    "run_control": {
     "frozen": false,
     "read_only": false
    }
   },
   "outputs": [],
   "source": [
    "anno_dir = 'simpler-test-questions/'\n",
    "amt_util.review_results(to_review, anno_dir)\n",
    "print 'posting to review tool, navigate to http://localhost:8080/ to see the sampled consensus results'"
   ]
  },
  {
   "cell_type": "markdown",
   "metadata": {
    "heading_collapsed": true,
    "hidden": true
   },
   "source": [
    "### sampling no consensus"
   ]
  },
  {
   "cell_type": "code",
   "execution_count": 378,
   "metadata": {
    "collapsed": true,
    "hidden": true,
    "run_control": {
     "frozen": false,
     "read_only": false
    }
   },
   "outputs": [],
   "source": [
    "pages_to_review =pd.unique(no_consensus_hits_cat['page'])"
   ]
  },
  {
   "cell_type": "code",
   "execution_count": 379,
   "metadata": {
    "collapsed": false,
    "hidden": true,
    "run_control": {
     "frozen": false,
     "read_only": false
    }
   },
   "outputs": [],
   "source": [
    "sampling_rate = 0.5\n",
    "sample_size = int(len(pages_to_review) * sampling_rate)\n",
    "sampled_pages_to_review = list(np.random.choice(pages_to_review, size= sample_size, replace=False))\n",
    "print 'sampling ' + str(sample_size) + ' pages out of ' + str(len(pages_to_review))\n",
    "to_review = ['start_seq'] + sampled_pages_to_review"
   ]
  },
  {
   "cell_type": "code",
   "execution_count": 380,
   "metadata": {
    "collapsed": false,
    "hidden": true,
    "run_control": {
     "frozen": false,
     "read_only": false
    }
   },
   "outputs": [],
   "source": [
    "anno_dir = 'simpler-test-questions/'\n",
    "amt_util.review_results(to_review, anno_dir)\n",
    "print 'posting to review tool, navigate to http://localhost:8080/ to see the sampled consensus results'"
   ]
  },
  {
   "cell_type": "markdown",
   "metadata": {
    "heading_collapsed": true,
    "hidden": true
   },
   "source": [
    "### looking at individual workers"
   ]
  },
  {
   "cell_type": "code",
   "execution_count": 276,
   "metadata": {
    "collapsed": true,
    "hidden": true,
    "run_control": {
     "frozen": false,
     "read_only": false
    }
   },
   "outputs": [],
   "source": [
    "ind_worker_dir = 'individual-worker-results/'"
   ]
  },
  {
   "cell_type": "code",
   "execution_count": 342,
   "metadata": {
    "collapsed": false,
    "hidden": true,
    "run_control": {
     "frozen": false,
     "read_only": false
    }
   },
   "outputs": [],
   "source": [
    "bad_and_prolific_to_review"
   ]
  },
  {
   "cell_type": "code",
   "execution_count": 384,
   "metadata": {
    "collapsed": false,
    "hidden": true,
    "run_control": {
     "frozen": false,
     "read_only": false
    }
   },
   "outputs": [],
   "source": [
    "# workers_to_review = turkers_contacted_me[:1]\n",
    "workers_to_review = really_bad_workers_to_review\n",
    "subset_by_worker = results_df_question_batch[results_df_question_batch['worker_id'].isin(workers_to_review)]\n",
    "\n",
    "amt_util.write_results_df(subset_by_worker, 'annotations-w-questions/', ind_worker_dir)\n",
    "pages_to_review = pd.unique(subset_by_worker['page']).tolist()\n",
    "to_review = ['start_seq'] + pages_to_review "
   ]
  },
  {
   "cell_type": "code",
   "execution_count": 383,
   "metadata": {
    "collapsed": false,
    "hidden": true,
    "run_control": {
     "frozen": false,
     "read_only": false
    }
   },
   "outputs": [],
   "source": [
    "anno_dir = ind_worker_dir\n",
    "amt_util.review_results(to_review, anno_dir)\n",
    "print 'posting to review tool, navigate to http://localhost:8080/ to see the sampled consensus results'"
   ]
  },
  {
   "cell_type": "markdown",
   "metadata": {
    "heading_collapsed": true,
    "hidden": true
   },
   "source": [
    "### store cells"
   ]
  },
  {
   "cell_type": "code",
   "execution_count": 207,
   "metadata": {
    "collapsed": true,
    "hidden": true,
    "run_control": {
     "frozen": false,
     "read_only": false
    }
   },
   "outputs": [],
   "source": [
    "multi_choice_pages = consensus_results_df_complete[consensus_results_df_complete['category'] == 'Multiple Choice']\n",
    "pages_to_review =pd.unique(multi_choice_pages['page'])\n",
    "to_review = ['start_seq'] + pages_to_review.tolist()\n",
    "\n",
    "# consensus_results_df_complete = amt_util.make_consensus_df(results_df_question_batch, 'No Consensus')\n",
    "consensus_results_df_complete = combined_consensus_df\n",
    "\n",
    "# amt_util.write_results_df(consensus_results_df_complete, 'annotations-w-questions/' ,'labeled-questions/')\n",
    "\n",
    "spdf = results_df_question_batch[results_df_question_batch['page'] == 'Spectrum_Science_Grade_3_80.jpeg']\n",
    "\n",
    "amt_util.write_results_df(spdf, 'annotations-w-questions/', 'simpler-test-questions/')\n",
    "\n",
    "## all pages from the latest batch\n",
    "pages_to_review =pd.unique(consensus_results_df_complete['page'])\n",
    "to_review = ['start_seq'] + pages_to_review.tolist()\n",
    "\n",
    "# all pages from the latest batch with a no-consensus box\n",
    "# pages_to_review =pd.unique(no_consensus_hits['page'])\n",
    "\n",
    "pd.Series(to_review[1:]).to_pickle('rev_seq.pkl')\n",
    "\n",
    "single_page = ['Daily_Science_Grade_2_Evan_Moor_33.jpeg']\n",
    "\n",
    "problem_pages = pd.read_pickle('problem_pages.pkl').tolist()\n",
    "\n",
    "to_review = ['start_seq'] + problem_pages\n",
    "\n",
    "to_review = ['start_seq'] + single_page\n",
    "\n",
    "suspect_subset = combined_results_df[combined_results_df['worker_id'].isin(bad_and_prolific_to_review)]\n",
    "# suspect_subset = combined_results_df[combined_results_df['worker_id'].isin(['A3VE5OH94HYHET'])]\n",
    "amt_util.write_results_df(suspect_subset, 'annotations-w-questions/' ,'labeled-questions2/')\n",
    "pages_to_review = pd.unique(suspect_subset['page'])"
   ]
  },
  {
   "cell_type": "code",
   "execution_count": 150,
   "metadata": {
    "collapsed": true,
    "hidden": true,
    "run_control": {
     "frozen": false,
     "read_only": false
    }
   },
   "outputs": [],
   "source": [
    "## all pages from the latest batch\n",
    "pages_to_review =pd.unique(results_df_question_batch['page'])\n",
    "to_review = ['start_seq'] + pages_to_review.tolist()"
   ]
  },
  {
   "cell_type": "code",
   "execution_count": null,
   "metadata": {
    "collapsed": true,
    "hidden": true,
    "run_control": {
     "frozen": false,
     "read_only": false
    }
   },
   "outputs": [],
   "source": [
    "%%capture \n",
    "# all pages from the latest batch with a no-consensus box\n",
    "suspect_subset = results_df_current_batch[results_df_current_batch['worker_id'].isin(suspect_workers[:5])]\n",
    "amt_util.write_results_df(suspect_subset)\n",
    "pages_to_review = pd.unique(suspect_subset['page'])"
   ]
  },
  {
   "cell_type": "markdown",
   "metadata": {
    "heading_collapsed": true
   },
   "source": [
    "# Merging latest round of HITs into combined dataset  "
   ]
  },
  {
   "cell_type": "markdown",
   "metadata": {
    "heading_collapsed": true,
    "hidden": true
   },
   "source": [
    "## Load prior complete dataset if not in memory"
   ]
  },
  {
   "cell_type": "code",
   "execution_count": 17,
   "metadata": {
    "collapsed": true,
    "hidden": true,
    "run_control": {
     "frozen": false,
     "read_only": false
    }
   },
   "outputs": [],
   "source": [
    "data_pickled_dir = './store_hit_results_metadata/question_anno/group_latest_combined/' "
   ]
  },
  {
   "cell_type": "code",
   "execution_count": 18,
   "metadata": {
    "collapsed": false,
    "hidden": true,
    "run_control": {
     "frozen": false,
     "read_only": false
    }
   },
   "outputs": [],
   "source": [
    "combined_results_df = pd.read_pickle(data_pickled_dir + 'complete_df.pkl')\n",
    "combined_consensus_df = pd.read_pickle(data_pickled_dir + 'consensus_df.pkl')\n",
    "combined_consensus_with_workerid_df = pd.read_pickle(data_pickled_dir + 'consensus_df_w_workers.pkl') "
   ]
  },
  {
   "cell_type": "code",
   "execution_count": 19,
   "metadata": {
    "collapsed": false,
    "hidden": true,
    "run_control": {
     "frozen": false,
     "read_only": false
    }
   },
   "outputs": [],
   "source": [
    "amt_util.count_pages_in_df(combined_consensus_with_workerid_df)"
   ]
  },
  {
   "cell_type": "markdown",
   "metadata": {
    "heading_collapsed": true,
    "hidden": true
   },
   "source": [
    "## Updating full dataset"
   ]
  },
  {
   "cell_type": "code",
   "execution_count": 15,
   "metadata": {
    "collapsed": false,
    "hidden": true,
    "run_control": {
     "frozen": false,
     "read_only": false
    }
   },
   "outputs": [],
   "source": [
    "combined_results_df = results_df_question_batch\n",
    "combined_consensus_df = consensus_results_df_complete\n",
    "combined_consensus_with_workerid_df = consensus_with_workerid_df"
   ]
  },
  {
   "cell_type": "markdown",
   "metadata": {
    "heading_collapsed": true,
    "hidden": true
   },
   "source": [
    "## Working with full dataset"
   ]
  },
  {
   "cell_type": "code",
   "execution_count": 16,
   "metadata": {
    "collapsed": true,
    "hidden": true,
    "run_control": {
     "frozen": false,
     "read_only": false
    }
   },
   "outputs": [],
   "source": [
    "%%capture\n",
    "no_consensus_hits = combined_consensus_df[combined_consensus_df['category'] == 'No Consensus']"
   ]
  },
  {
   "cell_type": "code",
   "execution_count": 964,
   "metadata": {
    "collapsed": false,
    "hidden": true,
    "run_control": {
     "frozen": false,
     "read_only": false
    }
   },
   "outputs": [],
   "source": [
    "flaw_rate = len(no_consensus_hits) / len(combined_consensus_df)\n",
    "print 'text boxes without consensus are ' + '{0:0.2f}% '.format(flaw_rate * 100) + 'of the total'  "
   ]
  },
  {
   "cell_type": "code",
   "execution_count": 227,
   "metadata": {
    "collapsed": false,
    "hidden": true,
    "run_control": {
     "frozen": false,
     "read_only": false
    }
   },
   "outputs": [],
   "source": [
    "worker_quality_df[worker_quality_df['submitted'] > 50].sort_values('flaw_ratio', ascending= True).head(25)"
   ]
  },
  {
   "cell_type": "code",
   "execution_count": 205,
   "metadata": {
    "collapsed": false,
    "hidden": true,
    "run_control": {
     "frozen": false,
     "read_only": false
    }
   },
   "outputs": [],
   "source": [
    "bad_and_prolific_workers[:15]"
   ]
  },
  {
   "cell_type": "markdown",
   "metadata": {
    "hidden": true
   },
   "source": [
    "After looking through the top few offenders, it's clear that \n",
    "\n",
    "1. the very worst intentionally submitted many blank pages\n",
    "\n",
    "2. the rest didn't read the directions very closely\n",
    "\n",
    "3. I'm comfortable rejecting the work of those with > 100 submissions\n",
    "\n",
    "4. I'll ban the worst 15 from future HITs\n"
   ]
  },
  {
   "cell_type": "code",
   "execution_count": 49,
   "metadata": {
    "collapsed": true,
    "hidden": true,
    "run_control": {
     "frozen": false,
     "read_only": false
    }
   },
   "outputs": [],
   "source": [
    "amt_util.write_results_df(combined_consensus_df)"
   ]
  },
  {
   "cell_type": "code",
   "execution_count": 45,
   "metadata": {
    "collapsed": true,
    "hidden": true,
    "run_control": {
     "frozen": false,
     "read_only": false
    }
   },
   "outputs": [],
   "source": [
    "# all pages from the complete\n",
    "pages_to_review =pd.unique(combined_consensus_df['page'])"
   ]
  },
  {
   "cell_type": "code",
   "execution_count": 165,
   "metadata": {
    "collapsed": true,
    "hidden": true,
    "run_control": {
     "frozen": false,
     "read_only": false
    }
   },
   "outputs": [],
   "source": [
    "# all pages from the complete dataset with a no-consensus box\n",
    "pages_to_review =pd.unique(no_consensus_hits['page'])"
   ]
  },
  {
   "cell_type": "code",
   "execution_count": 208,
   "metadata": {
    "collapsed": false,
    "hidden": true,
    "run_control": {
     "frozen": false,
     "read_only": false
    }
   },
   "outputs": [],
   "source": [
    "%%capture \n",
    "# all pages from the latest batch with a no-consensus box\n",
    "suspect_subset = combined_results_df[combined_results_df['worker_id'].isin(bad_and_prolific_to_review[10:15])]\n",
    "amt_util.write_results_df(suspect_subset)\n",
    "pages_to_review = pd.unique(suspect_subset['page'])"
   ]
  },
  {
   "cell_type": "code",
   "execution_count": 50,
   "metadata": {
    "collapsed": false,
    "hidden": true,
    "run_control": {
     "frozen": false,
     "read_only": false
    }
   },
   "outputs": [],
   "source": [
    "sampling_rate = 0.2\n",
    "sample_size = int(len(pages_to_review) * sampling_rate)\n",
    "sampled_pages_to_review = list(np.random.choice(pages_to_review, size= sample_size, replace=False))\n",
    "print 'sampling ' + str(sample_size) + ' pages out of ' + str(len(pages_to_review))\n",
    "to_review = ['start_seq'] + sampled_pages_to_review"
   ]
  },
  {
   "cell_type": "code",
   "execution_count": 51,
   "metadata": {
    "collapsed": false,
    "hidden": true,
    "run_control": {
     "frozen": false,
     "read_only": false
    }
   },
   "outputs": [],
   "source": [
    "amt_util.review_results(to_review)\n",
    "print 'posting to review tool, navigate to http://localhost:8080/ to see the sampled consensus results'"
   ]
  },
  {
   "cell_type": "markdown",
   "metadata": {
    "heading_collapsed": true
   },
   "source": [
    "# Worker Analysis"
   ]
  },
  {
   "cell_type": "markdown",
   "metadata": {
    "heading_collapsed": true,
    "hidden": true
   },
   "source": [
    "## Basic worker stats"
   ]
  },
  {
   "cell_type": "code",
   "execution_count": 209,
   "metadata": {
    "collapsed": false,
    "hidden": true,
    "run_control": {
     "frozen": false,
     "read_only": false
    }
   },
   "outputs": [],
   "source": [
    "consensus_with_workerid_df = amt_util.make_consensus_df_w_worker_id(results_df_question_batch, consensus_results_df_current_batch)"
   ]
  },
  {
   "cell_type": "code",
   "execution_count": 250,
   "metadata": {
    "collapsed": false,
    "hidden": true,
    "run_control": {
     "frozen": false,
     "read_only": false
    },
    "scrolled": true
   },
   "outputs": [],
   "source": [
    "print 'number of unique workers:', pd.unique(results_df_question_batch['worker_id']).shape[0]"
   ]
  },
  {
   "cell_type": "code",
   "execution_count": 212,
   "metadata": {
    "collapsed": true,
    "hidden": true,
    "run_control": {
     "frozen": false,
     "read_only": false
    }
   },
   "outputs": [],
   "source": [
    "_ = results_df_question_batch['worker_id'].value_counts().hist(bins= 30)"
   ]
  },
  {
   "cell_type": "markdown",
   "metadata": {
    "heading_collapsed": true,
    "hidden": true
   },
   "source": [
    "### HIT duration for pricing"
   ]
  },
  {
   "cell_type": "code",
   "execution_count": 213,
   "metadata": {
    "collapsed": false,
    "hidden": true,
    "run_control": {
     "frozen": false,
     "read_only": false
    }
   },
   "outputs": [],
   "source": [
    "task_duration_seconds = []\n",
    "for hit_id, assignments in assignment_results_current_batch.items():\n",
    "    for assignment in assignments:\n",
    "        hit_duration = dt_parse.parse(assignment.SubmitTime) - dt_parse.parse(assignment.AcceptTime)\n",
    "        task_duration_seconds.append(hit_duration.seconds)"
   ]
  },
  {
   "cell_type": "code",
   "execution_count": 214,
   "metadata": {
    "collapsed": false,
    "hidden": true,
    "run_control": {
     "frozen": false,
     "read_only": false
    }
   },
   "outputs": [],
   "source": [
    "task_duration_series = pd.Series(task_duration_seconds)"
   ]
  },
  {
   "cell_type": "code",
   "execution_count": 94,
   "metadata": {
    "collapsed": true,
    "hidden": true,
    "run_control": {
     "frozen": false,
     "read_only": false
    }
   },
   "outputs": [],
   "source": [
    "_ = task_duration_series.hist(bins=30, log=True)"
   ]
  },
  {
   "cell_type": "code",
   "execution_count": 220,
   "metadata": {
    "collapsed": false,
    "hidden": true,
    "run_control": {
     "frozen": false,
     "read_only": false
    }
   },
   "outputs": [],
   "source": [
    "winsorized_durations = [t for t in task_duration_seconds if t < 150]\n",
    "w_duration_series = pd.Series(winsorized_durations)"
   ]
  },
  {
   "cell_type": "code",
   "execution_count": 221,
   "metadata": {
    "collapsed": false,
    "hidden": true,
    "run_control": {
     "frozen": false,
     "read_only": false
    }
   },
   "outputs": [],
   "source": [
    "_ = pd.Series(w_duration_series).hist(bins=60)\n",
    "plt.title('Worker task duration', fontsize=50, verticalalignment='bottom', color = b16_colors.b)\n",
    "plt.ylabel(\"Number of Workers\", fontsize=30, labelpad=10, color = b16_colors.b)\n",
    "plt.xlabel(\"Seconds Spent on HIT\", fontsize=30, labelpad=10, color = b16_colors.b)\n",
    "plt.tick_params(axis='x', which='major', labelsize=20)\n",
    "plt.tick_params(axis='y', which='major', labelsize=20)"
   ]
  },
  {
   "cell_type": "code",
   "execution_count": 224,
   "metadata": {
    "collapsed": false,
    "hidden": true,
    "run_control": {
     "frozen": false,
     "read_only": false
    }
   },
   "outputs": [],
   "source": [
    "dur_mode = w_duration_series.mode().values[0]\n",
    "dur_median = w_duration_series.median()\n",
    "print 'duration mode= ' + str(dur_mode)\n",
    "print 'duration median= ' + str(dur_median)"
   ]
  },
  {
   "cell_type": "markdown",
   "metadata": {
    "heading_collapsed": true,
    "hidden": true
   },
   "source": [
    "### HIT pricing check"
   ]
  },
  {
   "cell_type": "markdown",
   "metadata": {
    "hidden": true
   },
   "source": [
    "We'd like the effective hourly rate to be between 10-12 dollars. This is considered equitable in the world of mechanical turk."
   ]
  },
  {
   "cell_type": "code",
   "execution_count": 241,
   "metadata": {
    "collapsed": false,
    "hidden": true,
    "run_control": {
     "frozen": false,
     "read_only": false
    }
   },
   "outputs": [],
   "source": [
    "hits_per_hour_high = 3600 / dur_mode\n",
    "hits_per_hour_low = 3600 / dur_median\n",
    "print 'effective hourly rate = $', hits_per_hour_low * static_params['amount'], 'to' , hits_per_hour_high * static_params['amount']"
   ]
  },
  {
   "cell_type": "markdown",
   "metadata": {
    "heading_collapsed": true,
    "hidden": true
   },
   "source": [
    "## Identifying high and low consensus workers"
   ]
  },
  {
   "cell_type": "markdown",
   "metadata": {
    "heading_collapsed": true,
    "hidden": true
   },
   "source": [
    "### high"
   ]
  },
  {
   "cell_type": "code",
   "execution_count": 244,
   "metadata": {
    "collapsed": false,
    "hidden": true,
    "run_control": {
     "frozen": false,
     "read_only": false
    }
   },
   "outputs": [],
   "source": [
    "worker_conflicts = consensus_with_workerid_df[consensus_with_workerid_df['category'] != consensus_with_workerid_df['consensus_category']]\n",
    "all_worker_counts = results_df_question_batch['worker_id'].value_counts()\n",
    "bad_worker_counts = worker_conflicts['worker_id'].value_counts()\n",
    "worker_quality_df = pd.DataFrame([all_worker_counts, bad_worker_counts]).T\n",
    "worker_quality_df.columns=['submitted', 'incorrect']\n",
    "worker_quality_df['flaw_ratio'] = worker_quality_df['incorrect']/worker_quality_df['submitted']\n",
    "good_workers = worker_quality_df.sort_values('flaw_ratio', ascending= True).index.tolist()\n",
    "\n",
    "worker_quality_df.sort_values('flaw_ratio', ascending= True).head(10)"
   ]
  },
  {
   "cell_type": "code",
   "execution_count": 263,
   "metadata": {
    "collapsed": false,
    "hidden": true,
    "run_control": {
     "frozen": false,
     "read_only": false
    }
   },
   "outputs": [],
   "source": [
    "good_and_prolific_workers = worker_quality_df.sort_values('flaw_ratio', ascending= True).head(10).index.tolist()"
   ]
  },
  {
   "cell_type": "markdown",
   "metadata": {
    "hidden": true
   },
   "source": [
    "I became concerned that I missed the perfect performers, but as I suspected perfect workers only did 1-2 HITs at most"
   ]
  },
  {
   "cell_type": "code",
   "execution_count": 66,
   "metadata": {
    "collapsed": false,
    "hidden": true,
    "run_control": {
     "frozen": false,
     "read_only": false
    }
   },
   "outputs": [],
   "source": [
    "# aw_set = set(all_worker_counts.index)\n",
    "# bw_set = set(bad_worker_counts.index)\n",
    "# flawless_workers = list(aw_set.difference(bw_set))\n",
    "# all_worker_counts[all_worker_counts.index.isin(best_workers)]"
   ]
  },
  {
   "cell_type": "markdown",
   "metadata": {
    "heading_collapsed": true,
    "hidden": true
   },
   "source": [
    "### low"
   ]
  },
  {
   "cell_type": "code",
   "execution_count": 292,
   "metadata": {
    "collapsed": false,
    "hidden": true,
    "run_control": {
     "frozen": false,
     "read_only": false
    }
   },
   "outputs": [],
   "source": [
    "bad_and_prolific_workers = worker_quality_df.sort_values('flaw_ratio', ascending= False).head(25).sort_values('incorrect', ascending= False)"
   ]
  },
  {
   "cell_type": "code",
   "execution_count": 362,
   "metadata": {
    "collapsed": false,
    "hidden": true,
    "run_control": {
     "frozen": false,
     "read_only": false
    }
   },
   "outputs": [],
   "source": [
    "bad_and_prolific_to_review = list(bad_and_prolific_workers[:5].index)\n",
    "really_bad_workers_to_review = list(really_bad_workers[:5].index)"
   ]
  },
  {
   "cell_type": "code",
   "execution_count": 294,
   "metadata": {
    "collapsed": false,
    "hidden": true,
    "run_control": {
     "frozen": false,
     "read_only": false
    }
   },
   "outputs": [],
   "source": [
    "bad_and_prolific_workers.head(15)"
   ]
  },
  {
   "cell_type": "code",
   "execution_count": 381,
   "metadata": {
    "collapsed": false,
    "hidden": true,
    "run_control": {
     "frozen": false,
     "read_only": false
    }
   },
   "outputs": [],
   "source": [
    "really_bad_workers = bad_and_prolific_workers[bad_and_prolific_workers['flaw_ratio'] > 0.5]\n",
    "really_bad_workers"
   ]
  },
  {
   "cell_type": "markdown",
   "metadata": {
    "collapsed": true,
    "hidden": true,
    "run_control": {
     "frozen": false,
     "read_only": false
    }
   },
   "source": [
    "bad worker decisions-\n",
    "\n",
    "1- didn't read directions\n",
    "\n",
    "2- many blank pages\n",
    "\n",
    "3- many blank pages\n",
    "\n",
    "4- incomplete\n",
    "\n",
    "the really bad workers are largely incomplete"
   ]
  },
  {
   "cell_type": "markdown",
   "metadata": {
    "heading_collapsed": true,
    "hidden": true
   },
   "source": [
    "## Email contact with workers"
   ]
  },
  {
   "cell_type": "code",
   "execution_count": 253,
   "metadata": {
    "collapsed": false,
    "hidden": true,
    "run_control": {
     "frozen": false,
     "read_only": false
    }
   },
   "outputs": [],
   "source": [
    "turkers_contacted_me = turkmail_util.get_latest_worker_communication()"
   ]
  },
  {
   "cell_type": "code",
   "execution_count": 257,
   "metadata": {
    "collapsed": false,
    "hidden": true,
    "run_control": {
     "frozen": false,
     "read_only": false
    }
   },
   "outputs": [],
   "source": [
    "turkers_contacted_me = [w_id[0] for w_id in turkers_contacted_me.values()]"
   ]
  },
  {
   "cell_type": "code",
   "execution_count": 258,
   "metadata": {
    "collapsed": false,
    "hidden": true,
    "run_control": {
     "frozen": false,
     "read_only": false
    }
   },
   "outputs": [],
   "source": [
    "turkers_contacted_me"
   ]
  },
  {
   "cell_type": "code",
   "execution_count": 269,
   "metadata": {
    "collapsed": false,
    "hidden": true,
    "run_control": {
     "frozen": false,
     "read_only": false
    }
   },
   "outputs": [],
   "source": [
    "good_set = set(good_and_prolific_workers)\n",
    "bad_set = set(bad_and_prolific_to_review)\n",
    "contact_set = set(turkers_contacted_me)"
   ]
  },
  {
   "cell_type": "code",
   "execution_count": 271,
   "metadata": {
    "collapsed": false,
    "hidden": true,
    "run_control": {
     "frozen": false,
     "read_only": false
    }
   },
   "outputs": [],
   "source": [
    "print good_set.intersection(contact_set)\n",
    "print bad_set.intersection(contact_set)"
   ]
  },
  {
   "cell_type": "markdown",
   "metadata": {
    "hidden": true
   },
   "source": []
  },
  {
   "cell_type": "markdown",
   "metadata": {
    "heading_collapsed": true,
    "hidden": true
   },
   "source": [
    "## Messaging workers"
   ]
  },
  {
   "cell_type": "code",
   "execution_count": 889,
   "metadata": {
    "collapsed": true,
    "hidden": true,
    "run_control": {
     "frozen": false,
     "read_only": false
    }
   },
   "outputs": [],
   "source": [
    "subject = \"More science book annotation HITs are available\"\n",
    "message = \"\"\"\n",
    "Hello, \n",
    "\n",
    "If you're receiving this message you were among the top performers on the first group HITs I submitted.\n",
    "I've submitted another group of HITs, with more to follow in the next few days. \n",
    "I've added some additional instructions, and have removed the default instruction page (they can still be accessed by Read\n",
    "Instruction Button).\n",
    "\n",
    "Happy to get any feedback you might have for the new HITs.\n",
    "\"\"\""
   ]
  },
  {
   "cell_type": "code",
   "execution_count": 693,
   "metadata": {
    "collapsed": false,
    "hidden": true,
    "run_control": {
     "frozen": false,
     "read_only": false
    }
   },
   "outputs": [],
   "source": [
    "# _ = mturk.notify_workers(good_workers[:20], subject, message)"
   ]
  },
  {
   "cell_type": "markdown",
   "metadata": {},
   "source": [
    "# **HIT end-of-life**"
   ]
  },
  {
   "cell_type": "markdown",
   "metadata": {
    "heading_collapsed": true
   },
   "source": [
    "## Pickle latest results"
   ]
  },
  {
   "cell_type": "code",
   "execution_count": 208,
   "metadata": {
    "collapsed": true,
    "hidden": true,
    "run_control": {
     "frozen": false,
     "read_only": false
    }
   },
   "outputs": [],
   "source": [
    "#reset as needed\n",
    "# gn = 2"
   ]
  },
  {
   "cell_type": "code",
   "execution_count": 207,
   "metadata": {
    "collapsed": false,
    "hidden": true,
    "run_control": {
     "frozen": false,
     "read_only": false
    }
   },
   "outputs": [],
   "source": [
    "next_group = gn + 1\n",
    "group_n = '_' + str(gn) + '/'\n",
    "\n",
    "temp_store_dir = './store_hit_results_metadata/question_anno/group'\n",
    "try:\n",
    "    os.mkdir(temp_store_dir + group_n)\n",
    "except:\n",
    "    OSError\n",
    "    \n",
    "result_file_name = 'hit_info.pkl'\n",
    "assignment_file_name = 'assignment_info.pkl'\n",
    "raw_results_file_name = 'raw_res.pkl'\n",
    "complete_results_file = 'complete_df.pkl'\n",
    "consensus_results_file = 'consensus_df.pkl'\n",
    "\n",
    "amt_util.pickle_this(r_hits_current_batch, temp_store_dir + group_n + result_file_name)\n",
    "amt_util.pickle_this(assignment_results_current_batch, temp_store_dir + group_n + assignment_file_name)\n",
    "amt_util.pickle_this(results_df_question_batch, temp_store_dir + group_n + raw_results_file_name)\n",
    "# results_df_current_batch.to_pickle(temp_store_dir + group_n + complete_results_file)\n",
    "consensus_results_df_current_batch.to_pickle(temp_store_dir + group_n + consensus_results_file)\n",
    "print 'saved HIT batch number ' + str(gn)\n",
    "print 'now onto batch ' +str(next_group) \n",
    "gn = next_group"
   ]
  },
  {
   "cell_type": "markdown",
   "metadata": {
    "heading_collapsed": true
   },
   "source": [
    "## Pickle combined dataset"
   ]
  },
  {
   "cell_type": "code",
   "execution_count": 110,
   "metadata": {
    "collapsed": false,
    "hidden": true,
    "run_control": {
     "frozen": false,
     "read_only": false
    }
   },
   "outputs": [],
   "source": [
    "temp_store_dir = './store_hit_results_metadata/question_anno/group'\n",
    "group_n = '_latest_combined/'\n",
    "try:\n",
    "    os.mkdir(temp_store_dir + group_n)\n",
    "except:\n",
    "    OSError\n",
    "    \n",
    "complete_results_file = 'complete_df.pkl'\n",
    "consensus_results_file = 'consensus_df.pkl'\n",
    "consensus_results_file_w_workers = 'consensus_df_w_workers.pkl'\n",
    "\n",
    "combined_results_df.to_pickle(temp_store_dir + group_n + complete_results_file)\n",
    "combined_consensus_df.to_pickle(temp_store_dir + group_n + consensus_results_file)\n",
    "combined_consensus_with_workerid_df.to_pickle(temp_store_dir + group_n + consensus_results_file_w_workers)"
   ]
  },
  {
   "cell_type": "markdown",
   "metadata": {},
   "source": [
    "## Accepting and deleting HITs... careful with these"
   ]
  },
  {
   "cell_type": "markdown",
   "metadata": {
    "heading_collapsed": true
   },
   "source": [
    "### rejecting HITS, banning bad workers"
   ]
  },
  {
   "cell_type": "markdown",
   "metadata": {
    "hidden": true
   },
   "source": [
    "Uncomment only when ready to accept or delete hits"
   ]
  },
  {
   "cell_type": "code",
   "execution_count": 122,
   "metadata": {
    "collapsed": false,
    "hidden": true,
    "run_control": {
     "frozen": false,
     "read_only": false
    }
   },
   "outputs": [],
   "source": [
    "def reject_bad_assignments(rejected_assignment_ids, rejected_worker_ids):\n",
    "    for assignment in rejected_assignment_ids:\n",
    "        mturk.reject_assignment(assignment)\n",
    "        \n",
    "        rejection_message_subject = \"One of your HITs was rejected\"\n",
    "        \n",
    "        rejection_message = \"\"\"\n",
    "        Your HIT was rejected because it was either incomplete or largely incorrect.\n",
    "        \"\"\"\n",
    "        \n",
    "        mturk.notify_workers(rejected_worker_ids, rejection_message_subject, rejection_message)"
   ]
  },
  {
   "cell_type": "code",
   "execution_count": 155,
   "metadata": {
    "collapsed": true,
    "hidden": true,
    "run_control": {
     "frozen": false,
     "read_only": false
    }
   },
   "outputs": [],
   "source": [
    "workers_to_ban = bad_and_prolific_workers[:2].index.tolist()"
   ]
  },
  {
   "cell_type": "code",
   "execution_count": 156,
   "metadata": {
    "collapsed": false,
    "hidden": true,
    "run_control": {
     "frozen": false,
     "read_only": false
    }
   },
   "outputs": [],
   "source": [
    "workers_to_ban"
   ]
  },
  {
   "cell_type": "code",
   "execution_count": 157,
   "metadata": {
    "collapsed": false,
    "hidden": true,
    "run_control": {
     "frozen": false,
     "read_only": false
    }
   },
   "outputs": [],
   "source": [
    "number_rejected_assignments, number_rejected_workers = amt_util.reject_assignments(mturk, workers_to_ban, combined_consensus_with_workerid_df)\n",
    "print 'rejecting ' + str(number_rejected_assignments) + ' assignments' + ' from ' + str(number_rejected_workers) + ' workers'"
   ]
  },
  {
   "cell_type": "code",
   "execution_count": 174,
   "metadata": {
    "collapsed": true,
    "hidden": true,
    "run_control": {
     "frozen": false,
     "read_only": false
    }
   },
   "outputs": [],
   "source": [
    "# assignments_to_accept = []\n",
    "assignment_status = []\n",
    "for hit_id, assignments in assignment_results_after_rejects.items():\n",
    "    for assignment in assignments:\n",
    "        assignment_status.append(assignment.AssignmentStatus)\n",
    "        if assignment.AssignmentStatus == 'Submitted':\n",
    "            assignments_to_accept.append(assignment)\n",
    "status_series = pd.Series(assignment_status)"
   ]
  },
  {
   "cell_type": "code",
   "execution_count": 182,
   "metadata": {
    "collapsed": true,
    "hidden": true,
    "run_control": {
     "frozen": false,
     "read_only": false
    }
   },
   "outputs": [],
   "source": [
    "r_hits_after_rejects = amt_util.get_completed_hits(mturk)"
   ]
  },
  {
   "cell_type": "code",
   "execution_count": 183,
   "metadata": {
    "collapsed": true,
    "hidden": true,
    "run_control": {
     "frozen": false,
     "read_only": false
    }
   },
   "outputs": [],
   "source": [
    "assignment_results_after_rejects = amt_util.get_assignments(mturk, r_hits_after_rejects)"
   ]
  },
  {
   "cell_type": "markdown",
   "metadata": {
    "heading_collapsed": true
   },
   "source": [
    "### accepting HITS"
   ]
  },
  {
   "cell_type": "code",
   "execution_count": 184,
   "metadata": {
    "collapsed": true,
    "hidden": true,
    "run_control": {
     "frozen": false,
     "read_only": false
    }
   },
   "outputs": [],
   "source": [
    "# amt_util.accept_hits(mturk, assignment_results_after_rejects)"
   ]
  },
  {
   "cell_type": "markdown",
   "metadata": {},
   "source": [
    "### deleting all HITS"
   ]
  },
  {
   "cell_type": "code",
   "execution_count": 39,
   "metadata": {
    "collapsed": false,
    "run_control": {
     "frozen": false,
     "read_only": false
    }
   },
   "outputs": [],
   "source": [
    "amt_util.delete_all_hits(mturk)"
   ]
  },
  {
   "cell_type": "markdown",
   "metadata": {
    "heading_collapsed": true
   },
   "source": [
    "# End"
   ]
  },
  {
   "cell_type": "code",
   "execution_count": 47,
   "metadata": {
    "collapsed": true,
    "hidden": true,
    "run_control": {
     "frozen": false,
     "read_only": false
    }
   },
   "outputs": [],
   "source": [
    "images_to_test = ['1262.png', '1311.png', '1315.png', '1503.png', '193.png', '2822.png', '4106.png', '4138.png', '4930.png', '4947.png', '4949.png', '61.png','77.png']"
   ]
  }
 ],
 "metadata": {
  "kernelspec": {
   "display_name": "Python 2",
   "language": "python",
   "name": "python2"
  },
  "language_info": {
   "codemirror_mode": {
    "name": "ipython",
    "version": 2
   },
   "file_extension": ".py",
   "mimetype": "text/x-python",
   "name": "python",
   "nbconvert_exporter": "python",
   "pygments_lexer": "ipython2",
   "version": "2.7.10"
  }
 },
 "nbformat": 4,
 "nbformat_minor": 0
}
