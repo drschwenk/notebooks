{
 "cells": [
  {
   "cell_type": "markdown",
   "metadata": {
    "heading_collapsed": true
   },
   "source": [
    "# Table of Contents\n",
    "* [Investigating programatically recovering hierarchy](#Investigating-programatically-recovering-hierarchy)\n",
    "* [End](#End)\n"
   ]
  },
  {
   "cell_type": "code",
   "execution_count": 3,
   "metadata": {
    "collapsed": true,
    "hidden": true
   },
   "outputs": [],
   "source": [
    "%%capture\n",
    "from __future__ import division\n",
    "import numpy as np\n",
    "import pandas as pd\n",
    "import scipy.stats as st\n",
    "import itertools\n",
    "import math\n",
    "from collections import Counter, defaultdict, OrderedDict\n",
    "%load_ext autoreload\n",
    "%autoreload 2"
   ]
  },
  {
   "cell_type": "code",
   "execution_count": 4,
   "metadata": {
    "collapsed": false,
    "hidden": true
   },
   "outputs": [],
   "source": [
    "import pickle\n",
    "import json\n",
    "import glob\n",
    "import pprint"
   ]
  },
  {
   "cell_type": "code",
   "execution_count": 5,
   "metadata": {
    "collapsed": false,
    "hidden": true
   },
   "outputs": [],
   "source": [
    "import pdfextraction.merge as me\n",
    "import pdfextraction.unmerge as um\n",
    "import pdfextraction.amt_boto_modules as amt"
   ]
  },
  {
   "cell_type": "markdown",
   "metadata": {},
   "source": [
    "# Investigating programatically recovering hierarchy"
   ]
  },
  {
   "cell_type": "code",
   "execution_count": 6,
   "metadata": {
    "collapsed": true
   },
   "outputs": [],
   "source": [
    "base_path = 'ai2-vision-turk-data/textbook-annotation-test/labeled-questions/'"
   ]
  },
  {
   "cell_type": "code",
   "execution_count": 7,
   "metadata": {
    "collapsed": false
   },
   "outputs": [],
   "source": [
    "question_pages_df = pd.read_pickle('pages_w_questions.pkl')\n",
    "question_pages = question_pages_df['page'].tolist()"
   ]
  },
  {
   "cell_type": "code",
   "execution_count": 8,
   "metadata": {
    "collapsed": false
   },
   "outputs": [],
   "source": [
    "book_breakdowns, page_ranges = amt.load_book_info()"
   ]
  },
  {
   "cell_type": "code",
   "execution_count": 9,
   "metadata": {
    "collapsed": false
   },
   "outputs": [],
   "source": [
    "to_review = pd.read_pickle('rev_seq.pkl').tolist()"
   ]
  },
  {
   "cell_type": "code",
   "execution_count": 10,
   "metadata": {
    "collapsed": false,
    "scrolled": true
   },
   "outputs": [],
   "source": [
    "verified_pages = to_review[22:27]"
   ]
  },
  {
   "cell_type": "code",
   "execution_count": 107,
   "metadata": {
    "collapsed": false
   },
   "outputs": [],
   "source": [
    "def make_box_row(row_dict, pos_idx):\n",
    "    new_row = row_dict.copy()\n",
    "    rect = row_dict['rectangle']\n",
    "    new_row['start_x'] = rect[0][0]\n",
    "    new_row['start_y'] = rect[0][1]\n",
    "    new_row['end_x'] = rect[1][0]\n",
    "    new_row['end_y'] = rect[1][1]\n",
    "    new_row['vert_order'] = pos_idx\n",
    "    del new_row['rectangle']\n",
    "    return new_row\n",
    "\n",
    "def assign_group_numbers(ordered_question_boxes):\n",
    "    current_group_n = 0\n",
    "    current_outer_indent = ordered_question_boxes[0]['start_x']\n",
    "    last_seen_question_type = 0\n",
    "    indent_tolerance = 20\n",
    "            \n",
    "    \n",
    "    for idx, box in enumerate(ordered_question_boxes):\n",
    "        if box['category'] == 'Question':\n",
    "            box['predicted_group_n'] = 0\n",
    "            continue\n",
    "            \n",
    "        if not last_seen_question_type and box['category']:\n",
    "            last_seen_question_type = box['category']\n",
    "        \n",
    "        type_changed = last_seen_question_type != box['category']\n",
    "        last_seen_question_type = box['category'] if type_changed else last_seen_question_type\n",
    "\n",
    "        if type_changed or box['start_x'] - indent_tolerance < current_outer_indent:\n",
    "            current_group_n += 1\n",
    "            \n",
    "        box['predicted_group_n'] = current_group_n\n",
    "    return ordered_question_boxes\n",
    "\n",
    "def check_group_numbers(ordered_boxes_w_pred):\n",
    "    n_wrong = 0 \n",
    "    for box in ordered_boxes_w_pred:\n",
    "        if int(box['group_n']) != box['predicted_group_n']:\n",
    "            n_wrong += 1\n",
    "    return n_wrong, 1- n_wrong / float(len(ordered_boxes_w_pred))"
   ]
  },
  {
   "cell_type": "code",
   "execution_count": 108,
   "metadata": {
    "collapsed": false
   },
   "outputs": [],
   "source": [
    "def predict_and_verify_groups(pages):\n",
    "    results_by_page = []\n",
    "    for page in pages:\n",
    "        page_file_path = base_path + page.replace('jpeg', 'json')\n",
    "        with open(page_file_path) as f:\n",
    "            page_boxes = json.load(f)\n",
    "\n",
    "        for qn, qv in page_boxes['question'].items():\n",
    "            del qv['source']\n",
    "            del qv['score']\n",
    "            del qv['v_dim']\n",
    "            \n",
    "        q_series = page_boxes['question']\n",
    "        vertically_ordered_question = sorted(q_series.values(), key=lambda x: x['rectangle'][0][1])\n",
    "        vertically_ordered_question_feat = [make_box_row(box, idx) for idx, box in enumerate(vertically_ordered_question)]\n",
    "        boxes_w_predicts = assign_group_numbers(vertically_ordered_question_feat)\n",
    "        n_wrong, fract_right = check_group_numbers(boxes_w_predicts)\n",
    "        results_by_page.append((page, n_wrong, fract_right))\n",
    "    return results_by_page"
   ]
  },
  {
   "cell_type": "code",
   "execution_count": 110,
   "metadata": {
    "collapsed": false
   },
   "outputs": [
    {
     "data": {
      "text/plain": [
       "[(u'Daily_Science_Grade_6_(Daily_Practice_Books)_Evan_Moor_176.jpeg', 0, 1.0),\n",
       " (u'Daily_Science_Grade_4_Evan_Moor_89.jpeg', 0, 1.0),\n",
       " (u'Daily_Science_Grade_3_(Daily_Practice_Books)_Evan_Moore_137.jpeg', 0, 1.0),\n",
       " (u'Daily_Science_Grade_1_Evan_Moor_40.jpeg', 0, 1.0),\n",
       " (u'Daily_Science_Grade_4_Evan_Moor_88.jpeg', 0, 1.0)]"
      ]
     },
     "execution_count": 110,
     "metadata": {},
     "output_type": "execute_result"
    }
   ],
   "source": [
    "predict_and_verify_groups(verified_pages)"
   ]
  },
  {
   "cell_type": "code",
   "execution_count": null,
   "metadata": {
    "collapsed": true
   },
   "outputs": [],
   "source": []
  },
  {
   "cell_type": "code",
   "execution_count": null,
   "metadata": {
    "collapsed": true
   },
   "outputs": [],
   "source": []
  },
  {
   "cell_type": "code",
   "execution_count": null,
   "metadata": {
    "collapsed": true
   },
   "outputs": [],
   "source": []
  },
  {
   "cell_type": "code",
   "execution_count": null,
   "metadata": {
    "collapsed": true
   },
   "outputs": [],
   "source": []
  },
  {
   "cell_type": "markdown",
   "metadata": {
    "heading_collapsed": true
   },
   "source": [
    "## Dataframe stuff"
   ]
  },
  {
   "cell_type": "code",
   "execution_count": 150,
   "metadata": {
    "collapsed": false,
    "hidden": true
   },
   "outputs": [],
   "source": [
    "single_page_df = pd.DataFrame(vertically_ordered_question)"
   ]
  },
  {
   "cell_type": "code",
   "execution_count": 155,
   "metadata": {
    "collapsed": false,
    "hidden": true
   },
   "outputs": [
    {
     "data": {
      "text/plain": [
       "[123, 750]"
      ]
     },
     "execution_count": 155,
     "metadata": {},
     "output_type": "execute_result"
    }
   ],
   "source": [
    "single_page_df['rectangle'].iloc[0]"
   ]
  },
  {
   "cell_type": "code",
   "execution_count": 50,
   "metadata": {
    "collapsed": false,
    "hidden": true
   },
   "outputs": [],
   "source": [
    "qa_df = pd.read_pickle('store_hit_results_metadata/question_anno/group_latest_combined/consensus_df.pkl')"
   ]
  },
  {
   "cell_type": "code",
   "execution_count": 86,
   "metadata": {
    "collapsed": false,
    "hidden": true
   },
   "outputs": [],
   "source": [
    "bad_pages = pd.unique(qa_df.query('category == \"No Consensus\" or group_n == \"No Consensus\"')['page'])"
   ]
  },
  {
   "cell_type": "code",
   "execution_count": 93,
   "metadata": {
    "collapsed": false,
    "hidden": true
   },
   "outputs": [],
   "source": [
    "consensus_only_df = qa_df[~qa_df['page'].isin(bad_pages)]"
   ]
  },
  {
   "cell_type": "code",
   "execution_count": 95,
   "metadata": {
    "collapsed": false,
    "hidden": true
   },
   "outputs": [
    {
     "data": {
      "text/plain": [
       "(468,)"
      ]
     },
     "execution_count": 95,
     "metadata": {},
     "output_type": "execute_result"
    }
   ],
   "source": [
    "pd.unique(consensus_only_df['page']).shape"
   ]
  },
  {
   "cell_type": "code",
   "execution_count": 104,
   "metadata": {
    "collapsed": true,
    "hidden": true
   },
   "outputs": [
    {
     "data": {
      "text/html": [
       "<div>\n",
       "<table border=\"1\" class=\"dataframe\">\n",
       "  <thead>\n",
       "    <tr style=\"text-align: right;\">\n",
       "      <th></th>\n",
       "      <th>page</th>\n",
       "      <th>box_id</th>\n",
       "      <th>category</th>\n",
       "      <th>hit_id</th>\n",
       "      <th>group_n</th>\n",
       "    </tr>\n",
       "  </thead>\n",
       "  <tbody>\n",
       "    <tr>\n",
       "      <th>20</th>\n",
       "      <td>Daily_Science_Grade_1_Evan_Moor_100.jpeg</td>\n",
       "      <td>Q11</td>\n",
       "      <td>Fill-in-the-Blank</td>\n",
       "      <td>3VDVA3ILIDG3ODEZECC2QGUXV88G1P</td>\n",
       "      <td>1</td>\n",
       "    </tr>\n",
       "    <tr>\n",
       "      <th>21</th>\n",
       "      <td>Daily_Science_Grade_1_Evan_Moor_100.jpeg</td>\n",
       "      <td>Q13</td>\n",
       "      <td>Fill-in-the-Blank</td>\n",
       "      <td>3VDVA3ILIDG3ODEZECC2QGUXV88G1P</td>\n",
       "      <td>1</td>\n",
       "    </tr>\n",
       "    <tr>\n",
       "      <th>22</th>\n",
       "      <td>Daily_Science_Grade_1_Evan_Moor_100.jpeg</td>\n",
       "      <td>Q14</td>\n",
       "      <td>Fill-in-the-Blank</td>\n",
       "      <td>3VDVA3ILIDG3ODEZECC2QGUXV88G1P</td>\n",
       "      <td>1</td>\n",
       "    </tr>\n",
       "    <tr>\n",
       "      <th>23</th>\n",
       "      <td>Daily_Science_Grade_1_Evan_Moor_100.jpeg</td>\n",
       "      <td>Q15</td>\n",
       "      <td>Fill-in-the-Blank</td>\n",
       "      <td>3VDVA3ILIDG3ODEZECC2QGUXV88G1P</td>\n",
       "      <td>1</td>\n",
       "    </tr>\n",
       "    <tr>\n",
       "      <th>24</th>\n",
       "      <td>Daily_Science_Grade_1_Evan_Moor_100.jpeg</td>\n",
       "      <td>Q16</td>\n",
       "      <td>Fill-in-the-Blank</td>\n",
       "      <td>3VDVA3ILIDG3ODEZECC2QGUXV88G1P</td>\n",
       "      <td>1</td>\n",
       "    </tr>\n",
       "    <tr>\n",
       "      <th>25</th>\n",
       "      <td>Daily_Science_Grade_1_Evan_Moor_100.jpeg</td>\n",
       "      <td>Q17</td>\n",
       "      <td>Question</td>\n",
       "      <td>3VDVA3ILIDG3ODEZECC2QGUXV88G1P</td>\n",
       "      <td>0</td>\n",
       "    </tr>\n",
       "    <tr>\n",
       "      <th>26</th>\n",
       "      <td>Daily_Science_Grade_1_Evan_Moor_100.jpeg</td>\n",
       "      <td>T1</td>\n",
       "      <td>unlabeled</td>\n",
       "      <td>3VDVA3ILIDG3ODEZECC2QGUXV88G1P</td>\n",
       "      <td>0</td>\n",
       "    </tr>\n",
       "    <tr>\n",
       "      <th>27</th>\n",
       "      <td>Daily_Science_Grade_1_Evan_Moor_100.jpeg</td>\n",
       "      <td>T10</td>\n",
       "      <td>Definition</td>\n",
       "      <td>3VDVA3ILIDG3ODEZECC2QGUXV88G1P</td>\n",
       "      <td>0</td>\n",
       "    </tr>\n",
       "    <tr>\n",
       "      <th>28</th>\n",
       "      <td>Daily_Science_Grade_1_Evan_Moor_100.jpeg</td>\n",
       "      <td>T12</td>\n",
       "      <td>Definition</td>\n",
       "      <td>3VDVA3ILIDG3ODEZECC2QGUXV88G1P</td>\n",
       "      <td>0</td>\n",
       "    </tr>\n",
       "    <tr>\n",
       "      <th>29</th>\n",
       "      <td>Daily_Science_Grade_1_Evan_Moor_100.jpeg</td>\n",
       "      <td>T18</td>\n",
       "      <td>unlabeled</td>\n",
       "      <td>3VDVA3ILIDG3ODEZECC2QGUXV88G1P</td>\n",
       "      <td>0</td>\n",
       "    </tr>\n",
       "    <tr>\n",
       "      <th>30</th>\n",
       "      <td>Daily_Science_Grade_1_Evan_Moor_100.jpeg</td>\n",
       "      <td>T19</td>\n",
       "      <td>unlabeled</td>\n",
       "      <td>3VDVA3ILIDG3ODEZECC2QGUXV88G1P</td>\n",
       "      <td>0</td>\n",
       "    </tr>\n",
       "    <tr>\n",
       "      <th>31</th>\n",
       "      <td>Daily_Science_Grade_1_Evan_Moor_100.jpeg</td>\n",
       "      <td>T2</td>\n",
       "      <td>unlabeled</td>\n",
       "      <td>3VDVA3ILIDG3ODEZECC2QGUXV88G1P</td>\n",
       "      <td>0</td>\n",
       "    </tr>\n",
       "    <tr>\n",
       "      <th>32</th>\n",
       "      <td>Daily_Science_Grade_1_Evan_Moor_100.jpeg</td>\n",
       "      <td>T20</td>\n",
       "      <td>unlabeled</td>\n",
       "      <td>3VDVA3ILIDG3ODEZECC2QGUXV88G1P</td>\n",
       "      <td>0</td>\n",
       "    </tr>\n",
       "    <tr>\n",
       "      <th>33</th>\n",
       "      <td>Daily_Science_Grade_1_Evan_Moor_100.jpeg</td>\n",
       "      <td>T21</td>\n",
       "      <td>unlabeled</td>\n",
       "      <td>3VDVA3ILIDG3ODEZECC2QGUXV88G1P</td>\n",
       "      <td>0</td>\n",
       "    </tr>\n",
       "    <tr>\n",
       "      <th>34</th>\n",
       "      <td>Daily_Science_Grade_1_Evan_Moor_100.jpeg</td>\n",
       "      <td>T22</td>\n",
       "      <td>unlabeled</td>\n",
       "      <td>3VDVA3ILIDG3ODEZECC2QGUXV88G1P</td>\n",
       "      <td>0</td>\n",
       "    </tr>\n",
       "    <tr>\n",
       "      <th>35</th>\n",
       "      <td>Daily_Science_Grade_1_Evan_Moor_100.jpeg</td>\n",
       "      <td>T23</td>\n",
       "      <td>unlabeled</td>\n",
       "      <td>3VDVA3ILIDG3ODEZECC2QGUXV88G1P</td>\n",
       "      <td>0</td>\n",
       "    </tr>\n",
       "    <tr>\n",
       "      <th>36</th>\n",
       "      <td>Daily_Science_Grade_1_Evan_Moor_100.jpeg</td>\n",
       "      <td>T24</td>\n",
       "      <td>unlabeled</td>\n",
       "      <td>3VDVA3ILIDG3ODEZECC2QGUXV88G1P</td>\n",
       "      <td>0</td>\n",
       "    </tr>\n",
       "    <tr>\n",
       "      <th>37</th>\n",
       "      <td>Daily_Science_Grade_1_Evan_Moor_100.jpeg</td>\n",
       "      <td>T3</td>\n",
       "      <td>unlabeled</td>\n",
       "      <td>3VDVA3ILIDG3ODEZECC2QGUXV88G1P</td>\n",
       "      <td>0</td>\n",
       "    </tr>\n",
       "    <tr>\n",
       "      <th>38</th>\n",
       "      <td>Daily_Science_Grade_1_Evan_Moor_100.jpeg</td>\n",
       "      <td>T4</td>\n",
       "      <td>Header/Topic</td>\n",
       "      <td>3VDVA3ILIDG3ODEZECC2QGUXV88G1P</td>\n",
       "      <td>0</td>\n",
       "    </tr>\n",
       "    <tr>\n",
       "      <th>39</th>\n",
       "      <td>Daily_Science_Grade_1_Evan_Moor_100.jpeg</td>\n",
       "      <td>T5</td>\n",
       "      <td>unlabeled</td>\n",
       "      <td>3VDVA3ILIDG3ODEZECC2QGUXV88G1P</td>\n",
       "      <td>0</td>\n",
       "    </tr>\n",
       "    <tr>\n",
       "      <th>40</th>\n",
       "      <td>Daily_Science_Grade_1_Evan_Moor_100.jpeg</td>\n",
       "      <td>T6</td>\n",
       "      <td>Discussion</td>\n",
       "      <td>3VDVA3ILIDG3ODEZECC2QGUXV88G1P</td>\n",
       "      <td>0</td>\n",
       "    </tr>\n",
       "    <tr>\n",
       "      <th>41</th>\n",
       "      <td>Daily_Science_Grade_1_Evan_Moor_100.jpeg</td>\n",
       "      <td>T7</td>\n",
       "      <td>unlabeled</td>\n",
       "      <td>3VDVA3ILIDG3ODEZECC2QGUXV88G1P</td>\n",
       "      <td>0</td>\n",
       "    </tr>\n",
       "    <tr>\n",
       "      <th>42</th>\n",
       "      <td>Daily_Science_Grade_1_Evan_Moor_100.jpeg</td>\n",
       "      <td>T8</td>\n",
       "      <td>unlabeled</td>\n",
       "      <td>3VDVA3ILIDG3ODEZECC2QGUXV88G1P</td>\n",
       "      <td>0</td>\n",
       "    </tr>\n",
       "    <tr>\n",
       "      <th>43</th>\n",
       "      <td>Daily_Science_Grade_1_Evan_Moor_100.jpeg</td>\n",
       "      <td>T9</td>\n",
       "      <td>Discussion</td>\n",
       "      <td>3VDVA3ILIDG3ODEZECC2QGUXV88G1P</td>\n",
       "      <td>0</td>\n",
       "    </tr>\n",
       "    <tr>\n",
       "      <th>44</th>\n",
       "      <td>Daily_Science_Grade_1_Evan_Moor_101.jpeg</td>\n",
       "      <td>Q10</td>\n",
       "      <td>Fill-in-the-Blank</td>\n",
       "      <td>34HEO7RUG6VQ7R0DQ6Z70L171BPAR3</td>\n",
       "      <td>1</td>\n",
       "    </tr>\n",
       "    <tr>\n",
       "      <th>45</th>\n",
       "      <td>Daily_Science_Grade_1_Evan_Moor_101.jpeg</td>\n",
       "      <td>Q11</td>\n",
       "      <td>Question</td>\n",
       "      <td>34HEO7RUG6VQ7R0DQ6Z70L171BPAR3</td>\n",
       "      <td>0</td>\n",
       "    </tr>\n",
       "    <tr>\n",
       "      <th>46</th>\n",
       "      <td>Daily_Science_Grade_1_Evan_Moor_101.jpeg</td>\n",
       "      <td>Q13</td>\n",
       "      <td>Multiple Choice</td>\n",
       "      <td>34HEO7RUG6VQ7R0DQ6Z70L171BPAR3</td>\n",
       "      <td>2</td>\n",
       "    </tr>\n",
       "    <tr>\n",
       "      <th>47</th>\n",
       "      <td>Daily_Science_Grade_1_Evan_Moor_101.jpeg</td>\n",
       "      <td>Q14</td>\n",
       "      <td>Multiple Choice</td>\n",
       "      <td>34HEO7RUG6VQ7R0DQ6Z70L171BPAR3</td>\n",
       "      <td>2</td>\n",
       "    </tr>\n",
       "    <tr>\n",
       "      <th>48</th>\n",
       "      <td>Daily_Science_Grade_1_Evan_Moor_101.jpeg</td>\n",
       "      <td>Q15</td>\n",
       "      <td>Multiple Choice</td>\n",
       "      <td>34HEO7RUG6VQ7R0DQ6Z70L171BPAR3</td>\n",
       "      <td>2</td>\n",
       "    </tr>\n",
       "    <tr>\n",
       "      <th>49</th>\n",
       "      <td>Daily_Science_Grade_1_Evan_Moor_101.jpeg</td>\n",
       "      <td>Q16</td>\n",
       "      <td>Multiple Choice</td>\n",
       "      <td>34HEO7RUG6VQ7R0DQ6Z70L171BPAR3</td>\n",
       "      <td>2</td>\n",
       "    </tr>\n",
       "    <tr>\n",
       "      <th>50</th>\n",
       "      <td>Daily_Science_Grade_1_Evan_Moor_101.jpeg</td>\n",
       "      <td>Q17</td>\n",
       "      <td>Multiple Choice</td>\n",
       "      <td>34HEO7RUG6VQ7R0DQ6Z70L171BPAR3</td>\n",
       "      <td>2</td>\n",
       "    </tr>\n",
       "    <tr>\n",
       "      <th>51</th>\n",
       "      <td>Daily_Science_Grade_1_Evan_Moor_101.jpeg</td>\n",
       "      <td>Q18</td>\n",
       "      <td>Multiple Choice</td>\n",
       "      <td>34HEO7RUG6VQ7R0DQ6Z70L171BPAR3</td>\n",
       "      <td>2</td>\n",
       "    </tr>\n",
       "    <tr>\n",
       "      <th>52</th>\n",
       "      <td>Daily_Science_Grade_1_Evan_Moor_101.jpeg</td>\n",
       "      <td>Q19</td>\n",
       "      <td>Multiple Choice</td>\n",
       "      <td>34HEO7RUG6VQ7R0DQ6Z70L171BPAR3</td>\n",
       "      <td>2</td>\n",
       "    </tr>\n",
       "    <tr>\n",
       "      <th>53</th>\n",
       "      <td>Daily_Science_Grade_1_Evan_Moor_101.jpeg</td>\n",
       "      <td>Q20</td>\n",
       "      <td>Multiple Choice</td>\n",
       "      <td>34HEO7RUG6VQ7R0DQ6Z70L171BPAR3</td>\n",
       "      <td>2</td>\n",
       "    </tr>\n",
       "    <tr>\n",
       "      <th>54</th>\n",
       "      <td>Daily_Science_Grade_1_Evan_Moor_101.jpeg</td>\n",
       "      <td>Q21</td>\n",
       "      <td>Multiple Choice</td>\n",
       "      <td>34HEO7RUG6VQ7R0DQ6Z70L171BPAR3</td>\n",
       "      <td>2</td>\n",
       "    </tr>\n",
       "    <tr>\n",
       "      <th>55</th>\n",
       "      <td>Daily_Science_Grade_1_Evan_Moor_101.jpeg</td>\n",
       "      <td>Q22</td>\n",
       "      <td>Multiple Choice</td>\n",
       "      <td>34HEO7RUG6VQ7R0DQ6Z70L171BPAR3</td>\n",
       "      <td>2</td>\n",
       "    </tr>\n",
       "    <tr>\n",
       "      <th>56</th>\n",
       "      <td>Daily_Science_Grade_1_Evan_Moor_101.jpeg</td>\n",
       "      <td>T1</td>\n",
       "      <td>unlabeled</td>\n",
       "      <td>34HEO7RUG6VQ7R0DQ6Z70L171BPAR3</td>\n",
       "      <td>0</td>\n",
       "    </tr>\n",
       "    <tr>\n",
       "      <th>57</th>\n",
       "      <td>Daily_Science_Grade_1_Evan_Moor_101.jpeg</td>\n",
       "      <td>T12</td>\n",
       "      <td>unlabeled</td>\n",
       "      <td>34HEO7RUG6VQ7R0DQ6Z70L171BPAR3</td>\n",
       "      <td>0</td>\n",
       "    </tr>\n",
       "    <tr>\n",
       "      <th>58</th>\n",
       "      <td>Daily_Science_Grade_1_Evan_Moor_101.jpeg</td>\n",
       "      <td>T2</td>\n",
       "      <td>unlabeled</td>\n",
       "      <td>34HEO7RUG6VQ7R0DQ6Z70L171BPAR3</td>\n",
       "      <td>0</td>\n",
       "    </tr>\n",
       "    <tr>\n",
       "      <th>59</th>\n",
       "      <td>Daily_Science_Grade_1_Evan_Moor_101.jpeg</td>\n",
       "      <td>T23</td>\n",
       "      <td>unlabeled</td>\n",
       "      <td>34HEO7RUG6VQ7R0DQ6Z70L171BPAR3</td>\n",
       "      <td>0</td>\n",
       "    </tr>\n",
       "  </tbody>\n",
       "</table>\n",
       "</div>"
      ],
      "text/plain": [
       "                                        page box_id           category  \\\n",
       "20  Daily_Science_Grade_1_Evan_Moor_100.jpeg    Q11  Fill-in-the-Blank   \n",
       "21  Daily_Science_Grade_1_Evan_Moor_100.jpeg    Q13  Fill-in-the-Blank   \n",
       "22  Daily_Science_Grade_1_Evan_Moor_100.jpeg    Q14  Fill-in-the-Blank   \n",
       "23  Daily_Science_Grade_1_Evan_Moor_100.jpeg    Q15  Fill-in-the-Blank   \n",
       "24  Daily_Science_Grade_1_Evan_Moor_100.jpeg    Q16  Fill-in-the-Blank   \n",
       "25  Daily_Science_Grade_1_Evan_Moor_100.jpeg    Q17           Question   \n",
       "26  Daily_Science_Grade_1_Evan_Moor_100.jpeg     T1          unlabeled   \n",
       "27  Daily_Science_Grade_1_Evan_Moor_100.jpeg    T10         Definition   \n",
       "28  Daily_Science_Grade_1_Evan_Moor_100.jpeg    T12         Definition   \n",
       "29  Daily_Science_Grade_1_Evan_Moor_100.jpeg    T18          unlabeled   \n",
       "30  Daily_Science_Grade_1_Evan_Moor_100.jpeg    T19          unlabeled   \n",
       "31  Daily_Science_Grade_1_Evan_Moor_100.jpeg     T2          unlabeled   \n",
       "32  Daily_Science_Grade_1_Evan_Moor_100.jpeg    T20          unlabeled   \n",
       "33  Daily_Science_Grade_1_Evan_Moor_100.jpeg    T21          unlabeled   \n",
       "34  Daily_Science_Grade_1_Evan_Moor_100.jpeg    T22          unlabeled   \n",
       "35  Daily_Science_Grade_1_Evan_Moor_100.jpeg    T23          unlabeled   \n",
       "36  Daily_Science_Grade_1_Evan_Moor_100.jpeg    T24          unlabeled   \n",
       "37  Daily_Science_Grade_1_Evan_Moor_100.jpeg     T3          unlabeled   \n",
       "38  Daily_Science_Grade_1_Evan_Moor_100.jpeg     T4       Header/Topic   \n",
       "39  Daily_Science_Grade_1_Evan_Moor_100.jpeg     T5          unlabeled   \n",
       "40  Daily_Science_Grade_1_Evan_Moor_100.jpeg     T6         Discussion   \n",
       "41  Daily_Science_Grade_1_Evan_Moor_100.jpeg     T7          unlabeled   \n",
       "42  Daily_Science_Grade_1_Evan_Moor_100.jpeg     T8          unlabeled   \n",
       "43  Daily_Science_Grade_1_Evan_Moor_100.jpeg     T9         Discussion   \n",
       "44  Daily_Science_Grade_1_Evan_Moor_101.jpeg    Q10  Fill-in-the-Blank   \n",
       "45  Daily_Science_Grade_1_Evan_Moor_101.jpeg    Q11           Question   \n",
       "46  Daily_Science_Grade_1_Evan_Moor_101.jpeg    Q13    Multiple Choice   \n",
       "47  Daily_Science_Grade_1_Evan_Moor_101.jpeg    Q14    Multiple Choice   \n",
       "48  Daily_Science_Grade_1_Evan_Moor_101.jpeg    Q15    Multiple Choice   \n",
       "49  Daily_Science_Grade_1_Evan_Moor_101.jpeg    Q16    Multiple Choice   \n",
       "50  Daily_Science_Grade_1_Evan_Moor_101.jpeg    Q17    Multiple Choice   \n",
       "51  Daily_Science_Grade_1_Evan_Moor_101.jpeg    Q18    Multiple Choice   \n",
       "52  Daily_Science_Grade_1_Evan_Moor_101.jpeg    Q19    Multiple Choice   \n",
       "53  Daily_Science_Grade_1_Evan_Moor_101.jpeg    Q20    Multiple Choice   \n",
       "54  Daily_Science_Grade_1_Evan_Moor_101.jpeg    Q21    Multiple Choice   \n",
       "55  Daily_Science_Grade_1_Evan_Moor_101.jpeg    Q22    Multiple Choice   \n",
       "56  Daily_Science_Grade_1_Evan_Moor_101.jpeg     T1          unlabeled   \n",
       "57  Daily_Science_Grade_1_Evan_Moor_101.jpeg    T12          unlabeled   \n",
       "58  Daily_Science_Grade_1_Evan_Moor_101.jpeg     T2          unlabeled   \n",
       "59  Daily_Science_Grade_1_Evan_Moor_101.jpeg    T23          unlabeled   \n",
       "\n",
       "                            hit_id group_n  \n",
       "20  3VDVA3ILIDG3ODEZECC2QGUXV88G1P       1  \n",
       "21  3VDVA3ILIDG3ODEZECC2QGUXV88G1P       1  \n",
       "22  3VDVA3ILIDG3ODEZECC2QGUXV88G1P       1  \n",
       "23  3VDVA3ILIDG3ODEZECC2QGUXV88G1P       1  \n",
       "24  3VDVA3ILIDG3ODEZECC2QGUXV88G1P       1  \n",
       "25  3VDVA3ILIDG3ODEZECC2QGUXV88G1P       0  \n",
       "26  3VDVA3ILIDG3ODEZECC2QGUXV88G1P       0  \n",
       "27  3VDVA3ILIDG3ODEZECC2QGUXV88G1P       0  \n",
       "28  3VDVA3ILIDG3ODEZECC2QGUXV88G1P       0  \n",
       "29  3VDVA3ILIDG3ODEZECC2QGUXV88G1P       0  \n",
       "30  3VDVA3ILIDG3ODEZECC2QGUXV88G1P       0  \n",
       "31  3VDVA3ILIDG3ODEZECC2QGUXV88G1P       0  \n",
       "32  3VDVA3ILIDG3ODEZECC2QGUXV88G1P       0  \n",
       "33  3VDVA3ILIDG3ODEZECC2QGUXV88G1P       0  \n",
       "34  3VDVA3ILIDG3ODEZECC2QGUXV88G1P       0  \n",
       "35  3VDVA3ILIDG3ODEZECC2QGUXV88G1P       0  \n",
       "36  3VDVA3ILIDG3ODEZECC2QGUXV88G1P       0  \n",
       "37  3VDVA3ILIDG3ODEZECC2QGUXV88G1P       0  \n",
       "38  3VDVA3ILIDG3ODEZECC2QGUXV88G1P       0  \n",
       "39  3VDVA3ILIDG3ODEZECC2QGUXV88G1P       0  \n",
       "40  3VDVA3ILIDG3ODEZECC2QGUXV88G1P       0  \n",
       "41  3VDVA3ILIDG3ODEZECC2QGUXV88G1P       0  \n",
       "42  3VDVA3ILIDG3ODEZECC2QGUXV88G1P       0  \n",
       "43  3VDVA3ILIDG3ODEZECC2QGUXV88G1P       0  \n",
       "44  34HEO7RUG6VQ7R0DQ6Z70L171BPAR3       1  \n",
       "45  34HEO7RUG6VQ7R0DQ6Z70L171BPAR3       0  \n",
       "46  34HEO7RUG6VQ7R0DQ6Z70L171BPAR3       2  \n",
       "47  34HEO7RUG6VQ7R0DQ6Z70L171BPAR3       2  \n",
       "48  34HEO7RUG6VQ7R0DQ6Z70L171BPAR3       2  \n",
       "49  34HEO7RUG6VQ7R0DQ6Z70L171BPAR3       2  \n",
       "50  34HEO7RUG6VQ7R0DQ6Z70L171BPAR3       2  \n",
       "51  34HEO7RUG6VQ7R0DQ6Z70L171BPAR3       2  \n",
       "52  34HEO7RUG6VQ7R0DQ6Z70L171BPAR3       2  \n",
       "53  34HEO7RUG6VQ7R0DQ6Z70L171BPAR3       2  \n",
       "54  34HEO7RUG6VQ7R0DQ6Z70L171BPAR3       2  \n",
       "55  34HEO7RUG6VQ7R0DQ6Z70L171BPAR3       2  \n",
       "56  34HEO7RUG6VQ7R0DQ6Z70L171BPAR3       0  \n",
       "57  34HEO7RUG6VQ7R0DQ6Z70L171BPAR3       0  \n",
       "58  34HEO7RUG6VQ7R0DQ6Z70L171BPAR3       0  \n",
       "59  34HEO7RUG6VQ7R0DQ6Z70L171BPAR3       0  "
      ]
     },
     "execution_count": 104,
     "metadata": {},
     "output_type": "execute_result"
    }
   ],
   "source": [
    "consensus_only_df.head(40)"
   ]
  },
  {
   "cell_type": "markdown",
   "metadata": {
    "heading_collapsed": true
   },
   "source": [
    "# End"
   ]
  },
  {
   "cell_type": "code",
   "execution_count": 363,
   "metadata": {
    "collapsed": false,
    "hidden": true
   },
   "outputs": [],
   "source": [
    "# vertically_ordered_question = sorted(q_series.values(), key=lambda x: x['rectangle'][0][1])\n",
    "\n",
    "# vertically_ordered_question_feat = [make_box_row(box, idx) for idx, box in enumerate(vertically_ordered_question)]\n",
    "\n",
    "# boxes_w_predicts = assign_group_numbers(vertically_ordered_question_feat) "
   ]
  }
 ],
 "metadata": {
  "kernelspec": {
   "display_name": "Python 2",
   "language": "python",
   "name": "python2"
  },
  "language_info": {
   "codemirror_mode": {
    "name": "ipython",
    "version": 2
   },
   "file_extension": ".py",
   "mimetype": "text/x-python",
   "name": "python",
   "nbconvert_exporter": "python",
   "pygments_lexer": "ipython2",
   "version": "2.7.10"
  }
 },
 "nbformat": 4,
 "nbformat_minor": 0
}
