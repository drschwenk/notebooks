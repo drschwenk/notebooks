{
 "cells": [
  {
   "cell_type": "markdown",
   "metadata": {
    "heading_collapsed": true
   },
   "source": [
    "# Table of Contents\n",
    "* [Investigating programatically recovering hierarchy](#Investigating-programatically-recovering-hierarchy)\n",
    "\t* [Dataframe stuff](#Dataframe-stuff)\n",
    "* [End](#End)\n"
   ]
  },
  {
   "cell_type": "code",
   "execution_count": 4,
   "metadata": {
    "collapsed": true,
    "hidden": true,
    "run_control": {
     "frozen": false,
     "read_only": false
    }
   },
   "outputs": [],
   "source": [
    "%%capture\n",
    "from __future__ import division\n",
    "import numpy as np\n",
    "import pandas as pd\n",
    "import scipy.stats as st\n",
    "import itertools\n",
    "import math\n",
    "from collections import Counter, defaultdict, OrderedDict\n",
    "%load_ext autoreload\n",
    "%autoreload 2"
   ]
  },
  {
   "cell_type": "code",
   "execution_count": 2,
   "metadata": {
    "collapsed": false,
    "hidden": true,
    "run_control": {
     "frozen": false,
     "read_only": false
    }
   },
   "outputs": [],
   "source": [
    "import pickle\n",
    "import json\n",
    "import glob\n",
    "import pprint"
   ]
  },
  {
   "cell_type": "code",
   "execution_count": 3,
   "metadata": {
    "collapsed": false,
    "hidden": true,
    "run_control": {
     "frozen": false,
     "read_only": false
    }
   },
   "outputs": [],
   "source": [
    "import pdfextraction.merge as me\n",
    "import pdfextraction.unmerge as um\n",
    "import pdfextraction.amt_boto_modules as amt\n",
    "import pdfextraction.hierarchy_exctraction as hext"
   ]
  },
  {
   "cell_type": "markdown",
   "metadata": {
    "heading_collapsed": true
   },
   "source": [
    "# Investigating programatically recovering hierarchy"
   ]
  },
  {
   "cell_type": "markdown",
   "metadata": {
    "heading_collapsed": true,
    "hidden": true
   },
   "source": [
    "## Setting up paths and other basics"
   ]
  },
  {
   "cell_type": "code",
   "execution_count": null,
   "metadata": {
    "collapsed": true,
    "hidden": true,
    "run_control": {
     "frozen": false,
     "read_only": false
    }
   },
   "outputs": [],
   "source": [
    "base_path = 'ai2-vision-turk-data/textbook-annotation-test/labeled-questions/'\n",
    "test_path = 'ai2-vision-turk-data/textbook-annotation-test/hierarchy-ext-test/'"
   ]
  },
  {
   "cell_type": "code",
   "execution_count": 15,
   "metadata": {
    "collapsed": false,
    "hidden": true,
    "run_control": {
     "frozen": false,
     "read_only": false
    }
   },
   "outputs": [
    {
     "name": "stdout",
     "output_type": "stream",
     "text": [
      "856\n",
      "468\n"
     ]
    }
   ],
   "source": [
    "question_pages_df = pd.read_pickle('pages_w_questions.pkl')\n",
    "question_pages = question_pages_df['page'].tolist()\n",
    "to_review = pd.read_pickle('rev_seq.pkl').tolist()\n",
    "\n",
    "book_breakdowns, page_ranges = amt.load_book_info()\n",
    "\n",
    "verified_pages = to_review\n",
    "verified_pages_minus_bad = [page for page in verified_pages if page not in bad_pages.tolist()]\n",
    "print len(verified_pages)\n",
    "print len(verified_pages_minus_bad)"
   ]
  },
  {
   "cell_type": "markdown",
   "metadata": {
    "heading_collapsed": true,
    "hidden": true
   },
   "source": [
    "## Basic structure"
   ]
  },
  {
   "cell_type": "code",
   "execution_count": null,
   "metadata": {
    "collapsed": true,
    "hidden": true,
    "run_control": {
     "frozen": false,
     "read_only": false
    }
   },
   "outputs": [],
   "source": [
    "# accuracy_total, errors_total, box_totals, ind_page_results = predict_and_verify_groups(single_page)\n",
    "accuracy_total, errors_total, box_totals, ind_page_results = hext.predict_and_verify_groups(verified_pages_minus_bad, base_path)\n",
    "\n",
    "print errors_total\n",
    "print box_totals\n",
    "print accuracy_total"
   ]
  },
  {
   "cell_type": "markdown",
   "metadata": {
    "collapsed": false,
    "hidden": true,
    "run_control": {
     "frozen": false,
     "read_only": false
    }
   },
   "source": [
    "for page_res in ind_page_results:\n",
    "    hext.write_predicted_groups(page_res, base_path, test_path)"
   ]
  },
  {
   "cell_type": "code",
   "execution_count": null,
   "metadata": {
    "collapsed": true,
    "hidden": true,
    "run_control": {
     "frozen": false,
     "read_only": false
    }
   },
   "outputs": [],
   "source": [
    "problem_pages = [page[0] for page in ind_page_results if page[2] < 1.0]\n",
    "problem_pagess = pd.Series(problem_pages)\n",
    "# problem_pagess.to_pickle('problem_pages.pkl')"
   ]
  },
  {
   "cell_type": "code",
   "execution_count": 19,
   "metadata": {
    "collapsed": true,
    "hidden": true,
    "run_control": {
     "frozen": false,
     "read_only": false
    }
   },
   "outputs": [],
   "source": [
    "page_n = 0"
   ]
  },
  {
   "cell_type": "code",
   "execution_count": 281,
   "metadata": {
    "collapsed": true,
    "hidden": true,
    "run_control": {
     "frozen": false,
     "read_only": false
    }
   },
   "outputs": [
    {
     "name": "stdout",
     "output_type": "stream",
     "text": [
      "\n",
      "actual 1\n",
      "predicted 1\n",
      "A. Write true or false.\n",
      "\n",
      "\n",
      "actual 1\n",
      "predicted 1\n",
      "1. A conductor allows electric current to\n",
      "\n",
      "\n",
      "actual 1\n",
      "predicted 1\n",
      "flow through it easily\n",
      "\n",
      "\n",
      "actual 1\n",
      "predicted 1\n",
      "2. Electrical energy can make heat energy.\n",
      "\n",
      "\n",
      "actual 1\n",
      "predicted 1\n",
      "3. Resistors convert less energy into heat\n",
      "\n",
      "\n",
      "actual 1\n",
      "predicted 1\n",
      "than conductors do\n",
      "\n",
      "\n",
      "actual 1\n",
      "predicted 1\n",
      "4. All metals conduct electricity\n",
      "\n",
      "\n",
      "actual 1\n",
      "predicted 1\n",
      "equally we\n",
      "\n",
      "\n",
      "actual 2\n",
      "predicted 2\n",
      "B. What is the main difference between a conductor and a resistor?\n",
      "\n",
      "\n",
      "actual 2\n",
      "predicted 3\n",
      "C. How did resistors help the people who invented toasters?\n",
      "\n",
      "\n",
      "actual 2\n",
      "predicted 3\n",
      "Explain your answer\n",
      "\n",
      "\n",
      "[u'Daily_Science_Grade_4_Evan_Moor_131.jpeg']\n",
      "page 9\n",
      "number wrong= 2\n",
      "out of 22\n",
      "accuracy 0.909090909091\n"
     ]
    }
   ],
   "source": [
    "cur_page = problem_pages[page_n:page_n + 1]\n",
    "accuracy_total, errors_total, box_totals, ind_page_results = predict_and_verify_groups(cur_page)\n",
    "page_n += 1\n",
    "print ''\n",
    "print cur_page\n",
    "print '{} {}'.format('page', page_n)\n",
    "print '{} {}'.format('number wrong=', errors_total)\n",
    "print '{} {}'.format('out of', box_totals)\n",
    "print '{} {}'.format('accuracy', accuracy_total)"
   ]
  },
  {
   "cell_type": "markdown",
   "metadata": {
    "hidden": true
   },
   "source": [
    "## Question-type specific structure"
   ]
  },
  {
   "cell_type": "code",
   "execution_count": null,
   "metadata": {
    "collapsed": true,
    "hidden": true,
    "run_control": {
     "frozen": false,
     "read_only": false
    }
   },
   "outputs": [],
   "source": [
    "# single_page = ['Daily_Science_Grade_2_Evan_Moor_33.jpeg']\n",
    "single_page = ['Daily_Science_Grade_1_Evan_Moor_123.jpeg']\n",
    "single_page = ['Daily_Science_Grade_1_Evan_Moor_93.jpeg']\n",
    "# single_page = ['Daily_Science_Grade_1_Evan_Moor_44.jpeg'] # this is an example of the ocr serivce merging failing\n",
    "# single_page = ['Daily_Science_Grade_2_Evan_Moor_107.jpeg'] # this is an example of unlabeled answer choices\n",
    "# single_page = ['Daily_Science_Grade_2_Evan_Moor_12.jpeg']\n",
    "# single_page = ['Daily_Science_Grade_2_Evan_Moor_123.jpeg'] \n",
    "# single_page = ['Daily_Science_Grade_2_Evan_Moor_144.jpeg'] #short answer and mc\n",
    "# single_page = ['Daily_Science_Grade_2_Evan_Moor_146.jpeg'] # fib and mc\n",
    "# single_page = ['Daily_Science_Grade_2_Evan_Moor_149.jpeg'] # another case where ocr service put on the same line "
   ]
  },
  {
   "cell_type": "markdown",
   "metadata": {
    "hidden": true
   },
   "source": [
    "1) question type hist\n",
    "2) what cats turkers do well on \n",
    "3) total questions "
   ]
  },
  {
   "cell_type": "code",
   "execution_count": 157,
   "metadata": {
    "collapsed": false,
    "hidden": true,
    "run_control": {
     "frozen": false,
     "read_only": false
    }
   },
   "outputs": [
    {
     "data": {
      "text/plain": [
       "['Daily_Science_Grade_2_Evan_Moor_149.jpeg']"
      ]
     },
     "execution_count": 157,
     "metadata": {},
     "output_type": "execute_result"
    }
   ],
   "source": [
    "single_page"
   ]
  },
  {
   "cell_type": "code",
   "execution_count": 673,
   "metadata": {
    "collapsed": false,
    "hidden": true,
    "run_control": {
     "frozen": false,
     "read_only": false
    }
   },
   "outputs": [],
   "source": [
    "with open(test_path + single_page[0].replace('jpeg', 'json')) as f:\n",
    "    ex_anno = json.load(f)"
   ]
  },
  {
   "cell_type": "code",
   "execution_count": null,
   "metadata": {
    "collapsed": true,
    "hidden": true,
    "run_control": {
     "frozen": false,
     "read_only": false
    }
   },
   "outputs": [],
   "source": [
    "ex_anno['parsed_questions'] = dict(complete_questions)\n",
    "ex_anno['instructions'] = dict(instructions)"
   ]
  },
  {
   "cell_type": "code",
   "execution_count": 175,
   "metadata": {
    "collapsed": true,
    "hidden": true
   },
   "outputs": [],
   "source": [
    "page_n = 32 "
   ]
  },
  {
   "cell_type": "code",
   "execution_count": 176,
   "metadata": {
    "collapsed": true,
    "hidden": true
   },
   "outputs": [
    {
     "name": "stdout",
     "output_type": "stream",
     "text": [
      "33\n",
      "group G2\n",
      "\n",
      "question   True/False\n",
      "4. A big tree always grows from a big seed.\n",
      "\n",
      "question   True/False\n",
      "5. Pollen helps plants make flowers\n",
      "\n",
      "question   True/False\n",
      "6. Mammals have hair and feed their babies mil\n",
      "\n",
      "group G1\n",
      "\n",
      "question   Multiple Choice\n",
      "3. Plants have flowers so they can make\n",
      "    B stems\n",
      "    leaves (C) leaves\n",
      "    A seeds\n",
      "\n",
      "question   Multiple Choice\n",
      "1. Which of these does NOT have a life cycle?\n",
      "    pine tree\n",
      "    OB OB\n",
      "    CO mountain\n",
      "    A butterfly\n",
      "\n",
      "question   Multiple Choice\n",
      "2. The first stage of the life cycle of a butterfly is\n",
      "    B a Chrysalis\n",
      "    C a caterpillar\n",
      "    (A) an egg\n",
      "\n"
     ]
    }
   ],
   "source": [
    "page_n += 1\n",
    "print page_n\n",
    "single_page = ['Daily_Science_Grade_2_Evan_Moor_' + str(page_n) +'.jpeg']\n",
    "\n",
    "ctq = hext.parse_book(single_page, test_path)\n",
    "\n",
    "for gn, group in ctq.items():\n",
    "    print 'group ' + gn\n",
    "    print\n",
    "    for full_q, parts in group.items():\n",
    "        if full_q == 'misfits':\n",
    "            print 'misfits'\n",
    "            for misfit, val in parts.items():\n",
    "                for box, tv in val['asks'].items():\n",
    "                    print '    ' + tv['contents']\n",
    "        else:\n",
    "            print 'question   ' + parts['category']  \n",
    "            for ids, question_parts in parts['asks'].items():\n",
    "                print question_parts['contents']\n",
    "            for ids, ac in parts['answer_choices'].items():\n",
    "                print '    '  + ac['possible_answer']['contents']\n",
    "        print"
   ]
  },
  {
   "cell_type": "code",
   "execution_count": null,
   "metadata": {
    "collapsed": true,
    "hidden": true,
    "run_control": {
     "frozen": false,
     "read_only": false
    }
   },
   "outputs": [],
   "source": []
  },
  {
   "cell_type": "code",
   "execution_count": null,
   "metadata": {
    "collapsed": true,
    "hidden": true,
    "run_control": {
     "frozen": false,
     "read_only": false
    }
   },
   "outputs": [],
   "source": []
  },
  {
   "cell_type": "code",
   "execution_count": null,
   "metadata": {
    "collapsed": true,
    "hidden": true,
    "run_control": {
     "frozen": false,
     "read_only": false
    }
   },
   "outputs": [],
   "source": []
  },
  {
   "cell_type": "code",
   "execution_count": null,
   "metadata": {
    "collapsed": true,
    "hidden": true,
    "run_control": {
     "frozen": false,
     "read_only": false
    }
   },
   "outputs": [],
   "source": []
  },
  {
   "cell_type": "code",
   "execution_count": null,
   "metadata": {
    "collapsed": true,
    "hidden": true,
    "run_control": {
     "frozen": false,
     "read_only": false
    }
   },
   "outputs": [],
   "source": []
  },
  {
   "cell_type": "code",
   "execution_count": null,
   "metadata": {
    "collapsed": true,
    "hidden": true,
    "run_control": {
     "frozen": false,
     "read_only": false
    }
   },
   "outputs": [],
   "source": []
  },
  {
   "cell_type": "code",
   "execution_count": null,
   "metadata": {
    "collapsed": true,
    "hidden": true,
    "run_control": {
     "frozen": false,
     "read_only": false
    }
   },
   "outputs": [],
   "source": []
  },
  {
   "cell_type": "code",
   "execution_count": null,
   "metadata": {
    "collapsed": true,
    "hidden": true,
    "run_control": {
     "frozen": false,
     "read_only": false
    }
   },
   "outputs": [],
   "source": []
  },
  {
   "cell_type": "code",
   "execution_count": null,
   "metadata": {
    "collapsed": true,
    "hidden": true,
    "run_control": {
     "frozen": false,
     "read_only": false
    }
   },
   "outputs": [],
   "source": []
  },
  {
   "cell_type": "markdown",
   "metadata": {},
   "source": [
    "# Dataframe stuff"
   ]
  },
  {
   "cell_type": "code",
   "execution_count": 118,
   "metadata": {
    "collapsed": false,
    "run_control": {
     "frozen": false,
     "read_only": false
    }
   },
   "outputs": [],
   "source": [
    "# single_page_df = pd.DataFrame(vertically_ordered_question)"
   ]
  },
  {
   "cell_type": "code",
   "execution_count": 119,
   "metadata": {
    "collapsed": false,
    "run_control": {
     "frozen": false,
     "read_only": false
    }
   },
   "outputs": [],
   "source": [
    "# single_page_df['rectangle'].iloc[0]"
   ]
  },
  {
   "cell_type": "code",
   "execution_count": 10,
   "metadata": {
    "collapsed": false,
    "run_control": {
     "frozen": false,
     "read_only": false
    }
   },
   "outputs": [],
   "source": [
    "qa_df = pd.read_pickle('store_hit_results_metadata/question_anno/group_latest_combined/consensus_df.pkl')"
   ]
  },
  {
   "cell_type": "code",
   "execution_count": 11,
   "metadata": {
    "collapsed": false,
    "run_control": {
     "frozen": false,
     "read_only": false
    }
   },
   "outputs": [],
   "source": [
    "bad_pages = pd.unique(qa_df.query('category == \"No Consensus\" or group_n == \"No Consensus\"')['page'])"
   ]
  },
  {
   "cell_type": "code",
   "execution_count": 12,
   "metadata": {
    "collapsed": false,
    "run_control": {
     "frozen": false,
     "read_only": false
    }
   },
   "outputs": [],
   "source": [
    "consensus_only_df = qa_df[~qa_df['page'].isin(bad_pages)]"
   ]
  },
  {
   "cell_type": "code",
   "execution_count": 13,
   "metadata": {
    "collapsed": false,
    "run_control": {
     "frozen": false,
     "read_only": false
    }
   },
   "outputs": [
    {
     "data": {
      "text/plain": [
       "(468,)"
      ]
     },
     "execution_count": 13,
     "metadata": {},
     "output_type": "execute_result"
    }
   ],
   "source": [
    "pd.unique(consensus_only_df['page']).shape"
   ]
  },
  {
   "cell_type": "code",
   "execution_count": null,
   "metadata": {
    "collapsed": true,
    "run_control": {
     "frozen": false,
     "read_only": false
    }
   },
   "outputs": [],
   "source": [
    "consensus_only_df.head(4)"
   ]
  },
  {
   "cell_type": "code",
   "execution_count": 179,
   "metadata": {
    "collapsed": false
   },
   "outputs": [
    {
     "data": {
      "text/plain": [
       "array([u'Daily_Science_Grade_1_Evan_Moor_10.jpeg',\n",
       "       u'Daily_Science_Grade_1_Evan_Moor_104.jpeg',\n",
       "       u'Daily_Science_Grade_1_Evan_Moor_106.jpeg',\n",
       "       u'Daily_Science_Grade_1_Evan_Moor_107.jpeg',\n",
       "       u'Daily_Science_Grade_1_Evan_Moor_108.jpeg',\n",
       "       u'Daily_Science_Grade_1_Evan_Moor_113.jpeg',\n",
       "       u'Daily_Science_Grade_1_Evan_Moor_115.jpeg',\n",
       "       u'Daily_Science_Grade_1_Evan_Moor_116.jpeg',\n",
       "       u'Daily_Science_Grade_1_Evan_Moor_124.jpeg',\n",
       "       u'Daily_Science_Grade_1_Evan_Moor_125.jpeg',\n",
       "       u'Daily_Science_Grade_1_Evan_Moor_13.jpeg',\n",
       "       u'Daily_Science_Grade_1_Evan_Moor_133.jpeg',\n",
       "       u'Daily_Science_Grade_1_Evan_Moor_134.jpeg',\n",
       "       u'Daily_Science_Grade_1_Evan_Moor_136.jpeg',\n",
       "       u'Daily_Science_Grade_1_Evan_Moor_14.jpeg',\n",
       "       u'Daily_Science_Grade_1_Evan_Moor_140.jpeg',\n",
       "       u'Daily_Science_Grade_1_Evan_Moor_142.jpeg',\n",
       "       u'Daily_Science_Grade_1_Evan_Moor_143.jpeg',\n",
       "       u'Daily_Science_Grade_1_Evan_Moor_144.jpeg',\n",
       "       u'Daily_Science_Grade_1_Evan_Moor_145.jpeg',\n",
       "       u'Daily_Science_Grade_1_Evan_Moor_148.jpeg',\n",
       "       u'Daily_Science_Grade_1_Evan_Moor_151.jpeg',\n",
       "       u'Daily_Science_Grade_1_Evan_Moor_152.jpeg',\n",
       "       u'Daily_Science_Grade_1_Evan_Moor_155.jpeg',\n",
       "       u'Daily_Science_Grade_1_Evan_Moor_16.jpeg',\n",
       "       u'Daily_Science_Grade_1_Evan_Moor_160.jpeg',\n",
       "       u'Daily_Science_Grade_1_Evan_Moor_161.jpeg',\n",
       "       u'Daily_Science_Grade_1_Evan_Moor_163.jpeg',\n",
       "       u'Daily_Science_Grade_1_Evan_Moor_167.jpeg',\n",
       "       u'Daily_Science_Grade_1_Evan_Moor_168.jpeg',\n",
       "       u'Daily_Science_Grade_1_Evan_Moor_169.jpeg',\n",
       "       u'Daily_Science_Grade_1_Evan_Moor_17.jpeg',\n",
       "       u'Daily_Science_Grade_1_Evan_Moor_170.jpeg',\n",
       "       u'Daily_Science_Grade_1_Evan_Moor_172.jpeg',\n",
       "       u'Daily_Science_Grade_1_Evan_Moor_173.jpeg',\n",
       "       u'Daily_Science_Grade_1_Evan_Moor_174.jpeg',\n",
       "       u'Daily_Science_Grade_1_Evan_Moor_175.jpeg',\n",
       "       u'Daily_Science_Grade_1_Evan_Moor_179.jpeg',\n",
       "       u'Daily_Science_Grade_1_Evan_Moor_18.jpeg',\n",
       "       u'Daily_Science_Grade_1_Evan_Moor_181.jpeg',\n",
       "       u'Daily_Science_Grade_1_Evan_Moor_185.jpeg',\n",
       "       u'Daily_Science_Grade_1_Evan_Moor_186.jpeg',\n",
       "       u'Daily_Science_Grade_1_Evan_Moor_19.jpeg',\n",
       "       u'Daily_Science_Grade_1_Evan_Moor_20.jpeg',\n",
       "       u'Daily_Science_Grade_1_Evan_Moor_22.jpeg',\n",
       "       u'Daily_Science_Grade_1_Evan_Moor_24.jpeg',\n",
       "       u'Daily_Science_Grade_1_Evan_Moor_25.jpeg',\n",
       "       u'Daily_Science_Grade_1_Evan_Moor_26.jpeg',\n",
       "       u'Daily_Science_Grade_1_Evan_Moor_29.jpeg',\n",
       "       u'Daily_Science_Grade_1_Evan_Moor_33.jpeg',\n",
       "       u'Daily_Science_Grade_1_Evan_Moor_34.jpeg',\n",
       "       u'Daily_Science_Grade_1_Evan_Moor_36.jpeg',\n",
       "       u'Daily_Science_Grade_1_Evan_Moor_43.jpeg',\n",
       "       u'Daily_Science_Grade_1_Evan_Moor_46.jpeg',\n",
       "       u'Daily_Science_Grade_1_Evan_Moor_47.jpeg',\n",
       "       u'Daily_Science_Grade_1_Evan_Moor_48.jpeg',\n",
       "       u'Daily_Science_Grade_1_Evan_Moor_53.jpeg',\n",
       "       u'Daily_Science_Grade_1_Evan_Moor_58.jpeg',\n",
       "       u'Daily_Science_Grade_1_Evan_Moor_61.jpeg',\n",
       "       u'Daily_Science_Grade_1_Evan_Moor_63.jpeg',\n",
       "       u'Daily_Science_Grade_1_Evan_Moor_65.jpeg',\n",
       "       u'Daily_Science_Grade_1_Evan_Moor_72.jpeg',\n",
       "       u'Daily_Science_Grade_1_Evan_Moor_74.jpeg',\n",
       "       u'Daily_Science_Grade_1_Evan_Moor_76.jpeg',\n",
       "       u'Daily_Science_Grade_1_Evan_Moor_77.jpeg',\n",
       "       u'Daily_Science_Grade_1_Evan_Moor_78.jpeg',\n",
       "       u'Daily_Science_Grade_1_Evan_Moor_79.jpeg',\n",
       "       u'Daily_Science_Grade_1_Evan_Moor_80.jpeg',\n",
       "       u'Daily_Science_Grade_1_Evan_Moor_86.jpeg',\n",
       "       u'Daily_Science_Grade_1_Evan_Moor_90.jpeg',\n",
       "       u'Daily_Science_Grade_1_Evan_Moor_92.jpeg',\n",
       "       u'Daily_Science_Grade_1_Evan_Moor_94.jpeg',\n",
       "       u'Daily_Science_Grade_1_Evan_Moor_96.jpeg',\n",
       "       u'Daily_Science_Grade_2_Evan_Moor_100.jpeg',\n",
       "       u'Daily_Science_Grade_2_Evan_Moor_102.jpeg',\n",
       "       u'Daily_Science_Grade_2_Evan_Moor_103.jpeg',\n",
       "       u'Daily_Science_Grade_2_Evan_Moor_106.jpeg',\n",
       "       u'Daily_Science_Grade_2_Evan_Moor_109.jpeg',\n",
       "       u'Daily_Science_Grade_2_Evan_Moor_11.jpeg',\n",
       "       u'Daily_Science_Grade_2_Evan_Moor_110.jpeg',\n",
       "       u'Daily_Science_Grade_2_Evan_Moor_112.jpeg',\n",
       "       u'Daily_Science_Grade_2_Evan_Moor_113.jpeg',\n",
       "       u'Daily_Science_Grade_2_Evan_Moor_115.jpeg',\n",
       "       u'Daily_Science_Grade_2_Evan_Moor_120.jpeg',\n",
       "       u'Daily_Science_Grade_2_Evan_Moor_121.jpeg',\n",
       "       u'Daily_Science_Grade_2_Evan_Moor_124.jpeg',\n",
       "       u'Daily_Science_Grade_2_Evan_Moor_126.jpeg',\n",
       "       u'Daily_Science_Grade_2_Evan_Moor_13.jpeg',\n",
       "       u'Daily_Science_Grade_2_Evan_Moor_130.jpeg',\n",
       "       u'Daily_Science_Grade_2_Evan_Moor_133.jpeg',\n",
       "       u'Daily_Science_Grade_2_Evan_Moor_137.jpeg',\n",
       "       u'Daily_Science_Grade_2_Evan_Moor_139.jpeg',\n",
       "       u'Daily_Science_Grade_2_Evan_Moor_140.jpeg',\n",
       "       u'Daily_Science_Grade_2_Evan_Moor_143.jpeg',\n",
       "       u'Daily_Science_Grade_2_Evan_Moor_145.jpeg',\n",
       "       u'Daily_Science_Grade_2_Evan_Moor_154.jpeg',\n",
       "       u'Daily_Science_Grade_2_Evan_Moor_155.jpeg',\n",
       "       u'Daily_Science_Grade_2_Evan_Moor_164.jpeg',\n",
       "       u'Daily_Science_Grade_2_Evan_Moor_166.jpeg',\n",
       "       u'Daily_Science_Grade_2_Evan_Moor_167.jpeg',\n",
       "       u'Daily_Science_Grade_2_Evan_Moor_168.jpeg',\n",
       "       u'Daily_Science_Grade_2_Evan_Moor_174.jpeg',\n",
       "       u'Daily_Science_Grade_2_Evan_Moor_175.jpeg',\n",
       "       u'Daily_Science_Grade_2_Evan_Moor_178.jpeg',\n",
       "       u'Daily_Science_Grade_2_Evan_Moor_185.jpeg',\n",
       "       u'Daily_Science_Grade_2_Evan_Moor_186.jpeg',\n",
       "       u'Daily_Science_Grade_2_Evan_Moor_25.jpeg',\n",
       "       u'Daily_Science_Grade_2_Evan_Moor_28.jpeg',\n",
       "       u'Daily_Science_Grade_2_Evan_Moor_30.jpeg',\n",
       "       u'Daily_Science_Grade_2_Evan_Moor_36.jpeg',\n",
       "       u'Daily_Science_Grade_2_Evan_Moor_41.jpeg',\n",
       "       u'Daily_Science_Grade_2_Evan_Moor_42.jpeg',\n",
       "       u'Daily_Science_Grade_2_Evan_Moor_47.jpeg',\n",
       "       u'Daily_Science_Grade_2_Evan_Moor_49.jpeg',\n",
       "       u'Daily_Science_Grade_2_Evan_Moor_50.jpeg',\n",
       "       u'Daily_Science_Grade_2_Evan_Moor_52.jpeg',\n",
       "       u'Daily_Science_Grade_2_Evan_Moor_58.jpeg',\n",
       "       u'Daily_Science_Grade_2_Evan_Moor_59.jpeg',\n",
       "       u'Daily_Science_Grade_2_Evan_Moor_60.jpeg',\n",
       "       u'Daily_Science_Grade_2_Evan_Moor_63.jpeg',\n",
       "       u'Daily_Science_Grade_2_Evan_Moor_65.jpeg',\n",
       "       u'Daily_Science_Grade_2_Evan_Moor_66.jpeg',\n",
       "       u'Daily_Science_Grade_2_Evan_Moor_71.jpeg',\n",
       "       u'Daily_Science_Grade_2_Evan_Moor_72.jpeg',\n",
       "       u'Daily_Science_Grade_2_Evan_Moor_76.jpeg',\n",
       "       u'Daily_Science_Grade_2_Evan_Moor_79.jpeg',\n",
       "       u'Daily_Science_Grade_2_Evan_Moor_85.jpeg',\n",
       "       u'Daily_Science_Grade_2_Evan_Moor_86.jpeg',\n",
       "       u'Daily_Science_Grade_2_Evan_Moor_89.jpeg',\n",
       "       u'Daily_Science_Grade_2_Evan_Moor_90.jpeg',\n",
       "       u'Daily_Science_Grade_2_Evan_Moor_91.jpeg',\n",
       "       u'Daily_Science_Grade_2_Evan_Moor_96.jpeg',\n",
       "       u'Daily_Science_Grade_3_(Daily_Practice_Books)_Evan_Moore_10.jpeg',\n",
       "       u'Daily_Science_Grade_3_(Daily_Practice_Books)_Evan_Moore_102.jpeg',\n",
       "       u'Daily_Science_Grade_3_(Daily_Practice_Books)_Evan_Moore_103.jpeg',\n",
       "       u'Daily_Science_Grade_3_(Daily_Practice_Books)_Evan_Moore_107.jpeg',\n",
       "       u'Daily_Science_Grade_3_(Daily_Practice_Books)_Evan_Moore_108.jpeg',\n",
       "       u'Daily_Science_Grade_3_(Daily_Practice_Books)_Evan_Moore_109.jpeg',\n",
       "       u'Daily_Science_Grade_3_(Daily_Practice_Books)_Evan_Moore_112.jpeg',\n",
       "       u'Daily_Science_Grade_3_(Daily_Practice_Books)_Evan_Moore_114.jpeg',\n",
       "       u'Daily_Science_Grade_3_(Daily_Practice_Books)_Evan_Moore_116.jpeg',\n",
       "       u'Daily_Science_Grade_3_(Daily_Practice_Books)_Evan_Moore_118.jpeg',\n",
       "       u'Daily_Science_Grade_3_(Daily_Practice_Books)_Evan_Moore_119.jpeg',\n",
       "       u'Daily_Science_Grade_3_(Daily_Practice_Books)_Evan_Moore_12.jpeg',\n",
       "       u'Daily_Science_Grade_3_(Daily_Practice_Books)_Evan_Moore_122.jpeg',\n",
       "       u'Daily_Science_Grade_3_(Daily_Practice_Books)_Evan_Moore_125.jpeg',\n",
       "       u'Daily_Science_Grade_3_(Daily_Practice_Books)_Evan_Moore_128.jpeg',\n",
       "       u'Daily_Science_Grade_3_(Daily_Practice_Books)_Evan_Moore_130.jpeg',\n",
       "       u'Daily_Science_Grade_3_(Daily_Practice_Books)_Evan_Moore_131.jpeg',\n",
       "       u'Daily_Science_Grade_3_(Daily_Practice_Books)_Evan_Moore_132.jpeg',\n",
       "       u'Daily_Science_Grade_3_(Daily_Practice_Books)_Evan_Moore_133.jpeg',\n",
       "       u'Daily_Science_Grade_3_(Daily_Practice_Books)_Evan_Moore_134.jpeg',\n",
       "       u'Daily_Science_Grade_3_(Daily_Practice_Books)_Evan_Moore_136.jpeg',\n",
       "       u'Daily_Science_Grade_3_(Daily_Practice_Books)_Evan_Moore_139.jpeg',\n",
       "       u'Daily_Science_Grade_3_(Daily_Practice_Books)_Evan_Moore_14.jpeg',\n",
       "       u'Daily_Science_Grade_3_(Daily_Practice_Books)_Evan_Moore_142.jpeg',\n",
       "       u'Daily_Science_Grade_3_(Daily_Practice_Books)_Evan_Moore_143.jpeg',\n",
       "       u'Daily_Science_Grade_3_(Daily_Practice_Books)_Evan_Moore_144.jpeg',\n",
       "       u'Daily_Science_Grade_3_(Daily_Practice_Books)_Evan_Moore_145.jpeg',\n",
       "       u'Daily_Science_Grade_3_(Daily_Practice_Books)_Evan_Moore_146.jpeg',\n",
       "       u'Daily_Science_Grade_3_(Daily_Practice_Books)_Evan_Moore_149.jpeg',\n",
       "       u'Daily_Science_Grade_3_(Daily_Practice_Books)_Evan_Moore_150.jpeg',\n",
       "       u'Daily_Science_Grade_3_(Daily_Practice_Books)_Evan_Moore_151.jpeg',\n",
       "       u'Daily_Science_Grade_3_(Daily_Practice_Books)_Evan_Moore_152.jpeg',\n",
       "       u'Daily_Science_Grade_3_(Daily_Practice_Books)_Evan_Moore_154.jpeg',\n",
       "       u'Daily_Science_Grade_3_(Daily_Practice_Books)_Evan_Moore_155.jpeg',\n",
       "       u'Daily_Science_Grade_3_(Daily_Practice_Books)_Evan_Moore_16.jpeg',\n",
       "       u'Daily_Science_Grade_3_(Daily_Practice_Books)_Evan_Moore_160.jpeg',\n",
       "       u'Daily_Science_Grade_3_(Daily_Practice_Books)_Evan_Moore_161.jpeg',\n",
       "       u'Daily_Science_Grade_3_(Daily_Practice_Books)_Evan_Moore_162.jpeg',\n",
       "       u'Daily_Science_Grade_3_(Daily_Practice_Books)_Evan_Moore_163.jpeg',\n",
       "       u'Daily_Science_Grade_3_(Daily_Practice_Books)_Evan_Moore_164.jpeg',\n",
       "       u'Daily_Science_Grade_3_(Daily_Practice_Books)_Evan_Moore_166.jpeg',\n",
       "       u'Daily_Science_Grade_3_(Daily_Practice_Books)_Evan_Moore_168.jpeg',\n",
       "       u'Daily_Science_Grade_3_(Daily_Practice_Books)_Evan_Moore_17.jpeg',\n",
       "       u'Daily_Science_Grade_3_(Daily_Practice_Books)_Evan_Moore_174.jpeg',\n",
       "       u'Daily_Science_Grade_3_(Daily_Practice_Books)_Evan_Moore_180.jpeg',\n",
       "       u'Daily_Science_Grade_3_(Daily_Practice_Books)_Evan_Moore_182.jpeg',\n",
       "       u'Daily_Science_Grade_3_(Daily_Practice_Books)_Evan_Moore_185.jpeg',\n",
       "       u'Daily_Science_Grade_3_(Daily_Practice_Books)_Evan_Moore_186.jpeg',\n",
       "       u'Daily_Science_Grade_3_(Daily_Practice_Books)_Evan_Moore_20.jpeg',\n",
       "       u'Daily_Science_Grade_3_(Daily_Practice_Books)_Evan_Moore_23.jpeg',\n",
       "       u'Daily_Science_Grade_3_(Daily_Practice_Books)_Evan_Moore_25.jpeg',\n",
       "       u'Daily_Science_Grade_3_(Daily_Practice_Books)_Evan_Moore_28.jpeg',\n",
       "       u'Daily_Science_Grade_3_(Daily_Practice_Books)_Evan_Moore_29.jpeg',\n",
       "       u'Daily_Science_Grade_3_(Daily_Practice_Books)_Evan_Moore_30.jpeg',\n",
       "       u'Daily_Science_Grade_3_(Daily_Practice_Books)_Evan_Moore_31.jpeg',\n",
       "       u'Daily_Science_Grade_3_(Daily_Practice_Books)_Evan_Moore_44.jpeg',\n",
       "       u'Daily_Science_Grade_3_(Daily_Practice_Books)_Evan_Moore_50.jpeg',\n",
       "       u'Daily_Science_Grade_3_(Daily_Practice_Books)_Evan_Moore_52.jpeg',\n",
       "       u'Daily_Science_Grade_3_(Daily_Practice_Books)_Evan_Moore_53.jpeg',\n",
       "       u'Daily_Science_Grade_3_(Daily_Practice_Books)_Evan_Moore_56.jpeg',\n",
       "       u'Daily_Science_Grade_3_(Daily_Practice_Books)_Evan_Moore_58.jpeg',\n",
       "       u'Daily_Science_Grade_3_(Daily_Practice_Books)_Evan_Moore_60.jpeg',\n",
       "       u'Daily_Science_Grade_3_(Daily_Practice_Books)_Evan_Moore_63.jpeg',\n",
       "       u'Daily_Science_Grade_3_(Daily_Practice_Books)_Evan_Moore_65.jpeg',\n",
       "       u'Daily_Science_Grade_3_(Daily_Practice_Books)_Evan_Moore_71.jpeg',\n",
       "       u'Daily_Science_Grade_3_(Daily_Practice_Books)_Evan_Moore_72.jpeg',\n",
       "       u'Daily_Science_Grade_3_(Daily_Practice_Books)_Evan_Moore_79.jpeg',\n",
       "       u'Daily_Science_Grade_3_(Daily_Practice_Books)_Evan_Moore_80.jpeg',\n",
       "       u'Daily_Science_Grade_3_(Daily_Practice_Books)_Evan_Moore_82.jpeg',\n",
       "       u'Daily_Science_Grade_3_(Daily_Practice_Books)_Evan_Moore_83.jpeg',\n",
       "       u'Daily_Science_Grade_3_(Daily_Practice_Books)_Evan_Moore_84.jpeg',\n",
       "       u'Daily_Science_Grade_3_(Daily_Practice_Books)_Evan_Moore_85.jpeg',\n",
       "       u'Daily_Science_Grade_3_(Daily_Practice_Books)_Evan_Moore_88.jpeg',\n",
       "       u'Daily_Science_Grade_3_(Daily_Practice_Books)_Evan_Moore_89.jpeg',\n",
       "       u'Daily_Science_Grade_3_(Daily_Practice_Books)_Evan_Moore_90.jpeg',\n",
       "       u'Daily_Science_Grade_3_(Daily_Practice_Books)_Evan_Moore_94.jpeg',\n",
       "       u'Daily_Science_Grade_3_(Daily_Practice_Books)_Evan_Moore_95.jpeg',\n",
       "       u'Daily_Science_Grade_4_Evan_Moor_100.jpeg',\n",
       "       u'Daily_Science_Grade_4_Evan_Moor_102.jpeg',\n",
       "       u'Daily_Science_Grade_4_Evan_Moor_103.jpeg',\n",
       "       u'Daily_Science_Grade_4_Evan_Moor_104.jpeg',\n",
       "       u'Daily_Science_Grade_4_Evan_Moor_107.jpeg',\n",
       "       u'Daily_Science_Grade_4_Evan_Moor_112.jpeg',\n",
       "       u'Daily_Science_Grade_4_Evan_Moor_113.jpeg',\n",
       "       u'Daily_Science_Grade_4_Evan_Moor_114.jpeg',\n",
       "       u'Daily_Science_Grade_4_Evan_Moor_116.jpeg',\n",
       "       u'Daily_Science_Grade_4_Evan_Moor_120.jpeg',\n",
       "       u'Daily_Science_Grade_4_Evan_Moor_122.jpeg',\n",
       "       u'Daily_Science_Grade_4_Evan_Moor_123.jpeg',\n",
       "       u'Daily_Science_Grade_4_Evan_Moor_124.jpeg',\n",
       "       u'Daily_Science_Grade_4_Evan_Moor_125.jpeg',\n",
       "       u'Daily_Science_Grade_4_Evan_Moor_126.jpeg',\n",
       "       u'Daily_Science_Grade_4_Evan_Moor_138.jpeg',\n",
       "       u'Daily_Science_Grade_4_Evan_Moor_139.jpeg',\n",
       "       u'Daily_Science_Grade_4_Evan_Moor_14.jpeg',\n",
       "       u'Daily_Science_Grade_4_Evan_Moor_140.jpeg',\n",
       "       u'Daily_Science_Grade_4_Evan_Moor_144.jpeg',\n",
       "       u'Daily_Science_Grade_4_Evan_Moor_146.jpeg',\n",
       "       u'Daily_Science_Grade_4_Evan_Moor_148.jpeg',\n",
       "       u'Daily_Science_Grade_4_Evan_Moor_152.jpeg',\n",
       "       u'Daily_Science_Grade_4_Evan_Moor_153.jpeg',\n",
       "       u'Daily_Science_Grade_4_Evan_Moor_154.jpeg',\n",
       "       u'Daily_Science_Grade_4_Evan_Moor_16.jpeg',\n",
       "       u'Daily_Science_Grade_4_Evan_Moor_160.jpeg',\n",
       "       u'Daily_Science_Grade_4_Evan_Moor_163.jpeg',\n",
       "       u'Daily_Science_Grade_4_Evan_Moor_167.jpeg',\n",
       "       u'Daily_Science_Grade_4_Evan_Moor_168.jpeg',\n",
       "       u'Daily_Science_Grade_4_Evan_Moor_170.jpeg',\n",
       "       u'Daily_Science_Grade_4_Evan_Moor_172.jpeg',\n",
       "       u'Daily_Science_Grade_4_Evan_Moor_174.jpeg',\n",
       "       u'Daily_Science_Grade_4_Evan_Moor_175.jpeg',\n",
       "       u'Daily_Science_Grade_4_Evan_Moor_180.jpeg',\n",
       "       u'Daily_Science_Grade_4_Evan_Moor_181.jpeg',\n",
       "       u'Daily_Science_Grade_4_Evan_Moor_184.jpeg',\n",
       "       u'Daily_Science_Grade_4_Evan_Moor_20.jpeg',\n",
       "       u'Daily_Science_Grade_4_Evan_Moor_24.jpeg',\n",
       "       u'Daily_Science_Grade_4_Evan_Moor_25.jpeg',\n",
       "       u'Daily_Science_Grade_4_Evan_Moor_26.jpeg',\n",
       "       u'Daily_Science_Grade_4_Evan_Moor_28.jpeg',\n",
       "       u'Daily_Science_Grade_4_Evan_Moor_29.jpeg',\n",
       "       u'Daily_Science_Grade_4_Evan_Moor_30.jpeg',\n",
       "       u'Daily_Science_Grade_4_Evan_Moor_31.jpeg',\n",
       "       u'Daily_Science_Grade_4_Evan_Moor_33.jpeg',\n",
       "       u'Daily_Science_Grade_4_Evan_Moor_34.jpeg',\n",
       "       u'Daily_Science_Grade_4_Evan_Moor_36.jpeg',\n",
       "       u'Daily_Science_Grade_4_Evan_Moor_44.jpeg',\n",
       "       u'Daily_Science_Grade_4_Evan_Moor_47.jpeg',\n",
       "       u'Daily_Science_Grade_4_Evan_Moor_48.jpeg',\n",
       "       u'Daily_Science_Grade_4_Evan_Moor_49.jpeg',\n",
       "       u'Daily_Science_Grade_4_Evan_Moor_50.jpeg',\n",
       "       u'Daily_Science_Grade_4_Evan_Moor_52.jpeg',\n",
       "       u'Daily_Science_Grade_4_Evan_Moor_53.jpeg',\n",
       "       u'Daily_Science_Grade_4_Evan_Moor_54.jpeg',\n",
       "       u'Daily_Science_Grade_4_Evan_Moor_56.jpeg',\n",
       "       u'Daily_Science_Grade_4_Evan_Moor_59.jpeg',\n",
       "       u'Daily_Science_Grade_4_Evan_Moor_65.jpeg',\n",
       "       u'Daily_Science_Grade_4_Evan_Moor_71.jpeg',\n",
       "       u'Daily_Science_Grade_4_Evan_Moor_74.jpeg',\n",
       "       u'Daily_Science_Grade_4_Evan_Moor_79.jpeg',\n",
       "       u'Daily_Science_Grade_4_Evan_Moor_8.jpeg',\n",
       "       u'Daily_Science_Grade_4_Evan_Moor_82.jpeg',\n",
       "       u'Daily_Science_Grade_4_Evan_Moor_91.jpeg',\n",
       "       u'Daily_Science_Grade_4_Evan_Moor_92.jpeg',\n",
       "       u'Daily_Science_Grade_4_Evan_Moor_93.jpeg',\n",
       "       u'Daily_Science_Grade_4_Evan_Moor_94.jpeg',\n",
       "       u'Daily_Science_Grade_4_Evan_Moor_95.jpeg',\n",
       "       u'Daily_Science_Grade_4_Evan_Moor_98.jpeg',\n",
       "       u'Daily_Science_Grade_5_Evan_Moor_10.jpeg',\n",
       "       u'Daily_Science_Grade_5_Evan_Moor_101.jpeg',\n",
       "       u'Daily_Science_Grade_5_Evan_Moor_102.jpeg',\n",
       "       u'Daily_Science_Grade_5_Evan_Moor_103.jpeg',\n",
       "       u'Daily_Science_Grade_5_Evan_Moor_106.jpeg',\n",
       "       u'Daily_Science_Grade_5_Evan_Moor_113.jpeg',\n",
       "       u'Daily_Science_Grade_5_Evan_Moor_116.jpeg',\n",
       "       u'Daily_Science_Grade_5_Evan_Moor_12.jpeg',\n",
       "       u'Daily_Science_Grade_5_Evan_Moor_123.jpeg',\n",
       "       u'Daily_Science_Grade_5_Evan_Moor_124.jpeg',\n",
       "       u'Daily_Science_Grade_5_Evan_Moor_132.jpeg',\n",
       "       u'Daily_Science_Grade_5_Evan_Moor_139.jpeg',\n",
       "       u'Daily_Science_Grade_5_Evan_Moor_14.jpeg',\n",
       "       u'Daily_Science_Grade_5_Evan_Moor_144.jpeg',\n",
       "       u'Daily_Science_Grade_5_Evan_Moor_148.jpeg',\n",
       "       u'Daily_Science_Grade_5_Evan_Moor_151.jpeg',\n",
       "       u'Daily_Science_Grade_5_Evan_Moor_153.jpeg',\n",
       "       u'Daily_Science_Grade_5_Evan_Moor_16.jpeg',\n",
       "       u'Daily_Science_Grade_5_Evan_Moor_162.jpeg',\n",
       "       u'Daily_Science_Grade_5_Evan_Moor_163.jpeg',\n",
       "       u'Daily_Science_Grade_5_Evan_Moor_164.jpeg',\n",
       "       u'Daily_Science_Grade_5_Evan_Moor_169.jpeg',\n",
       "       u'Daily_Science_Grade_5_Evan_Moor_178.jpeg',\n",
       "       u'Daily_Science_Grade_5_Evan_Moor_179.jpeg',\n",
       "       u'Daily_Science_Grade_5_Evan_Moor_184.jpeg',\n",
       "       u'Daily_Science_Grade_5_Evan_Moor_26.jpeg',\n",
       "       u'Daily_Science_Grade_5_Evan_Moor_31.jpeg',\n",
       "       u'Daily_Science_Grade_5_Evan_Moor_33.jpeg',\n",
       "       u'Daily_Science_Grade_5_Evan_Moor_35.jpeg',\n",
       "       u'Daily_Science_Grade_5_Evan_Moor_40.jpeg',\n",
       "       u'Daily_Science_Grade_5_Evan_Moor_44.jpeg',\n",
       "       u'Daily_Science_Grade_5_Evan_Moor_50.jpeg',\n",
       "       u'Daily_Science_Grade_5_Evan_Moor_55.jpeg',\n",
       "       u'Daily_Science_Grade_5_Evan_Moor_58.jpeg',\n",
       "       u'Daily_Science_Grade_5_Evan_Moor_59.jpeg',\n",
       "       u'Daily_Science_Grade_5_Evan_Moor_61.jpeg',\n",
       "       u'Daily_Science_Grade_5_Evan_Moor_63.jpeg',\n",
       "       u'Daily_Science_Grade_5_Evan_Moor_68.jpeg',\n",
       "       u'Daily_Science_Grade_5_Evan_Moor_70.jpeg',\n",
       "       u'Daily_Science_Grade_5_Evan_Moor_78.jpeg',\n",
       "       u'Daily_Science_Grade_5_Evan_Moor_80.jpeg',\n",
       "       u'Daily_Science_Grade_5_Evan_Moor_82.jpeg',\n",
       "       u'Daily_Science_Grade_5_Evan_Moor_86.jpeg',\n",
       "       u'Daily_Science_Grade_5_Evan_Moor_89.jpeg',\n",
       "       u'Daily_Science_Grade_5_Evan_Moor_90.jpeg',\n",
       "       u'Daily_Science_Grade_5_Evan_Moor_93.jpeg',\n",
       "       u'Daily_Science_Grade_5_Evan_Moor_94.jpeg',\n",
       "       u'Daily_Science_Grade_5_Evan_Moor_95.jpeg',\n",
       "       u'Daily_Science_Grade_6_(Daily_Practice_Books)_Evan_Moor_10.jpeg',\n",
       "       u'Daily_Science_Grade_6_(Daily_Practice_Books)_Evan_Moor_101.jpeg',\n",
       "       u'Daily_Science_Grade_6_(Daily_Practice_Books)_Evan_Moor_104.jpeg',\n",
       "       u'Daily_Science_Grade_6_(Daily_Practice_Books)_Evan_Moor_106.jpeg',\n",
       "       u'Daily_Science_Grade_6_(Daily_Practice_Books)_Evan_Moor_107.jpeg',\n",
       "       u'Daily_Science_Grade_6_(Daily_Practice_Books)_Evan_Moor_109.jpeg',\n",
       "       u'Daily_Science_Grade_6_(Daily_Practice_Books)_Evan_Moor_110.jpeg',\n",
       "       u'Daily_Science_Grade_6_(Daily_Practice_Books)_Evan_Moor_112.jpeg',\n",
       "       u'Daily_Science_Grade_6_(Daily_Practice_Books)_Evan_Moor_113.jpeg',\n",
       "       u'Daily_Science_Grade_6_(Daily_Practice_Books)_Evan_Moor_114.jpeg',\n",
       "       u'Daily_Science_Grade_6_(Daily_Practice_Books)_Evan_Moor_116.jpeg',\n",
       "       u'Daily_Science_Grade_6_(Daily_Practice_Books)_Evan_Moor_118.jpeg',\n",
       "       u'Daily_Science_Grade_6_(Daily_Practice_Books)_Evan_Moor_12.jpeg',\n",
       "       u'Daily_Science_Grade_6_(Daily_Practice_Books)_Evan_Moor_126.jpeg',\n",
       "       u'Daily_Science_Grade_6_(Daily_Practice_Books)_Evan_Moor_134.jpeg',\n",
       "       u'Daily_Science_Grade_6_(Daily_Practice_Books)_Evan_Moor_138.jpeg',\n",
       "       u'Daily_Science_Grade_6_(Daily_Practice_Books)_Evan_Moor_14.jpeg',\n",
       "       u'Daily_Science_Grade_6_(Daily_Practice_Books)_Evan_Moor_140.jpeg',\n",
       "       u'Daily_Science_Grade_6_(Daily_Practice_Books)_Evan_Moor_142.jpeg',\n",
       "       u'Daily_Science_Grade_6_(Daily_Practice_Books)_Evan_Moor_150.jpeg',\n",
       "       u'Daily_Science_Grade_6_(Daily_Practice_Books)_Evan_Moor_152.jpeg',\n",
       "       u'Daily_Science_Grade_6_(Daily_Practice_Books)_Evan_Moor_154.jpeg',\n",
       "       u'Daily_Science_Grade_6_(Daily_Practice_Books)_Evan_Moor_16.jpeg',\n",
       "       u'Daily_Science_Grade_6_(Daily_Practice_Books)_Evan_Moor_160.jpeg',\n",
       "       u'Daily_Science_Grade_6_(Daily_Practice_Books)_Evan_Moor_162.jpeg',\n",
       "       u'Daily_Science_Grade_6_(Daily_Practice_Books)_Evan_Moor_164.jpeg',\n",
       "       u'Daily_Science_Grade_6_(Daily_Practice_Books)_Evan_Moor_167.jpeg',\n",
       "       u'Daily_Science_Grade_6_(Daily_Practice_Books)_Evan_Moor_168.jpeg',\n",
       "       u'Daily_Science_Grade_6_(Daily_Practice_Books)_Evan_Moor_173.jpeg',\n",
       "       u'Daily_Science_Grade_6_(Daily_Practice_Books)_Evan_Moor_174.jpeg',\n",
       "       u'Daily_Science_Grade_6_(Daily_Practice_Books)_Evan_Moor_175.jpeg',\n",
       "       u'Daily_Science_Grade_6_(Daily_Practice_Books)_Evan_Moor_176.jpeg',\n",
       "       u'Daily_Science_Grade_6_(Daily_Practice_Books)_Evan_Moor_18.jpeg',\n",
       "       u'Daily_Science_Grade_6_(Daily_Practice_Books)_Evan_Moor_185.jpeg',\n",
       "       u'Daily_Science_Grade_6_(Daily_Practice_Books)_Evan_Moor_24.jpeg',\n",
       "       u'Daily_Science_Grade_6_(Daily_Practice_Books)_Evan_Moor_25.jpeg',\n",
       "       u'Daily_Science_Grade_6_(Daily_Practice_Books)_Evan_Moor_26.jpeg',\n",
       "       u'Daily_Science_Grade_6_(Daily_Practice_Books)_Evan_Moor_32.jpeg',\n",
       "       u'Daily_Science_Grade_6_(Daily_Practice_Books)_Evan_Moor_34.jpeg',\n",
       "       u'Daily_Science_Grade_6_(Daily_Practice_Books)_Evan_Moor_35.jpeg',\n",
       "       u'Daily_Science_Grade_6_(Daily_Practice_Books)_Evan_Moor_40.jpeg',\n",
       "       u'Daily_Science_Grade_6_(Daily_Practice_Books)_Evan_Moor_41.jpeg',\n",
       "       u'Daily_Science_Grade_6_(Daily_Practice_Books)_Evan_Moor_49.jpeg',\n",
       "       u'Daily_Science_Grade_6_(Daily_Practice_Books)_Evan_Moor_52.jpeg',\n",
       "       u'Daily_Science_Grade_6_(Daily_Practice_Books)_Evan_Moor_56.jpeg',\n",
       "       u'Daily_Science_Grade_6_(Daily_Practice_Books)_Evan_Moor_59.jpeg',\n",
       "       u'Daily_Science_Grade_6_(Daily_Practice_Books)_Evan_Moor_60.jpeg',\n",
       "       u'Daily_Science_Grade_6_(Daily_Practice_Books)_Evan_Moor_62.jpeg',\n",
       "       u'Daily_Science_Grade_6_(Daily_Practice_Books)_Evan_Moor_63.jpeg',\n",
       "       u'Daily_Science_Grade_6_(Daily_Practice_Books)_Evan_Moor_70.jpeg',\n",
       "       u'Daily_Science_Grade_6_(Daily_Practice_Books)_Evan_Moor_73.jpeg',\n",
       "       u'Daily_Science_Grade_6_(Daily_Practice_Books)_Evan_Moor_74.jpeg',\n",
       "       u'Daily_Science_Grade_6_(Daily_Practice_Books)_Evan_Moor_76.jpeg',\n",
       "       u'Daily_Science_Grade_6_(Daily_Practice_Books)_Evan_Moor_78.jpeg',\n",
       "       u'Daily_Science_Grade_6_(Daily_Practice_Books)_Evan_Moor_79.jpeg',\n",
       "       u'Daily_Science_Grade_6_(Daily_Practice_Books)_Evan_Moor_8.jpeg',\n",
       "       u'Daily_Science_Grade_6_(Daily_Practice_Books)_Evan_Moor_85.jpeg',\n",
       "       u'Daily_Science_Grade_6_(Daily_Practice_Books)_Evan_Moor_86.jpeg',\n",
       "       u'Daily_Science_Grade_6_(Daily_Practice_Books)_Evan_Moor_91.jpeg',\n",
       "       u'Daily_Science_Grade_6_(Daily_Practice_Books)_Evan_Moor_93.jpeg',\n",
       "       u'Daily_Science_Grade_6_(Daily_Practice_Books)_Evan_Moor_96.jpeg'], dtype=object)"
      ]
     },
     "execution_count": 179,
     "metadata": {},
     "output_type": "execute_result"
    }
   ],
   "source": [
    "bad_pages"
   ]
  },
  {
   "cell_type": "markdown",
   "metadata": {
    "heading_collapsed": true
   },
   "source": [
    "# End"
   ]
  },
  {
   "cell_type": "code",
   "execution_count": 363,
   "metadata": {
    "collapsed": false,
    "hidden": true,
    "run_control": {
     "frozen": false,
     "read_only": false
    }
   },
   "outputs": [],
   "source": [
    "# vertically_ordered_question = sorted(q_series.values(), key=lambda x: x['rectangle'][0][1])\n",
    "\n",
    "# vertically_ordered_question_feat = [make_box_row(box, idx) for idx, box in enumerate(vertically_ordered_question)]\n",
    "\n",
    "# boxes_w_predicts = assign_group_numbers(vertically_ordered_question_feat) "
   ]
  },
  {
   "cell_type": "code",
   "execution_count": 310,
   "metadata": {
    "collapsed": false,
    "hidden": true,
    "run_control": {
     "frozen": false,
     "read_only": false
    }
   },
   "outputs": [],
   "source": [
    "t0 = 'Read each question. Fill in the bubble next to the correct answer.'\n",
    "t1 = 'A distance'\n",
    "t2 = 'OB balls'\n",
    "t3 = 'Do push'\n",
    "t4 = 'OD on a mountain'\n",
    "t5 = 'CO Flowers might die out.'\n",
    "re_pattern = re.compile('([A-Z])(?:[a-z]?){1}\\s')\n",
    "\n",
    "print re.findall(re_pattern, t0)\n",
    "print re.findall(re_pattern, t1)\n",
    "print re.findall(re_pattern, t2)\n",
    "print re.findall(re_pattern, t3)\n",
    "print re.findall(re_pattern, t4)\n",
    "print re.findall(re_pattern, t5)"
   ]
  },
  {
   "cell_type": "code",
   "execution_count": 224,
   "metadata": {
    "collapsed": true,
    "hidden": true,
    "run_control": {
     "frozen": false,
     "read_only": false
    }
   },
   "outputs": [],
   "source": [
    "#print vertically_ordered_question\n",
    "# qdf = pd.DataFrame(vertically_ordered_question)"
   ]
  }
 ],
 "metadata": {
  "kernelspec": {
   "display_name": "Python 2",
   "language": "python",
   "name": "python2"
  },
  "language_info": {
   "codemirror_mode": {
    "name": "ipython",
    "version": 2
   },
   "file_extension": ".py",
   "mimetype": "text/x-python",
   "name": "python",
   "nbconvert_exporter": "python",
   "pygments_lexer": "ipython2",
   "version": "2.7.10"
  }
 },
 "nbformat": 4,
 "nbformat_minor": 0
}
