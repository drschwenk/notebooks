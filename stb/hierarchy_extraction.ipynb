{
 "cells": [
  {
   "cell_type": "markdown",
   "metadata": {
    "heading_collapsed": true
   },
   "source": [
    "# Table of Contents\n",
    "* [Investigating programatically recovering hierarchy](#Investigating-programatically-recovering-hierarchy)\n",
    "\t* [Dataframe stuff](#Dataframe-stuff)\n",
    "* [End](#End)\n"
   ]
  },
  {
   "cell_type": "code",
   "execution_count": 4,
   "metadata": {
    "collapsed": true,
    "hidden": true,
    "run_control": {
     "frozen": false,
     "read_only": false
    }
   },
   "outputs": [],
   "source": [
    "%%capture\n",
    "from __future__ import division\n",
    "import numpy as np\n",
    "import pandas as pd\n",
    "import scipy.stats as st\n",
    "import itertools\n",
    "import math\n",
    "from collections import Counter, defaultdict, OrderedDict\n",
    "%load_ext autoreload\n",
    "%autoreload 2"
   ]
  },
  {
   "cell_type": "code",
   "execution_count": 2,
   "metadata": {
    "collapsed": false,
    "hidden": true,
    "run_control": {
     "frozen": false,
     "read_only": false
    }
   },
   "outputs": [],
   "source": [
    "import pickle\n",
    "import json\n",
    "import glob\n",
    "import pprint"
   ]
  },
  {
   "cell_type": "code",
   "execution_count": 3,
   "metadata": {
    "collapsed": false,
    "hidden": true,
    "run_control": {
     "frozen": false,
     "read_only": false
    }
   },
   "outputs": [],
   "source": [
    "import pdfextraction.merge as me\n",
    "import pdfextraction.unmerge as um\n",
    "import pdfextraction.amt_boto_modules as amt\n",
    "import pdfextraction.hierarchy_exctraction as hext"
   ]
  },
  {
   "cell_type": "markdown",
   "metadata": {},
   "source": [
    "# Investigating programatically recovering hierarchy"
   ]
  },
  {
   "cell_type": "markdown",
   "metadata": {},
   "source": [
    "## Setting up paths and other basics"
   ]
  },
  {
   "cell_type": "code",
   "execution_count": null,
   "metadata": {
    "collapsed": true,
    "run_control": {
     "frozen": false,
     "read_only": false
    }
   },
   "outputs": [],
   "source": [
    "base_path = 'ai2-vision-turk-data/textbook-annotation-test/labeled-questions/'\n",
    "test_path = 'ai2-vision-turk-data/textbook-annotation-test/hierarchy-ext-test/'"
   ]
  },
  {
   "cell_type": "code",
   "execution_count": 15,
   "metadata": {
    "collapsed": false,
    "run_control": {
     "frozen": false,
     "read_only": false
    }
   },
   "outputs": [
    {
     "name": "stdout",
     "output_type": "stream",
     "text": [
      "856\n",
      "468\n"
     ]
    }
   ],
   "source": [
    "question_pages_df = pd.read_pickle('pages_w_questions.pkl')\n",
    "question_pages = question_pages_df['page'].tolist()\n",
    "to_review = pd.read_pickle('rev_seq.pkl').tolist()\n",
    "\n",
    "book_breakdowns, page_ranges = amt.load_book_info()\n",
    "\n",
    "verified_pages = to_review\n",
    "verified_pages_minus_bad = [page for page in verified_pages if page not in bad_pages.tolist()]\n",
    "print len(verified_pages)\n",
    "print len(verified_pages_minus_bad)"
   ]
  },
  {
   "cell_type": "markdown",
   "metadata": {},
   "source": [
    "## Basic structure"
   ]
  },
  {
   "cell_type": "code",
   "execution_count": null,
   "metadata": {
    "collapsed": true,
    "run_control": {
     "frozen": false,
     "read_only": false
    }
   },
   "outputs": [],
   "source": [
    "# accuracy_total, errors_total, box_totals, ind_page_results = predict_and_verify_groups(single_page)\n",
    "accuracy_total, errors_total, box_totals, ind_page_results = hext.predict_and_verify_groups(verified_pages_minus_bad, base_path)\n",
    "\n",
    "print errors_total\n",
    "print box_totals\n",
    "print accuracy_total"
   ]
  },
  {
   "cell_type": "markdown",
   "metadata": {
    "collapsed": false,
    "run_control": {
     "frozen": false,
     "read_only": false
    }
   },
   "source": [
    "for page_res in ind_page_results:\n",
    "    hext.write_predicted_groups(page_res, base_path, test_path)"
   ]
  },
  {
   "cell_type": "code",
   "execution_count": 177,
   "metadata": {
    "collapsed": true,
    "run_control": {
     "frozen": false,
     "read_only": false
    }
   },
   "outputs": [],
   "source": [
    "problem_pages = [page[0] for page in ind_page_results if page[2] < 1.0]\n",
    "problem_pagess = pd.Series(problem_pages)\n",
    "# problem_pagess.to_pickle('problem_pages.pkl')"
   ]
  },
  {
   "cell_type": "code",
   "execution_count": 19,
   "metadata": {
    "collapsed": true,
    "run_control": {
     "frozen": false,
     "read_only": false
    }
   },
   "outputs": [],
   "source": [
    "page_n = 0"
   ]
  },
  {
   "cell_type": "code",
   "execution_count": 281,
   "metadata": {
    "collapsed": true,
    "run_control": {
     "frozen": false,
     "read_only": false
    }
   },
   "outputs": [
    {
     "name": "stdout",
     "output_type": "stream",
     "text": [
      "\n",
      "actual 1\n",
      "predicted 1\n",
      "A. Write true or false.\n",
      "\n",
      "\n",
      "actual 1\n",
      "predicted 1\n",
      "1. A conductor allows electric current to\n",
      "\n",
      "\n",
      "actual 1\n",
      "predicted 1\n",
      "flow through it easily\n",
      "\n",
      "\n",
      "actual 1\n",
      "predicted 1\n",
      "2. Electrical energy can make heat energy.\n",
      "\n",
      "\n",
      "actual 1\n",
      "predicted 1\n",
      "3. Resistors convert less energy into heat\n",
      "\n",
      "\n",
      "actual 1\n",
      "predicted 1\n",
      "than conductors do\n",
      "\n",
      "\n",
      "actual 1\n",
      "predicted 1\n",
      "4. All metals conduct electricity\n",
      "\n",
      "\n",
      "actual 1\n",
      "predicted 1\n",
      "equally we\n",
      "\n",
      "\n",
      "actual 2\n",
      "predicted 2\n",
      "B. What is the main difference between a conductor and a resistor?\n",
      "\n",
      "\n",
      "actual 2\n",
      "predicted 3\n",
      "C. How did resistors help the people who invented toasters?\n",
      "\n",
      "\n",
      "actual 2\n",
      "predicted 3\n",
      "Explain your answer\n",
      "\n",
      "\n",
      "[u'Daily_Science_Grade_4_Evan_Moor_131.jpeg']\n",
      "page 9\n",
      "number wrong= 2\n",
      "out of 22\n",
      "accuracy 0.909090909091\n"
     ]
    }
   ],
   "source": [
    "cur_page = problem_pages[page_n:page_n + 1]\n",
    "accuracy_total, errors_total, box_totals, ind_page_results = predict_and_verify_groups(cur_page)\n",
    "page_n += 1\n",
    "print ''\n",
    "print cur_page\n",
    "print '{} {}'.format('page', page_n)\n",
    "print '{} {}'.format('number wrong=', errors_total)\n",
    "print '{} {}'.format('out of', box_totals)\n",
    "print '{} {}'.format('accuracy', accuracy_total)"
   ]
  },
  {
   "cell_type": "markdown",
   "metadata": {},
   "source": [
    "## Question-type specific structure"
   ]
  },
  {
   "cell_type": "code",
   "execution_count": null,
   "metadata": {
    "collapsed": true,
    "run_control": {
     "frozen": false,
     "read_only": false
    }
   },
   "outputs": [],
   "source": [
    "# single_page = ['Daily_Science_Grade_2_Evan_Moor_33.jpeg']\n",
    "single_page = ['Daily_Science_Grade_1_Evan_Moor_123.jpeg']\n",
    "single_page = ['Daily_Science_Grade_1_Evan_Moor_93.jpeg']\n",
    "# single_page = ['Daily_Science_Grade_1_Evan_Moor_44.jpeg'] # this is an example of the ocr serivce merging failing\n",
    "# single_page = ['Daily_Science_Grade_2_Evan_Moor_107.jpeg'] # this is an example of unlabeled answer choices\n",
    "# single_page = ['Daily_Science_Grade_2_Evan_Moor_12.jpeg']\n",
    "# single_page = ['Daily_Science_Grade_2_Evan_Moor_123.jpeg'] \n",
    "# single_page = ['Daily_Science_Grade_2_Evan_Moor_144.jpeg'] #short answer and mc\n",
    "# single_page = ['Daily_Science_Grade_2_Evan_Moor_146.jpeg'] # fib and mc\n",
    "# single_page = ['Daily_Science_Grade_2_Evan_Moor_149.jpeg'] # another case where ocr service put on the same line "
   ]
  },
  {
   "cell_type": "markdown",
   "metadata": {},
   "source": [
    "1) question type hist\n",
    "2) what cats turkers do well on \n",
    "3) total questions "
   ]
  },
  {
   "cell_type": "code",
   "execution_count": 157,
   "metadata": {
    "collapsed": false,
    "run_control": {
     "frozen": false,
     "read_only": false
    }
   },
   "outputs": [
    {
     "data": {
      "text/plain": [
       "['Daily_Science_Grade_2_Evan_Moor_149.jpeg']"
      ]
     },
     "execution_count": 157,
     "metadata": {},
     "output_type": "execute_result"
    }
   ],
   "source": [
    "single_page"
   ]
  },
  {
   "cell_type": "code",
   "execution_count": 673,
   "metadata": {
    "collapsed": false,
    "run_control": {
     "frozen": false,
     "read_only": false
    }
   },
   "outputs": [],
   "source": [
    "with open(test_path + single_page[0].replace('jpeg', 'json')) as f:\n",
    "    ex_anno = json.load(f)"
   ]
  },
  {
   "cell_type": "code",
   "execution_count": null,
   "metadata": {
    "collapsed": true,
    "run_control": {
     "frozen": false,
     "read_only": false
    }
   },
   "outputs": [],
   "source": [
    "ex_anno['parsed_questions'] = dict(complete_questions)\n",
    "ex_anno['instructions'] = dict(instructions)"
   ]
  },
  {
   "cell_type": "code",
   "execution_count": 175,
   "metadata": {
    "collapsed": true
   },
   "outputs": [],
   "source": [
    "page_n = 32 "
   ]
  },
  {
   "cell_type": "code",
   "execution_count": 176,
   "metadata": {
    "collapsed": true
   },
   "outputs": [
    {
     "name": "stdout",
     "output_type": "stream",
     "text": [
      "33\n",
      "group G2\n",
      "\n",
      "question   True/False\n",
      "4. A big tree always grows from a big seed.\n",
      "\n",
      "question   True/False\n",
      "5. Pollen helps plants make flowers\n",
      "\n",
      "question   True/False\n",
      "6. Mammals have hair and feed their babies mil\n",
      "\n",
      "group G1\n",
      "\n",
      "question   Multiple Choice\n",
      "3. Plants have flowers so they can make\n",
      "    B stems\n",
      "    leaves (C) leaves\n",
      "    A seeds\n",
      "\n",
      "question   Multiple Choice\n",
      "1. Which of these does NOT have a life cycle?\n",
      "    pine tree\n",
      "    OB OB\n",
      "    CO mountain\n",
      "    A butterfly\n",
      "\n",
      "question   Multiple Choice\n",
      "2. The first stage of the life cycle of a butterfly is\n",
      "    B a Chrysalis\n",
      "    C a caterpillar\n",
      "    (A) an egg\n",
      "\n"
     ]
    }
   ],
   "source": [
    "page_n += 1\n",
    "print page_n\n",
    "single_page = ['Daily_Science_Grade_2_Evan_Moor_' + str(page_n) +'.jpeg']\n",
    "\n",
    "ctq = hext.parse_book(single_page, test_path)\n",
    "\n",
    "for gn, group in ctq.items():\n",
    "    print 'group ' + gn\n",
    "    print\n",
    "    for full_q, parts in group.items():\n",
    "        if full_q == 'misfits':\n",
    "            print 'misfits'\n",
    "            for misfit, val in parts.items():\n",
    "                for box, tv in val['asks'].items():\n",
    "                    print '    ' + tv['contents']\n",
    "        else:\n",
    "            print 'question   ' + parts['category']  \n",
    "            for ids, question_parts in parts['asks'].items():\n",
    "                print question_parts['contents']\n",
    "            for ids, ac in parts['answer_choices'].items():\n",
    "                print '    '  + ac['possible_answer']['contents']\n",
    "        print"
   ]
  },
  {
   "cell_type": "code",
   "execution_count": null,
   "metadata": {
    "collapsed": true,
    "run_control": {
     "frozen": false,
     "read_only": false
    }
   },
   "outputs": [],
   "source": []
  },
  {
   "cell_type": "code",
   "execution_count": null,
   "metadata": {
    "collapsed": true,
    "run_control": {
     "frozen": false,
     "read_only": false
    }
   },
   "outputs": [],
   "source": []
  },
  {
   "cell_type": "code",
   "execution_count": null,
   "metadata": {
    "collapsed": true,
    "run_control": {
     "frozen": false,
     "read_only": false
    }
   },
   "outputs": [],
   "source": []
  },
  {
   "cell_type": "code",
   "execution_count": null,
   "metadata": {
    "collapsed": true,
    "run_control": {
     "frozen": false,
     "read_only": false
    }
   },
   "outputs": [],
   "source": []
  },
  {
   "cell_type": "code",
   "execution_count": null,
   "metadata": {
    "collapsed": true,
    "run_control": {
     "frozen": false,
     "read_only": false
    }
   },
   "outputs": [],
   "source": []
  },
  {
   "cell_type": "code",
   "execution_count": null,
   "metadata": {
    "collapsed": true,
    "run_control": {
     "frozen": false,
     "read_only": false
    }
   },
   "outputs": [],
   "source": []
  },
  {
   "cell_type": "code",
   "execution_count": null,
   "metadata": {
    "collapsed": true,
    "run_control": {
     "frozen": false,
     "read_only": false
    }
   },
   "outputs": [],
   "source": []
  },
  {
   "cell_type": "code",
   "execution_count": null,
   "metadata": {
    "collapsed": true,
    "run_control": {
     "frozen": false,
     "read_only": false
    }
   },
   "outputs": [],
   "source": []
  },
  {
   "cell_type": "code",
   "execution_count": null,
   "metadata": {
    "collapsed": true,
    "run_control": {
     "frozen": false,
     "read_only": false
    }
   },
   "outputs": [],
   "source": []
  },
  {
   "cell_type": "markdown",
   "metadata": {},
   "source": [
    "# Dataframe stuff"
   ]
  },
  {
   "cell_type": "code",
   "execution_count": 118,
   "metadata": {
    "collapsed": false,
    "run_control": {
     "frozen": false,
     "read_only": false
    }
   },
   "outputs": [],
   "source": [
    "# single_page_df = pd.DataFrame(vertically_ordered_question)"
   ]
  },
  {
   "cell_type": "code",
   "execution_count": 119,
   "metadata": {
    "collapsed": false,
    "run_control": {
     "frozen": false,
     "read_only": false
    }
   },
   "outputs": [],
   "source": [
    "# single_page_df['rectangle'].iloc[0]"
   ]
  },
  {
   "cell_type": "code",
   "execution_count": 10,
   "metadata": {
    "collapsed": false,
    "run_control": {
     "frozen": false,
     "read_only": false
    }
   },
   "outputs": [],
   "source": [
    "qa_df = pd.read_pickle('store_hit_results_metadata/question_anno/group_latest_combined/consensus_df.pkl')"
   ]
  },
  {
   "cell_type": "code",
   "execution_count": 11,
   "metadata": {
    "collapsed": false,
    "run_control": {
     "frozen": false,
     "read_only": false
    }
   },
   "outputs": [],
   "source": [
    "bad_pages = pd.unique(qa_df.query('category == \"No Consensus\" or group_n == \"No Consensus\"')['page'])"
   ]
  },
  {
   "cell_type": "code",
   "execution_count": 12,
   "metadata": {
    "collapsed": false,
    "run_control": {
     "frozen": false,
     "read_only": false
    }
   },
   "outputs": [],
   "source": [
    "consensus_only_df = qa_df[~qa_df['page'].isin(bad_pages)]"
   ]
  },
  {
   "cell_type": "code",
   "execution_count": 13,
   "metadata": {
    "collapsed": false,
    "run_control": {
     "frozen": false,
     "read_only": false
    }
   },
   "outputs": [
    {
     "data": {
      "text/plain": [
       "(468,)"
      ]
     },
     "execution_count": 13,
     "metadata": {},
     "output_type": "execute_result"
    }
   ],
   "source": [
    "pd.unique(consensus_only_df['page']).shape"
   ]
  },
  {
   "cell_type": "code",
   "execution_count": 14,
   "metadata": {
    "collapsed": false,
    "run_control": {
     "frozen": false,
     "read_only": false
    },
    "scrolled": true
   },
   "outputs": [
    {
     "data": {
      "text/html": [
       "<div>\n",
       "<table border=\"1\" class=\"dataframe\">\n",
       "  <thead>\n",
       "    <tr style=\"text-align: right;\">\n",
       "      <th></th>\n",
       "      <th>page</th>\n",
       "      <th>box_id</th>\n",
       "      <th>category</th>\n",
       "      <th>hit_id</th>\n",
       "      <th>group_n</th>\n",
       "    </tr>\n",
       "  </thead>\n",
       "  <tbody>\n",
       "    <tr>\n",
       "      <th>20</th>\n",
       "      <td>Daily_Science_Grade_1_Evan_Moor_100.jpeg</td>\n",
       "      <td>Q11</td>\n",
       "      <td>Fill-in-the-Blank</td>\n",
       "      <td>3VDVA3ILIDG3ODEZECC2QGUXV88G1P</td>\n",
       "      <td>1</td>\n",
       "    </tr>\n",
       "    <tr>\n",
       "      <th>21</th>\n",
       "      <td>Daily_Science_Grade_1_Evan_Moor_100.jpeg</td>\n",
       "      <td>Q13</td>\n",
       "      <td>Fill-in-the-Blank</td>\n",
       "      <td>3VDVA3ILIDG3ODEZECC2QGUXV88G1P</td>\n",
       "      <td>1</td>\n",
       "    </tr>\n",
       "    <tr>\n",
       "      <th>22</th>\n",
       "      <td>Daily_Science_Grade_1_Evan_Moor_100.jpeg</td>\n",
       "      <td>Q14</td>\n",
       "      <td>Fill-in-the-Blank</td>\n",
       "      <td>3VDVA3ILIDG3ODEZECC2QGUXV88G1P</td>\n",
       "      <td>1</td>\n",
       "    </tr>\n",
       "    <tr>\n",
       "      <th>23</th>\n",
       "      <td>Daily_Science_Grade_1_Evan_Moor_100.jpeg</td>\n",
       "      <td>Q15</td>\n",
       "      <td>Fill-in-the-Blank</td>\n",
       "      <td>3VDVA3ILIDG3ODEZECC2QGUXV88G1P</td>\n",
       "      <td>1</td>\n",
       "    </tr>\n",
       "  </tbody>\n",
       "</table>\n",
       "</div>"
      ],
      "text/plain": [
       "                                        page box_id           category  \\\n",
       "20  Daily_Science_Grade_1_Evan_Moor_100.jpeg    Q11  Fill-in-the-Blank   \n",
       "21  Daily_Science_Grade_1_Evan_Moor_100.jpeg    Q13  Fill-in-the-Blank   \n",
       "22  Daily_Science_Grade_1_Evan_Moor_100.jpeg    Q14  Fill-in-the-Blank   \n",
       "23  Daily_Science_Grade_1_Evan_Moor_100.jpeg    Q15  Fill-in-the-Blank   \n",
       "\n",
       "                            hit_id group_n  \n",
       "20  3VDVA3ILIDG3ODEZECC2QGUXV88G1P       1  \n",
       "21  3VDVA3ILIDG3ODEZECC2QGUXV88G1P       1  \n",
       "22  3VDVA3ILIDG3ODEZECC2QGUXV88G1P       1  \n",
       "23  3VDVA3ILIDG3ODEZECC2QGUXV88G1P       1  "
      ]
     },
     "execution_count": 14,
     "metadata": {},
     "output_type": "execute_result"
    }
   ],
   "source": [
    "consensus_only_df.head(4)"
   ]
  },
  {
   "cell_type": "markdown",
   "metadata": {
    "heading_collapsed": true
   },
   "source": [
    "# End"
   ]
  },
  {
   "cell_type": "code",
   "execution_count": 363,
   "metadata": {
    "collapsed": false,
    "hidden": true,
    "run_control": {
     "frozen": false,
     "read_only": false
    }
   },
   "outputs": [],
   "source": [
    "# vertically_ordered_question = sorted(q_series.values(), key=lambda x: x['rectangle'][0][1])\n",
    "\n",
    "# vertically_ordered_question_feat = [make_box_row(box, idx) for idx, box in enumerate(vertically_ordered_question)]\n",
    "\n",
    "# boxes_w_predicts = assign_group_numbers(vertically_ordered_question_feat) "
   ]
  },
  {
   "cell_type": "code",
   "execution_count": 310,
   "metadata": {
    "collapsed": false,
    "hidden": true,
    "run_control": {
     "frozen": false,
     "read_only": false
    }
   },
   "outputs": [],
   "source": [
    "t0 = 'Read each question. Fill in the bubble next to the correct answer.'\n",
    "t1 = 'A distance'\n",
    "t2 = 'OB balls'\n",
    "t3 = 'Do push'\n",
    "t4 = 'OD on a mountain'\n",
    "t5 = 'CO Flowers might die out.'\n",
    "re_pattern = re.compile('([A-Z])(?:[a-z]?){1}\\s')\n",
    "\n",
    "print re.findall(re_pattern, t0)\n",
    "print re.findall(re_pattern, t1)\n",
    "print re.findall(re_pattern, t2)\n",
    "print re.findall(re_pattern, t3)\n",
    "print re.findall(re_pattern, t4)\n",
    "print re.findall(re_pattern, t5)"
   ]
  },
  {
   "cell_type": "code",
   "execution_count": 224,
   "metadata": {
    "collapsed": true,
    "hidden": true,
    "run_control": {
     "frozen": false,
     "read_only": false
    }
   },
   "outputs": [],
   "source": [
    "#print vertically_ordered_question\n",
    "# qdf = pd.DataFrame(vertically_ordered_question)"
   ]
  }
 ],
 "metadata": {
  "kernelspec": {
   "display_name": "Python 2",
   "language": "python",
   "name": "python2"
  },
  "language_info": {
   "codemirror_mode": {
    "name": "ipython",
    "version": 2
   },
   "file_extension": ".py",
   "mimetype": "text/x-python",
   "name": "python",
   "nbconvert_exporter": "python",
   "pygments_lexer": "ipython2",
   "version": "2.7.10"
  }
 },
 "nbformat": 4,
 "nbformat_minor": 0
}
