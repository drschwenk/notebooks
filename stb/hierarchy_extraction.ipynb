{
 "cells": [
  {
   "cell_type": "markdown",
   "metadata": {
    "heading_collapsed": true
   },
   "source": [
    "# Table of Contents\n",
    "* [Investigating programatically recovering hierarchy](#Investigating-programatically-recovering-hierarchy)\n",
    "* [End](#End)\n"
   ]
  },
  {
   "cell_type": "code",
   "execution_count": 1,
   "metadata": {
    "collapsed": true,
    "hidden": true
   },
   "outputs": [],
   "source": [
    "%%capture\n",
    "from __future__ import division\n",
    "import numpy as np\n",
    "import pandas as pd\n",
    "import scipy.stats as st\n",
    "import itertools\n",
    "import math\n",
    "from collections import Counter, defaultdict, OrderedDict\n",
    "%load_ext autoreload\n",
    "%autoreload 2"
   ]
  },
  {
   "cell_type": "code",
   "execution_count": 2,
   "metadata": {
    "collapsed": false,
    "hidden": true
   },
   "outputs": [],
   "source": [
    "import pickle\n",
    "import json\n",
    "import glob\n",
    "import pprint"
   ]
  },
  {
   "cell_type": "code",
   "execution_count": 3,
   "metadata": {
    "collapsed": false,
    "hidden": true
   },
   "outputs": [],
   "source": [
    "import pdfextraction.merge as me\n",
    "import pdfextraction.unmerge as um\n",
    "import pdfextraction.amt_boto_modules as amt"
   ]
  },
  {
   "cell_type": "markdown",
   "metadata": {},
   "source": [
    "# Investigating programatically recovering hierarchy"
   ]
  },
  {
   "cell_type": "code",
   "execution_count": 310,
   "metadata": {
    "collapsed": false
   },
   "outputs": [],
   "source": [
    "base_path = 'ai2-vision-turk-data/textbook-annotation-test/labeled-questions/'\n",
    "test_path = 'ai2-vision-turk-data/textbook-annotation-test/hierarchy-ext-test/'"
   ]
  },
  {
   "cell_type": "code",
   "execution_count": 5,
   "metadata": {
    "collapsed": false
   },
   "outputs": [],
   "source": [
    "question_pages_df = pd.read_pickle('pages_w_questions.pkl')\n",
    "question_pages = question_pages_df['page'].tolist()"
   ]
  },
  {
   "cell_type": "code",
   "execution_count": 6,
   "metadata": {
    "collapsed": false
   },
   "outputs": [],
   "source": [
    "book_breakdowns, page_ranges = amt.load_book_info()"
   ]
  },
  {
   "cell_type": "code",
   "execution_count": 7,
   "metadata": {
    "collapsed": false
   },
   "outputs": [],
   "source": [
    "to_review = pd.read_pickle('rev_seq.pkl').tolist()"
   ]
  },
  {
   "cell_type": "code",
   "execution_count": 16,
   "metadata": {
    "collapsed": false,
    "scrolled": true
   },
   "outputs": [
    {
     "name": "stdout",
     "output_type": "stream",
     "text": [
      "856\n",
      "468\n"
     ]
    }
   ],
   "source": [
    "verified_pages = to_review\n",
    "verified_pages_minus_bad = [page for page in verified_pages if page not in bad_pages.tolist()]\n",
    "print len(verified_pages)\n",
    "print len(verified_pages_minus_bad)"
   ]
  },
  {
   "cell_type": "code",
   "execution_count": 284,
   "metadata": {
    "collapsed": false
   },
   "outputs": [],
   "source": [
    "def print_contents(box):\n",
    "    print ''\n",
    "    print 'actual ' + box['group_n']\n",
    "    print 'predicted ' + str(box['predicted_group_n'])\n",
    "    print box['contents']\n",
    "    print ''\n",
    "    \n",
    "def make_box_row(row_dict, pos_idx):\n",
    "    new_row = row_dict.copy()\n",
    "    rect = row_dict['rectangle']\n",
    "    new_row['start_x'] = rect[0][0]\n",
    "    new_row['start_y'] = rect[0][1]\n",
    "    new_row['end_x'] = rect[1][0]\n",
    "    new_row['end_y'] = rect[1][1]\n",
    "    new_row['vert_order'] = pos_idx\n",
    "    del new_row['rectangle']\n",
    "    return new_row\n",
    "\n",
    "def assign_group_numbers(ordered_question_boxes):\n",
    "    current_group_n = 0\n",
    "    current_outer_indent = ordered_question_boxes[0]['start_x']\n",
    "    last_seen_question_type = 'Unlabeled'\n",
    "    indent_tolerance = 20\n",
    "    last_box_end_y = 0\n",
    "    \n",
    "    for idx, box in enumerate(ordered_question_boxes):\n",
    "        if box['category'] == 'Question' or box['category'] == 'Unlabeled':\n",
    "            box['predicted_group_n'] = 0\n",
    "            last_seen_question_type = box['category']\n",
    "            last_box_end_y = box['end_y']\n",
    "            continue\n",
    "#             return 0\n",
    "        \n",
    "        type_changed = last_seen_question_type != box['category']\n",
    "        last_seen_question_type = box['category'] if type_changed else last_seen_question_type\n",
    "        vertically_seperated = box['start_y'] > last_box_end_y\n",
    "        last_box_end_y = box['end_y']\n",
    "#         print 'vs ' + str(vertically_seperated)\n",
    "#         print 'tc ' + str(type_changed)\n",
    "\n",
    "        if vertically_seperated and (type_changed or box['start_x'] - indent_tolerance < current_outer_indent ):\n",
    "            current_group_n += 1\n",
    "            \n",
    "        box['predicted_group_n'] = current_group_n\n",
    "    return ordered_question_boxes\n",
    "\n",
    "def check_group_numbers(ordered_boxes_w_pred):\n",
    "    n_wrong = 0 \n",
    "    for box in ordered_boxes_w_pred:\n",
    "#         print_contents(box)\n",
    "        if int(box['group_n']) != box['predicted_group_n']:\n",
    "            n_wrong += 1\n",
    "    return n_wrong, len(ordered_boxes_w_pred), 1- n_wrong / float(len(ordered_boxes_w_pred))"
   ]
  },
  {
   "cell_type": "code",
   "execution_count": 285,
   "metadata": {
    "collapsed": false
   },
   "outputs": [],
   "source": [
    "def predict_and_verify_groups(pages):\n",
    "    results_by_page = []\n",
    "    total_num_boxes = 0\n",
    "    for page in pages:\n",
    "        page_file_path = base_path + page.replace('jpeg', 'json')\n",
    "        with open(page_file_path) as f:\n",
    "            page_boxes = json.load(f)\n",
    "\n",
    "        for qn, qv in page_boxes['question'].items():\n",
    "            total_num_boxes += 1\n",
    "            del qv['source']\n",
    "            del qv['score']\n",
    "            del qv['v_dim']\n",
    "            \n",
    "        q_series = page_boxes['question']\n",
    "        vertically_ordered_question = sorted(q_series.values(), key=lambda x: (x['rectangle'][0][1], x['rectangle'][0][0]))\n",
    "        vertically_ordered_question_feat = [make_box_row(box, idx) for idx, box in enumerate(vertically_ordered_question)]\n",
    "        boxes_w_predicts = assign_group_numbers(vertically_ordered_question_feat)\n",
    "        if boxes_w_predicts:\n",
    "            n_wrong, box_n_this_page, fract_right = check_group_numbers(boxes_w_predicts) \n",
    "            total_num_boxes += box_n_this_page\n",
    "            if fract_right:\n",
    "                results_by_page.append((page, n_wrong, fract_right, boxes_w_predicts))\n",
    "\n",
    "    total_wrong = sum([res[1] for res in results_by_page])\n",
    "    overall_accuracy = 1 - total_wrong / float(total_num_boxes)\n",
    "    return overall_accuracy, total_wrong, total_num_boxes, results_by_page"
   ]
  },
  {
   "cell_type": "code",
   "execution_count": 312,
   "metadata": {
    "collapsed": false
   },
   "outputs": [],
   "source": [
    "def write_predicted_groups(page_results):\n",
    "    page = page_results[0]\n",
    "    pred_boxes = page_results[-1]\n",
    "    page_file_path = base_path + page.replace('jpeg', 'json')\n",
    "    new_file_path =  test_path + page.replace('jpeg', 'json')\n",
    "\n",
    "    with open(page_file_path) as f:\n",
    "        all_page_boxes = json.load(f)    \n",
    "\n",
    "    for box in pred_boxes:\n",
    "        all_page_boxes['question'][box['box_id']]['group_n'] = box['predicted_group_n']\n",
    "\n",
    "    with open(new_file_path, 'w') as f:\n",
    "        json.dump(all_page_boxes, f)"
   ]
  },
  {
   "cell_type": "code",
   "execution_count": 286,
   "metadata": {
    "collapsed": false
   },
   "outputs": [
    {
     "name": "stdout",
     "output_type": "stream",
     "text": [
      "996\n",
      "11602\n",
      "0.914152732288\n"
     ]
    }
   ],
   "source": [
    "accuracy_total, errors_total, box_totals, ind_page_results = predict_and_verify_groups(verified_pages_minus_bad)\n",
    "print errors_total\n",
    "print box_totals\n",
    "print accuracy_total"
   ]
  },
  {
   "cell_type": "code",
   "execution_count": 313,
   "metadata": {
    "collapsed": false
   },
   "outputs": [],
   "source": [
    "for page_res in ind_page_results:\n",
    "    write_predicted_groups(page_res)"
   ]
  },
  {
   "cell_type": "code",
   "execution_count": 243,
   "metadata": {
    "collapsed": true
   },
   "outputs": [],
   "source": [
    "problem_pages = [page[0] for page in ind_page_results if page[2] < 1.0]"
   ]
  },
  {
   "cell_type": "code",
   "execution_count": 257,
   "metadata": {
    "collapsed": false
   },
   "outputs": [
    {
     "data": {
      "text/plain": [
       "[u'Daily_Science_Grade_6_(Daily_Practice_Books)_Evan_Moor_181.jpeg',\n",
       " u'Daily_Science_Grade_5_Evan_Moor_54.jpeg',\n",
       " u'Daily_Science_Grade_2_Evan_Moor_77.jpeg',\n",
       " u'Daily_Science_Grade_4_Evan_Moor_63.jpeg',\n",
       " u'Daily_Science_Grade_3_(Daily_Practice_Books)_Evan_Moore_184.jpeg']"
      ]
     },
     "execution_count": 257,
     "metadata": {},
     "output_type": "execute_result"
    }
   ],
   "source": [
    "problem_pages[:5]"
   ]
  },
  {
   "cell_type": "code",
   "execution_count": 258,
   "metadata": {
    "collapsed": true
   },
   "outputs": [],
   "source": [
    "problem_pagess = pd.Series(problem_pages)\n",
    "problem_pagess.to_pickle('problem_pages.pkl')"
   ]
  },
  {
   "cell_type": "code",
   "execution_count": 265,
   "metadata": {
    "collapsed": true
   },
   "outputs": [],
   "source": [
    "page_n = 0"
   ]
  },
  {
   "cell_type": "code",
   "execution_count": 281,
   "metadata": {
    "collapsed": false,
    "scrolled": false
   },
   "outputs": [
    {
     "name": "stdout",
     "output_type": "stream",
     "text": [
      "\n",
      "actual 1\n",
      "predicted 1\n",
      "A. Write true or false.\n",
      "\n",
      "\n",
      "actual 1\n",
      "predicted 1\n",
      "1. A conductor allows electric current to\n",
      "\n",
      "\n",
      "actual 1\n",
      "predicted 1\n",
      "flow through it easily\n",
      "\n",
      "\n",
      "actual 1\n",
      "predicted 1\n",
      "2. Electrical energy can make heat energy.\n",
      "\n",
      "\n",
      "actual 1\n",
      "predicted 1\n",
      "3. Resistors convert less energy into heat\n",
      "\n",
      "\n",
      "actual 1\n",
      "predicted 1\n",
      "than conductors do\n",
      "\n",
      "\n",
      "actual 1\n",
      "predicted 1\n",
      "4. All metals conduct electricity\n",
      "\n",
      "\n",
      "actual 1\n",
      "predicted 1\n",
      "equally we\n",
      "\n",
      "\n",
      "actual 2\n",
      "predicted 2\n",
      "B. What is the main difference between a conductor and a resistor?\n",
      "\n",
      "\n",
      "actual 2\n",
      "predicted 3\n",
      "C. How did resistors help the people who invented toasters?\n",
      "\n",
      "\n",
      "actual 2\n",
      "predicted 3\n",
      "Explain your answer\n",
      "\n",
      "\n",
      "[u'Daily_Science_Grade_4_Evan_Moor_131.jpeg']\n",
      "page 9\n",
      "number wrong= 2\n",
      "out of 22\n",
      "accuracy 0.909090909091\n"
     ]
    }
   ],
   "source": [
    "cur_page = problem_pages[page_n:page_n + 1]\n",
    "accuracy_total, errors_total, box_totals, ind_page_results = predict_and_verify_groups(cur_page)\n",
    "page_n += 1\n",
    "print ''\n",
    "print cur_page\n",
    "print '{} {}'.format('page', page_n)\n",
    "print '{} {}'.format('number wrong=', errors_total)\n",
    "print '{} {}'.format('out of', box_totals)\n",
    "print '{} {}'.format('accuracy', accuracy_total)"
   ]
  },
  {
   "cell_type": "code",
   "execution_count": null,
   "metadata": {
    "collapsed": true
   },
   "outputs": [],
   "source": []
  },
  {
   "cell_type": "markdown",
   "metadata": {},
   "source": [
    "## Dataframe stuff"
   ]
  },
  {
   "cell_type": "code",
   "execution_count": 118,
   "metadata": {
    "collapsed": false
   },
   "outputs": [],
   "source": [
    "# single_page_df = pd.DataFrame(vertically_ordered_question)"
   ]
  },
  {
   "cell_type": "code",
   "execution_count": 119,
   "metadata": {
    "collapsed": false
   },
   "outputs": [],
   "source": [
    "# single_page_df['rectangle'].iloc[0]"
   ]
  },
  {
   "cell_type": "code",
   "execution_count": 10,
   "metadata": {
    "collapsed": false
   },
   "outputs": [],
   "source": [
    "qa_df = pd.read_pickle('store_hit_results_metadata/question_anno/group_latest_combined/consensus_df.pkl')"
   ]
  },
  {
   "cell_type": "code",
   "execution_count": 11,
   "metadata": {
    "collapsed": false
   },
   "outputs": [],
   "source": [
    "bad_pages = pd.unique(qa_df.query('category == \"No Consensus\" or group_n == \"No Consensus\"')['page'])"
   ]
  },
  {
   "cell_type": "code",
   "execution_count": 12,
   "metadata": {
    "collapsed": false
   },
   "outputs": [],
   "source": [
    "consensus_only_df = qa_df[~qa_df['page'].isin(bad_pages)]"
   ]
  },
  {
   "cell_type": "code",
   "execution_count": 13,
   "metadata": {
    "collapsed": false
   },
   "outputs": [
    {
     "data": {
      "text/plain": [
       "(468,)"
      ]
     },
     "execution_count": 13,
     "metadata": {},
     "output_type": "execute_result"
    }
   ],
   "source": [
    "pd.unique(consensus_only_df['page']).shape"
   ]
  },
  {
   "cell_type": "code",
   "execution_count": 15,
   "metadata": {
    "collapsed": false,
    "scrolled": true
   },
   "outputs": [
    {
     "data": {
      "text/html": [
       "<div>\n",
       "<table border=\"1\" class=\"dataframe\">\n",
       "  <thead>\n",
       "    <tr style=\"text-align: right;\">\n",
       "      <th></th>\n",
       "      <th>page</th>\n",
       "      <th>box_id</th>\n",
       "      <th>category</th>\n",
       "      <th>hit_id</th>\n",
       "      <th>group_n</th>\n",
       "    </tr>\n",
       "  </thead>\n",
       "  <tbody>\n",
       "    <tr>\n",
       "      <th>20</th>\n",
       "      <td>Daily_Science_Grade_1_Evan_Moor_100.jpeg</td>\n",
       "      <td>Q11</td>\n",
       "      <td>Fill-in-the-Blank</td>\n",
       "      <td>3VDVA3ILIDG3ODEZECC2QGUXV88G1P</td>\n",
       "      <td>1</td>\n",
       "    </tr>\n",
       "    <tr>\n",
       "      <th>21</th>\n",
       "      <td>Daily_Science_Grade_1_Evan_Moor_100.jpeg</td>\n",
       "      <td>Q13</td>\n",
       "      <td>Fill-in-the-Blank</td>\n",
       "      <td>3VDVA3ILIDG3ODEZECC2QGUXV88G1P</td>\n",
       "      <td>1</td>\n",
       "    </tr>\n",
       "    <tr>\n",
       "      <th>22</th>\n",
       "      <td>Daily_Science_Grade_1_Evan_Moor_100.jpeg</td>\n",
       "      <td>Q14</td>\n",
       "      <td>Fill-in-the-Blank</td>\n",
       "      <td>3VDVA3ILIDG3ODEZECC2QGUXV88G1P</td>\n",
       "      <td>1</td>\n",
       "    </tr>\n",
       "    <tr>\n",
       "      <th>23</th>\n",
       "      <td>Daily_Science_Grade_1_Evan_Moor_100.jpeg</td>\n",
       "      <td>Q15</td>\n",
       "      <td>Fill-in-the-Blank</td>\n",
       "      <td>3VDVA3ILIDG3ODEZECC2QGUXV88G1P</td>\n",
       "      <td>1</td>\n",
       "    </tr>\n",
       "  </tbody>\n",
       "</table>\n",
       "</div>"
      ],
      "text/plain": [
       "                                        page box_id           category  \\\n",
       "20  Daily_Science_Grade_1_Evan_Moor_100.jpeg    Q11  Fill-in-the-Blank   \n",
       "21  Daily_Science_Grade_1_Evan_Moor_100.jpeg    Q13  Fill-in-the-Blank   \n",
       "22  Daily_Science_Grade_1_Evan_Moor_100.jpeg    Q14  Fill-in-the-Blank   \n",
       "23  Daily_Science_Grade_1_Evan_Moor_100.jpeg    Q15  Fill-in-the-Blank   \n",
       "\n",
       "                            hit_id group_n  \n",
       "20  3VDVA3ILIDG3ODEZECC2QGUXV88G1P       1  \n",
       "21  3VDVA3ILIDG3ODEZECC2QGUXV88G1P       1  \n",
       "22  3VDVA3ILIDG3ODEZECC2QGUXV88G1P       1  \n",
       "23  3VDVA3ILIDG3ODEZECC2QGUXV88G1P       1  "
      ]
     },
     "execution_count": 15,
     "metadata": {},
     "output_type": "execute_result"
    }
   ],
   "source": [
    "consensus_only_df.head(4)"
   ]
  },
  {
   "cell_type": "markdown",
   "metadata": {
    "heading_collapsed": true
   },
   "source": [
    "# End"
   ]
  },
  {
   "cell_type": "code",
   "execution_count": 363,
   "metadata": {
    "collapsed": false,
    "hidden": true
   },
   "outputs": [],
   "source": [
    "# vertically_ordered_question = sorted(q_series.values(), key=lambda x: x['rectangle'][0][1])\n",
    "\n",
    "# vertically_ordered_question_feat = [make_box_row(box, idx) for idx, box in enumerate(vertically_ordered_question)]\n",
    "\n",
    "# boxes_w_predicts = assign_group_numbers(vertically_ordered_question_feat) "
   ]
  }
 ],
 "metadata": {
  "kernelspec": {
   "display_name": "Python 2",
   "language": "python",
   "name": "python2"
  },
  "language_info": {
   "codemirror_mode": {
    "name": "ipython",
    "version": 2
   },
   "file_extension": ".py",
   "mimetype": "text/x-python",
   "name": "python",
   "nbconvert_exporter": "python",
   "pygments_lexer": "ipython2",
   "version": "2.7.10"
  }
 },
 "nbformat": 4,
 "nbformat_minor": 0
}
