{
 "cells": [
  {
   "cell_type": "markdown",
   "metadata": {},
   "source": [
    "# Table of Contents\n",
    "* [Setting paths](#Setting-paths)\n",
    "* [**Pipeline for textbook dataset creation**](#**Pipeline-for-textbook-dataset-creation**)\n",
    "\t* [**Extracting page images**](#**Extracting-page-images**)\n",
    "\t\t* [pdfminer](#pdfminer)\n",
    "\t* [**OCR**  (set schema here)](#**OCR**--%28set-schema-here%29)\n",
    "\t\t* [First pass, Eric's service- MS Oxford and Google cloud vision](#First-pass,-Eric's-service--MS-Oxford-and-Google-cloud-vision)\n",
    "\t\t* [Add vertical dim to annotations](#Add-vertical-dim-to-annotations)\n",
    "\t* [possible second pass to resolve OCR issues](#possible-second-pass-to-resolve-OCR-issues)\n",
    "\t* [**First box merging and annotation template (set schema here)**](#**First-box-merging-and-annotation-template-%28set-schema-here%29**)\n",
    "\t\t* [Overmerge to make labeling easier/ more reliable](#Overmerge-to-make-labeling-easier/-more-reliable)\n",
    "\t* [**First round of MTurk annotion**](#**First-round-of-MTurk-annotion**)\n",
    "\t\t* [This round is for highest-level annotation](#This-round-is-for-highest-level-annotation)\n",
    "\t\t* [Sanity checks, first round cleaning](#Sanity-checks,-first-round-cleaning)\n",
    "\t* [**Generate question annotations**](#**Generate-question-annotations**)\n",
    "\t\t* [**Unmerge boxes** to seperate question components](#**Unmerge-boxes**-to-seperate-question-components)\n",
    "\t\t* [make separate question annotation boxes based on first round labels](#make-separate-question-annotation-boxes-based-on-first-round-labels)\n",
    "\t\t* [weakly remerge question boxes](#weakly-remerge-question-boxes)\n",
    "\t* [**Second round of MTurk annotation**](#**Second-round-of-MTurk-annotation**)\n",
    "\t* [**Hierarchy extraction**](#**Hierarchy-extraction**)\n",
    "\t\t* [Testing](#Testing)\n"
   ]
  },
  {
   "cell_type": "code",
   "execution_count": 1,
   "metadata": {
    "collapsed": true
   },
   "outputs": [],
   "source": [
    "%%capture\n",
    "from __future__ import division\n",
    "import numpy as np\n",
    "import pandas as pd\n",
    "import scipy.stats as st\n",
    "import itertools\n",
    "import math\n",
    "%load_ext autoreload\n",
    "%autoreload 2"
   ]
  },
  {
   "cell_type": "code",
   "execution_count": 3,
   "metadata": {
    "collapsed": true
   },
   "outputs": [],
   "source": [
    "import pickle"
   ]
  },
  {
   "cell_type": "code",
   "execution_count": 4,
   "metadata": {
    "collapsed": false
   },
   "outputs": [],
   "source": [
    "with open('breakdowns.pkl', 'r') as f:\n",
    "    book_breakdowns = pickle.load(f)\n",
    "\n",
    "with open('pdfs/page_ranges.csv') as f:\n",
    "    ranges = f.readlines()"
   ]
  },
  {
   "cell_type": "markdown",
   "metadata": {},
   "source": [
    "# Setting paths"
   ]
  },
  {
   "cell_type": "code",
   "execution_count": 144,
   "metadata": {
    "collapsed": true
   },
   "outputs": [],
   "source": [
    "turk_data_base_path = './ai2-vision-turk-data/textbook-annotation-test/'\n",
    "full_scale_img_dir  = 'page-images/'\n",
    "scaled_down_img_dir = 'smaller-page-images/'\n",
    "\n",
    "raw_ocr_res =  'raw-ocr-results/'\n",
    "raw_annotations_w_vert_scale = 'raw-ocr-ws/'\n",
    "\n",
    "merged_anno_dest_dir = 'first-merge/'\n",
    "\n",
    "# overmerged_dir = 'corrected_raw_hit_results/'\n",
    "overmerged_dir = merged_anno_dest_dir\n",
    "unmerged_dir = 'raw-ocr-results/'\n",
    "lessmerged_dir = 'raw-unmerged/'\n",
    "remerged_dir = 'remerged-first-round/'\n",
    "first_round_annotation_results_dir = 'labeled-annotations/'\n",
    "first_round_question_annotation_results_dir = 'labeled-questions/'\n",
    "\n",
    "\n",
    "# question_annotation_dir = 'annotations-w-questions/'\n",
    "question_annotation_dir = 'question-specific-annotations/'\n",
    "\n",
    "rectified_ocr_dir = 'apply-new-ocr'\n",
    "\n",
    "new_ocr_trans_dir = 'transferred-labels-first-round/'\n",
    "unmerged_ocr_trans_dir = 'transferred-labels-first-round-unmerged/'\n",
    "\n",
    "new_q_ocr_dir ='new-question-only-temp/'\n",
    "transferred_q_labels_dir = 'transferred-question-labels/'"
   ]
  },
  {
   "cell_type": "markdown",
   "metadata": {
    "run_control": {
     "frozen": false,
     "read_only": false
    }
   },
   "source": [
    "# **Pipeline for textbook dataset creation**"
   ]
  },
  {
   "cell_type": "markdown",
   "metadata": {
    "heading_collapsed": true
   },
   "source": [
    "## **Extracting page images**"
   ]
  },
  {
   "cell_type": "markdown",
   "metadata": {
    "hidden": true
   },
   "source": [
    "### pdfminer"
   ]
  },
  {
   "cell_type": "code",
   "execution_count": 5,
   "metadata": {
    "collapsed": true,
    "hidden": true
   },
   "outputs": [],
   "source": [
    "import pdfextraction.ocr_pipeline as ocrp"
   ]
  },
  {
   "cell_type": "code",
   "execution_count": 6,
   "metadata": {
    "collapsed": false,
    "hidden": true
   },
   "outputs": [],
   "source": [
    "range_lookup = {line.split(' ')[0]:[int(num) for num in line.strip().split(' ')[1:]] for line in ranges}"
   ]
  },
  {
   "cell_type": "markdown",
   "metadata": {
    "hidden": true
   },
   "source": [
    "This extracts and writes images for a group of textbooks"
   ]
  },
  {
   "cell_type": "code",
   "execution_count": null,
   "metadata": {
    "collapsed": true,
    "hidden": true
   },
   "outputs": [],
   "source": [
    "for book in book_breakdowns['daily_sci']:\n",
    "    ocrp.process_book(book, range_lookup[book], line_overlap=0.5,\n",
    "                                            word_margin=0.1, char_margin=2.0, line_margin=0.5, boxes_flow=0.5)"
   ]
  },
  {
   "cell_type": "markdown",
   "metadata": {
    "heading_collapsed": true
   },
   "source": [
    "## **OCR**  (set schema here)"
   ]
  },
  {
   "cell_type": "code",
   "execution_count": 26,
   "metadata": {
    "collapsed": true,
    "hidden": true
   },
   "outputs": [],
   "source": [
    "book_breakdowns, page_ranges = amt_util.load_book_info()"
   ]
  },
  {
   "cell_type": "code",
   "execution_count": 7,
   "metadata": {
    "collapsed": false,
    "hidden": true
   },
   "outputs": [],
   "source": [
    "import pdfextraction.ocr_pipeline as ocrp"
   ]
  },
  {
   "cell_type": "markdown",
   "metadata": {
    "heading_collapsed": true,
    "hidden": true
   },
   "source": [
    "### First pass, Eric's service- MS Oxford and Google cloud vision"
   ]
  },
  {
   "cell_type": "code",
   "execution_count": 8,
   "metadata": {
    "collapsed": true,
    "hidden": true
   },
   "outputs": [],
   "source": [
    "# for book in book_breakdowns['spectrum_sci']:\n",
    "#     ocrp.perform_ocr(book, 'annotations', range_lookup[book])\n",
    "\n",
    "# for book in book_breakdowns['daily_sci']:\n",
    "#     ocrp.perform_ocr(book, 'annotations', range_lookup[book])\n",
    "\n",
    "# for book in book_breakdowns['read_und_sci']:\n",
    "#     ocrp.perform_ocr(book, 'annotations', range_lookup[book])"
   ]
  },
  {
   "cell_type": "markdown",
   "metadata": {
    "heading_collapsed": true,
    "hidden": true
   },
   "source": [
    "### Add vertical dim to annotations"
   ]
  },
  {
   "cell_type": "code",
   "execution_count": 86,
   "metadata": {
    "collapsed": false,
    "hidden": true
   },
   "outputs": [],
   "source": [
    "ocrp.add_anno_img_dim(turk_data_base_path + scaled_down_img_dir, raw_ocr_res, turk_data_base_path + raw_annotations_w_vert_scale)"
   ]
  },
  {
   "cell_type": "markdown",
   "metadata": {
    "heading_collapsed": true,
    "hidden": true
   },
   "source": [
    "### possible second pass to resolve OCR issues"
   ]
  },
  {
   "cell_type": "markdown",
   "metadata": {},
   "source": [
    "## **First box merging and annotation template (set schema here)**"
   ]
  },
  {
   "cell_type": "code",
   "execution_count": 31,
   "metadata": {
    "collapsed": false
   },
   "outputs": [],
   "source": [
    "import pdfextraction.merge as merge_tool\n",
    "import pdfextraction.amt_boto_modules as amt_util "
   ]
  },
  {
   "cell_type": "markdown",
   "metadata": {
    "heading_collapsed": true
   },
   "source": [
    "### Overmerge to make labeling easier/ more reliable"
   ]
  },
  {
   "cell_type": "code",
   "execution_count": 66,
   "metadata": {
    "collapsed": true,
    "hidden": true
   },
   "outputs": [],
   "source": [
    "merge_params = {\n",
    "    'near_x': 3.0,\n",
    "    'near_y': 1.0,\n",
    "    'overlap_x': 0.30,\n",
    "    'overlap_y': 0.6,\n",
    "    'start_x': 1.0,\n",
    "    'short_length': 4.0,\n",
    "    'char_size_ratio': 1.0,\n",
    "    'starting_near_near_y': 1.5,\n",
    "    'near_overlap_x': 0.35,\n",
    "    'overlap_fract': 0.1\n",
    "}\n",
    "\n",
    "books_to_merge = book_breakdowns['daily_sci'] # + book_breakdowns['spectrum_sci'] + book_breakdowns['read_und_sci'] + book_breakdowns['workbooks']\n",
    "# books_to_merge = book_breakdowns['spectrum_sci']"
   ]
  },
  {
   "cell_type": "code",
   "execution_count": 87,
   "metadata": {
    "collapsed": true,
    "hidden": true
   },
   "outputs": [],
   "source": [
    "for textbook in books_to_merge:\n",
    "    merge_tool.merge_single_book(textbook, page_ranges[textbook], turk_data_base_path + merged_anno_dest_dir, turk_data_base_path + raw_annotations_w_vert_scale, merge_params)"
   ]
  },
  {
   "cell_type": "markdown",
   "metadata": {
    "heading_collapsed": true
   },
   "source": [
    "## **First round of MTurk annotion**"
   ]
  },
  {
   "cell_type": "markdown",
   "metadata": {
    "hidden": true
   },
   "source": [
    "**This round is for highest-level annotation**\n",
    "\n",
    "high-level labels include **discussion, definition, question, figure label, header/topic, and answer key**\n",
    "\n",
    "The actual work of submitting and processing results can be found in **mturk_textbook_annotation_task.ipynb**"
   ]
  },
  {
   "cell_type": "markdown",
   "metadata": {
    "collapsed": true,
    "hidden": true,
    "run_control": {
     "frozen": false,
     "read_only": false
    }
   },
   "source": [
    "### Sanity checks, first round cleaning"
   ]
  },
  {
   "cell_type": "markdown",
   "metadata": {},
   "source": [
    "## **Generate question annotations**"
   ]
  },
  {
   "cell_type": "code",
   "execution_count": 44,
   "metadata": {
    "collapsed": true
   },
   "outputs": [],
   "source": [
    "import pdfextraction.unmerge as unmerge_tool\n",
    "import pdfextraction.question_annotation as question_anno_util"
   ]
  },
  {
   "cell_type": "markdown",
   "metadata": {
    "heading_collapsed": true
   },
   "source": [
    "### **Unmerge boxes** to seperate question components"
   ]
  },
  {
   "cell_type": "code",
   "execution_count": 135,
   "metadata": {
    "collapsed": false,
    "hidden": true
   },
   "outputs": [
    {
     "name": "stdout",
     "output_type": "stream",
     "text": [
      "[Errno 2] No such file or directory: './ai2-vision-turk-data/textbook-annotation-test/transferred-labels-first-round/Daily_Science_Grade_3_(Daily_Practice_Books)_Evan_Moore_153.json'\n",
      "[Errno 2] No such file or directory: './ai2-vision-turk-data/textbook-annotation-test/transferred-labels-first-round/Daily_Science_Grade_4_Evan_Moor_97.json'\n",
      "[Errno 2] No such file or directory: './ai2-vision-turk-data/textbook-annotation-test/transferred-labels-first-round/Daily_Science_Grade_4_Evan_Moor_109.json'\n",
      "[Errno 2] No such file or directory: './ai2-vision-turk-data/textbook-annotation-test/transferred-labels-first-round/Daily_Science_Grade_5_Evan_Moor_66.json'\n",
      "[Errno 2] No such file or directory: './ai2-vision-turk-data/textbook-annotation-test/transferred-labels-first-round/Daily_Science_Grade_5_Evan_Moor_75.json'\n",
      "[Errno 2] No such file or directory: './ai2-vision-turk-data/textbook-annotation-test/transferred-labels-first-round/Daily_Science_Grade_5_Evan_Moor_152.json'\n",
      "[Errno 2] No such file or directory: './ai2-vision-turk-data/textbook-annotation-test/transferred-labels-first-round/Daily_Science_Grade_5_Evan_Moor_193.json'\n",
      "[Errno 2] No such file or directory: './ai2-vision-turk-data/textbook-annotation-test/transferred-labels-first-round/Daily_Science_Grade_6_(Daily_Practice_Books)_Evan_Moor_69.json'\n",
      "[Errno 2] No such file or directory: './ai2-vision-turk-data/textbook-annotation-test/transferred-labels-first-round/Daily_Science_Grade_6_(Daily_Practice_Books)_Evan_Moor_155.json'\n"
     ]
    }
   ],
   "source": [
    "# books_to_unmerge = textbook in book_breakdowns['daily_sci'] + book_breakdowns['spectrum_sci'] + book_breakdowns['read_und_sci'] + book_breakdowns['workbooks']\n",
    "# books_to_unmerge = book_breakdowns['spectrum_sci']\n",
    "books_to_unmerge = book_breakdowns['daily_sci']\n",
    "\n",
    "for textbook in books_to_unmerge:\n",
    "#     unmerge_tool.unmerge_single_textbook(textbook, page_ranges[textbook], turk_data_base_path, overmerged_dir, unmerged_dir, lessmerged_dir)\n",
    "    unmerge_tool.unmerge_single_textbook(textbook, page_ranges[textbook], turk_data_base_path, new_ocr_trans_dir, raw_annotations_w_vert_scale, unmerged_ocr_trans_dir)"
   ]
  },
  {
   "cell_type": "markdown",
   "metadata": {
    "heading_collapsed": true
   },
   "source": [
    "### weakly remerge question boxes"
   ]
  },
  {
   "cell_type": "markdown",
   "metadata": {
    "hidden": true
   },
   "source": [
    "This should be performed with only the horizontal and overlap merge passes by setting **merge_pass = 2**"
   ]
  },
  {
   "cell_type": "code",
   "execution_count": 56,
   "metadata": {
    "collapsed": true,
    "hidden": true
   },
   "outputs": [],
   "source": [
    "merge_pass = 2\n",
    "remerge_params = {\n",
    "    'near_x': 3.0,\n",
    "    'near_y': 1.0,\n",
    "    'overlap_x': 0.30,\n",
    "    'overlap_y': 0.6,\n",
    "    'start_x': 1.0,\n",
    "    'short_length': 4.0,\n",
    "    'char_size_ratio': 1.0,\n",
    "    'starting_near_near_y': 1.5,\n",
    "    'near_overlap_x': 0.35,\n",
    "    'overlap_fract': 0.1\n",
    "}\n",
    "\n",
    "# books_to_merge = textbook in book_breakdowns['daily_sci'] + book_breakdowns['spectrum_sci'] + book_breakdowns['read_und_sci'] + book_breakdowns['workbooks']\n",
    "books_to_merge = book_breakdowns['spectrum_sci']"
   ]
  },
  {
   "cell_type": "code",
   "execution_count": 57,
   "metadata": {
    "collapsed": false,
    "hidden": true
   },
   "outputs": [],
   "source": [
    "for textbook in books_to_merge:\n",
    "    merge_tool.merge_single_book(textbook, page_ranges[textbook], turk_data_base_path + remerged_dir, turk_data_base_path + lessmerged_dir, remerge_params, merge_pass)"
   ]
  },
  {
   "cell_type": "markdown",
   "metadata": {},
   "source": [
    "### Make **question-specific annotations** based on first round labels"
   ]
  },
  {
   "cell_type": "code",
   "execution_count": 151,
   "metadata": {
    "collapsed": false
   },
   "outputs": [
    {
     "name": "stdout",
     "output_type": "stream",
     "text": [
      "[Errno 2] No such file or directory: './ai2-vision-turk-data/textbook-annotation-test/transferred-labels-first-round/Daily_Science_Grade_3_(Daily_Practice_Books)_Evan_Moore_153.json'\n",
      "[Errno 2] No such file or directory: './ai2-vision-turk-data/textbook-annotation-test/transferred-labels-first-round/Daily_Science_Grade_4_Evan_Moor_97.json'\n",
      "[Errno 2] No such file or directory: './ai2-vision-turk-data/textbook-annotation-test/transferred-labels-first-round/Daily_Science_Grade_4_Evan_Moor_109.json'\n",
      "[Errno 2] No such file or directory: './ai2-vision-turk-data/textbook-annotation-test/transferred-labels-first-round/Daily_Science_Grade_5_Evan_Moor_66.json'\n",
      "[Errno 2] No such file or directory: './ai2-vision-turk-data/textbook-annotation-test/transferred-labels-first-round/Daily_Science_Grade_5_Evan_Moor_75.json'\n",
      "[Errno 2] No such file or directory: './ai2-vision-turk-data/textbook-annotation-test/transferred-labels-first-round/Daily_Science_Grade_5_Evan_Moor_152.json'\n",
      "[Errno 2] No such file or directory: './ai2-vision-turk-data/textbook-annotation-test/transferred-labels-first-round/Daily_Science_Grade_5_Evan_Moor_193.json'\n",
      "[Errno 2] No such file or directory: './ai2-vision-turk-data/textbook-annotation-test/transferred-labels-first-round/Daily_Science_Grade_6_(Daily_Practice_Books)_Evan_Moor_69.json'\n",
      "[Errno 2] No such file or directory: './ai2-vision-turk-data/textbook-annotation-test/transferred-labels-first-round/Daily_Science_Grade_6_(Daily_Practice_Books)_Evan_Moor_155.json'\n"
     ]
    }
   ],
   "source": [
    "# books_to_amend = textbook in book_breakdowns['daily_sci'] + book_breakdowns['spectrum_sci'] + book_breakdowns['read_und_sci'] + book_breakdowns['workbooks']\n",
    "books_to_amend = book_breakdowns['daily_sci']\n",
    "for textbook in books_to_amend:\n",
    "    question_anno_util.amend_single_book(textbook, page_ranges[textbook], turk_data_base_path + new_q_ocr_dir, turk_data_base_path + new_ocr_trans_dir)"
   ]
  },
  {
   "cell_type": "markdown",
   "metadata": {},
   "source": [
    "## Incorporate **new OCR** results"
   ]
  },
  {
   "cell_type": "markdown",
   "metadata": {},
   "source": [
    "This step is needed only because of issues uncovered with the first OCR round. The OCR was improved, and the labels generated for the previous results are transferred to the new OCR detections. This won't be needed when starting ab initio."
   ]
  },
  {
   "cell_type": "code",
   "execution_count": 101,
   "metadata": {
    "collapsed": true
   },
   "outputs": [],
   "source": [
    "import pdfextraction.transmit_anno as ocr_trans"
   ]
  },
  {
   "cell_type": "markdown",
   "metadata": {},
   "source": [
    "First the broad category labels"
   ]
  },
  {
   "cell_type": "code",
   "execution_count": 150,
   "metadata": {
    "collapsed": false
   },
   "outputs": [
    {
     "name": "stdout",
     "output_type": "stream",
     "text": [
      "[Errno 2] No such file or directory: './ai2-vision-turk-data/textbook-annotation-test/labeled-annotations/Daily_Science_Grade_3_(Daily_Practice_Books)_Evan_Moore_153.json'\n",
      "[Errno 2] No such file or directory: './ai2-vision-turk-data/textbook-annotation-test/labeled-annotations/Daily_Science_Grade_4_Evan_Moor_97.json'\n",
      "[Errno 2] No such file or directory: './ai2-vision-turk-data/textbook-annotation-test/labeled-annotations/Daily_Science_Grade_4_Evan_Moor_109.json'\n",
      "[Errno 2] No such file or directory: './ai2-vision-turk-data/textbook-annotation-test/labeled-annotations/Daily_Science_Grade_5_Evan_Moor_66.json'\n",
      "[Errno 2] No such file or directory: './ai2-vision-turk-data/textbook-annotation-test/labeled-annotations/Daily_Science_Grade_5_Evan_Moor_75.json'\n",
      "[Errno 2] No such file or directory: './ai2-vision-turk-data/textbook-annotation-test/labeled-annotations/Daily_Science_Grade_5_Evan_Moor_152.json'\n",
      "[Errno 2] No such file or directory: './ai2-vision-turk-data/textbook-annotation-test/labeled-annotations/Daily_Science_Grade_5_Evan_Moor_193.json'\n",
      "[Errno 2] No such file or directory: './ai2-vision-turk-data/textbook-annotation-test/labeled-annotations/Daily_Science_Grade_6_(Daily_Practice_Books)_Evan_Moor_69.json'\n",
      "[Errno 2] No such file or directory: './ai2-vision-turk-data/textbook-annotation-test/labeled-annotations/Daily_Science_Grade_6_(Daily_Practice_Books)_Evan_Moor_155.json'\n"
     ]
    }
   ],
   "source": [
    "books_to_transfer_anno = book_breakdowns['daily_sci']\n",
    "# books_to_transfer_anno = book_breakdowns['spectrum_sci']\n",
    "for textbook in books_to_transfer_anno:\n",
    "    ocr_trans.transmit_anno_single_textbook(textbook, page_ranges[textbook], 0.5, turk_data_base_path, \n",
    "                                            first_round_annotation_results_dir, raw_annotations_w_vert_scale, new_ocr_trans_dir )"
   ]
  },
  {
   "cell_type": "markdown",
   "metadata": {},
   "source": [
    "Then again for the question specific labels"
   ]
  },
  {
   "cell_type": "code",
   "execution_count": 152,
   "metadata": {
    "collapsed": false
   },
   "outputs": [
    {
     "name": "stdout",
     "output_type": "stream",
     "text": [
      "[Errno 2] No such file or directory: './ai2-vision-turk-data/textbook-annotation-test/labeled-questions/Daily_Science_Grade_1_Evan_Moor_8.json'\n",
      "[Errno 2] No such file or directory: './ai2-vision-turk-data/textbook-annotation-test/labeled-questions/Daily_Science_Grade_1_Evan_Moor_9.json'\n",
      "[Errno 2] No such file or directory: './ai2-vision-turk-data/textbook-annotation-test/labeled-questions/Daily_Science_Grade_1_Evan_Moor_15.json'\n",
      "[Errno 2] No such file or directory: './ai2-vision-turk-data/textbook-annotation-test/labeled-questions/Daily_Science_Grade_1_Evan_Moor_21.json'\n",
      "[Errno 2] No such file or directory: './ai2-vision-turk-data/textbook-annotation-test/labeled-questions/Daily_Science_Grade_1_Evan_Moor_27.json'\n",
      "[Errno 2] No such file or directory: './ai2-vision-turk-data/textbook-annotation-test/labeled-questions/Daily_Science_Grade_1_Evan_Moor_37.json'\n",
      "[Errno 2] No such file or directory: './ai2-vision-turk-data/textbook-annotation-test/labeled-questions/Daily_Science_Grade_1_Evan_Moor_38.json'\n",
      "[Errno 2] No such file or directory: './ai2-vision-turk-data/textbook-annotation-test/labeled-questions/Daily_Science_Grade_1_Evan_Moor_39.json'\n",
      "[Errno 2] No such file or directory: './ai2-vision-turk-data/textbook-annotation-test/labeled-questions/Daily_Science_Grade_1_Evan_Moor_45.json'\n",
      "[Errno 2] No such file or directory: './ai2-vision-turk-data/textbook-annotation-test/labeled-questions/Daily_Science_Grade_1_Evan_Moor_51.json'\n",
      "[Errno 2] No such file or directory: './ai2-vision-turk-data/textbook-annotation-test/labeled-questions/Daily_Science_Grade_1_Evan_Moor_57.json'\n",
      "[Errno 2] No such file or directory: './ai2-vision-turk-data/textbook-annotation-test/labeled-questions/Daily_Science_Grade_1_Evan_Moor_67.json'\n",
      "[Errno 2] No such file or directory: './ai2-vision-turk-data/textbook-annotation-test/labeled-questions/Daily_Science_Grade_1_Evan_Moor_68.json'\n",
      "[Errno 2] No such file or directory: './ai2-vision-turk-data/textbook-annotation-test/labeled-questions/Daily_Science_Grade_1_Evan_Moor_69.json'\n",
      "[Errno 2] No such file or directory: './ai2-vision-turk-data/textbook-annotation-test/labeled-questions/Daily_Science_Grade_1_Evan_Moor_75.json'\n",
      "[Errno 2] No such file or directory: './ai2-vision-turk-data/textbook-annotation-test/labeled-questions/Daily_Science_Grade_1_Evan_Moor_81.json'\n",
      "[Errno 2] No such file or directory: './ai2-vision-turk-data/textbook-annotation-test/labeled-questions/Daily_Science_Grade_1_Evan_Moor_87.json'\n",
      "[Errno 2] No such file or directory: './ai2-vision-turk-data/textbook-annotation-test/labeled-questions/Daily_Science_Grade_1_Evan_Moor_97.json'\n",
      "[Errno 2] No such file or directory: './ai2-vision-turk-data/textbook-annotation-test/labeled-questions/Daily_Science_Grade_1_Evan_Moor_98.json'\n",
      "[Errno 2] No such file or directory: './ai2-vision-turk-data/textbook-annotation-test/labeled-questions/Daily_Science_Grade_1_Evan_Moor_99.json'\n",
      "[Errno 2] No such file or directory: './ai2-vision-turk-data/textbook-annotation-test/labeled-questions/Daily_Science_Grade_1_Evan_Moor_105.json'\n",
      "[Errno 2] No such file or directory: './ai2-vision-turk-data/textbook-annotation-test/labeled-questions/Daily_Science_Grade_1_Evan_Moor_111.json'\n",
      "[Errno 2] No such file or directory: './ai2-vision-turk-data/textbook-annotation-test/labeled-questions/Daily_Science_Grade_1_Evan_Moor_117.json'\n",
      "[Errno 2] No such file or directory: './ai2-vision-turk-data/textbook-annotation-test/labeled-questions/Daily_Science_Grade_1_Evan_Moor_127.json'\n",
      "[Errno 2] No such file or directory: './ai2-vision-turk-data/textbook-annotation-test/labeled-questions/Daily_Science_Grade_1_Evan_Moor_128.json'\n",
      "[Errno 2] No such file or directory: './ai2-vision-turk-data/textbook-annotation-test/labeled-questions/Daily_Science_Grade_1_Evan_Moor_129.json'\n",
      "[Errno 2] No such file or directory: './ai2-vision-turk-data/textbook-annotation-test/labeled-questions/Daily_Science_Grade_1_Evan_Moor_135.json'\n",
      "[Errno 2] No such file or directory: './ai2-vision-turk-data/textbook-annotation-test/labeled-questions/Daily_Science_Grade_1_Evan_Moor_141.json'\n",
      "[Errno 2] No such file or directory: './ai2-vision-turk-data/textbook-annotation-test/labeled-questions/Daily_Science_Grade_1_Evan_Moor_147.json'\n",
      "[Errno 2] No such file or directory: './ai2-vision-turk-data/textbook-annotation-test/labeled-questions/Daily_Science_Grade_1_Evan_Moor_156.json'\n",
      "[Errno 2] No such file or directory: './ai2-vision-turk-data/textbook-annotation-test/labeled-questions/Daily_Science_Grade_1_Evan_Moor_157.json'\n",
      "[Errno 2] No such file or directory: './ai2-vision-turk-data/textbook-annotation-test/labeled-questions/Daily_Science_Grade_1_Evan_Moor_158.json'\n",
      "[Errno 2] No such file or directory: './ai2-vision-turk-data/textbook-annotation-test/labeled-questions/Daily_Science_Grade_1_Evan_Moor_159.json'\n",
      "[Errno 2] No such file or directory: './ai2-vision-turk-data/textbook-annotation-test/labeled-questions/Daily_Science_Grade_1_Evan_Moor_165.json'\n",
      "[Errno 2] No such file or directory: './ai2-vision-turk-data/textbook-annotation-test/labeled-questions/Daily_Science_Grade_1_Evan_Moor_171.json'\n",
      "[Errno 2] No such file or directory: './ai2-vision-turk-data/textbook-annotation-test/labeled-questions/Daily_Science_Grade_1_Evan_Moor_177.json'\n",
      "[Errno 2] No such file or directory: './ai2-vision-turk-data/textbook-annotation-test/labeled-questions/Daily_Science_Grade_2_Evan_Moor_8.json'\n",
      "[Errno 2] No such file or directory: './ai2-vision-turk-data/textbook-annotation-test/labeled-questions/Daily_Science_Grade_2_Evan_Moor_9.json'\n",
      "[Errno 2] No such file or directory: './ai2-vision-turk-data/textbook-annotation-test/labeled-questions/Daily_Science_Grade_2_Evan_Moor_15.json'\n",
      "[Errno 2] No such file or directory: './ai2-vision-turk-data/textbook-annotation-test/labeled-questions/Daily_Science_Grade_2_Evan_Moor_21.json'\n",
      "[Errno 2] No such file or directory: './ai2-vision-turk-data/textbook-annotation-test/labeled-questions/Daily_Science_Grade_2_Evan_Moor_27.json'\n",
      "[Errno 2] No such file or directory: './ai2-vision-turk-data/textbook-annotation-test/labeled-questions/Daily_Science_Grade_2_Evan_Moor_37.json'\n",
      "[Errno 2] No such file or directory: './ai2-vision-turk-data/textbook-annotation-test/labeled-questions/Daily_Science_Grade_2_Evan_Moor_38.json'\n",
      "[Errno 2] No such file or directory: './ai2-vision-turk-data/textbook-annotation-test/labeled-questions/Daily_Science_Grade_2_Evan_Moor_39.json'\n",
      "[Errno 2] No such file or directory: './ai2-vision-turk-data/textbook-annotation-test/labeled-questions/Daily_Science_Grade_2_Evan_Moor_45.json'\n",
      "[Errno 2] No such file or directory: './ai2-vision-turk-data/textbook-annotation-test/labeled-questions/Daily_Science_Grade_2_Evan_Moor_51.json'\n",
      "[Errno 2] No such file or directory: './ai2-vision-turk-data/textbook-annotation-test/labeled-questions/Daily_Science_Grade_2_Evan_Moor_57.json'\n",
      "[Errno 2] No such file or directory: './ai2-vision-turk-data/textbook-annotation-test/labeled-questions/Daily_Science_Grade_2_Evan_Moor_67.json'\n",
      "[Errno 2] No such file or directory: './ai2-vision-turk-data/textbook-annotation-test/labeled-questions/Daily_Science_Grade_2_Evan_Moor_68.json'\n",
      "[Errno 2] No such file or directory: './ai2-vision-turk-data/textbook-annotation-test/labeled-questions/Daily_Science_Grade_2_Evan_Moor_69.json'\n",
      "[Errno 2] No such file or directory: './ai2-vision-turk-data/textbook-annotation-test/labeled-questions/Daily_Science_Grade_2_Evan_Moor_75.json'\n"
     ]
    },
    {
     "ename": "KeyError",
     "evalue": "'question'",
     "output_type": "error",
     "traceback": [
      "\u001b[0;31m---------------------------------------------------------------------------\u001b[0m",
      "\u001b[0;31mKeyError\u001b[0m                                  Traceback (most recent call last)",
      "\u001b[0;32m<ipython-input-152-ff8a0358f3c5>\u001b[0m in \u001b[0;36m<module>\u001b[0;34m()\u001b[0m\n\u001b[1;32m      3\u001b[0m \u001b[0;32mfor\u001b[0m \u001b[0mtextbook\u001b[0m \u001b[0;32min\u001b[0m \u001b[0mbooks_to_transfer_anno\u001b[0m\u001b[0;34m:\u001b[0m\u001b[0;34m\u001b[0m\u001b[0m\n\u001b[1;32m      4\u001b[0m     ocr_trans.transmit_anno_single_textbook(textbook, page_ranges[textbook], 0.5, turk_data_base_path, \n\u001b[0;32m----> 5\u001b[0;31m                                             first_round_question_annotation_results_dir, new_q_ocr_dir, transferred_q_labels_dir, True)\n\u001b[0m",
      "\u001b[0;32m/Users/schwenk/wrk/notebooks/stb/pdfextraction/transmit_anno.py\u001b[0m in \u001b[0;36mtransmit_anno_single_textbook\u001b[0;34m(book_name, (start_n, stop_n), overlap_tol_fract, base_path, overmerged_dir, unmerged_dir, destination_dir, question_round)\u001b[0m\n\u001b[1;32m    107\u001b[0m         \u001b[0;32mtry\u001b[0m\u001b[0;34m:\u001b[0m\u001b[0;34m\u001b[0m\u001b[0m\n\u001b[1;32m    108\u001b[0m             transmit_boxes_single_page(page_image, overlap_tol_fract,\n\u001b[0;32m--> 109\u001b[0;31m                                        base_path, overmerged_dir, unmerged_dir, destination_dir, question_round)\n\u001b[0m\u001b[1;32m    110\u001b[0m         \u001b[0;32mexcept\u001b[0m \u001b[0mIOError\u001b[0m \u001b[0;32mas\u001b[0m \u001b[0me\u001b[0m\u001b[0;34m:\u001b[0m\u001b[0;34m\u001b[0m\u001b[0m\n\u001b[1;32m    111\u001b[0m             \u001b[0;32mprint\u001b[0m \u001b[0me\u001b[0m\u001b[0;34m\u001b[0m\u001b[0m\n",
      "\u001b[0;32m/Users/schwenk/wrk/notebooks/stb/pdfextraction/transmit_anno.py\u001b[0m in \u001b[0;36mtransmit_boxes_single_page\u001b[0;34m(page_image, overlap_tol_fract, base_path, overmerged_dir, unmerged_dir, lessmerged_dir, question_flag)\u001b[0m\n\u001b[1;32m     94\u001b[0m         \u001b[0munmerged_anno\u001b[0m \u001b[0;34m=\u001b[0m \u001b[0mjson\u001b[0m\u001b[0;34m.\u001b[0m\u001b[0mload\u001b[0m\u001b[0;34m(\u001b[0m\u001b[0mf\u001b[0m\u001b[0;34m)\u001b[0m\u001b[0;34m\u001b[0m\u001b[0m\n\u001b[1;32m     95\u001b[0m     \u001b[0;32mif\u001b[0m \u001b[0mquestion_flag\u001b[0m\u001b[0;34m:\u001b[0m\u001b[0;34m\u001b[0m\u001b[0m\n\u001b[0;32m---> 96\u001b[0;31m         \u001b[0munmerged_text_boxes\u001b[0m \u001b[0;34m=\u001b[0m \u001b[0mtransmit_question_labels\u001b[0m\u001b[0;34m(\u001b[0m\u001b[0munmerged_anno\u001b[0m\u001b[0;34m,\u001b[0m \u001b[0mmerged_anno\u001b[0m\u001b[0;34m,\u001b[0m \u001b[0moverlap_tol_fract\u001b[0m\u001b[0;34m)\u001b[0m\u001b[0;34m\u001b[0m\u001b[0m\n\u001b[0m\u001b[1;32m     97\u001b[0m         \u001b[0mwrite_transmitted_question_annotations\u001b[0m\u001b[0;34m(\u001b[0m\u001b[0munmerged_anno\u001b[0m\u001b[0;34m,\u001b[0m \u001b[0munmerged_text_boxes\u001b[0m\u001b[0;34m,\u001b[0m \u001b[0mlessmerged_anno_path\u001b[0m\u001b[0;34m)\u001b[0m\u001b[0;34m\u001b[0m\u001b[0m\n\u001b[1;32m     98\u001b[0m     \u001b[0;32melse\u001b[0m\u001b[0;34m:\u001b[0m\u001b[0;34m\u001b[0m\u001b[0m\n",
      "\u001b[0;32m/Users/schwenk/wrk/notebooks/stb/pdfextraction/transmit_anno.py\u001b[0m in \u001b[0;36mtransmit_question_labels\u001b[0;34m(unmerged_annotations, merged_annotations, overlap_tol_fract)\u001b[0m\n\u001b[1;32m     58\u001b[0m \u001b[0;32mdef\u001b[0m \u001b[0mtransmit_question_labels\u001b[0m\u001b[0;34m(\u001b[0m\u001b[0munmerged_annotations\u001b[0m\u001b[0;34m,\u001b[0m \u001b[0mmerged_annotations\u001b[0m\u001b[0;34m,\u001b[0m \u001b[0moverlap_tol_fract\u001b[0m\u001b[0;34m)\u001b[0m\u001b[0;34m:\u001b[0m\u001b[0;34m\u001b[0m\u001b[0m\n\u001b[1;32m     59\u001b[0m     \u001b[0mnew_annotations\u001b[0m \u001b[0;34m=\u001b[0m \u001b[0;34m[\u001b[0m\u001b[0;34m]\u001b[0m\u001b[0;34m\u001b[0m\u001b[0m\n\u001b[0;32m---> 60\u001b[0;31m     \u001b[0;32mfor\u001b[0m \u001b[0mbox_name\u001b[0m\u001b[0;34m,\u001b[0m \u001b[0mbox_val\u001b[0m \u001b[0;32min\u001b[0m \u001b[0mmerged_annotations\u001b[0m\u001b[0;34m[\u001b[0m\u001b[0;34m'question'\u001b[0m\u001b[0;34m]\u001b[0m\u001b[0;34m.\u001b[0m\u001b[0mitems\u001b[0m\u001b[0;34m(\u001b[0m\u001b[0;34m)\u001b[0m\u001b[0;34m:\u001b[0m\u001b[0;34m\u001b[0m\u001b[0m\n\u001b[0m\u001b[1;32m     61\u001b[0m         \u001b[0matomic_boxes\u001b[0m \u001b[0;34m=\u001b[0m \u001b[0mfind_constituent_boxes\u001b[0m\u001b[0;34m(\u001b[0m\u001b[0munmerged_annotations\u001b[0m\u001b[0;34m,\u001b[0m \u001b[0mbox_val\u001b[0m\u001b[0;34m,\u001b[0m \u001b[0moverlap_tol_fract\u001b[0m\u001b[0;34m,\u001b[0m \u001b[0;34m'question'\u001b[0m\u001b[0;34m)\u001b[0m\u001b[0;34m\u001b[0m\u001b[0m\n\u001b[1;32m     62\u001b[0m         \u001b[0;32mif\u001b[0m \u001b[0matomic_boxes\u001b[0m\u001b[0;34m:\u001b[0m\u001b[0;34m\u001b[0m\u001b[0m\n",
      "\u001b[0;31mKeyError\u001b[0m: 'question'"
     ]
    }
   ],
   "source": [
    "books_to_transfer_anno = book_breakdowns['daily_sci']\n",
    "# books_to_transfer_anno = book_breakdowns['spectrum_sci']\n",
    "for textbook in books_to_transfer_anno:\n",
    "    ocr_trans.transmit_anno_single_textbook(textbook, page_ranges[textbook], 0.5, turk_data_base_path, \n",
    "                                            first_round_question_annotation_results_dir, new_q_ocr_dir, transferred_q_labels_dir, True)"
   ]
  },
  {
   "cell_type": "markdown",
   "metadata": {
    "heading_collapsed": true
   },
   "source": [
    "## **Second round of MTurk annotation**"
   ]
  },
  {
   "cell_type": "markdown",
   "metadata": {
    "hidden": true
   },
   "source": [
    "The purpose of this round is to get finer-grained labels for the questions in the dataset.\n",
    "\n",
    "Questions can be labeled as **Multiple Choice, True/False, Fill-in-the-Blank, or Short Answer**\n",
    "\n",
    "The actual work of submitting and processing results can be found in **question_annotation_turk.ipynb**"
   ]
  },
  {
   "cell_type": "markdown",
   "metadata": {
    "heading_collapsed": true
   },
   "source": [
    "## **Hierarchy extraction**"
   ]
  },
  {
   "cell_type": "markdown",
   "metadata": {
    "hidden": true
   },
   "source": [
    "Programmatically extract the hierarchy and piece labels from questions"
   ]
  },
  {
   "cell_type": "markdown",
   "metadata": {
    "hidden": true
   },
   "source": [
    "### Testing "
   ]
  },
  {
   "cell_type": "markdown",
   "metadata": {
    "heading_collapsed": true
   },
   "source": [
    "# Send to viz tool"
   ]
  },
  {
   "cell_type": "code",
   "execution_count": 79,
   "metadata": {
    "collapsed": true,
    "hidden": true
   },
   "outputs": [],
   "source": [
    "pages_to_review = ['Daily_Science_Grade_2_Evan_Moor_61.jpeg']"
   ]
  },
  {
   "cell_type": "code",
   "execution_count": 99,
   "metadata": {
    "collapsed": false,
    "hidden": true
   },
   "outputs": [
    {
     "name": "stdout",
     "output_type": "stream",
     "text": [
      "sampling 1 pages out of 1\n"
     ]
    }
   ],
   "source": [
    "sampling_rate = 1\n",
    "sample_size = int(len(pages_to_review) * sampling_rate)\n",
    "sampled_pages_to_review = list(np.random.choice(pages_to_review, size= sample_size, replace=False))\n",
    "print 'sampling ' + str(sample_size) + ' pages out of ' + str(len(pages_to_review))\n",
    "to_review = ['start_seq'] + sampled_pages_to_review"
   ]
  },
  {
   "cell_type": "code",
   "execution_count": 100,
   "metadata": {
    "collapsed": false,
    "hidden": true
   },
   "outputs": [
    {
     "name": "stdout",
     "output_type": "stream",
     "text": [
      "posting to review tool, navigate to http://localhost:8080/ to see the sampled consensus results\n"
     ]
    }
   ],
   "source": [
    "# anno_dir = 'simpler-test-questions/'\n",
    "anno_dir = 'first-merge/'\n",
    "anno_dir = 'transferred-labels-first-round/'\n",
    "# anno_dir = 'labeled-annotations/'\n",
    "anno_dir = 'labeled-questions/'\n",
    "# anno_dir = 'raw-ocr-ws/'\n",
    "\n",
    "amt_util.review_results(to_review, anno_dir)\n",
    "print 'posting to review tool, navigate to http://localhost:8080/ to see the sampled consensus results'"
   ]
  },
  {
   "cell_type": "code",
   "execution_count": null,
   "metadata": {
    "collapsed": true,
    "hidden": true
   },
   "outputs": [],
   "source": []
  }
 ],
 "metadata": {
  "kernelspec": {
   "display_name": "Python 2",
   "language": "python",
   "name": "python2"
  },
  "language_info": {
   "codemirror_mode": {
    "name": "ipython",
    "version": 2
   },
   "file_extension": ".py",
   "mimetype": "text/x-python",
   "name": "python",
   "nbconvert_exporter": "python",
   "pygments_lexer": "ipython2",
   "version": "2.7.10"
  }
 },
 "nbformat": 4,
 "nbformat_minor": 0
}
