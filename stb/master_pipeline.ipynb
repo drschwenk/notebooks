{
 "cells": [
  {
   "cell_type": "markdown",
   "metadata": {},
   "source": [
    "# Table of Contents\n",
    "* [**Pipeline for textbook dataset creation**](#**Pipeline-for-textbook-dataset-creation**)\n",
    "\t* [**Extracting page images**](#**Extracting-page-images**)\n",
    "\t\t* [pdfminer](#pdfminer)\n",
    "\t\t* [scaling images down](#scaling-images-down)\n",
    "\t* [**OCR**](#**OCR**)\n",
    "\t\t* [First pass, Eric's service- MS Oxford and Google cloud vision](#First-pass,-Eric's-service--MS-Oxford-and-Google-cloud-vision)\n",
    "\t\t* [possible second pass to resolve OCR issues](#possible-second-pass-to-resolve-OCR-issues)\n",
    "\t* [**First box merging and annotation template (set schema here)**](#**First-box-merging-and-annotation-template-%28set-schema-here%29**)\n",
    "\t\t* [Overmerge to make labeling easier/ more reliable](#Overmerge-to-make-labeling-easier/-more-reliable)\n",
    "\t* [**First round of MTurk annotion**](#**First-round-of-MTurk-annotion**)\n",
    "\t\t* [This round is for highest-level annotation](#This-round-is-for-highest-level-annotation)\n",
    "\t\t* [Sanity checks, first round cleaning](#Sanity-checks,-first-round-cleaning)\n",
    "\t* [**Generate question annotations**](#**Generate-question-annotations**)\n",
    "\t\t* [**Unmerge boxes** to seperate question components](#**Unmerge-boxes**-to-seperate-question-components)\n",
    "\t\t* [make separate question annotation boxes based on first round labels](#make-separate-question-annotation-boxes-based-on-first-round-labels)\n",
    "\t\t* [weakly remerge question boxes](#weakly-remerge-question-boxes)\n",
    "\t* [**Second round of MTurk annotation**](#**Second-round-of-MTurk-annotation**)\n",
    "\t* [**Hierarchy extraction**](#**Hierarchy-extraction**)\n",
    "\t\t* [Testing](#Testing)\n"
   ]
  },
  {
   "cell_type": "markdown",
   "metadata": {
    "run_control": {
     "frozen": false,
     "read_only": false
    }
   },
   "source": [
    "# **Pipeline for textbook dataset creation**"
   ]
  },
  {
   "cell_type": "markdown",
   "metadata": {},
   "source": [
    "## **Extracting page images**"
   ]
  },
  {
   "cell_type": "markdown",
   "metadata": {},
   "source": [
    "### pdfminer"
   ]
  },
  {
   "cell_type": "markdown",
   "metadata": {},
   "source": [
    "### scaling images down"
   ]
  },
  {
   "cell_type": "markdown",
   "metadata": {},
   "source": [
    "## **OCR**"
   ]
  },
  {
   "cell_type": "code",
   "execution_count": 3,
   "metadata": {
    "collapsed": true
   },
   "outputs": [],
   "source": [
    "from pdfextraction import ocr_pipeline"
   ]
  },
  {
   "cell_type": "markdown",
   "metadata": {},
   "source": [
    "### First pass, Eric's service- MS Oxford and Google cloud vision"
   ]
  },
  {
   "cell_type": "markdown",
   "metadata": {},
   "source": [
    "### possible second pass to resolve OCR issues"
   ]
  },
  {
   "cell_type": "markdown",
   "metadata": {
    "heading_collapsed": true
   },
   "source": [
    "## **First box merging and annotation template (set schema here)**"
   ]
  },
  {
   "cell_type": "markdown",
   "metadata": {
    "hidden": true
   },
   "source": [
    "### Overmerge to make labeling easier/ more reliable"
   ]
  },
  {
   "cell_type": "markdown",
   "metadata": {
    "heading_collapsed": true
   },
   "source": [
    "## **First round of MTurk annotion**"
   ]
  },
  {
   "cell_type": "markdown",
   "metadata": {
    "hidden": true
   },
   "source": [
    "### This round is for highest-level annotation"
   ]
  },
  {
   "cell_type": "markdown",
   "metadata": {
    "hidden": true
   },
   "source": [
    "high-level labels include **discussion, definition, question, figure label, header/topic, and answer key**"
   ]
  },
  {
   "cell_type": "markdown",
   "metadata": {
    "collapsed": true,
    "hidden": true,
    "run_control": {
     "frozen": false,
     "read_only": false
    }
   },
   "source": [
    "### Sanity checks, first round cleaning"
   ]
  },
  {
   "cell_type": "markdown",
   "metadata": {
    "heading_collapsed": true
   },
   "source": [
    "## **Generate question annotations**"
   ]
  },
  {
   "cell_type": "markdown",
   "metadata": {
    "hidden": true
   },
   "source": [
    "### **Unmerge boxes** to seperate question components"
   ]
  },
  {
   "cell_type": "markdown",
   "metadata": {
    "hidden": true
   },
   "source": [
    "### make separate question annotation boxes based on first round labels"
   ]
  },
  {
   "cell_type": "markdown",
   "metadata": {
    "hidden": true
   },
   "source": [
    "### weakly remerge question boxes"
   ]
  },
  {
   "cell_type": "markdown",
   "metadata": {
    "hidden": true
   },
   "source": [
    "This should be performed with only the horizontal and overlap merge passes"
   ]
  },
  {
   "cell_type": "markdown",
   "metadata": {
    "heading_collapsed": true
   },
   "source": [
    "## **Second round of MTurk annotation**"
   ]
  },
  {
   "cell_type": "markdown",
   "metadata": {
    "hidden": true
   },
   "source": [
    "The purpose of this round is to get finer-grained labels for the questions in the dataset.\n",
    "\n",
    "Questions can be labeled as **Multiple Choice, True/False, Fill-in-the-Blank, or Short Answer**"
   ]
  },
  {
   "cell_type": "markdown",
   "metadata": {
    "heading_collapsed": true
   },
   "source": [
    "## **Hierarchy extraction**"
   ]
  },
  {
   "cell_type": "markdown",
   "metadata": {
    "hidden": true
   },
   "source": [
    "Programmatically extract the hierarchy and piece labels from questions"
   ]
  },
  {
   "cell_type": "markdown",
   "metadata": {
    "hidden": true
   },
   "source": [
    "### Testing "
   ]
  }
 ],
 "metadata": {
  "kernelspec": {
   "display_name": "Python 2",
   "language": "python",
   "name": "python2"
  },
  "language_info": {
   "codemirror_mode": {
    "name": "ipython",
    "version": 2
   },
   "file_extension": ".py",
   "mimetype": "text/x-python",
   "name": "python",
   "nbconvert_exporter": "python",
   "pygments_lexer": "ipython2",
   "version": "2.7.10"
  }
 },
 "nbformat": 4,
 "nbformat_minor": 0
}
