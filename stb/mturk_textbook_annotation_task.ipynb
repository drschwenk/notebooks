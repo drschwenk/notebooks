{
 "cells": [
  {
   "cell_type": "markdown",
   "metadata": {},
   "source": [
    "# Table of Contents\n",
    "* [Submitting HITs](#Submitting-HITs)\n",
    "\t* [Building URLs for images on s3](#Building-URLs-for-images-on-s3)\n",
    "\t* [submitting HITs in groups](#submitting-HITs-in-groups)\n",
    "* [Reviewing HITs](#Reviewing-HITs)\n",
    "* [Writing annotation results](#Writing-annotation-results)\n",
    "* [Ignore](#Ignore)\n"
   ]
  },
  {
   "cell_type": "code",
   "execution_count": 59,
   "metadata": {
    "collapsed": true
   },
   "outputs": [],
   "source": [
    "%%capture\n",
    "from __future__ import division\n",
    "import numpy as np\n",
    "import pandas as pd\n",
    "import scipy.stats as st\n",
    "import itertools\n",
    "import math\n",
    "from collections import Counter, defaultdict\n",
    "%load_ext autoreload\n",
    "%autoreload 2"
   ]
  },
  {
   "cell_type": "code",
   "execution_count": 2,
   "metadata": {
    "collapsed": true
   },
   "outputs": [],
   "source": [
    "import boto\n",
    "import boto.mturk.connection as tc\n",
    "import boto.mturk.question as tq\n",
    "from keysTkingdom import mturk_ai2\n",
    "import pickle"
   ]
  },
  {
   "cell_type": "markdown",
   "metadata": {},
   "source": [
    "# Submitting HITs"
   ]
  },
  {
   "cell_type": "markdown",
   "metadata": {},
   "source": [
    "## Building URLs for images on s3"
   ]
  },
  {
   "cell_type": "code",
   "execution_count": 16,
   "metadata": {
    "collapsed": false
   },
   "outputs": [],
   "source": [
    "def load_book_info():\n",
    "    with open('breakdowns.pkl', 'rb') as f:\n",
    "#         book_breakdowns = pickle.load(f, encoding='latin1')\n",
    "        book_breakdowns = pickle.load(f)\n",
    "\n",
    "\n",
    "    with open('pdfs/page_ranges.csv') as f:\n",
    "        ranges = f.readlines()\n",
    "    range_lookup = {line.split(' ')[0]:[int(num) for num in line.strip().split(' ')[1:]] for line in ranges}\n",
    "    return book_breakdowns, range_lookup\n",
    "\n",
    "def form_hit_url(book_name, page_n):\n",
    "    book_name_no_ext = book_name.replace('.pdf', '_')\n",
    "#     baseurl = 'https://s3-us-west-2.amazonaws.com/ai2-vision-turk-data/textbook-annotation-test/build/index.html'\n",
    "    baseurl = 'https://s3-us-west-2.amazonaws.com/ai2-vision-turk-data/textbook-annotation-test/textbook_hit_instructions/instructions.html' \n",
    "    full_url = baseurl + '?url={}{}.jpeg&id={}'.format(book_name_no_ext, page_n, page_n)\n",
    "    return full_url\n",
    "\n",
    "def make_book_group_urls(book_groups, book_group, ranges):\n",
    "    group_urls = []\n",
    "    def get_start_end(start, end):\n",
    "        return start, end\n",
    "    \n",
    "    for tb in book_groups[book_group]:\n",
    "        start, end = get_start_end(*ranges[tb])\n",
    "        for page_n in range(start, end):\n",
    "            group_urls.append(form_hit_url(tb, page_n))\n",
    "    return group_urls"
   ]
  },
  {
   "cell_type": "code",
   "execution_count": 4,
   "metadata": {
    "collapsed": false
   },
   "outputs": [],
   "source": [
    "book_groups,ranges = load_book_info()"
   ]
  },
  {
   "cell_type": "code",
   "execution_count": 24,
   "metadata": {
    "collapsed": false
   },
   "outputs": [],
   "source": [
    "daily_sci_urls = make_book_group_urls(book_groups, 'daily_sci', ranges)\n",
    "spectrum_sci_urls = make_book_group_urls(book_groups, 'spectrum_sci', ranges)"
   ]
  },
  {
   "cell_type": "code",
   "execution_count": 78,
   "metadata": {
    "collapsed": false
   },
   "outputs": [],
   "source": [
    "# daily_sci_urls[500:600]"
   ]
  },
  {
   "cell_type": "markdown",
   "metadata": {},
   "source": [
    "## submitting HITs in groups"
   ]
  },
  {
   "cell_type": "code",
   "execution_count": 17,
   "metadata": {
    "collapsed": false
   },
   "outputs": [],
   "source": [
    "def creat_single_hit(url):\n",
    "    \"\"\"\n",
    "    creates a single HIT from a provided url\n",
    "    \"\"\"\n",
    "    title = \"Annotate Science Textbook\"\n",
    "    description = \"Choose which category a text entry best belongs to\"\n",
    "    keywords = ['image', 'science']\n",
    "    frame_height = 1000 # the height of the iframe holding the external hit\n",
    "    amount = .05\n",
    "#     duration = 3600\n",
    "\n",
    "    questionform = tq.ExternalQuestion(url, frame_height)\n",
    "\n",
    "    create_hit_result = mturk.create_hit(\n",
    "        title = title,\n",
    "        description = description,\n",
    "        keywords = keywords,\n",
    "        question = questionform,\n",
    "        reward = boto.mturk.price.Price(amount=amount),\n",
    "#         max_assignments=3,\n",
    "        max_assignments=1,\n",
    "#         duration = duration\n",
    "    )\n",
    "def create_hits_from_pages(page_links):\n",
    "    for url in page_links:\n",
    "        creat_single_hit(url)"
   ]
  },
  {
   "cell_type": "code",
   "execution_count": 7,
   "metadata": {
    "collapsed": true
   },
   "outputs": [],
   "source": [
    "def delete_all_hits(mturk):\n",
    "    my_hits = list(mturk.get_all_hits())\n",
    "    for hit in my_hits:\n",
    "        mturk.disable_hit(hit.HITId)"
   ]
  },
  {
   "cell_type": "code",
   "execution_count": 18,
   "metadata": {
    "collapsed": true
   },
   "outputs": [],
   "source": [
    "sandbox_host = 'mechanicalturk.sandbox.amazonaws.com' \n",
    "mturk = tc.MTurkConnection(\n",
    "    aws_access_key_id = mturk_ai2.access_key,\n",
    "    aws_secret_access_key = mturk_ai2.access_secret_key,\n",
    "    host = sandbox_host,\n",
    "    debug = 1 # debug = 2 prints out all requests.\n",
    ")"
   ]
  },
  {
   "cell_type": "code",
   "execution_count": 35,
   "metadata": {
    "collapsed": false
   },
   "outputs": [],
   "source": [
    "delete_all_hits(mturk)"
   ]
  },
  {
   "cell_type": "code",
   "execution_count": 36,
   "metadata": {
    "collapsed": false
   },
   "outputs": [],
   "source": [
    "creat_single_hit(daily_sci_urls[86])"
   ]
  },
  {
   "cell_type": "code",
   "execution_count": 27,
   "metadata": {
    "collapsed": false
   },
   "outputs": [
    {
     "data": {
      "text/plain": [
       "'https://s3-us-west-2.amazonaws.com/ai2-vision-turk-data/textbook-annotation-test/textbook_hit_instructions/instructions.html?url=Daily_Science_Grade_1_Evan_Moor_93.jpeg&id=93'"
      ]
     },
     "execution_count": 27,
     "metadata": {},
     "output_type": "execute_result"
    }
   ],
   "source": [
    "daily_sci_urls[85]"
   ]
  },
  {
   "cell_type": "code",
   "execution_count": 203,
   "metadata": {
    "collapsed": false
   },
   "outputs": [
    {
     "data": {
      "text/plain": [
       "['https://s3-us-west-2.amazonaws.com/ai2-vision-turk-data/textbook-annotation-test/textbook_hit_instructions/instructions.html?url=Daily_Science_Grade_3_(Daily_Practice_Books)_Evan_Moore_147.jpeg&id=147',\n",
       " 'https://s3-us-west-2.amazonaws.com/ai2-vision-turk-data/textbook-annotation-test/textbook_hit_instructions/instructions.html?url=Daily_Science_Grade_3_(Daily_Practice_Books)_Evan_Moore_148.jpeg&id=148',\n",
       " 'https://s3-us-west-2.amazonaws.com/ai2-vision-turk-data/textbook-annotation-test/textbook_hit_instructions/instructions.html?url=Daily_Science_Grade_3_(Daily_Practice_Books)_Evan_Moore_149.jpeg&id=149',\n",
       " 'https://s3-us-west-2.amazonaws.com/ai2-vision-turk-data/textbook-annotation-test/textbook_hit_instructions/instructions.html?url=Daily_Science_Grade_3_(Daily_Practice_Books)_Evan_Moore_150.jpeg&id=150',\n",
       " 'https://s3-us-west-2.amazonaws.com/ai2-vision-turk-data/textbook-annotation-test/textbook_hit_instructions/instructions.html?url=Daily_Science_Grade_3_(Daily_Practice_Books)_Evan_Moore_151.jpeg&id=151',\n",
       " 'https://s3-us-west-2.amazonaws.com/ai2-vision-turk-data/textbook-annotation-test/textbook_hit_instructions/instructions.html?url=Daily_Science_Grade_3_(Daily_Practice_Books)_Evan_Moore_152.jpeg&id=152',\n",
       " 'https://s3-us-west-2.amazonaws.com/ai2-vision-turk-data/textbook-annotation-test/textbook_hit_instructions/instructions.html?url=Daily_Science_Grade_3_(Daily_Practice_Books)_Evan_Moore_153.jpeg&id=153',\n",
       " 'https://s3-us-west-2.amazonaws.com/ai2-vision-turk-data/textbook-annotation-test/textbook_hit_instructions/instructions.html?url=Daily_Science_Grade_3_(Daily_Practice_Books)_Evan_Moore_154.jpeg&id=154',\n",
       " 'https://s3-us-west-2.amazonaws.com/ai2-vision-turk-data/textbook-annotation-test/textbook_hit_instructions/instructions.html?url=Daily_Science_Grade_3_(Daily_Practice_Books)_Evan_Moore_155.jpeg&id=155']"
      ]
     },
     "execution_count": 203,
     "metadata": {},
     "output_type": "execute_result"
    }
   ],
   "source": [
    "daily_sci_urls[502:511]"
   ]
  },
  {
   "cell_type": "code",
   "execution_count": 37,
   "metadata": {
    "collapsed": true
   },
   "outputs": [],
   "source": [
    "create_hits_from_pages(daily_sci_urls[502:542])"
   ]
  },
  {
   "cell_type": "markdown",
   "metadata": {},
   "source": [
    "there are 1100 pages from daily science"
   ]
  },
  {
   "cell_type": "markdown",
   "metadata": {},
   "source": [
    "# Reviewing HITs"
   ]
  },
  {
   "cell_type": "code",
   "execution_count": null,
   "metadata": {
    "collapsed": true
   },
   "outputs": [],
   "source": [
    "def most_common_strict(turk_responses_single_page):\n",
    "    \"\"\"\n",
    "    returns the consensus response of the three raw response strings for a given page\n",
    "    \"\"\"\n",
    "    most_common = turk_responses_single_page[1]['Answer.NumberOfItems'].mode()\n",
    "    if most_common.empty:\n",
    "        most_common = pd.Series(['NO AGREEMENT'])\n",
    "    return most_common"
   ]
  },
  {
   "cell_type": "code",
   "execution_count": null,
   "metadata": {
    "collapsed": true
   },
   "outputs": [],
   "source": [
    "grouped_results_df = batch_results_df.groupby('Input.image_url')\n",
    "for turk_response in grouped_results_df:\n",
    "    print(image_response[1]['Answer.NumberOfItems'])"
   ]
  },
  {
   "cell_type": "code",
   "execution_count": 212,
   "metadata": {
    "collapsed": false
   },
   "outputs": [],
   "source": [
    "r_hits = mturk.get_reviewable_hits(page_size=50)"
   ]
  },
  {
   "cell_type": "code",
   "execution_count": 215,
   "metadata": {
    "collapsed": false
   },
   "outputs": [],
   "source": [
    "annotation_results = {}\n",
    "for hit in r_hits:\n",
    "    assignments = mturk.get_assignments(hit.HITId)\n",
    "    for assigment in assignments:\n",
    "        for answers in assigment.answers:\n",
    "            annotation_results[answers[0].fields[0]] = answers[1].fields\n",
    "            "
   ]
  },
  {
   "cell_type": "code",
   "execution_count": 289,
   "metadata": {
    "collapsed": false
   },
   "outputs": [
    {
     "data": {
      "text/plain": [
       "[u'Daily_Science_Grade_3_(Daily_Practice_Books)_Evan_Moore_165.jpeg',\n",
       " u'Daily_Science_Grade_3_(Daily_Practice_Books)_Evan_Moore_151.jpeg',\n",
       " u'Daily_Science_Grade_3_(Daily_Practice_Books)_Evan_Moore_175.jpeg',\n",
       " u'Daily_Science_Grade_3_(Daily_Practice_Books)_Evan_Moore_156.jpeg',\n",
       " u'Daily_Science_Grade_3_(Daily_Practice_Books)_Evan_Moore_180.jpeg',\n",
       " u'Daily_Science_Grade_3_(Daily_Practice_Books)_Evan_Moore_168.jpeg',\n",
       " u'Daily_Science_Grade_3_(Daily_Practice_Books)_Evan_Moore_179.jpeg',\n",
       " u'Daily_Science_Grade_3_(Daily_Practice_Books)_Evan_Moore_173.jpeg',\n",
       " u'Daily_Science_Grade_3_(Daily_Practice_Books)_Evan_Moore_159.jpeg',\n",
       " u'Daily_Science_Grade_3_(Daily_Practice_Books)_Evan_Moore_149.jpeg',\n",
       " u'Daily_Science_Grade_3_(Daily_Practice_Books)_Evan_Moore_186.jpeg',\n",
       " u'Daily_Science_Grade_3_(Daily_Practice_Books)_Evan_Moore_152.jpeg',\n",
       " u'Daily_Science_Grade_3_(Daily_Practice_Books)_Evan_Moore_176.jpeg',\n",
       " u'Daily_Science_Grade_3_(Daily_Practice_Books)_Evan_Moore_148.jpeg',\n",
       " u'Daily_Science_Grade_3_(Daily_Practice_Books)_Evan_Moore_154.jpeg',\n",
       " u'Daily_Science_Grade_3_(Daily_Practice_Books)_Evan_Moore_155.jpeg',\n",
       " u'Daily_Science_Grade_3_(Daily_Practice_Books)_Evan_Moore_184.jpeg',\n",
       " u'Daily_Science_Grade_3_(Daily_Practice_Books)_Evan_Moore_164.jpeg',\n",
       " u'Daily_Science_Grade_3_(Daily_Practice_Books)_Evan_Moore_174.jpeg',\n",
       " u'Daily_Science_Grade_3_(Daily_Practice_Books)_Evan_Moore_163.jpeg',\n",
       " u'Daily_Science_Grade_3_(Daily_Practice_Books)_Evan_Moore_177.jpeg',\n",
       " u'Daily_Science_Grade_3_(Daily_Practice_Books)_Evan_Moore_183.jpeg',\n",
       " u'Daily_Science_Grade_3_(Daily_Practice_Books)_Evan_Moore_182.jpeg',\n",
       " u'Daily_Science_Grade_3_(Daily_Practice_Books)_Evan_Moore_167.jpeg',\n",
       " u'Daily_Science_Grade_3_(Daily_Practice_Books)_Evan_Moore_157.jpeg',\n",
       " u'Daily_Science_Grade_3_(Daily_Practice_Books)_Evan_Moore_169.jpeg',\n",
       " u'Daily_Science_Grade_3_(Daily_Practice_Books)_Evan_Moore_147.jpeg',\n",
       " u'Daily_Science_Grade_3_(Daily_Practice_Books)_Evan_Moore_160.jpeg',\n",
       " u'Daily_Science_Grade_1_Evan_Moor_94.jpeg']"
      ]
     },
     "execution_count": 289,
     "metadata": {},
     "output_type": "execute_result"
    }
   ],
   "source": [
    "annotation_results.keys()"
   ]
  },
  {
   "cell_type": "markdown",
   "metadata": {},
   "source": [
    "# Writing annotation results"
   ]
  },
  {
   "cell_type": "code",
   "execution_count": 280,
   "metadata": {
    "collapsed": false
   },
   "outputs": [],
   "source": [
    "import json\n",
    "import jsonschema\n",
    "import requests \n",
    "from pdfextraction.annotation_schema import page_schema\n",
    "from flask import request"
   ]
  },
  {
   "cell_type": "code",
   "execution_count": 196,
   "metadata": {
    "collapsed": false,
    "scrolled": true
   },
   "outputs": [
    {
     "data": {
      "text/plain": [
       "{'$schema': 'http://json-schema.org/draft-04/schema',\n",
       " 'additionalProperties': False,\n",
       " 'properties': {'figure': {'type': 'object'},\n",
       "  'relationship': {'type': 'object'},\n",
       "  'text': {'additionalProperties': False,\n",
       "   'patternProperties': {'^T[0-9]+$': {'additionalProperties': False,\n",
       "     'properties': {'box_id': {'type': 'string'},\n",
       "      'category': {'enum': ['header/topic',\n",
       "        'definition',\n",
       "        'discussion',\n",
       "        'question',\n",
       "        'answer',\n",
       "        'figure_label',\n",
       "        'unlabeled']},\n",
       "      'contents': {'type': 'string'},\n",
       "      'rectangle': {'items': {'items': {'type': 'integer'},\n",
       "        'maxItems': 2,\n",
       "        'minItems': 2,\n",
       "        'type': 'array'},\n",
       "       'maxItems': 2,\n",
       "       'minItems': 2,\n",
       "       'type': 'array'},\n",
       "      'score': {},\n",
       "      'source': {'items': {'$schema': 'http://json-schema.org/draft-04/schema#',\n",
       "        'additionalProperties': False,\n",
       "        'properties': {'book_source': {'type': 'string'},\n",
       "         'page_n': {'type': 'int'}},\n",
       "        'required': ['book_source', 'page_n'],\n",
       "        'title': 'C Object',\n",
       "        'type': 'object'},\n",
       "       'type': 'object'}},\n",
       "     'required': ['rectangle',\n",
       "      'category',\n",
       "      'box_id',\n",
       "      'source',\n",
       "      'score',\n",
       "      'contents'],\n",
       "     'type': 'object'}},\n",
       "   'type': 'object'}},\n",
       " 'required properties': ['text', 'figure', 'relationship'],\n",
       " 'type': 'object'}"
      ]
     },
     "execution_count": 196,
     "metadata": {},
     "output_type": "execute_result"
    }
   ],
   "source": [
    "page_schema"
   ]
  },
  {
   "cell_type": "code",
   "execution_count": 293,
   "metadata": {
    "collapsed": false
   },
   "outputs": [
    {
     "data": {
      "text/plain": [
       "<Response [200]>"
      ]
     },
     "execution_count": 293,
     "metadata": {},
     "output_type": "execute_result"
    }
   ],
   "source": [
    "review_api_endpoint = 'http://localhost:8080/api/review'\n",
    "payload = {'pages_to_review': str(annotation_results.keys())}\n",
    "headers = {'content-type': 'application/json'}\n",
    "requests.post(review_api_endpoint, data=json.dumps(payload), headers=headers)"
   ]
  },
  {
   "cell_type": "code",
   "execution_count": 216,
   "metadata": {
    "collapsed": true
   },
   "outputs": [],
   "source": [
    "def form_annoation_url(page_name):\n",
    "    base_path = '/Users/schwenk/wrk/notebooks/stb/ai2-vision-turk-data/textbook-annotation-test/merged-annotations/'\n",
    "    return base_path + page_name.replace('jpeg', 'json')"
   ]
  },
  {
   "cell_type": "code",
   "execution_count": 217,
   "metadata": {
    "collapsed": true
   },
   "outputs": [],
   "source": [
    "def load_local_annotation(page_name):\n",
    "    base_path = '/Users/schwenk/wrk/notebooks/stb/ai2-vision-turk-data/textbook-annotation-test/merged-annotations/'\n",
    "    file_path = base_path + page_name.replace('jpeg', 'json')\n",
    "    with open(file_path, 'r') as f:\n",
    "        local_annotations = json.load(f)\n",
    "    return local_annotations"
   ]
  },
  {
   "cell_type": "code",
   "execution_count": 218,
   "metadata": {
    "collapsed": false
   },
   "outputs": [],
   "source": [
    "def process_annotation_results(anno_page_name, turk_consensus_result, unannotated_page, annotations_folder, page_schema):\n",
    "\n",
    "    turk_results_json = json.loads(turk_consensus_result[0])\n",
    "    for result in turk_results_json:\n",
    "        unannotated_page['text'][result['id']]['category'] = result['category']\n",
    "\n",
    "    validator = jsonschema.Draft4Validator(page_schema)\n",
    "#     validator.validate(json.loads(json.dumps(unannotated_page)))\n",
    "\n",
    "    file_path = annotations_folder + anno_page_name.replace('jpeg', 'json').replace(\"\\\\\", \"\")\n",
    "    with open(file_path, 'wb') as rf:\n",
    "        json.dump(unannotated_page, f)\n",
    "    return"
   ]
  },
  {
   "cell_type": "code",
   "execution_count": 219,
   "metadata": {
    "collapsed": false,
    "scrolled": true
   },
   "outputs": [],
   "source": [
    "for page_name, results in annotation_results.iteritems():\n",
    "    unaltered_annotations = load_local_annotation(page_name)\n",
    "    process_annotation_results(page_name, results, unaltered_annotations, './test_write/', page_schema)"
   ]
  },
  {
   "cell_type": "code",
   "execution_count": 84,
   "metadata": {
    "collapsed": true
   },
   "outputs": [],
   "source": [
    "# batch_results_df = pd.read_csv(data_dir+results_csv)\n",
    "# print(batch_results_df.shape)\n",
    "# batch_results_df.head(2)"
   ]
  },
  {
   "cell_type": "markdown",
   "metadata": {},
   "source": [
    "# Ignore"
   ]
  },
  {
   "cell_type": "code",
   "execution_count": 6,
   "metadata": {
    "collapsed": true
   },
   "outputs": [],
   "source": [
    "# grouped_results_df = batch_results_df.groupby('Input.image_url')\n",
    "# for image_response in grouped_results_df:\n",
    "#     print(image_response[1]['Answer.NumberOfItems'])"
   ]
  },
  {
   "cell_type": "code",
   "execution_count": 11,
   "metadata": {
    "collapsed": false
   },
   "outputs": [],
   "source": [
    "# hit_type_1 = (\n",
    "#     \"Annotate Science Textbook\",\n",
    "#     \"Choose which category a text entry best belongs to\",\n",
    "#     boto.mturk.price.Price(amount=0.05),\n",
    "#     3600,\n",
    "#     ['image', 'science']\n",
    "\n",
    "# )\n",
    "\n",
    "my_hits = list(mturk.get_all_hits())\n",
    "\n",
    "# for hit in my_hits:\n",
    "#     mturk.disable_hit(hit.HITId)\n",
    "\n",
    "# my_hit = list(mturk.get_all_hits())[0]\n",
    "\n",
    "# hitidr = mturk.register_hit_type(*hit_type_1)"
   ]
  },
  {
   "cell_type": "code",
   "execution_count": 12,
   "metadata": {
    "collapsed": false
   },
   "outputs": [],
   "source": [
    "for hit in my_hits:\n",
    "    mturk.disable_hit(hit.HITId)"
   ]
  },
  {
   "cell_type": "markdown",
   "metadata": {
    "collapsed": true
   },
   "source": [
    "Choosing the right price for your HITs is crucial, and it can be tricky to figure out when you’re first starting. It’s here that those using Mechanical Turk as a digital sweatshop are separated from those using Mechanical Turk as fair and equitable way to employ of other people. Many turkers consider it unethical to pay under $0.10 per minute. This amount works out to a $6.00 hourly wage or the minimum wage in the US (though many states pay higher). Turkers specifically pay attention to price when determining whether or not a HIT is worth their time. As one turker said in a survey “…I figure a good task is one I can make 10 to 12 cents a minute on.” If you’re looking to get your HITs done quickly and have high-quality turkers work on them (and trust me, you are!) then you should make sure you pay your turkers fairly. If you want a quick rule of thumb it’s:\n",
    "\n",
    "Fair Pay = $0.10 x (Average Number Of Minutes Per Assignment)"
   ]
  },
  {
   "cell_type": "code",
   "execution_count": null,
   "metadata": {
    "collapsed": true
   },
   "outputs": [],
   "source": []
  }
 ],
 "metadata": {
  "kernelspec": {
   "display_name": "Python 2",
   "language": "python",
   "name": "python2"
  },
  "language_info": {
   "codemirror_mode": {
    "name": "ipython",
    "version": 2
   },
   "file_extension": ".py",
   "mimetype": "text/x-python",
   "name": "python",
   "nbconvert_exporter": "python",
   "pygments_lexer": "ipython2",
   "version": "2.7.10"
  }
 },
 "nbformat": 4,
 "nbformat_minor": 0
}
