{
 "cells": [
  {
   "cell_type": "markdown",
   "metadata": {},
   "source": [
    "# Table of Contents\n",
    "* [Submitting HITs](#Submitting-HITs)\n",
    "\t* [Building URLs for images on s3](#Building-URLs-for-images-on-s3)\n",
    "\t* [submitting HITs in groups](#submitting-HITs-in-groups)\n",
    "* [Reviewing HITs](#Reviewing-HITs)\n",
    "* [Ignore](#Ignore)\n"
   ]
  },
  {
   "cell_type": "code",
   "execution_count": 1,
   "metadata": {
    "collapsed": true
   },
   "outputs": [],
   "source": [
    "import boto\n",
    "import boto.mturk.connection as tc\n",
    "import boto.mturk.question as tq\n",
    "from keysTkingdom import mturk_ai2\n",
    "import pickle"
   ]
  },
  {
   "cell_type": "markdown",
   "metadata": {},
   "source": [
    "# Submitting HITs"
   ]
  },
  {
   "cell_type": "markdown",
   "metadata": {},
   "source": [
    "## Building URLs for images on s3"
   ]
  },
  {
   "cell_type": "code",
   "execution_count": 125,
   "metadata": {
    "collapsed": false
   },
   "outputs": [],
   "source": [
    "def load_book_info():\n",
    "    with open('breakdowns.pkl', 'rb') as f:\n",
    "#         book_breakdowns = pickle.load(f, encoding='latin1')\n",
    "        book_breakdowns = pickle.load(f)\n",
    "\n",
    "\n",
    "    with open('pdfs/page_ranges.csv') as f:\n",
    "        ranges = f.readlines()\n",
    "    range_lookup = {line.split(' ')[0]:[int(num) for num in line.strip().split(' ')[1:]] for line in ranges}\n",
    "    return book_breakdowns, range_lookup\n",
    "\n",
    "def form_hit_url(book_name, page_n):\n",
    "    book_name_no_ext = book_name.replace('.pdf', '_')\n",
    "    baseurl = 'https://s3-us-west-2.amazonaws.com/ai2-vision-turk-data/textbook-annotation-test/build/index.html'\n",
    "    full_url = baseurl + '?url={}{}.jpeg&id={}'.format(book_name_no_ext, page_n, page_n)\n",
    "    return full_url\n",
    "\n",
    "def make_book_group_urls(book_groups, book_group, ranges):\n",
    "    group_urls = []\n",
    "    def get_start_end(start, end):\n",
    "        return start, end\n",
    "    \n",
    "    for tb in book_groups[book_group]:\n",
    "        start, end = get_start_end(*ranges[tb])\n",
    "        for page_n in range(start, end):\n",
    "            group_urls.append(form_hit_url(tb, page_n))\n",
    "    return group_urls"
   ]
  },
  {
   "cell_type": "code",
   "execution_count": 6,
   "metadata": {
    "collapsed": false
   },
   "outputs": [],
   "source": [
    "book_groups,ranges = load_book_info()"
   ]
  },
  {
   "cell_type": "code",
   "execution_count": 7,
   "metadata": {
    "collapsed": false
   },
   "outputs": [],
   "source": [
    "daily_sci_urls = make_book_group_urls('daily_sci')\n",
    "spectrum_sci_urls = make_book_group_urls('spectrum_sci')"
   ]
  },
  {
   "cell_type": "code",
   "execution_count": 98,
   "metadata": {
    "collapsed": false
   },
   "outputs": [
    {
     "data": {
      "text/plain": [
       "['https://s3-us-west-2.amazonaws.com/ai2-vision-turk-data/textbook-annotation-test/build/index.html?url=Daily_Science_Grade_4_Evan_Moor_153.jpeg&id=153',\n",
       " 'https://s3-us-west-2.amazonaws.com/ai2-vision-turk-data/textbook-annotation-test/build/index.html?url=Daily_Science_Grade_4_Evan_Moor_154.jpeg&id=154',\n",
       " 'https://s3-us-west-2.amazonaws.com/ai2-vision-turk-data/textbook-annotation-test/build/index.html?url=Daily_Science_Grade_4_Evan_Moor_155.jpeg&id=155',\n",
       " 'https://s3-us-west-2.amazonaws.com/ai2-vision-turk-data/textbook-annotation-test/build/index.html?url=Daily_Science_Grade_4_Evan_Moor_156.jpeg&id=156',\n",
       " 'https://s3-us-west-2.amazonaws.com/ai2-vision-turk-data/textbook-annotation-test/build/index.html?url=Daily_Science_Grade_4_Evan_Moor_157.jpeg&id=157',\n",
       " 'https://s3-us-west-2.amazonaws.com/ai2-vision-turk-data/textbook-annotation-test/build/index.html?url=Daily_Science_Grade_4_Evan_Moor_158.jpeg&id=158',\n",
       " 'https://s3-us-west-2.amazonaws.com/ai2-vision-turk-data/textbook-annotation-test/build/index.html?url=Daily_Science_Grade_4_Evan_Moor_159.jpeg&id=159',\n",
       " 'https://s3-us-west-2.amazonaws.com/ai2-vision-turk-data/textbook-annotation-test/build/index.html?url=Daily_Science_Grade_4_Evan_Moor_160.jpeg&id=160',\n",
       " 'https://s3-us-west-2.amazonaws.com/ai2-vision-turk-data/textbook-annotation-test/build/index.html?url=Daily_Science_Grade_4_Evan_Moor_161.jpeg&id=161',\n",
       " 'https://s3-us-west-2.amazonaws.com/ai2-vision-turk-data/textbook-annotation-test/build/index.html?url=Daily_Science_Grade_4_Evan_Moor_162.jpeg&id=162',\n",
       " 'https://s3-us-west-2.amazonaws.com/ai2-vision-turk-data/textbook-annotation-test/build/index.html?url=Daily_Science_Grade_4_Evan_Moor_163.jpeg&id=163',\n",
       " 'https://s3-us-west-2.amazonaws.com/ai2-vision-turk-data/textbook-annotation-test/build/index.html?url=Daily_Science_Grade_4_Evan_Moor_164.jpeg&id=164',\n",
       " 'https://s3-us-west-2.amazonaws.com/ai2-vision-turk-data/textbook-annotation-test/build/index.html?url=Daily_Science_Grade_4_Evan_Moor_165.jpeg&id=165',\n",
       " 'https://s3-us-west-2.amazonaws.com/ai2-vision-turk-data/textbook-annotation-test/build/index.html?url=Daily_Science_Grade_4_Evan_Moor_166.jpeg&id=166',\n",
       " 'https://s3-us-west-2.amazonaws.com/ai2-vision-turk-data/textbook-annotation-test/build/index.html?url=Daily_Science_Grade_4_Evan_Moor_167.jpeg&id=167',\n",
       " 'https://s3-us-west-2.amazonaws.com/ai2-vision-turk-data/textbook-annotation-test/build/index.html?url=Daily_Science_Grade_4_Evan_Moor_168.jpeg&id=168',\n",
       " 'https://s3-us-west-2.amazonaws.com/ai2-vision-turk-data/textbook-annotation-test/build/index.html?url=Daily_Science_Grade_4_Evan_Moor_169.jpeg&id=169',\n",
       " 'https://s3-us-west-2.amazonaws.com/ai2-vision-turk-data/textbook-annotation-test/build/index.html?url=Daily_Science_Grade_4_Evan_Moor_170.jpeg&id=170',\n",
       " 'https://s3-us-west-2.amazonaws.com/ai2-vision-turk-data/textbook-annotation-test/build/index.html?url=Daily_Science_Grade_4_Evan_Moor_171.jpeg&id=171',\n",
       " 'https://s3-us-west-2.amazonaws.com/ai2-vision-turk-data/textbook-annotation-test/build/index.html?url=Daily_Science_Grade_4_Evan_Moor_172.jpeg&id=172',\n",
       " 'https://s3-us-west-2.amazonaws.com/ai2-vision-turk-data/textbook-annotation-test/build/index.html?url=Daily_Science_Grade_4_Evan_Moor_173.jpeg&id=173',\n",
       " 'https://s3-us-west-2.amazonaws.com/ai2-vision-turk-data/textbook-annotation-test/build/index.html?url=Daily_Science_Grade_4_Evan_Moor_174.jpeg&id=174',\n",
       " 'https://s3-us-west-2.amazonaws.com/ai2-vision-turk-data/textbook-annotation-test/build/index.html?url=Daily_Science_Grade_4_Evan_Moor_175.jpeg&id=175',\n",
       " 'https://s3-us-west-2.amazonaws.com/ai2-vision-turk-data/textbook-annotation-test/build/index.html?url=Daily_Science_Grade_4_Evan_Moor_176.jpeg&id=176',\n",
       " 'https://s3-us-west-2.amazonaws.com/ai2-vision-turk-data/textbook-annotation-test/build/index.html?url=Daily_Science_Grade_4_Evan_Moor_177.jpeg&id=177',\n",
       " 'https://s3-us-west-2.amazonaws.com/ai2-vision-turk-data/textbook-annotation-test/build/index.html?url=Daily_Science_Grade_4_Evan_Moor_178.jpeg&id=178',\n",
       " 'https://s3-us-west-2.amazonaws.com/ai2-vision-turk-data/textbook-annotation-test/build/index.html?url=Daily_Science_Grade_4_Evan_Moor_179.jpeg&id=179',\n",
       " 'https://s3-us-west-2.amazonaws.com/ai2-vision-turk-data/textbook-annotation-test/build/index.html?url=Daily_Science_Grade_4_Evan_Moor_180.jpeg&id=180',\n",
       " 'https://s3-us-west-2.amazonaws.com/ai2-vision-turk-data/textbook-annotation-test/build/index.html?url=Daily_Science_Grade_4_Evan_Moor_181.jpeg&id=181',\n",
       " 'https://s3-us-west-2.amazonaws.com/ai2-vision-turk-data/textbook-annotation-test/build/index.html?url=Daily_Science_Grade_4_Evan_Moor_182.jpeg&id=182',\n",
       " 'https://s3-us-west-2.amazonaws.com/ai2-vision-turk-data/textbook-annotation-test/build/index.html?url=Daily_Science_Grade_4_Evan_Moor_183.jpeg&id=183',\n",
       " 'https://s3-us-west-2.amazonaws.com/ai2-vision-turk-data/textbook-annotation-test/build/index.html?url=Daily_Science_Grade_4_Evan_Moor_184.jpeg&id=184',\n",
       " 'https://s3-us-west-2.amazonaws.com/ai2-vision-turk-data/textbook-annotation-test/build/index.html?url=Daily_Science_Grade_4_Evan_Moor_185.jpeg&id=185',\n",
       " 'https://s3-us-west-2.amazonaws.com/ai2-vision-turk-data/textbook-annotation-test/build/index.html?url=Daily_Science_Grade_4_Evan_Moor_186.jpeg&id=186',\n",
       " 'https://s3-us-west-2.amazonaws.com/ai2-vision-turk-data/textbook-annotation-test/build/index.html?url=Daily_Science_Grade_4_Evan_Moor_187.jpeg&id=187',\n",
       " 'https://s3-us-west-2.amazonaws.com/ai2-vision-turk-data/textbook-annotation-test/build/index.html?url=Daily_Science_Grade_4_Evan_Moor_188.jpeg&id=188',\n",
       " 'https://s3-us-west-2.amazonaws.com/ai2-vision-turk-data/textbook-annotation-test/build/index.html?url=Daily_Science_Grade_4_Evan_Moor_189.jpeg&id=189',\n",
       " 'https://s3-us-west-2.amazonaws.com/ai2-vision-turk-data/textbook-annotation-test/build/index.html?url=Daily_Science_Grade_4_Evan_Moor_190.jpeg&id=190',\n",
       " 'https://s3-us-west-2.amazonaws.com/ai2-vision-turk-data/textbook-annotation-test/build/index.html?url=Daily_Science_Grade_4_Evan_Moor_191.jpeg&id=191',\n",
       " 'https://s3-us-west-2.amazonaws.com/ai2-vision-turk-data/textbook-annotation-test/build/index.html?url=Daily_Science_Grade_4_Evan_Moor_192.jpeg&id=192',\n",
       " 'https://s3-us-west-2.amazonaws.com/ai2-vision-turk-data/textbook-annotation-test/build/index.html?url=Daily_Science_Grade_4_Evan_Moor_193.jpeg&id=193',\n",
       " 'https://s3-us-west-2.amazonaws.com/ai2-vision-turk-data/textbook-annotation-test/build/index.html?url=Daily_Science_Grade_5_Evan_Moor_140.jpeg&id=140',\n",
       " 'https://s3-us-west-2.amazonaws.com/ai2-vision-turk-data/textbook-annotation-test/build/index.html?url=Daily_Science_Grade_5_Evan_Moor_141.jpeg&id=141',\n",
       " 'https://s3-us-west-2.amazonaws.com/ai2-vision-turk-data/textbook-annotation-test/build/index.html?url=Daily_Science_Grade_5_Evan_Moor_142.jpeg&id=142',\n",
       " 'https://s3-us-west-2.amazonaws.com/ai2-vision-turk-data/textbook-annotation-test/build/index.html?url=Daily_Science_Grade_5_Evan_Moor_143.jpeg&id=143',\n",
       " 'https://s3-us-west-2.amazonaws.com/ai2-vision-turk-data/textbook-annotation-test/build/index.html?url=Daily_Science_Grade_5_Evan_Moor_144.jpeg&id=144',\n",
       " 'https://s3-us-west-2.amazonaws.com/ai2-vision-turk-data/textbook-annotation-test/build/index.html?url=Daily_Science_Grade_5_Evan_Moor_145.jpeg&id=145',\n",
       " 'https://s3-us-west-2.amazonaws.com/ai2-vision-turk-data/textbook-annotation-test/build/index.html?url=Daily_Science_Grade_5_Evan_Moor_146.jpeg&id=146',\n",
       " 'https://s3-us-west-2.amazonaws.com/ai2-vision-turk-data/textbook-annotation-test/build/index.html?url=Daily_Science_Grade_5_Evan_Moor_147.jpeg&id=147',\n",
       " 'https://s3-us-west-2.amazonaws.com/ai2-vision-turk-data/textbook-annotation-test/build/index.html?url=Daily_Science_Grade_5_Evan_Moor_148.jpeg&id=148',\n",
       " 'https://s3-us-west-2.amazonaws.com/ai2-vision-turk-data/textbook-annotation-test/build/index.html?url=Daily_Science_Grade_5_Evan_Moor_149.jpeg&id=149',\n",
       " 'https://s3-us-west-2.amazonaws.com/ai2-vision-turk-data/textbook-annotation-test/build/index.html?url=Daily_Science_Grade_5_Evan_Moor_150.jpeg&id=150',\n",
       " 'https://s3-us-west-2.amazonaws.com/ai2-vision-turk-data/textbook-annotation-test/build/index.html?url=Daily_Science_Grade_5_Evan_Moor_151.jpeg&id=151',\n",
       " 'https://s3-us-west-2.amazonaws.com/ai2-vision-turk-data/textbook-annotation-test/build/index.html?url=Daily_Science_Grade_5_Evan_Moor_152.jpeg&id=152',\n",
       " 'https://s3-us-west-2.amazonaws.com/ai2-vision-turk-data/textbook-annotation-test/build/index.html?url=Daily_Science_Grade_5_Evan_Moor_153.jpeg&id=153',\n",
       " 'https://s3-us-west-2.amazonaws.com/ai2-vision-turk-data/textbook-annotation-test/build/index.html?url=Daily_Science_Grade_5_Evan_Moor_154.jpeg&id=154',\n",
       " 'https://s3-us-west-2.amazonaws.com/ai2-vision-turk-data/textbook-annotation-test/build/index.html?url=Daily_Science_Grade_5_Evan_Moor_155.jpeg&id=155',\n",
       " 'https://s3-us-west-2.amazonaws.com/ai2-vision-turk-data/textbook-annotation-test/build/index.html?url=Daily_Science_Grade_5_Evan_Moor_156.jpeg&id=156',\n",
       " 'https://s3-us-west-2.amazonaws.com/ai2-vision-turk-data/textbook-annotation-test/build/index.html?url=Daily_Science_Grade_5_Evan_Moor_157.jpeg&id=157',\n",
       " 'https://s3-us-west-2.amazonaws.com/ai2-vision-turk-data/textbook-annotation-test/build/index.html?url=Daily_Science_Grade_5_Evan_Moor_158.jpeg&id=158',\n",
       " 'https://s3-us-west-2.amazonaws.com/ai2-vision-turk-data/textbook-annotation-test/build/index.html?url=Daily_Science_Grade_5_Evan_Moor_159.jpeg&id=159',\n",
       " 'https://s3-us-west-2.amazonaws.com/ai2-vision-turk-data/textbook-annotation-test/build/index.html?url=Daily_Science_Grade_5_Evan_Moor_160.jpeg&id=160',\n",
       " 'https://s3-us-west-2.amazonaws.com/ai2-vision-turk-data/textbook-annotation-test/build/index.html?url=Daily_Science_Grade_5_Evan_Moor_161.jpeg&id=161',\n",
       " 'https://s3-us-west-2.amazonaws.com/ai2-vision-turk-data/textbook-annotation-test/build/index.html?url=Daily_Science_Grade_5_Evan_Moor_162.jpeg&id=162',\n",
       " 'https://s3-us-west-2.amazonaws.com/ai2-vision-turk-data/textbook-annotation-test/build/index.html?url=Daily_Science_Grade_5_Evan_Moor_163.jpeg&id=163',\n",
       " 'https://s3-us-west-2.amazonaws.com/ai2-vision-turk-data/textbook-annotation-test/build/index.html?url=Daily_Science_Grade_5_Evan_Moor_164.jpeg&id=164',\n",
       " 'https://s3-us-west-2.amazonaws.com/ai2-vision-turk-data/textbook-annotation-test/build/index.html?url=Daily_Science_Grade_5_Evan_Moor_165.jpeg&id=165',\n",
       " 'https://s3-us-west-2.amazonaws.com/ai2-vision-turk-data/textbook-annotation-test/build/index.html?url=Daily_Science_Grade_5_Evan_Moor_166.jpeg&id=166',\n",
       " 'https://s3-us-west-2.amazonaws.com/ai2-vision-turk-data/textbook-annotation-test/build/index.html?url=Daily_Science_Grade_5_Evan_Moor_167.jpeg&id=167',\n",
       " 'https://s3-us-west-2.amazonaws.com/ai2-vision-turk-data/textbook-annotation-test/build/index.html?url=Daily_Science_Grade_5_Evan_Moor_168.jpeg&id=168',\n",
       " 'https://s3-us-west-2.amazonaws.com/ai2-vision-turk-data/textbook-annotation-test/build/index.html?url=Daily_Science_Grade_5_Evan_Moor_169.jpeg&id=169',\n",
       " 'https://s3-us-west-2.amazonaws.com/ai2-vision-turk-data/textbook-annotation-test/build/index.html?url=Daily_Science_Grade_5_Evan_Moor_170.jpeg&id=170',\n",
       " 'https://s3-us-west-2.amazonaws.com/ai2-vision-turk-data/textbook-annotation-test/build/index.html?url=Daily_Science_Grade_5_Evan_Moor_171.jpeg&id=171',\n",
       " 'https://s3-us-west-2.amazonaws.com/ai2-vision-turk-data/textbook-annotation-test/build/index.html?url=Daily_Science_Grade_5_Evan_Moor_172.jpeg&id=172',\n",
       " 'https://s3-us-west-2.amazonaws.com/ai2-vision-turk-data/textbook-annotation-test/build/index.html?url=Daily_Science_Grade_5_Evan_Moor_173.jpeg&id=173',\n",
       " 'https://s3-us-west-2.amazonaws.com/ai2-vision-turk-data/textbook-annotation-test/build/index.html?url=Daily_Science_Grade_5_Evan_Moor_174.jpeg&id=174',\n",
       " 'https://s3-us-west-2.amazonaws.com/ai2-vision-turk-data/textbook-annotation-test/build/index.html?url=Daily_Science_Grade_5_Evan_Moor_175.jpeg&id=175',\n",
       " 'https://s3-us-west-2.amazonaws.com/ai2-vision-turk-data/textbook-annotation-test/build/index.html?url=Daily_Science_Grade_5_Evan_Moor_176.jpeg&id=176',\n",
       " 'https://s3-us-west-2.amazonaws.com/ai2-vision-turk-data/textbook-annotation-test/build/index.html?url=Daily_Science_Grade_5_Evan_Moor_177.jpeg&id=177',\n",
       " 'https://s3-us-west-2.amazonaws.com/ai2-vision-turk-data/textbook-annotation-test/build/index.html?url=Daily_Science_Grade_5_Evan_Moor_178.jpeg&id=178',\n",
       " 'https://s3-us-west-2.amazonaws.com/ai2-vision-turk-data/textbook-annotation-test/build/index.html?url=Daily_Science_Grade_5_Evan_Moor_179.jpeg&id=179',\n",
       " 'https://s3-us-west-2.amazonaws.com/ai2-vision-turk-data/textbook-annotation-test/build/index.html?url=Daily_Science_Grade_5_Evan_Moor_180.jpeg&id=180',\n",
       " 'https://s3-us-west-2.amazonaws.com/ai2-vision-turk-data/textbook-annotation-test/build/index.html?url=Daily_Science_Grade_5_Evan_Moor_181.jpeg&id=181',\n",
       " 'https://s3-us-west-2.amazonaws.com/ai2-vision-turk-data/textbook-annotation-test/build/index.html?url=Daily_Science_Grade_5_Evan_Moor_182.jpeg&id=182',\n",
       " 'https://s3-us-west-2.amazonaws.com/ai2-vision-turk-data/textbook-annotation-test/build/index.html?url=Daily_Science_Grade_5_Evan_Moor_183.jpeg&id=183',\n",
       " 'https://s3-us-west-2.amazonaws.com/ai2-vision-turk-data/textbook-annotation-test/build/index.html?url=Daily_Science_Grade_5_Evan_Moor_184.jpeg&id=184',\n",
       " 'https://s3-us-west-2.amazonaws.com/ai2-vision-turk-data/textbook-annotation-test/build/index.html?url=Daily_Science_Grade_5_Evan_Moor_185.jpeg&id=185',\n",
       " 'https://s3-us-west-2.amazonaws.com/ai2-vision-turk-data/textbook-annotation-test/build/index.html?url=Daily_Science_Grade_5_Evan_Moor_186.jpeg&id=186',\n",
       " 'https://s3-us-west-2.amazonaws.com/ai2-vision-turk-data/textbook-annotation-test/build/index.html?url=Daily_Science_Grade_5_Evan_Moor_187.jpeg&id=187',\n",
       " 'https://s3-us-west-2.amazonaws.com/ai2-vision-turk-data/textbook-annotation-test/build/index.html?url=Daily_Science_Grade_5_Evan_Moor_188.jpeg&id=188',\n",
       " 'https://s3-us-west-2.amazonaws.com/ai2-vision-turk-data/textbook-annotation-test/build/index.html?url=Daily_Science_Grade_5_Evan_Moor_189.jpeg&id=189',\n",
       " 'https://s3-us-west-2.amazonaws.com/ai2-vision-turk-data/textbook-annotation-test/build/index.html?url=Daily_Science_Grade_5_Evan_Moor_190.jpeg&id=190',\n",
       " 'https://s3-us-west-2.amazonaws.com/ai2-vision-turk-data/textbook-annotation-test/build/index.html?url=Daily_Science_Grade_5_Evan_Moor_191.jpeg&id=191',\n",
       " 'https://s3-us-west-2.amazonaws.com/ai2-vision-turk-data/textbook-annotation-test/build/index.html?url=Daily_Science_Grade_5_Evan_Moor_192.jpeg&id=192',\n",
       " 'https://s3-us-west-2.amazonaws.com/ai2-vision-turk-data/textbook-annotation-test/build/index.html?url=Daily_Science_Grade_5_Evan_Moor_193.jpeg&id=193',\n",
       " 'https://s3-us-west-2.amazonaws.com/ai2-vision-turk-data/textbook-annotation-test/build/index.html?url=Daily_Science_Grade_5_Evan_Moor_194.jpeg&id=194',\n",
       " 'https://s3-us-west-2.amazonaws.com/ai2-vision-turk-data/textbook-annotation-test/build/index.html?url=Daily_Science_Grade_6_(Daily_Practice_Books)_Evan_Moor_8.jpeg&id=8',\n",
       " 'https://s3-us-west-2.amazonaws.com/ai2-vision-turk-data/textbook-annotation-test/build/index.html?url=Daily_Science_Grade_6_(Daily_Practice_Books)_Evan_Moor_9.jpeg&id=9',\n",
       " 'https://s3-us-west-2.amazonaws.com/ai2-vision-turk-data/textbook-annotation-test/build/index.html?url=Daily_Science_Grade_6_(Daily_Practice_Books)_Evan_Moor_10.jpeg&id=10',\n",
       " 'https://s3-us-west-2.amazonaws.com/ai2-vision-turk-data/textbook-annotation-test/build/index.html?url=Daily_Science_Grade_6_(Daily_Practice_Books)_Evan_Moor_11.jpeg&id=11']"
      ]
     },
     "execution_count": 98,
     "metadata": {},
     "output_type": "execute_result"
    }
   ],
   "source": [
    "daily_sci_urls[500:600]"
   ]
  },
  {
   "cell_type": "markdown",
   "metadata": {},
   "source": [
    "## submitting HITs in groups"
   ]
  },
  {
   "cell_type": "code",
   "execution_count": 90,
   "metadata": {
    "collapsed": false
   },
   "outputs": [],
   "source": [
    "def creat_single_hit(url):\n",
    "    \"\"\"\n",
    "    creates a single HIT from a provided url\n",
    "    \"\"\"\n",
    "    title = \"Annotate Science Textbook\"\n",
    "    description = \"Choose which category a text entry best belongs to\"\n",
    "    keywords = ['image', 'science']\n",
    "    frame_height = 1000 # the height of the iframe holding the external hit\n",
    "    amount = .05\n",
    "#     duration = 3600\n",
    "\n",
    "    questionform = tq.ExternalQuestion(url, frame_height)\n",
    "\n",
    "    create_hit_result = mturk.create_hit(\n",
    "        title = title,\n",
    "        description = description,\n",
    "        keywords = keywords,\n",
    "        question = questionform,\n",
    "        reward = boto.mturk.price.Price(amount=amount),\n",
    "#         max_assignments=3,\n",
    "        max_assignments=1,\n",
    "#         duration = duration\n",
    "    )\n",
    "def create_hits_from_pages(page_links):\n",
    "    for url in page_links:\n",
    "        creat_single_hit(url)"
   ]
  },
  {
   "cell_type": "code",
   "execution_count": 64,
   "metadata": {
    "collapsed": true
   },
   "outputs": [],
   "source": [
    "sandbox_host = 'mechanicalturk.sandbox.amazonaws.com' \n",
    "mturk = tc.MTurkConnection(\n",
    "    aws_access_key_id = mturk_ai2.access_key,\n",
    "    aws_secret_access_key = mturk_ai2.access_secret_key,\n",
    "    host = sandbox_host,\n",
    "    debug = 1 # debug = 2 prints out all requests.\n",
    ")"
   ]
  },
  {
   "cell_type": "code",
   "execution_count": 68,
   "metadata": {
    "collapsed": false
   },
   "outputs": [],
   "source": [
    "creat_single_hit(daily_sci_urls[85])"
   ]
  },
  {
   "cell_type": "code",
   "execution_count": 123,
   "metadata": {
    "collapsed": true
   },
   "outputs": [],
   "source": [
    "create_hits_from_pages(daily_sci_urls[502:504])"
   ]
  },
  {
   "cell_type": "markdown",
   "metadata": {},
   "source": [
    "# Reviewing HITs"
   ]
  },
  {
   "cell_type": "code",
   "execution_count": 102,
   "metadata": {
    "collapsed": false
   },
   "outputs": [],
   "source": [
    "r_hits = mturk.get_reviewable_hits()"
   ]
  },
  {
   "cell_type": "code",
   "execution_count": 121,
   "metadata": {
    "collapsed": false
   },
   "outputs": [
    {
     "name": "stdout",
     "output_type": "stream",
     "text": [
      "[u'Daily_Science_Grade_4_Evan_Moor_153.jpeg']\n",
      "[u'Daily_Science_Grade_4_Evan_Moor_154.jpeg']\n"
     ]
    }
   ],
   "source": [
    "for hit in r_hits:\n",
    "    assignments = mturk.get_assignments(hit.HITId)\n",
    "    for assigment in assignments:\n",
    "        for answers in assigment.answers:\n",
    "            print answers[0].fields\n",
    "            "
   ]
  },
  {
   "cell_type": "code",
   "execution_count": 63,
   "metadata": {
    "collapsed": true
   },
   "outputs": [],
   "source": [
    "# batch_results_df = pd.read_csv(data_dir+results_csv)\n",
    "# print(batch_results_df.shape)\n",
    "# batch_results_df.head(2)"
   ]
  },
  {
   "cell_type": "markdown",
   "metadata": {},
   "source": [
    "# Ignore"
   ]
  },
  {
   "cell_type": "code",
   "execution_count": 64,
   "metadata": {
    "collapsed": true
   },
   "outputs": [],
   "source": [
    "# grouped_results_df = batch_results_df.groupby('Input.image_url')\n",
    "# for image_response in grouped_results_df:\n",
    "#     print(image_response[1]['Answer.NumberOfItems'])"
   ]
  },
  {
   "cell_type": "code",
   "execution_count": 79,
   "metadata": {
    "collapsed": false
   },
   "outputs": [],
   "source": [
    "# hit_type_1 = (\n",
    "#     \"Annotate Science Textbook\",\n",
    "#     \"Choose which category a text entry best belongs to\",\n",
    "#     boto.mturk.price.Price(amount=0.05),\n",
    "#     3600,\n",
    "#     ['image', 'science']\n",
    "# )\n",
    "\n",
    "# my_hits = list(mturk.get_all_hits())\n",
    "\n",
    "# for hit in my_hits:\n",
    "#     mturk.disable_hit(hit.HITId)\n",
    "\n",
    "# my_hit = list(mturk.get_all_hits())[0]\n",
    "\n",
    "# hitidr = mturk.register_hit_type(*hit_type_1)"
   ]
  },
  {
   "cell_type": "code",
   "execution_count": 99,
   "metadata": {
    "collapsed": true
   },
   "outputs": [],
   "source": [
    "for hit in my_hits:\n",
    "    mturk.disable_hit(hit.HITId)"
   ]
  },
  {
   "cell_type": "markdown",
   "metadata": {
    "collapsed": true
   },
   "source": [
    "Choosing the right price for your HITs is crucial, and it can be tricky to figure out when you’re first starting. It’s here that those using Mechanical Turk as a digital sweatshop are separated from those using Mechanical Turk as fair and equitable way to employ of other people. Many turkers consider it unethical to pay under $0.10 per minute. This amount works out to a $6.00 hourly wage or the minimum wage in the US (though many states pay higher). Turkers specifically pay attention to price when determining whether or not a HIT is worth their time. As one turker said in a survey “…I figure a good task is one I can make 10 to 12 cents a minute on.” If you’re looking to get your HITs done quickly and have high-quality turkers work on them (and trust me, you are!) then you should make sure you pay your turkers fairly. If you want a quick rule of thumb it’s:\n",
    "\n",
    "Fair Pay = $0.10 x (Average Number Of Minutes Per Assignment)"
   ]
  },
  {
   "cell_type": "code",
   "execution_count": null,
   "metadata": {
    "collapsed": true
   },
   "outputs": [],
   "source": []
  }
 ],
 "metadata": {
  "kernelspec": {
   "display_name": "Python 2",
   "language": "python",
   "name": "python2"
  },
  "language_info": {
   "codemirror_mode": {
    "name": "ipython",
    "version": 2
   },
   "file_extension": ".py",
   "mimetype": "text/x-python",
   "name": "python",
   "nbconvert_exporter": "python",
   "pygments_lexer": "ipython2",
   "version": "2.7.10"
  }
 },
 "nbformat": 4,
 "nbformat_minor": 0
}
