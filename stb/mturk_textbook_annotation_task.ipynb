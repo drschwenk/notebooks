{
 "cells": [
  {
   "cell_type": "markdown",
   "metadata": {},
   "source": [
    "# Table of Contents\n",
    "* [Submitting HITs](#Submitting-HITs)\n",
    "\t* [Building URLs for images on s3](#Building-URLs-for-images-on-s3)\n",
    "\t* [submitting HITs in groups](#submitting-HITs-in-groups)\n",
    "\t\t* [creates HITs, careful with this one](#creates-HITs,-careful-with-this-one)\n",
    "* [Reviewing HITs](#Reviewing-HITs)\n",
    "\t* [Merging latest round of HITs into combined dataset](#Merging-latest-round-of-HITs-into-combined-dataset)\n",
    "\t\t* [Loading full dataset if not in memory](#Loading-full-dataset-if-not-in-memory)\n",
    "\t* [Worker Analysis](#Worker-Analysis)\n",
    "\t\t* [Basic worker stats](#Basic-worker-stats)\n",
    "\t\t\t* [HIT duration for pricing](#HIT-duration-for-pricing)\n",
    "\t\t\t* [Identifying high and low consensus workers](#Identifying-high-and-low-consensus-workers)\n",
    "\t* [Messaging workers](#Messaging-workers)\n",
    "* [HIT end-of-life](#HIT-end-of-life)\n",
    "\t* [Pickle latest results](#Pickle-latest-results)\n",
    "\t* [Pickle combined dataset](#Pickle-combined-dataset)\n",
    "\t* [Careful with these](#Careful-with-these)\n",
    "* [End](#End)\n"
   ]
  },
  {
   "cell_type": "code",
   "execution_count": 680,
   "metadata": {
    "collapsed": true
   },
   "outputs": [],
   "source": [
    "%%capture\n",
    "from __future__ import division\n",
    "import numpy as np\n",
    "import pandas as pd\n",
    "import scipy.stats as st\n",
    "import itertools\n",
    "import math\n",
    "from collections import Counter, defaultdict\n",
    "%load_ext autoreload\n",
    "%autoreload 2\n",
    "\n",
    "%%capture\n",
    "import matplotlib as mpl\n",
    "mpl.use(\"Agg\")\n",
    "import matplotlib.pylab as plt\n",
    "#%matplotlib notebook\n",
    "%matplotlib inline\n",
    "%load_ext base16_mplrc\n",
    "%base16_mplrc light default\n",
    "plt.rcParams['figure.figsize'] = (16.0, 10.0)\n",
    "\n",
    "import re\n",
    "from datetime import datetime\n",
    "import dateutil.parser as dt_parse\n",
    "import pickle\n",
    "import boto\n",
    "import json\n",
    "import os\n",
    "\n",
    "from copy import deepcopy\n",
    "import boto.mturk.connection as tc\n",
    "import boto.mturk.question as tq\n",
    "from boto.mturk.qualification import PercentAssignmentsApprovedRequirement, Qualifications, Requirement\n",
    "\n",
    "from keysTkingdom import mturk_ai2\n",
    "from keysTkingdom import aws_tokes\n",
    "\n",
    "import pdfextraction.amt_boto_modules as amt_util"
   ]
  },
  {
   "cell_type": "markdown",
   "metadata": {},
   "source": [
    "# Submitting HITs"
   ]
  },
  {
   "cell_type": "markdown",
   "metadata": {},
   "source": [
    "## Building URLs for images on s3"
   ]
  },
  {
   "cell_type": "code",
   "execution_count": 681,
   "metadata": {
    "collapsed": false
   },
   "outputs": [],
   "source": [
    "book_groups,ranges = amt_util.load_book_info()\n",
    "\n",
    "daily_sci_urls = amt_util.make_book_group_urls(book_groups, 'daily_sci', ranges)\n",
    "spectrum_sci_urls = amt_util.make_book_group_urls(book_groups, 'spectrum_sci', ranges)"
   ]
  },
  {
   "cell_type": "markdown",
   "metadata": {},
   "source": [
    "## submitting HITs in groups"
   ]
  },
  {
   "cell_type": "code",
   "execution_count": 723,
   "metadata": {
    "collapsed": false
   },
   "outputs": [
    {
     "name": "stdout",
     "output_type": "stream",
     "text": [
      "$355.85\n"
     ]
    }
   ],
   "source": [
    "## Switch between sandbox and the real world here ##\n",
    "## Don't forget to change submission POST request in the client ##\n",
    "\n",
    "sandbox_host = 'mechanicalturk.sandbox.amazonaws.com' \n",
    "real_world_host = 'mechanicalturk.amazonaws.com'\n",
    "mturk = tc.MTurkConnection(\n",
    "    aws_access_key_id = aws_tokes.access_key,\n",
    "    aws_secret_access_key = aws_tokes.access_secret_key,\n",
    "    host = real_world_host,\n",
    "    debug = 1 # debug = 2 prints out all requests.\n",
    ")\n",
    "current_account_balance = mturk.get_account_balance()[0]\n",
    "print current_account_balance # a reminder of sandbox"
   ]
  },
  {
   "cell_type": "code",
   "execution_count": 812,
   "metadata": {
    "collapsed": false
   },
   "outputs": [],
   "source": [
    "static_params = {\n",
    "    'title': \"Annotate Science Textbook\",\n",
    "    'description': \"Choose which category text from a grade-school science book best belongs to\",\n",
    "    'keywords': ['image', 'science', 'text', 'labeling' ],\n",
    "    'frame_height': 800,\n",
    "    'amount': 0.06,\n",
    "    'duration': 3600 * 12,\n",
    "    'lifetime': 3600 * 24 * 3,\n",
    "    'max_assignments': 3\n",
    "}"
   ]
  },
  {
   "cell_type": "markdown",
   "metadata": {},
   "source": [
    "### creates HITs, careful with this one"
   ]
  },
  {
   "cell_type": "code",
   "execution_count": 818,
   "metadata": {
    "collapsed": false
   },
   "outputs": [
    {
     "name": "stdout",
     "output_type": "stream",
     "text": [
      "expect this batch of HITs to cost: $165.96\n"
     ]
    }
   ],
   "source": [
    "pages_to_use = spectrum_sci_urls\n",
    "\n",
    "expected_cost = len(pages_to_use) *  static_params['amount'] * static_params['max_assignments']\n",
    "if float(current_account_balance.amount) < expected_cost:\n",
    "    print('warning- funds are too low')\n",
    "print('expect this batch of HITs to cost: $' + str(expected_cost))"
   ]
  },
  {
   "cell_type": "markdown",
   "metadata": {},
   "source": [
    "uncomment cell below only when ready to submit"
   ]
  },
  {
   "cell_type": "code",
   "execution_count": 820,
   "metadata": {
    "collapsed": false
   },
   "outputs": [],
   "source": [
    "# amt_util.create_hits_from_pages(mturk, pages_to_use, static_params)"
   ]
  },
  {
   "cell_type": "markdown",
   "metadata": {},
   "source": [
    "# Reviewing HITs"
   ]
  },
  {
   "cell_type": "code",
   "execution_count": 822,
   "metadata": {
    "collapsed": true
   },
   "outputs": [],
   "source": [
    "r_hits_current_batch = amt_util.get_completed_hits(mturk)\n",
    "assignment_results_current_batch = amt_util.get_assignments(mturk, r_hits_current_batch)"
   ]
  },
  {
   "cell_type": "code",
   "execution_count": 835,
   "metadata": {
    "collapsed": true
   },
   "outputs": [],
   "source": [
    "raw_hit_results_current_batch = amt_util.process_raw_hits(assignment_results_current_batch)"
   ]
  },
  {
   "cell_type": "code",
   "execution_count": 864,
   "metadata": {
    "collapsed": false
   },
   "outputs": [],
   "source": [
    "results_df_current_batch = amt_util.make_results_df(raw_hit_results_current_batch)\n",
    "consensus_results_df_current_batch = amt_util.make_consensus_df(results_df_current_batch, 'No Consensus')\n",
    "# results_df_current_batch.head(1)\n",
    "# consensus_results_df_current_batch.head(1)"
   ]
  },
  {
   "cell_type": "code",
   "execution_count": 838,
   "metadata": {
    "collapsed": false
   },
   "outputs": [],
   "source": [
    "%%capture\n",
    "no_consensus_hits = consensus_results_df_current_batch[consensus_results_df_current_batch['category'] == 'No Consensus']"
   ]
  },
  {
   "cell_type": "code",
   "execution_count": 839,
   "metadata": {
    "collapsed": false
   },
   "outputs": [
    {
     "name": "stdout",
     "output_type": "stream",
     "text": [
      "text boxes without consensus are 2.87% of the total\n"
     ]
    }
   ],
   "source": [
    "flaw_rate = len(no_consensus_hits) / len(consensus_results_df_current_batch)\n",
    "print 'text boxes without consensus are ' + '{0:0.2f}% '.format(flaw_rate * 100) + 'of the total'  "
   ]
  },
  {
   "cell_type": "code",
   "execution_count": 849,
   "metadata": {
    "collapsed": true
   },
   "outputs": [],
   "source": [
    "amt_util.write_results_df(consensus_results_df_current_batch)"
   ]
  },
  {
   "cell_type": "code",
   "execution_count": null,
   "metadata": {
    "collapsed": true
   },
   "outputs": [],
   "source": [
    "# all pages from the latest batch\n",
    "pages_to_review =pd.unique(consensus_results_df_current_batch['page'])"
   ]
  },
  {
   "cell_type": "code",
   "execution_count": 853,
   "metadata": {
    "collapsed": true
   },
   "outputs": [],
   "source": [
    "# all pages from the latest batch with a no-consensus box\n",
    "pages_to_review =pd.unique(no_consensus_hits['page'])"
   ]
  },
  {
   "cell_type": "code",
   "execution_count": 923,
   "metadata": {
    "collapsed": false
   },
   "outputs": [],
   "source": [
    "%%capture \n",
    "# all pages from the latest batch with a no-consensus box\n",
    "suspect_subset = results_df_current_batch[results_df_current_batch['worker_id'].isin(suspect_workers[:5])]\n",
    "amt_util.write_results_df(suspect_subset)\n",
    "pages_to_review = pd.unique(suspect_subset['page'])"
   ]
  },
  {
   "cell_type": "code",
   "execution_count": 929,
   "metadata": {
    "collapsed": false
   },
   "outputs": [
    {
     "name": "stdout",
     "output_type": "stream",
     "text": [
      "sampling 14 pages out of 14\n"
     ]
    }
   ],
   "source": [
    "sampling_rate = 1\n",
    "sample_size = int(len(pages_to_review) * sampling_rate)\n",
    "sampled_pages_to_review = list(np.random.choice(pages_to_review, size= sample_size, replace=False))\n",
    "print 'sampling ' + str(sample_size) + ' pages out of ' + str(len(pages_to_review))\n",
    "to_review = ['start_seq'] + sampled_pages_to_review"
   ]
  },
  {
   "cell_type": "code",
   "execution_count": 931,
   "metadata": {
    "collapsed": false
   },
   "outputs": [
    {
     "name": "stdout",
     "output_type": "stream",
     "text": [
      "posting to review tool, navigate to http://localhost:8080/ and refresh to see the sampled consensus results\n"
     ]
    }
   ],
   "source": [
    "amt_util.review_results(to_review)\n",
    "print 'posting to review tool, navigate to http://localhost:8080/ and refresh to see the sampled consensus results'"
   ]
  },
  {
   "cell_type": "markdown",
   "metadata": {},
   "source": [
    "## Merging latest round of HITs into combined dataset  "
   ]
  },
  {
   "cell_type": "markdown",
   "metadata": {},
   "source": [
    "### Load full dataset if not in memory\n"
   ]
  },
  {
   "cell_type": "code",
   "execution_count": 932,
   "metadata": {
    "collapsed": true
   },
   "outputs": [],
   "source": [
    "data_pickled_dir = './store_hit_results_metadata/group_latest_combined/' "
   ]
  },
  {
   "cell_type": "code",
   "execution_count": 959,
   "metadata": {
    "collapsed": false
   },
   "outputs": [],
   "source": [
    "combined_results_df = pd.read_pickle(data_pickled_dir + 'complete_df.pkl')\n",
    "combined_consensus_df = pd.read_pickle(data_pickled_dir + 'consensus_df.pkl')\n",
    "consensus_df_w_workers = pd.read_pickle(data_pickled_dir + 'consensus_df_w_workers.pkl') "
   ]
  },
  {
   "cell_type": "markdown",
   "metadata": {},
   "source": [
    "### updating full dataset"
   ]
  },
  {
   "cell_type": "code",
   "execution_count": 960,
   "metadata": {
    "collapsed": true
   },
   "outputs": [],
   "source": [
    "combined_results_df = combined_results_df.append(results_df_current_batch)\n",
    "combined_consensus_df = combined_consensus_df.append(consensus_results_df_current_batch)\n",
    "combined_consensus_df_workers = combined_consensus_df.append(consensus_with_workerid_df_this_batch)"
   ]
  },
  {
   "cell_type": "code",
   "execution_count": 961,
   "metadata": {
    "collapsed": true
   },
   "outputs": [],
   "source": [
    "%%capture\n",
    "no_consensus_hits = combined_consensus_df[combined_consensus_df['category'] == 'No Consensus']"
   ]
  },
  {
   "cell_type": "code",
   "execution_count": 964,
   "metadata": {
    "collapsed": false
   },
   "outputs": [
    {
     "name": "stdout",
     "output_type": "stream",
     "text": [
      "text boxes without consensus are 2.94% of the total\n"
     ]
    }
   ],
   "source": [
    "flaw_rate = len(no_consensus_hits) / len(combined_consensus_df)\n",
    "print 'text boxes without consensus are ' + '{0:0.2f}% '.format(flaw_rate * 100) + 'of the total'  "
   ]
  },
  {
   "cell_type": "markdown",
   "metadata": {},
   "source": [
    "## Worker Analysis"
   ]
  },
  {
   "cell_type": "markdown",
   "metadata": {},
   "source": [
    "### Basic worker stats"
   ]
  },
  {
   "cell_type": "code",
   "execution_count": 965,
   "metadata": {
    "collapsed": false,
    "scrolled": true
   },
   "outputs": [
    {
     "name": "stdout",
     "output_type": "stream",
     "text": [
      "number of unique workers:\n"
     ]
    },
    {
     "data": {
      "text/plain": [
       "184"
      ]
     },
     "execution_count": 965,
     "metadata": {},
     "output_type": "execute_result"
    }
   ],
   "source": [
    "print 'number of unique workers:'\n",
    "pd.unique(combined_results_df['worker_id']).shape[0]"
   ]
  },
  {
   "cell_type": "code",
   "execution_count": 565,
   "metadata": {
    "collapsed": true
   },
   "outputs": [
    {
     "data": {
      "image/png": "[encoded data removed]",
      "text/plain": [
       "<matplotlib.figure.Figure at 0x11086e8d0>"
      ]
     },
     "metadata": {},
     "output_type": "display_data"
    }
   ],
   "source": [
    "_ = combined_results_df['worker_id'].value_counts().hist(bins= 30)"
   ]
  },
  {
   "cell_type": "markdown",
   "metadata": {},
   "source": [
    "#### HIT duration for pricing"
   ]
  },
  {
   "cell_type": "code",
   "execution_count": 870,
   "metadata": {
    "collapsed": false
   },
   "outputs": [],
   "source": [
    "task_duration_seconds = []\n",
    "for hit_id, assignments in assignment_results_current_batch.items():\n",
    "    for assignment in assignments:\n",
    "        hit_duration = dt_parse.parse(assignment.SubmitTime) - dt_parse.parse(assignment.AcceptTime)\n",
    "        task_duration_seconds.append(hit_duration.seconds)"
   ]
  },
  {
   "cell_type": "code",
   "execution_count": 871,
   "metadata": {
    "collapsed": false
   },
   "outputs": [],
   "source": [
    "task_duration_series = pd.Series(task_duration_seconds)"
   ]
  },
  {
   "cell_type": "code",
   "execution_count": 872,
   "metadata": {
    "collapsed": true
   },
   "outputs": [
    {
     "data": {
      "image/png": "[encoded data removed]",
      "text/plain": [
       "<matplotlib.figure.Figure at 0x10f9f41d0>"
      ]
     },
     "metadata": {},
     "output_type": "display_data"
    }
   ],
   "source": [
    "_ = task_duration_series.hist(bins=30, log=True)"
   ]
  },
  {
   "cell_type": "code",
   "execution_count": 873,
   "metadata": {
    "collapsed": false
   },
   "outputs": [],
   "source": [
    "winsorized_durations = [t for t in task_duration_seconds if t < 300]\n",
    "w_duration_series = pd.Series(winsorized_durations)"
   ]
  },
  {
   "cell_type": "code",
   "execution_count": 887,
   "metadata": {
    "collapsed": false
   },
   "outputs": [
    {
     "name": "stdout",
     "output_type": "stream",
     "text": [
      "duration mode= 22\n",
      "duration median= 28.0\n"
     ]
    }
   ],
   "source": [
    "print 'duration mode= ' + str(w_duration_series.mode().values[0])\n",
    "print 'duration median= ' + str(w_duration_series.median())"
   ]
  },
  {
   "cell_type": "code",
   "execution_count": 875,
   "metadata": {
    "collapsed": false
   },
   "outputs": [
    {
     "data": {
      "image/png": "[encoded data removed]",
      "text/plain": [
       "<matplotlib.figure.Figure at 0x11c457750>"
      ]
     },
     "metadata": {},
     "output_type": "display_data"
    }
   ],
   "source": [
    "_ = pd.Series(w_duration_series).hist(bins=60)"
   ]
  },
  {
   "cell_type": "markdown",
   "metadata": {},
   "source": [
    "#### Identifying high and low consensus workers"
   ]
  },
  {
   "cell_type": "code",
   "execution_count": 940,
   "metadata": {
    "collapsed": true
   },
   "outputs": [],
   "source": [
    "consensus_with_workerid_df_this_batch = amt_util.make_consensus_df_w_worker_id(results_df_current_batch, consensus_results_df_current_batch)"
   ]
  },
  {
   "cell_type": "code",
   "execution_count": 803,
   "metadata": {
    "collapsed": false
   },
   "outputs": [],
   "source": [
    "worker_conflicts = combined_consensus_with_workerid_df[combined_consensus_with_workerid_df['category'] != combined_consensus_with_workerid_df['consensus_category']]\n",
    "all_worker_counts = results_df_current_batch['worker_id'].value_counts()\n",
    "bad_worker_counts = worker_conflicts['worker_id'].value_counts()\n",
    "worker_quality_df = pd.DataFrame([all_worker_counts, bad_worker_counts]).T\n",
    "worker_quality_df.columns=['submitted', 'incorrect']\n",
    "worker_quality_df['hit_perc'] = worker_quality_df['incorrect']/worker_quality_df['submitted']"
   ]
  },
  {
   "cell_type": "code",
   "execution_count": 890,
   "metadata": {
    "collapsed": true
   },
   "outputs": [],
   "source": [
    "good_workers = worker_quality_df.sort_values('hit_perc', ascending= True).index.tolist()"
   ]
  },
  {
   "cell_type": "code",
   "execution_count": 891,
   "metadata": {
    "collapsed": false
   },
   "outputs": [],
   "source": [
    "suspect_workers = worker_quality_df.sort_values('hit_perc', ascending= False).index.tolist()"
   ]
  },
  {
   "cell_type": "code",
   "execution_count": 895,
   "metadata": {
    "collapsed": false,
    "scrolled": true
   },
   "outputs": [
    {
     "data": {
      "text/html": [
       "<div>\n",
       "<table border=\"1\" class=\"dataframe\">\n",
       "  <thead>\n",
       "    <tr style=\"text-align: right;\">\n",
       "      <th></th>\n",
       "      <th>submitted</th>\n",
       "      <th>incorrect</th>\n",
       "      <th>hit_perc</th>\n",
       "    </tr>\n",
       "  </thead>\n",
       "  <tbody>\n",
       "    <tr>\n",
       "      <th>A3JOFB6Z65I37Q</th>\n",
       "      <td>103.0</td>\n",
       "      <td>1.0</td>\n",
       "      <td>0.009709</td>\n",
       "    </tr>\n",
       "    <tr>\n",
       "      <th>A2HTN7HCNBQ8V4</th>\n",
       "      <td>130.0</td>\n",
       "      <td>2.0</td>\n",
       "      <td>0.015385</td>\n",
       "    </tr>\n",
       "    <tr>\n",
       "      <th>AMA18W8F60Y2J</th>\n",
       "      <td>53.0</td>\n",
       "      <td>1.0</td>\n",
       "      <td>0.018868</td>\n",
       "    </tr>\n",
       "    <tr>\n",
       "      <th>A13XHSTP6QMFV7</th>\n",
       "      <td>52.0</td>\n",
       "      <td>1.0</td>\n",
       "      <td>0.019231</td>\n",
       "    </tr>\n",
       "    <tr>\n",
       "      <th>AEWGY34WUIA32</th>\n",
       "      <td>396.0</td>\n",
       "      <td>9.0</td>\n",
       "      <td>0.022727</td>\n",
       "    </tr>\n",
       "    <tr>\n",
       "      <th>A31XEDSR8OY87H</th>\n",
       "      <td>1966.0</td>\n",
       "      <td>73.0</td>\n",
       "      <td>0.037131</td>\n",
       "    </tr>\n",
       "    <tr>\n",
       "      <th>A1XD2G6NO4RPA1</th>\n",
       "      <td>76.0</td>\n",
       "      <td>3.0</td>\n",
       "      <td>0.039474</td>\n",
       "    </tr>\n",
       "    <tr>\n",
       "      <th>A1S8DYWNS59XWB</th>\n",
       "      <td>680.0</td>\n",
       "      <td>27.0</td>\n",
       "      <td>0.039706</td>\n",
       "    </tr>\n",
       "    <tr>\n",
       "      <th>AJFVK3O1D7SPE</th>\n",
       "      <td>989.0</td>\n",
       "      <td>40.0</td>\n",
       "      <td>0.040445</td>\n",
       "    </tr>\n",
       "    <tr>\n",
       "      <th>A2PEIHMPPOB1YJ</th>\n",
       "      <td>581.0</td>\n",
       "      <td>24.0</td>\n",
       "      <td>0.041308</td>\n",
       "    </tr>\n",
       "  </tbody>\n",
       "</table>\n",
       "</div>"
      ],
      "text/plain": [
       "                submitted  incorrect  hit_perc\n",
       "A3JOFB6Z65I37Q      103.0        1.0  0.009709\n",
       "A2HTN7HCNBQ8V4      130.0        2.0  0.015385\n",
       "AMA18W8F60Y2J        53.0        1.0  0.018868\n",
       "A13XHSTP6QMFV7       52.0        1.0  0.019231\n",
       "AEWGY34WUIA32       396.0        9.0  0.022727\n",
       "A31XEDSR8OY87H     1966.0       73.0  0.037131\n",
       "A1XD2G6NO4RPA1       76.0        3.0  0.039474\n",
       "A1S8DYWNS59XWB      680.0       27.0  0.039706\n",
       "AJFVK3O1D7SPE       989.0       40.0  0.040445\n",
       "A2PEIHMPPOB1YJ      581.0       24.0  0.041308"
      ]
     },
     "execution_count": 895,
     "metadata": {},
     "output_type": "execute_result"
    }
   ],
   "source": [
    "worker_quality_df.sort_values('hit_perc', ascending= True).head(10)"
   ]
  },
  {
   "cell_type": "code",
   "execution_count": 704,
   "metadata": {
    "collapsed": false
   },
   "outputs": [],
   "source": [
    "# to_review = ['start_seq'] + list(np.random.choice(pd.unique(results_df[results_df['worker_id'].isin(suspect_workers[:10])]['page']), size= 50, replace=False))\n",
    "# amt_util.review_results(to_review)"
   ]
  },
  {
   "cell_type": "markdown",
   "metadata": {},
   "source": [
    "## Messaging workers"
   ]
  },
  {
   "cell_type": "code",
   "execution_count": 889,
   "metadata": {
    "collapsed": true
   },
   "outputs": [],
   "source": [
    "subject = \"More science book annotation HITs are available\"\n",
    "message = \"\"\"\n",
    "Hello, \n",
    "\n",
    "If you're receiving this message you were among the top performers on the first group HITs I submitted.\n",
    "I've submitted another group of HITs, with more to follow in the next few days. \n",
    "I've added some additional instructions, and have removed the default instruction page (they can still be accessed by Read\n",
    "Instruction Button).\n",
    "\n",
    "Happy to get any feedback you might have for the new HITs.\n",
    "\"\"\""
   ]
  },
  {
   "cell_type": "code",
   "execution_count": 693,
   "metadata": {
    "collapsed": false
   },
   "outputs": [],
   "source": [
    "# _ = mturk.notify_workers(good_workers[:20], subject, message)"
   ]
  },
  {
   "cell_type": "markdown",
   "metadata": {},
   "source": [
    "# HIT end-of-life"
   ]
  },
  {
   "cell_type": "markdown",
   "metadata": {},
   "source": [
    "## Pickle latest results"
   ]
  },
  {
   "cell_type": "code",
   "execution_count": 712,
   "metadata": {
    "collapsed": true
   },
   "outputs": [],
   "source": [
    "#reset as needed\n",
    "# gn = 4"
   ]
  },
  {
   "cell_type": "code",
   "execution_count": 840,
   "metadata": {
    "collapsed": false
   },
   "outputs": [
    {
     "name": "stdout",
     "output_type": "stream",
     "text": [
      "saved HIT batch number 5\n",
      "now onto batch 6\n"
     ]
    }
   ],
   "source": [
    "next_group = gn + 1\n",
    "group_n = '_' + str(gn) + '/'\n",
    "\n",
    "temp_store_dir = './store_hit_results_metadata/group'\n",
    "try:\n",
    "    os.mkdir(temp_store_dir + group_n)\n",
    "except:\n",
    "    OSError\n",
    "    \n",
    "result_file_name = 'hit_info.pkl'\n",
    "assignment_file_name = 'assignment_info.pkl'\n",
    "raw_results_file_name = 'raw_res.pkl'\n",
    "complete_results_file = 'complete_df.pkl'\n",
    "consensus_results_file = 'consensus_df.pkl'\n",
    "\n",
    "amt_util.pickle_this(r_hits_current_batch, temp_store_dir + group_n + result_file_name)\n",
    "amt_util.pickle_this(assignment_results_current_batch, temp_store_dir + group_n + assignment_file_name)\n",
    "amt_util.pickle_this(raw_hit_results_current_batch, temp_store_dir + group_n + raw_results_file_name)\n",
    "results_df_current_batch.to_pickle(temp_store_dir + group_n + complete_results_file)\n",
    "consensus_results_df_current_batch.to_pickle(temp_store_dir + group_n + consensus_results_file)\n",
    "print 'saved HIT batch number ' + str(gn)\n",
    "print 'now onto batch ' +str(next_group) \n",
    "gn = next_group"
   ]
  },
  {
   "cell_type": "markdown",
   "metadata": {},
   "source": [
    "## Pickle combined dataset"
   ]
  },
  {
   "cell_type": "code",
   "execution_count": 657,
   "metadata": {
    "collapsed": false
   },
   "outputs": [],
   "source": [
    "temp_store_dir = './store_hit_results_metadata/group'\n",
    "group_n = '_latest_combined/'\n",
    "try:\n",
    "    os.mkdir(temp_store_dir + group_n)\n",
    "except:\n",
    "    OSError\n",
    "    \n",
    "complete_results_file = 'complete_df.pkl'\n",
    "consensus_results_file = 'consensus_df.pkl'\n",
    "consensus_results_file_w_workers = 'consensus_df_w_workers.pkl'\n",
    "\n",
    "combined_results_df.to_pickle(temp_store_dir + group_n + complete_results_file)\n",
    "combined_consensus_results_df.to_pickle(temp_store_dir + group_n + consensus_results_file)\n",
    "combined_consensus_with_workerid_df.to_pickle(temp_store_dir + group_n + consensus_results_file_w_workers)"
   ]
  },
  {
   "cell_type": "markdown",
   "metadata": {},
   "source": [
    "## Careful with these"
   ]
  },
  {
   "cell_type": "code",
   "execution_count": 706,
   "metadata": {
    "collapsed": false,
    "scrolled": true
   },
   "outputs": [],
   "source": [
    "# amt_util.accept_hits(mturk, assignment_results_current_batch)"
   ]
  },
  {
   "cell_type": "code",
   "execution_count": 707,
   "metadata": {
    "collapsed": false
   },
   "outputs": [],
   "source": [
    "# amt_util.delete_all_hits(assignment_results_current_batch)"
   ]
  },
  {
   "cell_type": "markdown",
   "metadata": {},
   "source": [
    "Uncomment only when ready to accept or delete hits"
   ]
  },
  {
   "cell_type": "markdown",
   "metadata": {},
   "source": [
    "# End"
   ]
  },
  {
   "cell_type": "markdown",
   "metadata": {},
   "source": [
    "early cells stored below in case they're ever useful"
   ]
  },
  {
   "cell_type": "code",
   "execution_count": 410,
   "metadata": {
    "collapsed": false
   },
   "outputs": [],
   "source": [
    "# to_review = ['start_seq'] + list(pd.unique(results_df[results_df['worker_id'] == 'A3HSGURL7PBDIX']['page']))"
   ]
  },
  {
   "cell_type": "code",
   "execution_count": null,
   "metadata": {
    "collapsed": true
   },
   "outputs": [],
   "source": [
    "# r_hits = amt_util.get_completed_hits(mturk)\n",
    "# assignment_results = amt_util.get_assignments(mturk, r_hits)\n",
    "# raw_hit_results = amt_util.process_raw_hits(assignment_results)\n",
    "# results_df = amt_util.make_results_df(raw_hit_results)\n",
    "# results_df.head(1)"
   ]
  },
  {
   "cell_type": "code",
   "execution_count": 709,
   "metadata": {
    "collapsed": true
   },
   "outputs": [],
   "source": [
    "# with open(data_pickled_dir + 'assignment_info.pkl', 'rb') as f:\n",
    "#     assignment_info = pickle.load(f)\n",
    "# with open(data_pickled_dir + 'raw_res.pkl', 'rb') as f:\n",
    "#     raw_res = pickle.load(f)"
   ]
  }
 ],
 "metadata": {
  "kernelspec": {
   "display_name": "Python 2",
   "language": "python",
   "name": "python2"
  },
  "language_info": {
   "codemirror_mode": {
    "name": "ipython",
    "version": 2
   },
   "file_extension": ".py",
   "mimetype": "text/x-python",
   "name": "python",
   "nbconvert_exporter": "python",
   "pygments_lexer": "ipython2",
   "version": "2.7.10"
  }
 },
 "nbformat": 4,
 "nbformat_minor": 0
}
