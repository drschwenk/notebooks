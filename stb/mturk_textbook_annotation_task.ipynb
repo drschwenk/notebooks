{
 "cells": [
  {
   "cell_type": "markdown",
   "metadata": {},
   "source": [
    "# Table of Contents\n",
    "* [Submitting HITs](#Submitting-HITs)\n",
    "\t* [Building URLs for images on s3](#Building-URLs-for-images-on-s3)\n",
    "\t* [submitting HITs in groups](#submitting-HITs-in-groups)\n",
    "* [Reviewing HITs](#Reviewing-HITs)\n"
   ]
  },
  {
   "cell_type": "code",
   "execution_count": 65,
   "metadata": {
    "collapsed": true
   },
   "outputs": [],
   "source": [
    "import boto.mturk.connection as tc\n",
    "import boto.mturk.question as tq\n",
    "from keysTkingdom import mturk_ai2\n",
    "import pickle"
   ]
  },
  {
   "cell_type": "markdown",
   "metadata": {},
   "source": [
    "# Submitting HITs"
   ]
  },
  {
   "cell_type": "markdown",
   "metadata": {},
   "source": [
    "## Building URLs for images on s3"
   ]
  },
  {
   "cell_type": "code",
   "execution_count": 60,
   "metadata": {
    "collapsed": false
   },
   "outputs": [],
   "source": [
    "def load_book_info():\n",
    "    with open('breakdowns.pkl', 'rb') as f:\n",
    "        book_breakdowns = pickle.load(f, encoding='latin1')\n",
    "\n",
    "    with open('pdfs/page_ranges.csv') as f:\n",
    "        ranges = f.readlines()\n",
    "    range_lookup = {line.split(' ')[0]:[int(num) for num in line.strip().split(' ')[1:]] for line in ranges}\n",
    "    return book_breakdowns, range_lookup\n",
    "\n",
    "def form_hit_url(book_name, page_n):\n",
    "    book_name_no_ext = book_name.replace('.pdf', '_')\n",
    "    baseurl = 'https://s3-us-west-2.amazonaws.com/ai2-vision-turk-data/textbook-annotation-test/build/index.html'\n",
    "    full_url = baseurl + '?url={}{}.jpeg&id={}'.format(book_name_no_ext, page_n, page_n)\n",
    "    return full_url\n",
    "\n",
    "def make_book_group_urls(book_group):\n",
    "    group_urls = []\n",
    "    def get_start_end(start, end):\n",
    "        return start, end\n",
    "    \n",
    "    for tb in book_groups[book_group]:\n",
    "        start, end = get_start_end(*ranges[tb])\n",
    "        for page_n in range(start, end):\n",
    "            group_urls.append(form_hit_url(tb, page_n))\n",
    "    return group_urls"
   ]
  },
  {
   "cell_type": "code",
   "execution_count": 57,
   "metadata": {
    "collapsed": false
   },
   "outputs": [],
   "source": [
    "book_groups,ranges = load_book_info()"
   ]
  },
  {
   "cell_type": "code",
   "execution_count": 68,
   "metadata": {
    "collapsed": false
   },
   "outputs": [],
   "source": [
    "daily_sci_urls = make_book_group_urls('daily_sci')\n",
    "spectrum_sci_urls = make_book_group_urls('spectrum_sci')"
   ]
  },
  {
   "cell_type": "code",
   "execution_count": 62,
   "metadata": {
    "collapsed": false
   },
   "outputs": [],
   "source": [
    "daily_sci_urls[98:100]"
   ]
  },
  {
   "cell_type": "markdown",
   "metadata": {},
   "source": [
    "## submitting HITs in groups"
   ]
  },
  {
   "cell_type": "code",
   "execution_count": 61,
   "metadata": {
    "collapsed": true
   },
   "outputs": [],
   "source": [
    "def creat_single_hit(url):\n",
    "    \"\"\"\n",
    "    creates a single HIT from a provided url\n",
    "    \"\"\"\n",
    "    title = \"Annotate Science Textbook\"\n",
    "    description = \"Choose which category a text entry best belongs to\"\n",
    "    keywords = ['image', 'science']\n",
    "    frame_height = 1000 # the height of the iframe holding the external hit\n",
    "    amount = .05\n",
    "\n",
    "    questionform = tq.ExternalQuestion(url, frame_height)\n",
    "\n",
    "    create_hit_result = mturk.create_hit(\n",
    "        title = title,\n",
    "        description = description,\n",
    "        keywords = keywords,\n",
    "        question = questionform,\n",
    "        reward = boto.mturk.price.Price(amount=amount),\n",
    "        max_assignments=3\n",
    "    )"
   ]
  },
  {
   "cell_type": "code",
   "execution_count": 66,
   "metadata": {
    "collapsed": true
   },
   "outputs": [],
   "source": [
    "sandbox_host = 'mechanicalturk.sandbox.amazonaws.com' \n",
    "mturk = tc.MTurkConnection(\n",
    "    aws_access_key_id = mturk_ai2.access_key,\n",
    "    aws_secret_access_key = mturk_ai2.access_secret_key,\n",
    "    host = sandbox_host,\n",
    "    debug = 1 # debug = 2 prints out all requests.\n",
    ")"
   ]
  },
  {
   "cell_type": "code",
   "execution_count": null,
   "metadata": {
    "collapsed": true
   },
   "outputs": [],
   "source": []
  },
  {
   "cell_type": "markdown",
   "metadata": {},
   "source": [
    "# Reviewing HITs"
   ]
  },
  {
   "cell_type": "code",
   "execution_count": 63,
   "metadata": {
    "collapsed": true
   },
   "outputs": [],
   "source": [
    "# batch_results_df = pd.read_csv(data_dir+results_csv)\n",
    "# print(batch_results_df.shape)\n",
    "# batch_results_df.head(2)"
   ]
  },
  {
   "cell_type": "code",
   "execution_count": 64,
   "metadata": {
    "collapsed": true
   },
   "outputs": [],
   "source": [
    "# grouped_results_df = batch_results_df.groupby('Input.image_url')\n",
    "# for image_response in grouped_results_df:\n",
    "#     print(image_response[1]['Answer.NumberOfItems'])"
   ]
  }
 ],
 "metadata": {
  "kernelspec": {
   "display_name": "Python 3",
   "language": "python",
   "name": "python3"
  },
  "language_info": {
   "codemirror_mode": {
    "name": "ipython",
    "version": 3
   },
   "file_extension": ".py",
   "mimetype": "text/x-python",
   "name": "python",
   "nbconvert_exporter": "python",
   "pygments_lexer": "ipython3",
   "version": "3.5.0"
  }
 },
 "nbformat": 4,
 "nbformat_minor": 0
}
