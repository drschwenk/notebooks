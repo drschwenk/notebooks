{
 "cells": [
  {
   "cell_type": "markdown",
   "metadata": {},
   "source": [
    "# OCR experiment"
   ]
  },
  {
   "cell_type": "markdown",
   "metadata": {},
   "source": [
    "This notebook compares the OCR results embedded in the textbook scans to those of eric's api, and MS oxford alone"
   ]
  },
  {
   "cell_type": "markdown",
   "metadata": {},
   "source": [
    "bash curl -H \"Content-Type: application/json\" -X POST -d '{\"url\":\" http://dgmde20.com/img/lorem-ipsum-2.png\"}' http://dev-ocr.ai2:/v1/ocr"
   ]
  },
  {
   "cell_type": "code",
   "execution_count": 84,
   "metadata": {
    "collapsed": true,
    "run_control": {
     "marked": false
    }
   },
   "outputs": [],
   "source": [
    "%%capture\n",
    "import numpy as np\n",
    "import pandas as pd\n",
    "import scipy.stats as st\n",
    "import itertools\n",
    "import math\n",
    "from collections import Counter, defaultdict, OrderedDict\n",
    "%load_ext autoreload\n",
    "%autoreload 2"
   ]
  },
  {
   "cell_type": "code",
   "execution_count": 3,
   "metadata": {
    "collapsed": false
   },
   "outputs": [],
   "source": [
    "import cv2\n",
    "import pprint\n",
    "import pickle\n",
    "import json\n",
    "import requests\n",
    "import io"
   ]
  },
  {
   "cell_type": "code",
   "execution_count": 28,
   "metadata": {
    "collapsed": false
   },
   "outputs": [],
   "source": [
    "import pdfextraction.ocr_pipeline"
   ]
  },
  {
   "cell_type": "code",
   "execution_count": 43,
   "metadata": {
    "collapsed": true
   },
   "outputs": [],
   "source": [
    "# def query_vision_ocr(image_url):\n",
    "#     api_entry_point = 'http://10.12.2.9:8000/v1/ocr'\n",
    "#     header = {'Content-Type':'application/json'}\n",
    "    \n",
    "#     with open(page_image_path, 'rb') as f:\n",
    "#         encoded_image_str = base64.b64encode(f.read())\n",
    "        \n",
    "#     request_data = {\n",
    "#         'image': encoded_image_str\n",
    "#         }\n",
    "#     json_data = json.dumps(request_data)\n",
    "# #     response = requests.post(api_entry_point, data=json_data, headers=header)\n",
    "#     return json_data"
   ]
  },
  {
   "cell_type": "code",
   "execution_count": 20,
   "metadata": {
    "collapsed": false
   },
   "outputs": [],
   "source": [
    "li_image_url = 'http://dgmde20.com/img/lorem-ipsum-2.png'\n",
    "image_url = 'https://s3-us-west-2.amazonaws.com/ai2-vision-turk-data/textbook-pages-test/test_page.jpeg'"
   ]
  },
  {
   "cell_type": "code",
   "execution_count": 8,
   "metadata": {
    "collapsed": true
   },
   "outputs": [],
   "source": [
    "ocr_res = pdfextraction.ocr_pipeline.query_vision_ocr(image_url)"
   ]
  },
  {
   "cell_type": "code",
   "execution_count": 134,
   "metadata": {
    "collapsed": false
   },
   "outputs": [],
   "source": [
    "# with open ('ocr_res.json', 'w') as f:\n",
    "#     json.dump(ocr_res, f)"
   ]
  },
  {
   "cell_type": "code",
   "execution_count": 6,
   "metadata": {
    "collapsed": false
   },
   "outputs": [],
   "source": [
    "with open ('ocr_res.json', 'r') as f:\n",
    "    ocr_res = json.load( f)"
   ]
  },
  {
   "cell_type": "code",
   "execution_count": 7,
   "metadata": {
    "collapsed": true
   },
   "outputs": [],
   "source": [
    "ocr_res"
   ]
  },
  {
   "cell_type": "code",
   "execution_count": 153,
   "metadata": {
    "collapsed": false,
    "scrolled": true
   },
   "outputs": [],
   "source": [
    "for det in ocr_res['detections']:\n",
    "    print(det['value'], '\\n')"
   ]
  },
  {
   "cell_type": "code",
   "execution_count": 19,
   "metadata": {
    "collapsed": false
   },
   "outputs": [],
   "source": [
    "point_to_tuple = lambda box: tuple(OrderedDict(sorted(box.items())).values())\n",
    "get_bbox_tuples = lambda detection: map(point_to_tuple, detection['rectangle'])"
   ]
  },
  {
   "cell_type": "code",
   "execution_count": 15,
   "metadata": {
    "collapsed": true
   },
   "outputs": [],
   "source": [
    "def display_page(raw_page_img, page_layout):\n",
    "    page_png_stream, y_height = make_png_stream(raw_page_img)\n",
    "    page_img = make_open_cv_img(page_png_stream)\n",
    "    for box in page_layout._objs:\n",
    "        lr, ul = get_bbox_tuple(box, y_height)\n",
    "        try:\n",
    "            # print box.get_text()\n",
    "            pass\n",
    "        except AttributeError:\n",
    "            pass\n",
    "        cv2.rectangle(page_img, ul, lr, color=random_color(), thickness=2)\n",
    "    display(Image.fromarray(page_img, 'RGB'))\n",
    "\n",
    "\n",
    "def draw_pdf_with_boxes(book_file, page_range, word_margin=0.1, line_overlap=0.5, char_margin=2.0,\n",
    "                        line_margin=0.5, boxes_flow=0.5):\n",
    "    if page_range:\n",
    "        page_range = map(lambda x: x - 1, page_range)\n",
    "        suffix = '[{}-{}]'.format(page_range[0], page_range[1])\n",
    "        raw_multi_pdf = WImage(filename=book_file + suffix)\n",
    "    else:\n",
    "        raw_multi_pdf = WImage(filename=book_file)\n",
    "        \n",
    "    doc_page_layouts = make_page_layouts(book_file, page_range,\n",
    "                                         line_overlap,\n",
    "                                         char_margin,\n",
    "                                         line_margin,\n",
    "                                         word_margin,\n",
    "                                         boxes_flow)\n",
    "    page_images = raw_multi_pdf.sequence\n",
    "    for page_n in range(len(page_images)):\n",
    "        display_page(page_images[page_n], doc_page_layouts[page_n])"
   ]
  },
  {
   "cell_type": "code",
   "execution_count": 16,
   "metadata": {
    "collapsed": false
   },
   "outputs": [],
   "source": [
    "import base64\n",
    "from wand.image import Image as WImage\n",
    "from IPython.display import display\n",
    "import PIL.Image as Image"
   ]
  },
  {
   "cell_type": "code",
   "execution_count": 17,
   "metadata": {
    "collapsed": false
   },
   "outputs": [],
   "source": [
    "page_image_path = './page_sample.png'\n",
    "with open(page_image_path, 'rb') as f:\n",
    "        encoded_image_str = f.read()"
   ]
  },
  {
   "cell_type": "code",
   "execution_count": 25,
   "metadata": {
    "collapsed": false
   },
   "outputs": [],
   "source": [
    "req = requests.get(image_url)\n",
    "tpi = Image.open(io.BytesIO(req.content))\n",
    "# tpi.thumbnail((1000,1000))"
   ]
  },
  {
   "cell_type": "code",
   "execution_count": 8,
   "metadata": {
    "collapsed": true
   },
   "outputs": [],
   "source": [
    "def random_color():\n",
    "    import random\n",
    "    return random.randint(0,255), random.randint(0,255), random.randint(0,255)"
   ]
  },
  {
   "cell_type": "code",
   "execution_count": 9,
   "metadata": {
    "collapsed": true
   },
   "outputs": [],
   "source": [
    "def display_page(raw_page_img):\n",
    "    page_png_stream, y_height = make_png_stream(raw_page_img)\n",
    "    page_img = make_open_cv_img(page_png_stream)\n",
    "    for box in page_layout._objs:\n",
    "        lr, ul = get_bbox_tuple(box, y_height)\n",
    "        try:\n",
    "            # print box.get_text()\n",
    "            pass\n",
    "        except AttributeError:\n",
    "            pass\n",
    "        cv2.rectangle(page_img, ul, lr, color=random_color(), thickness=2)\n",
    "    display(Image.fromarray(page_img, 'RGB'))"
   ]
  },
  {
   "cell_type": "code",
   "execution_count": 26,
   "metadata": {
    "collapsed": false
   },
   "outputs": [],
   "source": [
    "pil_image = tpi.convert('RGB') \n",
    "open_cv_image = np.array(pil_image) \n",
    "open_cv_image = open_cv_image[:, :, ::-1].copy() "
   ]
  },
  {
   "cell_type": "code",
   "execution_count": 27,
   "metadata": {
    "collapsed": false,
    "scrolled": true
   },
   "outputs": [],
   "source": [
    "for box in ocr_res['detections']:\n",
    "    lr, ul = get_bbox_tuples(box)\n",
    "    cv2.rectangle(open_cv_image, ul, lr, color=random_color(), thickness=2)\n",
    "display(Image.fromarray(open_cv_image, 'RGB'))"
   ]
  },
  {
   "cell_type": "markdown",
   "metadata": {},
   "source": [
    "    rties\": {\n",
    "                        \"box_id\": {\n",
    "                            \"type\": \"String\"\n",
    "                        },\n",
    "                        \"category\": {\n",
    "                                \"enum\": [\"header/topic\", \"definition\", \"discussion\", \"question\", \"question\", \"diagram\", \"unlabeled\"]\n",
    "                            },\n",
    "                        \"contents\": {\n",
    "                            \"type\": \"string\"\n",
    "                        },\n",
    "                        \"score\": {\n",
    "                          \"type\": \"number\"\n",
    "                        },\n",
    "                        \"rectangle\": {\n",
    "                            \"type\": \"array\",\n",
    "                            \"minItems\": 2,\n",
    "                            \"maxItems\": 2,\n",
    "                            \"items\": {\n",
    "                                \"type\": \"array\",\n",
    "                                \"minItems\": 2,\n",
    "                                \"maxItems\": 2,\n",
    "                                \"items\": {\n",
    "                                    \"type\": \"integer\",\n",
    "                                },\n",
    "                            },\n",
    "                        },\n",
    "                        \"source\": {\n",
    "                            \"type\": \"array\",\n",
    "                            \"minItems\": 2,\n",
    "                            \"maxItems\": 2,\n",
    "                            \"items\": {\n",
    "                                \"$schema\": \"http://json-schema.org/draft-04/schema#\",\n",
    "                                \"title\": \"C Object\",\n",
    "\n",
    "                                \"type\": \"object\",\n",
    "                                \"required\": [\"id\", \"name\"],\n",
    "\n",
    "                                \"properties\": {\n",
    "                                    \"book_source\": {\n",
    "                                        \"type\": \"string\"\n",
    "                                    },\n",
    "                                    \"page_n\": {\n",
    "                                        \"type\": \"int\"\n",
    "                                    }\n",
    "                                },\n",
    "                                \"additionalProperties\": False\n",
    "                            }\n",
    "                        }\n",
    "                    }\n",
    "                }\n",
    "            }\n",
    "        },"
   ]
  },
  {
   "cell_type": "code",
   "execution_count": 10,
   "metadata": {
    "collapsed": true
   },
   "outputs": [],
   "source": [
    "import ordereddict"
   ]
  },
  {
   "cell_type": "code",
   "execution_count": 147,
   "metadata": {
    "collapsed": true
   },
   "outputs": [],
   "source": [
    "import jsonschema\n",
    "from pdfextraction.annotation import page_schema"
   ]
  },
  {
   "cell_type": "code",
   "execution_count": 19,
   "metadata": {
    "collapsed": true
   },
   "outputs": [],
   "source": [
    "point_to_tuple = lambda box: tuple(OrderedDict(sorted(box.items())).values())\n",
    "get_bbox_tuples = lambda detection: map(point_to_tuple, detection['rectangle'])"
   ]
  },
  {
   "cell_type": "code",
   "execution_count": 153,
   "metadata": {
    "collapsed": false
   },
   "outputs": [],
   "source": [
    "ids = 1\n",
    "annotation = defaultdict(defaultdict)\n",
    "for box in ocr_res['detections']:\n",
    "    box_id = 'T' + str(ids)\n",
    "    bounding_rectangle = get_bbox_tuples(box)\n",
    "    annotation['text'][box_id] = {\n",
    "        \"box_id\": 'M4',\n",
    "        \"category\": \"unlabeled\", \n",
    "        \"contents\": box['value'],\n",
    "        \"score\": box['score'],\n",
    "        \"rectangle\": bounding_rectangle,\n",
    "        \"source\": {\n",
    "            \"type\": \"object\",\n",
    "            \"$schema\": \"http://json-schema.org/draft-04/schema\",\n",
    "            \"additionalProperties\": False,\n",
    "            \"properties\": [\n",
    "                {\"book_source\": \"sb\"}, \n",
    "                {\"page_n\": 149}\n",
    "            ]\n",
    "        }\n",
    "    }\n",
    "    ids += 1\n",
    "    annotation_json = json.dumps(annotation)"
   ]
  },
  {
   "cell_type": "code",
   "execution_count": 154,
   "metadata": {
    "collapsed": false
   },
   "outputs": [],
   "source": [
    "aj1 = json.loads(annotation_json)\n",
    "\n",
    "validator = jsonschema.Draft4Validator(page_schema)\n",
    "validator.validate(aj1)"
   ]
  },
  {
   "cell_type": "code",
   "execution_count": 155,
   "metadata": {
    "collapsed": false
   },
   "outputs": [],
   "source": [
    "aj1"
   ]
  },
  {
   "cell_type": "code",
   "execution_count": null,
   "metadata": {
    "collapsed": true
   },
   "outputs": [],
   "source": []
  }
 ],
 "metadata": {
  "kernelspec": {
   "display_name": "Python 2",
   "language": "python",
   "name": "python2"
  },
  "language_info": {
   "codemirror_mode": {
    "name": "ipython",
    "version": 2
   },
   "file_extension": ".py",
   "mimetype": "text/x-python",
   "name": "python",
   "nbconvert_exporter": "python",
   "pygments_lexer": "ipython2",
   "version": "2.7.10"
  }
 },
 "nbformat": 4,
 "nbformat_minor": 0
}
