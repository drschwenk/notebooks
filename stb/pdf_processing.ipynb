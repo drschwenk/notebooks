{
 "cells": [
  {
   "cell_type": "code",
   "execution_count": 69,
   "metadata": {
    "collapsed": true
   },
   "outputs": [],
   "source": [
    "%%capture\n",
    "import numpy as np\n",
    "import pandas as pd\n",
    "import scipy.stats as st\n",
    "import itertools\n",
    "import math\n",
    "from collections import Counter, defaultdict"
   ]
  },
  {
   "cell_type": "markdown",
   "metadata": {},
   "source": [
    "# Exploring science textbooks for parsing and annotations"
   ]
  },
  {
   "cell_type": "markdown",
   "metadata": {},
   "source": [
    "## basic parameters"
   ]
  },
  {
   "cell_type": "code",
   "execution_count": 4,
   "metadata": {
    "collapsed": false
   },
   "outputs": [],
   "source": [
    "ls pdfs/ | wc -l "
   ]
  },
  {
   "cell_type": "code",
   "execution_count": 49,
   "metadata": {
    "collapsed": false
   },
   "outputs": [],
   "source": [
    "book_list = !ls pdfs/\n",
    "book_list"
   ]
  },
  {
   "cell_type": "markdown",
   "metadata": {},
   "source": [
    "There are 28 total. With a couple of series-"
   ]
  },
  {
   "cell_type": "code",
   "execution_count": 70,
   "metadata": {
    "collapsed": true
   },
   "outputs": [],
   "source": [
    "book_breakdowns = defaultdict(list)"
   ]
  },
  {
   "cell_type": "code",
   "execution_count": 71,
   "metadata": {
    "collapsed": false
   },
   "outputs": [],
   "source": [
    "spectrum_science =  !ls pdfs/ | grep 'Spectrum Science'\n",
    "book_breakdowns['spectrum_sci'] = spectrum_science\n",
    "print('Spectrum Science,: ', len(spectrum_science), ' total')\n",
    "print('\\n'.join(spectrum_science))"
   ]
  },
  {
   "cell_type": "code",
   "execution_count": 72,
   "metadata": {
    "collapsed": false
   },
   "outputs": [],
   "source": [
    "daily_science =  !ls pdfs/ | grep 'Daily Sc' \n",
    "book_breakdowns['daily_sci'] = daily_science\n",
    "print('Daily Science: ', len(daily_science), ' total')\n",
    "print('\\n'.join(daily_science))"
   ]
  },
  {
   "cell_type": "code",
   "execution_count": 73,
   "metadata": {
    "collapsed": false
   },
   "outputs": [],
   "source": [
    "read_understand =  !ls pdfs/ | grep 'Read and Understand Science' \n",
    "book_breakdowns['read_und_sci'] = read_understand\n",
    "print('Read and Understand Science: ', len(read_understand), ' total')\n",
    "print('\\n'.join(read_understand))"
   ]
  },
  {
   "cell_type": "code",
   "execution_count": 74,
   "metadata": {
    "collapsed": false
   },
   "outputs": [],
   "source": [
    "workbooks =  !ls pdfs/ | grep -i  'workbook' \n",
    "book_breakdowns['workooks'] = workbooks\n",
    "print('workbooks: ', len(workbooks), ' total')\n",
    "print('\\n'.join(workbooks))"
   ]
  },
  {
   "cell_type": "code",
   "execution_count": 77,
   "metadata": {
    "collapsed": false
   },
   "outputs": [],
   "source": [
    "bbv = list(book_breakdowns.values())"
   ]
  },
  {
   "cell_type": "code",
   "execution_count": 78,
   "metadata": {
    "collapsed": false
   },
   "outputs": [],
   "source": [
    "for book in book_list:\n",
    "    if not sum([book in series for series in book_breakdowns.values()]):\n",
    "        book_breakdowns['misc'].append(book)"
   ]
  },
  {
   "cell_type": "code",
   "execution_count": 81,
   "metadata": {
    "collapsed": false
   },
   "outputs": [],
   "source": [
    "sum([len(books) for books in book_breakdowns.values()])"
   ]
  },
  {
   "cell_type": "code",
   "execution_count": 84,
   "metadata": {
    "collapsed": false
   },
   "outputs": [],
   "source": [
    "for group, books in book_breakdowns.items():\n",
    "    print(group)\n",
    "    print('\\n'.join(books + [' ']))\n",
    "    "
   ]
  },
  {
   "cell_type": "code",
   "execution_count": null,
   "metadata": {
    "collapsed": true
   },
   "outputs": [],
   "source": []
  }
 ],
 "metadata": {
  "kernelspec": {
   "display_name": "Python 3",
   "language": "python",
   "name": "python3"
  },
  "language_info": {
   "codemirror_mode": {
    "name": "ipython",
    "version": 3
   },
   "file_extension": ".py",
   "mimetype": "text/x-python",
   "name": "python",
   "nbconvert_exporter": "python",
   "pygments_lexer": "ipython3",
   "version": "3.5.0"
  }
 },
 "nbformat": 4,
 "nbformat_minor": 0
}
