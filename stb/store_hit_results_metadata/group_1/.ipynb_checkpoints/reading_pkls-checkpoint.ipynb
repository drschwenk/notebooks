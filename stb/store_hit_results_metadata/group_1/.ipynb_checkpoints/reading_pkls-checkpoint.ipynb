{
 "cells": [
  {
   "cell_type": "code",
   "execution_count": 1,
   "metadata": {
    "collapsed": true
   },
   "outputs": [],
   "source": [
    "import pickle\n",
    "import pandas as pd"
   ]
  },
  {
   "cell_type": "code",
   "execution_count": 2,
   "metadata": {
    "collapsed": false
   },
   "outputs": [
    {
     "name": "stdout",
     "output_type": "stream",
     "text": [
      "assignment_info.pkl  consensus_df.pkl     raw_res.pkl\r\n",
      "complete_df.pkl      hit_info.pkl         reading_pkls.ipynb\r\n"
     ]
    }
   ],
   "source": [
    "ls"
   ]
  },
  {
   "cell_type": "code",
   "execution_count": 14,
   "metadata": {
    "collapsed": true
   },
   "outputs": [
    {
     "data": {
      "text/plain": [
       "[[<boto.mturk.connection.Assignment at 0x105eb9b70>,\n",
       "  <boto.mturk.connection.Assignment at 0x105eb9c50>,\n",
       "  <boto.mturk.connection.Assignment at 0x105eb9d30>],\n",
       " [<boto.mturk.connection.Assignment at 0x10614eb00>,\n",
       "  <boto.mturk.connection.Assignment at 0x10614ee80>,\n",
       "  <boto.mturk.connection.Assignment at 0x10614e860>],\n",
       " [<boto.mturk.connection.Assignment at 0x1061f1b70>,\n",
       "  <boto.mturk.connection.Assignment at 0x1061f1c50>,\n",
       "  <boto.mturk.connection.Assignment at 0x1061f1d30>]]"
      ]
     },
     "execution_count": 14,
     "metadata": {},
     "output_type": "execute_result"
    }
   ],
   "source": [
    "with open('assignment_info.pkl', 'rb') as f:\n",
    "    assignment_info = pickle.load(f)\n",
    "\n",
    "list(assignment_info.values())[:3]"
   ]
  },
  {
   "cell_type": "code",
   "execution_count": 18,
   "metadata": {
    "collapsed": true
   },
   "outputs": [
    {
     "data": {
      "text/plain": [
       "[[{'3KB8R4ZV1E87OVUL6BASKC2QA62BGE': {'Daily_Science_Grade_4_Evan_Moor_50.jpeg': '[{\"id\":\"T14\",\"category\":\"Question\"},{\"id\":\"T15\",\"category\":\"Question\"},{\"id\":\"T16\",\"category\":\"unlabeled\"},{\"id\":\"T17\",\"category\":\"unlabeled\"},{\"id\":\"T10\",\"category\":\"Question\"},{\"id\":\"T11\",\"category\":\"Question\"},{\"id\":\"T12\",\"category\":\"Question\"},{\"id\":\"T13\",\"category\":\"Question\"},{\"id\":\"T18\",\"category\":\"Question\"},{\"id\":\"T19\",\"category\":\"Question\"},{\"id\":\"T8\",\"category\":\"Question\"},{\"id\":\"T9\",\"category\":\"Question\"},{\"id\":\"T6\",\"category\":\"Question\"},{\"id\":\"T7\",\"category\":\"unlabeled\"},{\"id\":\"T4\",\"category\":\"Header/Topic\"},{\"id\":\"T5\",\"category\":\"unlabeled\"},{\"id\":\"T2\",\"category\":\"unlabeled\"},{\"id\":\"T3\",\"category\":\"unlabeled\"},{\"id\":\"T1\",\"category\":\"unlabeled\"},{\"id\":\"T28\",\"category\":\"unlabeled\"},{\"id\":\"T21\",\"category\":\"Question\"},{\"id\":\"T20\",\"category\":\"Question\"},{\"id\":\"T23\",\"category\":\"Question\"},{\"id\":\"T22\",\"category\":\"Question\"},{\"id\":\"T25\",\"category\":\"unlabeled\"},{\"id\":\"T24\",\"category\":\"Question\"},{\"id\":\"T27\",\"category\":\"unlabeled\"},{\"id\":\"T26\",\"category\":\"unlabeled\"}]'}},\n",
       "  {'3COPXFW7XBDEUBREF7D8DOZ8YR7PKP': {'Daily_Science_Grade_4_Evan_Moor_50.jpeg': '[{\"id\":\"T14\",\"category\":\"Question\"},{\"id\":\"T15\",\"category\":\"Question\"},{\"id\":\"T16\",\"category\":\"unlabeled\"},{\"id\":\"T17\",\"category\":\"unlabeled\"},{\"id\":\"T10\",\"category\":\"Question\"},{\"id\":\"T11\",\"category\":\"Question\"},{\"id\":\"T12\",\"category\":\"Question\"},{\"id\":\"T13\",\"category\":\"Question\"},{\"id\":\"T18\",\"category\":\"Question\"},{\"id\":\"T19\",\"category\":\"Question\"},{\"id\":\"T8\",\"category\":\"Question\"},{\"id\":\"T9\",\"category\":\"Question\"},{\"id\":\"T6\",\"category\":\"Question\"},{\"id\":\"T7\",\"category\":\"unlabeled\"},{\"id\":\"T4\",\"category\":\"Header/Topic\"},{\"id\":\"T5\",\"category\":\"unlabeled\"},{\"id\":\"T2\",\"category\":\"unlabeled\"},{\"id\":\"T3\",\"category\":\"unlabeled\"},{\"id\":\"T1\",\"category\":\"unlabeled\"},{\"id\":\"T28\",\"category\":\"unlabeled\"},{\"id\":\"T21\",\"category\":\"Question\"},{\"id\":\"T20\",\"category\":\"Question\"},{\"id\":\"T23\",\"category\":\"Question\"},{\"id\":\"T22\",\"category\":\"Question\"},{\"id\":\"T25\",\"category\":\"unlabeled\"},{\"id\":\"T24\",\"category\":\"Question\"},{\"id\":\"T27\",\"category\":\"unlabeled\"},{\"id\":\"T26\",\"category\":\"unlabeled\"}]'}},\n",
       "  {'3RANCT1ZVFIQTDVGQGZ9OR3HJERBUO': {'Daily_Science_Grade_4_Evan_Moor_50.jpeg': '[{\"id\":\"T14\",\"category\":\"Question\"},{\"id\":\"T15\",\"category\":\"Question\"},{\"id\":\"T16\",\"category\":\"unlabeled\"},{\"id\":\"T17\",\"category\":\"unlabeled\"},{\"id\":\"T10\",\"category\":\"Question\"},{\"id\":\"T11\",\"category\":\"Question\"},{\"id\":\"T12\",\"category\":\"Question\"},{\"id\":\"T13\",\"category\":\"Question\"},{\"id\":\"T18\",\"category\":\"Question\"},{\"id\":\"T19\",\"category\":\"Question\"},{\"id\":\"T8\",\"category\":\"Answer\"},{\"id\":\"T9\",\"category\":\"Question\"},{\"id\":\"T6\",\"category\":\"Discussion\"},{\"id\":\"T7\",\"category\":\"unlabeled\"},{\"id\":\"T4\",\"category\":\"Header/Topic\"},{\"id\":\"T5\",\"category\":\"unlabeled\"},{\"id\":\"T2\",\"category\":\"unlabeled\"},{\"id\":\"T3\",\"category\":\"unlabeled\"},{\"id\":\"T1\",\"category\":\"unlabeled\"},{\"id\":\"T28\",\"category\":\"unlabeled\"},{\"id\":\"T21\",\"category\":\"Question\"},{\"id\":\"T20\",\"category\":\"Question\"},{\"id\":\"T23\",\"category\":\"Question\"},{\"id\":\"T22\",\"category\":\"Question\"},{\"id\":\"T25\",\"category\":\"unlabeled\"},{\"id\":\"T24\",\"category\":\"Question\"},{\"id\":\"T27\",\"category\":\"unlabeled\"},{\"id\":\"T26\",\"category\":\"unlabeled\"}]'}}]]"
      ]
     },
     "execution_count": 18,
     "metadata": {},
     "output_type": "execute_result"
    }
   ],
   "source": [
    "with open('raw_res.pkl', 'rb') as f:\n",
    "    raw_res = pickle.load(f)\n",
    "\n",
    "list(raw_res.values())[:1]"
   ]
  },
  {
   "cell_type": "code",
   "execution_count": 10,
   "metadata": {
    "collapsed": false
   },
   "outputs": [
    {
     "data": {
      "text/html": [
       "<div>\n",
       "<table border=\"1\" class=\"dataframe\">\n",
       "  <thead>\n",
       "    <tr style=\"text-align: right;\">\n",
       "      <th></th>\n",
       "      <th>page</th>\n",
       "      <th>category</th>\n",
       "      <th>hit_id</th>\n",
       "      <th>assignment_id</th>\n",
       "      <th>box_id</th>\n",
       "      <th>worker_id</th>\n",
       "    </tr>\n",
       "  </thead>\n",
       "  <tbody>\n",
       "    <tr>\n",
       "      <th>0</th>\n",
       "      <td>Daily_Science_Grade_5_Evan_Moor_76.jpeg</td>\n",
       "      <td>unlabeled</td>\n",
       "      <td>3NKW03WTLM8N23OGEW6ZDKOTWTWQW4</td>\n",
       "      <td>3URFVVM165JMBBYWWUFCA9AKAHBUZB</td>\n",
       "      <td>T14</td>\n",
       "      <td>A16EEWCUQK9LM2</td>\n",
       "    </tr>\n",
       "  </tbody>\n",
       "</table>\n",
       "</div>"
      ],
      "text/plain": [
       "                                      page   category  \\\n",
       "0  Daily_Science_Grade_5_Evan_Moor_76.jpeg  unlabeled   \n",
       "\n",
       "                           hit_id                   assignment_id box_id  \\\n",
       "0  3NKW03WTLM8N23OGEW6ZDKOTWTWQW4  3URFVVM165JMBBYWWUFCA9AKAHBUZB    T14   \n",
       "\n",
       "        worker_id  \n",
       "0  A16EEWCUQK9LM2  "
      ]
     },
     "execution_count": 10,
     "metadata": {},
     "output_type": "execute_result"
    }
   ],
   "source": [
    "complete_df = pd.read_pickle('complete_df.pkl')\n",
    "complete_df.head(1)"
   ]
  },
  {
   "cell_type": "code",
   "execution_count": 116,
   "metadata": {
    "collapsed": false
   },
   "outputs": [
    {
     "data": {
      "text/html": [
       "<div>\n",
       "<table border=\"1\" class=\"dataframe\">\n",
       "  <thead>\n",
       "    <tr style=\"text-align: right;\">\n",
       "      <th></th>\n",
       "      <th>page</th>\n",
       "      <th>box_id</th>\n",
       "      <th>category</th>\n",
       "      <th>hit_id</th>\n",
       "    </tr>\n",
       "  </thead>\n",
       "  <tbody>\n",
       "    <tr>\n",
       "      <th>0</th>\n",
       "      <td>Daily_Science_Grade_3_(Daily_Practice_Books)_E...</td>\n",
       "      <td>T1</td>\n",
       "      <td>unlabeled</td>\n",
       "      <td>3ZRKL6Z1E843IXDTRVRMMHH6KTQSGV</td>\n",
       "    </tr>\n",
       "  </tbody>\n",
       "</table>\n",
       "</div>"
      ],
      "text/plain": [
       "                                                page box_id   category  \\\n",
       "0  Daily_Science_Grade_3_(Daily_Practice_Books)_E...     T1  unlabeled   \n",
       "\n",
       "                           hit_id  \n",
       "0  3ZRKL6Z1E843IXDTRVRMMHH6KTQSGV  "
      ]
     },
     "execution_count": 116,
     "metadata": {},
     "output_type": "execute_result"
    }
   ],
   "source": [
    "consensus_df = pd.read_pickle('consensus_df.pkl')\n",
    "consensus_df.head(1)"
   ]
  }
 ],
 "metadata": {
  "kernelspec": {
   "display_name": "Python 3",
   "language": "python",
   "name": "python3"
  },
  "language_info": {
   "codemirror_mode": {
    "name": "ipython",
    "version": 3
   },
   "file_extension": ".py",
   "mimetype": "text/x-python",
   "name": "python",
   "nbconvert_exporter": "python",
   "pygments_lexer": "ipython3",
   "version": "3.5.0"
  }
 },
 "nbformat": 4,
 "nbformat_minor": 0
}
