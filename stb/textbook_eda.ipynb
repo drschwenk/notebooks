{
 "cells": [
  {
   "cell_type": "markdown",
   "metadata": {},
   "source": [
    "# Table of Contents\n",
    "* [Exploring science textbooks for parsing and annotations](#Exploring-science-textbooks-for-parsing-and-annotations)\n",
    "\t* [basic parameters](#basic-parameters)\n",
    "\t* [checking extractability](#checking-extractability)\n",
    "\t* [Testing pdf miner on single page](#Testing-pdf-miner-on-single-page)\n",
    "\t\t* [drawing bounding boxes over image](#drawing-bounding-boxes-over-image)\n",
    "* [END](#END)\n"
   ]
  },
  {
   "cell_type": "code",
   "execution_count": 1,
   "metadata": {
    "collapsed": false
   },
   "outputs": [],
   "source": [
    "%%capture\n",
    "import numpy as np\n",
    "import pandas as pd\n",
    "import scipy.stats as st\n",
    "import itertools\n",
    "import math\n",
    "from collections import Counter, defaultdict"
   ]
  },
  {
   "cell_type": "code",
   "execution_count": 192,
   "metadata": {
    "collapsed": true
   },
   "outputs": [],
   "source": [
    "%load_ext autoreload\n",
    "%autoreload 2"
   ]
  },
  {
   "cell_type": "code",
   "execution_count": 2,
   "metadata": {
    "collapsed": false
   },
   "outputs": [],
   "source": [
    "from wand.image import Image as WImage\n",
    "from IPython.display import display\n",
    "import PIL.Image as Image\n",
    "import cv2"
   ]
  },
  {
   "cell_type": "code",
   "execution_count": 221,
   "metadata": {
    "collapsed": true
   },
   "outputs": [],
   "source": [
    "from pdfminer.pdfparser import PDFParser\n",
    "from pdfminer.pdfdocument import PDFDocument\n",
    "from pdfminer.pdfpage import PDFPage\n",
    "from pdfminer.pdfpage import PDFTextExtractionNotAllowed\n",
    "from pdfminer.pdfinterp import PDFResourceManager\n",
    "from pdfminer.pdfinterp import PDFPageInterpreter\n",
    "from pdfminer.pdfdevice import PDFDevice\n",
    "\n",
    "from pdfminer.layout import LAParams\n",
    "from pdfminer.converter import PDFPageAggregator\n",
    "from pdfminer.converter import TextConverter"
   ]
  },
  {
   "cell_type": "markdown",
   "metadata": {},
   "source": [
    "# Exploring science textbooks for parsing and annotations"
   ]
  },
  {
   "cell_type": "markdown",
   "metadata": {},
   "source": [
    "## basic parameters"
   ]
  },
  {
   "cell_type": "code",
   "execution_count": 4,
   "metadata": {
    "collapsed": false
   },
   "outputs": [],
   "source": [
    "ls pdfs/ | wc -l "
   ]
  },
  {
   "cell_type": "code",
   "execution_count": 5,
   "metadata": {
    "collapsed": false
   },
   "outputs": [],
   "source": [
    "book_list = !ls pdfs/\n",
    "book_list"
   ]
  },
  {
   "cell_type": "markdown",
   "metadata": {},
   "source": [
    "There are 28 total. With a couple of series-"
   ]
  },
  {
   "cell_type": "code",
   "execution_count": 6,
   "metadata": {
    "collapsed": true
   },
   "outputs": [],
   "source": [
    "book_breakdowns = defaultdict(list)"
   ]
  },
  {
   "cell_type": "code",
   "execution_count": 7,
   "metadata": {
    "collapsed": false
   },
   "outputs": [],
   "source": [
    "spectrum_science =  !ls pdfs/ | grep 'Spectrum Science'\n",
    "book_breakdowns['spectrum_sci'] = spectrum_science\n",
    "print('Spectrum Science,: ', len(spectrum_science), ' total')\n",
    "# print('\\n'.join(spectrum_science))"
   ]
  },
  {
   "cell_type": "code",
   "execution_count": 8,
   "metadata": {
    "collapsed": false
   },
   "outputs": [],
   "source": [
    "daily_science =  !ls pdfs/ | grep 'Daily Sc' \n",
    "book_breakdowns['daily_sci'] = daily_science\n",
    "print('Daily Science: ', len(daily_science), ' total')\n",
    "# print('\\n'.join(daily_science))"
   ]
  },
  {
   "cell_type": "code",
   "execution_count": 9,
   "metadata": {
    "collapsed": false
   },
   "outputs": [],
   "source": [
    "read_understand =  !ls pdfs/ | grep 'Read and Understand Science' \n",
    "book_breakdowns['read_und_sci'] = read_understand\n",
    "print('Read and Understand Science: ', len(read_understand), ' total')\n",
    "# print('\\n'.join(read_understand))"
   ]
  },
  {
   "cell_type": "code",
   "execution_count": 10,
   "metadata": {
    "collapsed": false
   },
   "outputs": [],
   "source": [
    "workbooks =  !ls pdfs/ | grep -i  'workbook' \n",
    "book_breakdowns['workooks'] = workbooks\n",
    "print('workbooks: ', len(workbooks), ' total')\n",
    "# print('\\n'.join(workbooks))"
   ]
  },
  {
   "cell_type": "code",
   "execution_count": 11,
   "metadata": {
    "collapsed": false
   },
   "outputs": [],
   "source": [
    "for book in book_list:\n",
    "    if not sum([book in series for series in book_breakdowns.values()]):\n",
    "        book_breakdowns['misc'].append(book)"
   ]
  },
  {
   "cell_type": "code",
   "execution_count": 12,
   "metadata": {
    "collapsed": false
   },
   "outputs": [],
   "source": [
    "sum([len(books) for books in book_breakdowns.values()])"
   ]
  },
  {
   "cell_type": "markdown",
   "metadata": {},
   "source": [
    "all books accounted for in groupings"
   ]
  },
  {
   "cell_type": "code",
   "execution_count": 13,
   "metadata": {
    "collapsed": false
   },
   "outputs": [],
   "source": [
    "for group, books in book_breakdowns.items():\n",
    "    print(group)\n",
    "    print('\\n'.join(books + [' ']))"
   ]
  },
  {
   "cell_type": "markdown",
   "metadata": {},
   "source": [
    "## checking extractability "
   ]
  },
  {
   "cell_type": "code",
   "execution_count": 15,
   "metadata": {
    "collapsed": false
   },
   "outputs": [],
   "source": [
    "extractable = 0\n",
    "for textbook in book_list:\n",
    "    test_book_path = './pdfs/' + textbook\n",
    "    with open(test_book_path, 'r') as fp:\n",
    "        parser = PDFParser(fp)\n",
    "        document = PDFDocument(parser)\n",
    "        extractable += document.is_extractable\n",
    "extractable"
   ]
  },
  {
   "cell_type": "markdown",
   "metadata": {},
   "source": [
    "all of the documents are extractable!"
   ]
  },
  {
   "cell_type": "code",
   "execution_count": 228,
   "metadata": {
    "collapsed": true
   },
   "outputs": [],
   "source": [
    "!find ./pdfs/* | xargs -L 1 pdffonts"
   ]
  },
  {
   "cell_type": "markdown",
   "metadata": {},
   "source": [
    "fonts and encodings are consistent"
   ]
  },
  {
   "cell_type": "markdown",
   "metadata": {},
   "source": [
    "## Testing pdf miner on single page"
   ]
  },
  {
   "cell_type": "code",
   "execution_count": 16,
   "metadata": {
    "collapsed": true
   },
   "outputs": [],
   "source": [
    "pages = []\n",
    "laparams = LAParams()\n",
    "device = PDFPageAggregator(rsrcmgr, laparams=laparams)\n",
    "interpreter = PDFPageInterpreter(rsrcmgr, device)\n",
    "for page in PDFPage.create_pages(document):\n",
    "    interpreter.process_page(page)\n",
    "    # receive the LTPage object for the page.\n",
    "    pages.append(device.get_result())"
   ]
  },
  {
   "cell_type": "code",
   "execution_count": 17,
   "metadata": {
    "collapsed": false
   },
   "outputs": [],
   "source": [
    "# test_book = book_breakdowns['daily_sci'][3]\n",
    "test_book ='test_page.pdf'\n",
    "test_book_path = './' + test_book\n",
    "test_book"
   ]
  },
  {
   "cell_type": "markdown",
   "metadata": {},
   "source": [
    "### drawing bounding boxes over image"
   ]
  },
  {
   "cell_type": "code",
   "execution_count": 85,
   "metadata": {
    "collapsed": true
   },
   "outputs": [],
   "source": [
    "page_file ='test_page.pdf'\n",
    "page_layout = make_page_layout(page_file)\n",
    "page_png_stream, y_height = make_png_stream(page_file)\n",
    "page_img = make_open_cv_img(page_png_stream)\n",
    "\n",
    "for box in page_layout._objs:\n",
    "    lr, ul = get_bbox_tuple(box, y_height)\n",
    "    cv2.rectangle(page_img, ul, lr, color=random_color(), thickness=2)\n",
    "    try:\n",
    "        print(box.get_text())\n",
    "    except AttributeError:\n",
    "        pass\n",
    "display(Image.fromarray(page_img, 'RGB'))"
   ]
  },
  {
   "cell_type": "code",
   "execution_count": null,
   "metadata": {
    "collapsed": true
   },
   "outputs": [],
   "source": [
    " laparams = LAParams()\n",
    "    page_layouts = []\n",
    "    with open(pdf_file, 'r') as fp:\n",
    "        parser = PDFParser(fp)\n",
    "        document = PDFDocument(parser)\n",
    "        rsrcmgr = PDFResourceManager()\n",
    "        device = PDFPageAggregator(rsrcmgr, laparams=laparams)\n",
    "        interpreter = PDFPageInterpreter(rsrcmgr, device)\n",
    "        for page in PDFPage.create_pages(document):\n",
    "            interpreter.process_page(page)\n",
    "            layout = device.get_result()\n",
    "            page_layouts.append(layout)\n",
    "    return page_layouts"
   ]
  },
  {
   "cell_type": "markdown",
   "metadata": {},
   "source": [
    "pdf miner doesn't seem to find figs/ images"
   ]
  },
  {
   "cell_type": "markdown",
   "metadata": {},
   "source": [
    "## Drawing multiple pages"
   ]
  },
  {
   "cell_type": "code",
   "execution_count": 256,
   "metadata": {
    "collapsed": false
   },
   "outputs": [],
   "source": [
    "def make_page_layouts(pdf_file, page_range):\n",
    "    laparams = LAParams()\n",
    "    page_layouts = []\n",
    "    with open(pdf_file, 'r') as fp:\n",
    "        parser = PDFParser(fp)\n",
    "        document = PDFDocument(parser)\n",
    "        rsrcmgr = PDFResourceManager()\n",
    "        device = PDFPageAggregator(rsrcmgr, laparams=laparams)\n",
    "        interpreter = PDFPageInterpreter(rsrcmgr, device)\n",
    "        for page_n, page in enumerate(PDFPage.create_pages(document)):\n",
    "            if not page_range:\n",
    "                interpreter.process_page(page)\n",
    "                layout = device.get_result()\n",
    "                page_layouts.append(layout)\n",
    "            elif page_range[0] <= page_n and page_n <= page_range[1]:\n",
    "                interpreter.process_page(page)\n",
    "                layout = device.get_result()\n",
    "                page_layouts.append(layout)\n",
    "    return page_layouts"
   ]
  },
  {
   "cell_type": "code",
   "execution_count": 259,
   "metadata": {
    "collapsed": false
   },
   "outputs": [],
   "source": [
    "def make_png_stream(pdf_page):\n",
    "    raw_pdf = WImage(pdf_page)\n",
    "    page_png = raw_pdf.convert('png')\n",
    "    y_height, x_width, n_col = timg_png.shape\n",
    "    \n",
    "    png_blob = page_png.make_blob()\n",
    "    return png_blob, y_height\n",
    "\n",
    "def make_open_cv_img(page_stream, color_flag = 1):\n",
    "    img_array = np.asarray(bytearray(page_stream), dtype=np.uint8)\n",
    "    return cv2.imdecode(img_array, color_flag)\n",
    "\n",
    "def random_color():\n",
    "    import random\n",
    "    return random.randint(0,255), random.randint(0,255), random.randint(0,255)\n",
    "\n",
    "def get_bbox_tuple(box, y_height):\n",
    "    def shift_coord(coord, v_height):\n",
    "        return coord[0], v_height - coord[1]\n",
    "    \n",
    "    lower_right = tuple(map(lambda x: int(x), box.bbox[2:]))\n",
    "    upper_left = tuple(map(lambda x: int(x), box.bbox[:2]))\n",
    "    \n",
    "    return shift_coord(lower_right, y_height), shift_coord(upper_left, y_height)\n",
    "\n",
    "def display_page(raw_page_img, page_layout):\n",
    "    page_png_stream, y_height = make_png_stream(raw_page_img)\n",
    "    page_img = make_open_cv_img(page_png_stream)\n",
    "    for box in page_layout._objs[:-1]:\n",
    "        lr, ul = get_bbox_tuple(box, y_height)\n",
    "        cv2.rectangle(page_img, ul, lr, color=random_color(), thickness=2)\n",
    "#         print(box.get_text())\n",
    "    display(Image.fromarray(page_img, 'RGB'))"
   ]
  },
  {
   "cell_type": "code",
   "execution_count": 253,
   "metadata": {
    "collapsed": true
   },
   "outputs": [],
   "source": [
    "def draw_pdf_with_boxes(book_file, page_range):\n",
    "    if page_range:\n",
    "        page_range= map(lambda x: x - 1, page_range)\n",
    "        suffix = '[{}-{}]'.format(page_range[0], page_range[1])\n",
    "        raw_multi_pdf = WImage(filename= book_file + suffix)\n",
    "    else:\n",
    "        raw_multi_pdf = WImage(filename= book_file)\n",
    "        \n",
    "    doc_page_layouts = make_page_layouts(book_file, page_range)\n",
    "    page_images = raw_multi_pdf.sequence\n",
    "    for page_n in range(len(page_images)):\n",
    "        display_page(page_images[page_n], doc_page_layouts[page_n])"
   ]
  },
  {
   "cell_type": "code",
   "execution_count": 261,
   "metadata": {
    "collapsed": false,
    "scrolled": true
   },
   "outputs": [],
   "source": [
    "book_file ='./pdfs/DK_Workbooks__Science,_Second_Grade_DK_Publishing_60p_146541729X.pdf'\n",
    "draw_pdf_with_boxes(book_file, [50,55])"
   ]
  },
  {
   "cell_type": "markdown",
   "metadata": {},
   "source": [
    "# END"
   ]
  }
 ],
 "metadata": {
  "kernelspec": {
   "display_name": "Python 2",
   "language": "python",
   "name": "python2"
  },
  "language_info": {
   "codemirror_mode": {
    "name": "ipython",
    "version": 2
   },
   "file_extension": ".py",
   "mimetype": "text/x-python",
   "name": "python",
   "nbconvert_exporter": "python",
   "pygments_lexer": "ipython2",
   "version": "2.7.10"
  }
 },
 "nbformat": 4,
 "nbformat_minor": 0
}
