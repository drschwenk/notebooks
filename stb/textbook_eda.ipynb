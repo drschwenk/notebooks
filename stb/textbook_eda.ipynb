{
 "cells": [
  {
   "cell_type": "markdown",
   "metadata": {},
   "source": [
    "# Table of Contents\n",
    "* [Exploring science textbooks for parsing and annotations](#Exploring-science-textbooks-for-parsing-and-annotations)\n",
    "\t* [Intro](#Intro)\n",
    "\t* [basic parameters](#basic-parameters)\n",
    "\t* [Grouping texbooks by publisher](#Grouping-texbooks-by-publisher)\n",
    "\t\t* [groupings](#groupings)\n",
    "\t* [Testing pdf miner on single page](#Testing-pdf-miner-on-single-page)\n",
    "\t\t* [drawing bounding boxes over image](#drawing-bounding-boxes-over-image)\n",
    "\t* [Drawing sample pages for book categories](#Drawing-sample-pages-for-book-categories)\n",
    "\t\t* [a generic page from each category-](#a-generic-page-from-each-category-)\n",
    "\t\t* [a generic page from a single category](#a-generic-page-from-a-single-category)\n",
    "\t* [Draft Schema](#Draft-Schema)\n",
    "\t* [Proposal](#Proposal)\n",
    "* [END](#END)\n",
    "\t* &nbsp;\n",
    "\t\t* [experiments with acrobat text recognition- abandoned for now](#experiments-with-acrobat-text-recognition--abandoned-for-now)\n"
   ]
  },
  {
   "cell_type": "code",
   "execution_count": 1,
   "metadata": {
    "collapsed": false
   },
   "outputs": [],
   "source": [
    "%%capture\n",
    "import numpy as np\n",
    "import pandas as pd\n",
    "import scipy.stats as st\n",
    "import itertools\n",
    "import math\n",
    "from collections import Counter, defaultdict\n",
    "%load_ext autoreload\n",
    "%autoreload 2"
   ]
  },
  {
   "cell_type": "code",
   "execution_count": 2,
   "metadata": {
    "collapsed": false
   },
   "outputs": [],
   "source": [
    "from wand.image import Image as WImage\n",
    "from IPython.display import display\n",
    "import PIL.Image as Image\n",
    "import cv2\n",
    "\n",
    "from pdfminer.pdfparser import PDFParser\n",
    "from pdfminer.pdfdocument import PDFDocument\n",
    "from pdfminer.pdfpage import PDFPage\n",
    "from pdfminer.pdfpage import PDFTextExtractionNotAllowed\n",
    "from pdfminer.pdfinterp import PDFResourceManager\n",
    "from pdfminer.pdfinterp import PDFPageInterpreter\n",
    "from pdfminer.pdfdevice import PDFDevice\n",
    "from pdfminer.layout import LAParams\n",
    "from pdfminer.converter import PDFPageAggregator\n",
    "from pdfminer.converter import TextConverter"
   ]
  },
  {
   "cell_type": "code",
   "execution_count": 3,
   "metadata": {
    "collapsed": true
   },
   "outputs": [],
   "source": [
    "from pdf_processing import draw_pdf_with_boxes\n",
    "from pdf_processing import make_page_layouts"
   ]
  },
  {
   "cell_type": "markdown",
   "metadata": {},
   "source": [
    "# Exploring science textbooks for parsing and annotations"
   ]
  },
  {
   "cell_type": "markdown",
   "metadata": {},
   "source": [
    "## Intro"
   ]
  },
  {
   "cell_type": "markdown",
   "metadata": {},
   "source": [
    "This notebook documents my eda on the k-12 science textbook dataset. In the "
   ]
  },
  {
   "cell_type": "markdown",
   "metadata": {},
   "source": [
    "## basic parameters"
   ]
  },
  {
   "cell_type": "code",
   "execution_count": 4,
   "metadata": {
    "collapsed": false
   },
   "outputs": [],
   "source": [
    "ls pdfs/ | wc -l "
   ]
  },
  {
   "cell_type": "code",
   "execution_count": 5,
   "metadata": {
    "collapsed": false
   },
   "outputs": [],
   "source": [
    "book_list = !ls pdfs/\n",
    "book_list"
   ]
  },
  {
   "cell_type": "markdown",
   "metadata": {},
   "source": [
    "There are 28 total, with three distinct series."
   ]
  },
  {
   "cell_type": "code",
   "execution_count": 38,
   "metadata": {
    "collapsed": false
   },
   "outputs": [],
   "source": [
    "total_page_count = 0\n",
    "for textbook in book_list:\n",
    "    test_book_path = './pdfs/' + textbook\n",
    "    with open(test_book_path, 'r') as fp:\n",
    "        parser = PDFParser(fp)\n",
    "        document = PDFDocument(parser)\n",
    "        total_page_count += len(list(PDFPage.create_pages(document)))\n",
    "total_page_count"
   ]
  },
  {
   "cell_type": "markdown",
   "metadata": {},
   "source": [
    "There are 4686 total pages."
   ]
  },
  {
   "cell_type": "code",
   "execution_count": 14,
   "metadata": {
    "collapsed": false
   },
   "outputs": [],
   "source": [
    "extractable = 0\n",
    "for textbook in book_list:\n",
    "    test_book_path = './pdfs/' + textbook\n",
    "    with open(test_book_path, 'r') as fp:\n",
    "        parser = PDFParser(fp)\n",
    "        document = PDFDocument(parser)\n",
    "        extractable += document.is_extractable\n",
    "extractable"
   ]
  },
  {
   "cell_type": "markdown",
   "metadata": {},
   "source": [
    "all of the documents are extractable!"
   ]
  },
  {
   "cell_type": "code",
   "execution_count": 23,
   "metadata": {
    "collapsed": false
   },
   "outputs": [],
   "source": [
    "!find ./pdfs/* | xargs -L 1 pdffonts"
   ]
  },
  {
   "cell_type": "markdown",
   "metadata": {},
   "source": [
    "fonts and encodings are consistent"
   ]
  },
  {
   "cell_type": "markdown",
   "metadata": {},
   "source": [
    "## Grouping texbooks by publisher"
   ]
  },
  {
   "cell_type": "code",
   "execution_count": 6,
   "metadata": {
    "collapsed": true
   },
   "outputs": [],
   "source": [
    "book_breakdowns = defaultdict(list)"
   ]
  },
  {
   "cell_type": "code",
   "execution_count": 7,
   "metadata": {
    "collapsed": false
   },
   "outputs": [],
   "source": [
    "spectrum_science =  !ls pdfs/ | grep 'Spectrum Science'\n",
    "book_breakdowns['spectrum_sci'] = spectrum_science\n",
    "print('Spectrum Science,: ', len(spectrum_science), ' total')\n",
    "# print('\\n'.join(spectrum_science))"
   ]
  },
  {
   "cell_type": "code",
   "execution_count": 8,
   "metadata": {
    "collapsed": false
   },
   "outputs": [],
   "source": [
    "daily_science =  !ls pdfs/ | grep 'Daily Sc' \n",
    "book_breakdowns['daily_sci'] = daily_science\n",
    "print('Daily Science: ', len(daily_science), ' total')\n",
    "# print('\\n'.join(daily_science))"
   ]
  },
  {
   "cell_type": "code",
   "execution_count": 9,
   "metadata": {
    "collapsed": false
   },
   "outputs": [],
   "source": [
    "read_understand =  !ls pdfs/ | grep 'Read and Understand Science' \n",
    "book_breakdowns['read_und_sci'] = read_understand\n",
    "print('Read and Understand Science: ', len(read_understand), ' total')\n",
    "# print('\\n'.join(read_understand))"
   ]
  },
  {
   "cell_type": "code",
   "execution_count": 10,
   "metadata": {
    "collapsed": false
   },
   "outputs": [],
   "source": [
    "workbooks =  !ls pdfs/ | grep -i  'workbook' \n",
    "book_breakdowns['workbooks'] = workbooks\n",
    "print('workbooks: ', len(workbooks), ' total')\n",
    "# print('\\n'.join(workbooks))"
   ]
  },
  {
   "cell_type": "code",
   "execution_count": 11,
   "metadata": {
    "collapsed": false
   },
   "outputs": [],
   "source": [
    "for book in book_list:\n",
    "    if not sum([book in series for series in book_breakdowns.values()]):\n",
    "        book_breakdowns['misc'].append(book)"
   ]
  },
  {
   "cell_type": "code",
   "execution_count": 12,
   "metadata": {
    "collapsed": false
   },
   "outputs": [],
   "source": [
    "sum([len(books) for books in book_breakdowns.values()])"
   ]
  },
  {
   "cell_type": "markdown",
   "metadata": {},
   "source": [
    "all books accounted for in groupings"
   ]
  },
  {
   "cell_type": "markdown",
   "metadata": {},
   "source": [
    "### groupings"
   ]
  },
  {
   "cell_type": "code",
   "execution_count": 13,
   "metadata": {
    "collapsed": false
   },
   "outputs": [],
   "source": [
    "for group, books in book_breakdowns.items():\n",
    "    print(group)\n",
    "    print('\\n'.join(books + [' ']))"
   ]
  },
  {
   "cell_type": "markdown",
   "metadata": {},
   "source": [
    "## Testing pdf miner on single page"
   ]
  },
  {
   "cell_type": "markdown",
   "metadata": {},
   "source": [
    "This section has been superseded by the module I wrote for parsing."
   ]
  },
  {
   "cell_type": "code",
   "execution_count": 16,
   "metadata": {
    "collapsed": false
   },
   "outputs": [],
   "source": [
    "# pages = []\n",
    "# laparams = LAParams()\n",
    "# device = PDFPageAggregator(rsrcmgr, laparams=laparams)\n",
    "# interpreter = PDFPageInterpreter(rsrcmgr, device)\n",
    "# for page in PDFPage.create_pages(document):\n",
    "#     interpreter.process_page(page)\n",
    "#     # receive the LTPage object for the page.\n",
    "#     pages.append(device.get_result())"
   ]
  },
  {
   "cell_type": "markdown",
   "metadata": {},
   "source": [
    "### drawing bounding boxes over image"
   ]
  },
  {
   "cell_type": "code",
   "execution_count": 18,
   "metadata": {
    "collapsed": false
   },
   "outputs": [],
   "source": [
    "# page_file ='test_page.pdf'\n",
    "# page_layout = make_page_layout(page_file)\n",
    "# page_png_stream, y_height = make_png_stream(page_file)\n",
    "# page_img = make_open_cv_img(page_png_stream)\n",
    "\n",
    "# for box in page_layout._objs:\n",
    "#     lr, ul = get_bbox_tuple(box, y_height)\n",
    "#     cv2.rectangle(page_img, ul, lr, color=random_color(), thickness=2)\n",
    "#     try:\n",
    "#         print(box.get_text())\n",
    "#     except AttributeError:\n",
    "#         pass\n",
    "# display(Image.fromarray(page_img, 'RGB'))"
   ]
  },
  {
   "cell_type": "code",
   "execution_count": 19,
   "metadata": {
    "collapsed": true
   },
   "outputs": [],
   "source": [
    "#  laparams = LAParams()\n",
    "#     page_layouts = []\n",
    "#     with open(pdf_file, 'r') as fp:\n",
    "#         parser = PDFParser(fp)\n",
    "#         document = PDFDocument(parser)\n",
    "#         rsrcmgr = PDFResourceManager()\n",
    "#         device = PDFPageAggregator(rsrcmgr, laparams=laparams)\n",
    "#         interpreter = PDFPageInterpreter(rsrcmgr, device)\n",
    "#         for page in PDFPage.create_pages(document):\n",
    "#             interpreter.process_page(page)\n",
    "#             layout = device.get_result()\n",
    "#             page_layouts.append(layout)\n",
    "#     return page_layouts"
   ]
  },
  {
   "cell_type": "markdown",
   "metadata": {},
   "source": [
    "## Drawing sample pages for book categories"
   ]
  },
  {
   "cell_type": "markdown",
   "metadata": {},
   "source": [
    "### a generic page from each category-"
   ]
  },
  {
   "cell_type": "code",
   "execution_count": 20,
   "metadata": {
    "collapsed": false,
    "scrolled": false
   },
   "outputs": [],
   "source": [
    "for group, books in book_breakdowns.items():\n",
    "    print(group)\n",
    "    print('\\n'.join(books[2:3] + [' ']))\n",
    "    book_file ='./pdfs/' + books[2]\n",
    "    draw_pdf_with_boxes(book_file, [51,51])"
   ]
  },
  {
   "cell_type": "markdown",
   "metadata": {},
   "source": [
    "decent splitting params-\n",
    "line_overlap=0.5,\n",
    " char_margin=2.0,\n",
    " line_margin=0.5,\n",
    " word_margin=0.2,\n",
    " boxes_flow=0.5"
   ]
  },
  {
   "cell_type": "markdown",
   "metadata": {},
   "source": [
    "### a generic page from a single category"
   ]
  },
  {
   "cell_type": "code",
   "execution_count": 21,
   "metadata": {
    "collapsed": false,
    "scrolled": false
   },
   "outputs": [],
   "source": [
    "for idx in range(len(book_breakdowns['daily_sci'])):\n",
    "    book_file ='./pdfs/' + book_breakdowns['daily_sci'][idx]\n",
    "    draw_pdf_with_boxes(book_file, [149,149])"
   ]
  },
  {
   "cell_type": "markdown",
   "metadata": {},
   "source": [
    "## Draft Schema"
   ]
  },
  {
   "cell_type": "markdown",
   "metadata": {},
   "source": [
    "header/topic\n",
    "\n",
    "    -The page or section topic. This should be straightforward for turkers to recognize.\n",
    "\n",
    "definition\n",
    "\n",
    "    -The last page in the example above (How are living things different from nonliving things?) has a a good example--the vocab sidebar.\n",
    "\n",
    "discussion\n",
    "\n",
    "    - I envision this being the paragraph level discussion under a specific topic. This is by far the label with the most room for interpretation. I'm not sure what the right level of granularity is here. The paragraph is a nice easily identifiable block, but I could also see collapsing all of of the text under a topic (not falling under another label) into a single discussion blob.\n",
    "\n",
    "question \n",
    "\n",
    "    - Text from a multiple choice, short answer, or fill-in-the-blank question. These three categories cover most questions, but there are some less frequent types, e.g. word find, word scramble, drawing connections. \n",
    "\n",
    "diagram\n",
    "\n",
    "    - Diagram + figure labels and captions. \n",
    "\n",
    "other\n",
    "    \n",
    "    - Anything not covered by the above. Most of this should be structural or navigation related, e.g. page numbers, week/day headings."
   ]
  },
  {
   "cell_type": "markdown",
   "metadata": {},
   "source": [
    "## Proposal"
   ]
  },
  {
   "cell_type": "markdown",
   "metadata": {},
   "source": [
    "The results above demonstrate that the textbooks are fairly consistent in their organization and page layouts. The three series of books from the same publisher should be a good place to start, as they're very consistent and cover over half of the textbooks collected.\n",
    "\n",
    "Initially, I envision two rounds of mechanical turk annotations.\n",
    "<br><br/>\n",
    "\n",
    "    0. Pre-process the pdf-extraction in any way we can to simplify the turk tasks and reduce noise. This could include removing footers, table of contents (assuming we don't want those), and could even include programmatically joining some boxes.   \n",
    "\n",
    "    1. Present a single page- label every box identified in the pdf extraction.\n",
    "\n",
    "\n",
    "    2. Present boxes of a single category on a page- select boxes that should be grouped together or split. I'm not sure how difficult this would be to convey. The idea would be to join text separated or joined erroneously. In the examples above, this happens at paragraph indentations and many multi-line or fill-in-the-blank questions. \n",
    "    \n",
    "If this sounds reasonable, I'll start prototyping the interface for the first turk task and generate some example results so you know what to expect. I envision the output being a json-"
   ]
  },
  {
   "cell_type": "code",
   "execution_count": 32,
   "metadata": {
    "collapsed": false
   },
   "outputs": [],
   "source": [
    "{\n",
    "    \"category_label\": {\n",
    "        \"box_id\": {\n",
    "            \"id\": \"D1\",\n",
    "            \"text\":\"the contents of the text box\",\n",
    "            \"source\": [\"textbook\", \"page_n\"],\n",
    "            \"bounding_box\": [\n",
    "                [\n",
    "                    400,\n",
    "                    100\n",
    "                ],\n",
    "                [\n",
    "                    500,\n",
    "                    100\n",
    "                ]\n",
    "            ]\n",
    "        }\n",
    "    }\n",
    "}"
   ]
  },
  {
   "cell_type": "markdown",
   "metadata": {},
   "source": [
    "# END"
   ]
  },
  {
   "cell_type": "markdown",
   "metadata": {},
   "source": [
    "### experiments with parser settings and acrobat text recognition- abandoned for now"
   ]
  },
  {
   "cell_type": "code",
   "execution_count": 22,
   "metadata": {
    "collapsed": true
   },
   "outputs": [],
   "source": [
    "# line_overlap=0.5,\n",
    "#                  char_margin=2.0,\n",
    "#                  line_margin=0.5,\n",
    "#                  word_margin=0.1,\n",
    "#                  boxes_flow=0.5,\n",
    "\n",
    "# book_file = 'exact_1.pdf'\n",
    "# draw_pdf_with_boxes(book_file, 0)\n",
    "\n",
    "# book_file = 'single_page_test.pdf'\n",
    "# draw_pdf_with_boxes(book_file, 0, \n",
    "#                 line_overlap=0.5,\n",
    "#                  char_margin=2.,\n",
    "#                  line_margin=0.9,\n",
    "#                  word_margin=0.1, #no affect\n",
    "#                  boxes_flow=1.0 )# no affect\n",
    "\n",
    "# # tpl1 = make_page_layouts('single_page_test.pdf', 0)\n",
    "# tpl1 = make_page_layouts(book_file, 0, \n",
    "#              line_overlap=0.5,\n",
    "#                  char_margin=2.5,\n",
    "#                  line_margin=0.9,\n",
    "#                  word_margin=0.1, #no affect\n",
    "#                  boxes_flow=0.5 )# no affect\n",
    "\n",
    "# tpl1_boxes = tpl1[0]._objs\n",
    "# tpl1_boxes"
   ]
  }
 ],
 "metadata": {
  "kernelspec": {
   "display_name": "Python 2",
   "language": "python",
   "name": "python2"
  },
  "language_info": {
   "codemirror_mode": {
    "name": "ipython",
    "version": 2
   },
   "file_extension": ".py",
   "mimetype": "text/x-python",
   "name": "python",
   "nbconvert_exporter": "python",
   "pygments_lexer": "ipython2",
   "version": "2.7.10"
  }
 },
 "nbformat": 4,
 "nbformat_minor": 0
}
