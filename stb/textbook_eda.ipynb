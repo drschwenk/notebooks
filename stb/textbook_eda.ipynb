{
 "cells": [
  {
   "cell_type": "markdown",
   "metadata": {},
   "source": [
    "# Table of Contents\n",
    "* [Exploring science textbooks for parsing and annotations](#Exploring-science-textbooks-for-parsing-and-annotations)\n",
    "\t* [basic parameters](#basic-parameters)\n",
    "\t* [checking extractability](#checking-extractability)\n",
    "\t* [Testing pdf miner on single page](#Testing-pdf-miner-on-single-page)\n",
    "\t\t* [drawing bounding boxes over image](#drawing-bounding-boxes-over-image)\n",
    "\t* [Drawing multiple pages](#Drawing-multiple-pages)\n",
    "* [END](#END)\n"
   ]
  },
  {
   "cell_type": "code",
   "execution_count": 264,
   "metadata": {
    "collapsed": false
   },
   "outputs": [],
   "source": [
    "%%capture\n",
    "import numpy as np\n",
    "import pandas as pd\n",
    "import scipy.stats as st\n",
    "import itertools\n",
    "import math\n",
    "from collections import Counter, defaultdict\n",
    "%load_ext autoreload\n",
    "%autoreload 2"
   ]
  },
  {
   "cell_type": "code",
   "execution_count": 2,
   "metadata": {
    "collapsed": false
   },
   "outputs": [],
   "source": [
    "from wand.image import Image as WImage\n",
    "from IPython.display import display\n",
    "import PIL.Image as Image\n",
    "import cv2\n",
    "\n",
    "from pdfminer.pdfparser import PDFParser\n",
    "from pdfminer.pdfdocument import PDFDocument\n",
    "from pdfminer.pdfpage import PDFPage\n",
    "from pdfminer.pdfpage import PDFTextExtractionNotAllowed\n",
    "from pdfminer.pdfinterp import PDFResourceManager\n",
    "from pdfminer.pdfinterp import PDFPageInterpreter\n",
    "from pdfminer.pdfdevice import PDFDevice\n",
    "from pdfminer.layout import LAParams\n",
    "from pdfminer.converter import PDFPageAggregator\n",
    "from pdfminer.converter import TextConverter"
   ]
  },
  {
   "cell_type": "code",
   "execution_count": 265,
   "metadata": {
    "collapsed": true
   },
   "outputs": [],
   "source": [
    "from pdf_processing import draw_pdf_with_boxes"
   ]
  },
  {
   "cell_type": "markdown",
   "metadata": {},
   "source": [
    "# Exploring science textbooks for parsing and annotations"
   ]
  },
  {
   "cell_type": "markdown",
   "metadata": {},
   "source": [
    "## basic parameters"
   ]
  },
  {
   "cell_type": "code",
   "execution_count": 293,
   "metadata": {
    "collapsed": false
   },
   "outputs": [],
   "source": [
    "ls pdfs/ | wc -l "
   ]
  },
  {
   "cell_type": "code",
   "execution_count": 294,
   "metadata": {
    "collapsed": false
   },
   "outputs": [],
   "source": [
    "book_list = !ls pdfs/\n",
    "book_list"
   ]
  },
  {
   "cell_type": "markdown",
   "metadata": {},
   "source": [
    "There are 28 total. With a couple of series-"
   ]
  },
  {
   "cell_type": "code",
   "execution_count": 313,
   "metadata": {
    "collapsed": true
   },
   "outputs": [],
   "source": [
    "book_breakdowns = defaultdict(list)"
   ]
  },
  {
   "cell_type": "code",
   "execution_count": 314,
   "metadata": {
    "collapsed": false
   },
   "outputs": [],
   "source": [
    "spectrum_science =  !ls pdfs/ | grep 'Spectrum Science'\n",
    "book_breakdowns['spectrum_sci'] = spectrum_science\n",
    "print('Spectrum Science,: ', len(spectrum_science), ' total')\n",
    "# print('\\n'.join(spectrum_science))"
   ]
  },
  {
   "cell_type": "code",
   "execution_count": 315,
   "metadata": {
    "collapsed": false
   },
   "outputs": [],
   "source": [
    "daily_science =  !ls pdfs/ | grep 'Daily Sc' \n",
    "book_breakdowns['daily_sci'] = daily_science\n",
    "print('Daily Science: ', len(daily_science), ' total')\n",
    "# print('\\n'.join(daily_science))"
   ]
  },
  {
   "cell_type": "code",
   "execution_count": 316,
   "metadata": {
    "collapsed": false
   },
   "outputs": [],
   "source": [
    "read_understand =  !ls pdfs/ | grep 'Read and Understand Science' \n",
    "book_breakdowns['read_und_sci'] = read_understand\n",
    "print('Read and Understand Science: ', len(read_understand), ' total')\n",
    "# print('\\n'.join(read_understand))"
   ]
  },
  {
   "cell_type": "code",
   "execution_count": 320,
   "metadata": {
    "collapsed": false
   },
   "outputs": [],
   "source": [
    "workbooks =  !ls pdfs/ | grep -i  'workbook' \n",
    "book_breakdowns['workbooks'] = workbooks\n",
    "print('workbooks: ', len(workbooks), ' total')\n",
    "# print('\\n'.join(workbooks))"
   ]
  },
  {
   "cell_type": "code",
   "execution_count": 318,
   "metadata": {
    "collapsed": false
   },
   "outputs": [],
   "source": [
    "for book in book_list:\n",
    "    if not sum([book in series for series in book_breakdowns.values()]):\n",
    "        book_breakdowns['misc'].append(book)"
   ]
  },
  {
   "cell_type": "code",
   "execution_count": 319,
   "metadata": {
    "collapsed": false
   },
   "outputs": [],
   "source": [
    "sum([len(books) for books in book_breakdowns.values()])"
   ]
  },
  {
   "cell_type": "markdown",
   "metadata": {},
   "source": [
    "all books accounted for in groupings"
   ]
  },
  {
   "cell_type": "code",
   "execution_count": 321,
   "metadata": {
    "collapsed": false
   },
   "outputs": [],
   "source": [
    "for group, books in book_breakdowns.items():\n",
    "    print(group)\n",
    "    print('\\n'.join(books + [' ']))"
   ]
  },
  {
   "cell_type": "markdown",
   "metadata": {},
   "source": [
    "## checking extractability "
   ]
  },
  {
   "cell_type": "code",
   "execution_count": 15,
   "metadata": {
    "collapsed": false
   },
   "outputs": [],
   "source": [
    "extractable = 0\n",
    "for textbook in book_list:\n",
    "    test_book_path = './pdfs/' + textbook\n",
    "    with open(test_book_path, 'r') as fp:\n",
    "        parser = PDFParser(fp)\n",
    "        document = PDFDocument(parser)\n",
    "        extractable += document.is_extractable\n",
    "extractable"
   ]
  },
  {
   "cell_type": "markdown",
   "metadata": {},
   "source": [
    "all of the documents are extractable!"
   ]
  },
  {
   "cell_type": "code",
   "execution_count": 228,
   "metadata": {
    "collapsed": true
   },
   "outputs": [],
   "source": [
    "!find ./pdfs/* | xargs -L 1 pdffonts"
   ]
  },
  {
   "cell_type": "markdown",
   "metadata": {},
   "source": [
    "fonts and encodings are consistent"
   ]
  },
  {
   "cell_type": "markdown",
   "metadata": {},
   "source": [
    "## Testing pdf miner on single page"
   ]
  },
  {
   "cell_type": "code",
   "execution_count": 16,
   "metadata": {
    "collapsed": true
   },
   "outputs": [],
   "source": [
    "pages = []\n",
    "laparams = LAParams()\n",
    "device = PDFPageAggregator(rsrcmgr, laparams=laparams)\n",
    "interpreter = PDFPageInterpreter(rsrcmgr, device)\n",
    "for page in PDFPage.create_pages(document):\n",
    "    interpreter.process_page(page)\n",
    "    # receive the LTPage object for the page.\n",
    "    pages.append(device.get_result())"
   ]
  },
  {
   "cell_type": "code",
   "execution_count": 17,
   "metadata": {
    "collapsed": false
   },
   "outputs": [],
   "source": [
    "# test_book = book_breakdowns['daily_sci'][3]\n",
    "test_book ='test_page.pdf'\n",
    "test_book_path = './' + test_book\n",
    "test_book"
   ]
  },
  {
   "cell_type": "markdown",
   "metadata": {},
   "source": [
    "### drawing bounding boxes over image"
   ]
  },
  {
   "cell_type": "code",
   "execution_count": 85,
   "metadata": {
    "collapsed": true
   },
   "outputs": [],
   "source": [
    "page_file ='test_page.pdf'\n",
    "page_layout = make_page_layout(page_file)\n",
    "page_png_stream, y_height = make_png_stream(page_file)\n",
    "page_img = make_open_cv_img(page_png_stream)\n",
    "\n",
    "for box in page_layout._objs:\n",
    "    lr, ul = get_bbox_tuple(box, y_height)\n",
    "    cv2.rectangle(page_img, ul, lr, color=random_color(), thickness=2)\n",
    "    try:\n",
    "        print(box.get_text())\n",
    "    except AttributeError:\n",
    "        pass\n",
    "display(Image.fromarray(page_img, 'RGB'))"
   ]
  },
  {
   "cell_type": "code",
   "execution_count": null,
   "metadata": {
    "collapsed": true
   },
   "outputs": [],
   "source": [
    " laparams = LAParams()\n",
    "    page_layouts = []\n",
    "    with open(pdf_file, 'r') as fp:\n",
    "        parser = PDFParser(fp)\n",
    "        document = PDFDocument(parser)\n",
    "        rsrcmgr = PDFResourceManager()\n",
    "        device = PDFPageAggregator(rsrcmgr, laparams=laparams)\n",
    "        interpreter = PDFPageInterpreter(rsrcmgr, device)\n",
    "        for page in PDFPage.create_pages(document):\n",
    "            interpreter.process_page(page)\n",
    "            layout = device.get_result()\n",
    "            page_layouts.append(layout)\n",
    "    return page_layouts"
   ]
  },
  {
   "cell_type": "markdown",
   "metadata": {},
   "source": [
    "pdf miner doesn't seem to find figs/ images"
   ]
  },
  {
   "cell_type": "markdown",
   "metadata": {},
   "source": [
    "## Drawing multiple pages"
   ]
  },
  {
   "cell_type": "code",
   "execution_count": 325,
   "metadata": {
    "collapsed": false
   },
   "outputs": [],
   "source": [
    "for group, books in book_breakdowns.items():\n",
    "    print(group)\n",
    "    print('\\n'.join(books[3:4] + [' ']))"
   ]
  },
  {
   "cell_type": "code",
   "execution_count": 326,
   "metadata": {
    "collapsed": false,
    "scrolled": false
   },
   "outputs": [],
   "source": [
    "book_file ='./pdfs/' + book_breakdowns['misc'][2]\n",
    "draw_pdf_with_boxes(book_file, [50,53])"
   ]
  },
  {
   "cell_type": "markdown",
   "metadata": {},
   "source": [
    "# END"
   ]
  },
  {
   "cell_type": "code",
   "execution_count": null,
   "metadata": {
    "collapsed": true
   },
   "outputs": [],
   "source": []
  }
 ],
 "metadata": {
  "kernelspec": {
   "display_name": "Python 2",
   "language": "python",
   "name": "python2"
  },
  "language_info": {
   "codemirror_mode": {
    "name": "ipython",
    "version": 2
   },
   "file_extension": ".py",
   "mimetype": "text/x-python",
   "name": "python",
   "nbconvert_exporter": "python",
   "pygments_lexer": "ipython2",
   "version": "2.7.10"
  }
 },
 "nbformat": 4,
 "nbformat_minor": 0
}
