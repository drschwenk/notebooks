{
 "cells": [
  {
   "cell_type": "markdown",
   "metadata": {},
   "source": [
    "# Table of Contents\n",
    "* [Exploring science textbooks for parsing and annotations](#Exploring-science-textbooks-for-parsing-and-annotations)\n",
    "\t* [basic parameters](#basic-parameters)\n",
    "\t* [checking extractability](#checking-extractability)\n",
    "\t* [Testing pdf miner on single page](#Testing-pdf-miner-on-single-page)\n",
    "\t\t* [drawing bounding boxes over image](#drawing-bounding-boxes-over-image)\n",
    "\t* [Drawing multiple pages](#Drawing-multiple-pages)\n",
    "* [END](#END)\n"
   ]
  },
  {
   "cell_type": "code",
   "execution_count": 23,
   "metadata": {
    "collapsed": false
   },
   "outputs": [],
   "source": [
    "%%capture\n",
    "import numpy as np\n",
    "import pandas as pd\n",
    "import scipy.stats as st\n",
    "import itertools\n",
    "import math\n",
    "from collections import Counter, defaultdict\n",
    "%load_ext autoreload\n",
    "%autoreload 2"
   ]
  },
  {
   "cell_type": "code",
   "execution_count": 24,
   "metadata": {
    "collapsed": false
   },
   "outputs": [],
   "source": [
    "from wand.image import Image as WImage\n",
    "from IPython.display import display\n",
    "import PIL.Image as Image\n",
    "import cv2\n",
    "\n",
    "from pdfminer.pdfparser import PDFParser\n",
    "from pdfminer.pdfdocument import PDFDocument\n",
    "from pdfminer.pdfpage import PDFPage\n",
    "from pdfminer.pdfpage import PDFTextExtractionNotAllowed\n",
    "from pdfminer.pdfinterp import PDFResourceManager\n",
    "from pdfminer.pdfinterp import PDFPageInterpreter\n",
    "from pdfminer.pdfdevice import PDFDevice\n",
    "from pdfminer.layout import LAParams\n",
    "from pdfminer.converter import PDFPageAggregator\n",
    "from pdfminer.converter import TextConverter"
   ]
  },
  {
   "cell_type": "code",
   "execution_count": 43,
   "metadata": {
    "collapsed": true
   },
   "outputs": [],
   "source": [
    "from pdf_processing import draw_pdf_with_boxes\n",
    "from pdf_processing import make_page_layouts"
   ]
  },
  {
   "cell_type": "markdown",
   "metadata": {},
   "source": [
    "# Exploring science textbooks for parsing and annotations"
   ]
  },
  {
   "cell_type": "markdown",
   "metadata": {},
   "source": [
    "## Summary"
   ]
  },
  {
   "cell_type": "markdown",
   "metadata": {},
   "source": [
    "The "
   ]
  },
  {
   "cell_type": "markdown",
   "metadata": {},
   "source": [
    "## basic parameters"
   ]
  },
  {
   "cell_type": "code",
   "execution_count": 4,
   "metadata": {
    "collapsed": false
   },
   "outputs": [],
   "source": [
    "ls pdfs/ | wc -l "
   ]
  },
  {
   "cell_type": "code",
   "execution_count": 465,
   "metadata": {
    "collapsed": false
   },
   "outputs": [],
   "source": [
    "book_list = !ls pdfs/\n",
    "book_list"
   ]
  },
  {
   "cell_type": "markdown",
   "metadata": {},
   "source": [
    "There are 28 total. With a couple of series-"
   ]
  },
  {
   "cell_type": "code",
   "execution_count": 466,
   "metadata": {
    "collapsed": true
   },
   "outputs": [],
   "source": [
    "book_breakdowns = defaultdict(list)"
   ]
  },
  {
   "cell_type": "code",
   "execution_count": 467,
   "metadata": {
    "collapsed": false
   },
   "outputs": [],
   "source": [
    "spectrum_science =  !ls pdfs/ | grep 'Spectrum Science'\n",
    "book_breakdowns['spectrum_sci'] = spectrum_science\n",
    "print('Spectrum Science,: ', len(spectrum_science), ' total')\n",
    "# print('\\n'.join(spectrum_science))"
   ]
  },
  {
   "cell_type": "code",
   "execution_count": 468,
   "metadata": {
    "collapsed": false
   },
   "outputs": [],
   "source": [
    "daily_science =  !ls pdfs/ | grep 'Daily Sc' \n",
    "book_breakdowns['daily_sci'] = daily_science\n",
    "print('Daily Science: ', len(daily_science), ' total')\n",
    "# print('\\n'.join(daily_science))"
   ]
  },
  {
   "cell_type": "code",
   "execution_count": 469,
   "metadata": {
    "collapsed": false
   },
   "outputs": [],
   "source": [
    "read_understand =  !ls pdfs/ | grep 'Read and Understand Science' \n",
    "book_breakdowns['read_und_sci'] = read_understand\n",
    "print('Read and Understand Science: ', len(read_understand), ' total')\n",
    "# print('\\n'.join(read_understand))"
   ]
  },
  {
   "cell_type": "code",
   "execution_count": 470,
   "metadata": {
    "collapsed": false
   },
   "outputs": [],
   "source": [
    "workbooks =  !ls pdfs/ | grep -i  'workbook' \n",
    "book_breakdowns['workbooks'] = workbooks\n",
    "print('workbooks: ', len(workbooks), ' total')\n",
    "# print('\\n'.join(workbooks))"
   ]
  },
  {
   "cell_type": "code",
   "execution_count": 471,
   "metadata": {
    "collapsed": false
   },
   "outputs": [],
   "source": [
    "for book in book_list:\n",
    "    if not sum([book in series for series in book_breakdowns.values()]):\n",
    "        book_breakdowns['misc'].append(book)"
   ]
  },
  {
   "cell_type": "code",
   "execution_count": 472,
   "metadata": {
    "collapsed": false
   },
   "outputs": [],
   "source": [
    "sum([len(books) for books in book_breakdowns.values()])"
   ]
  },
  {
   "cell_type": "markdown",
   "metadata": {},
   "source": [
    "all books accounted for in groupings"
   ]
  },
  {
   "cell_type": "code",
   "execution_count": null,
   "metadata": {
    "collapsed": false
   },
   "outputs": [],
   "source": [
    "for group, books in book_breakdowns.items():\n",
    "    print(group)\n",
    "    print('\\n'.join(books + [' ']))"
   ]
  },
  {
   "cell_type": "markdown",
   "metadata": {},
   "source": [
    "## checking extractability "
   ]
  },
  {
   "cell_type": "code",
   "execution_count": 14,
   "metadata": {
    "collapsed": false
   },
   "outputs": [],
   "source": [
    "extractable = 0\n",
    "for textbook in book_list:\n",
    "    test_book_path = './pdfs/' + textbook\n",
    "    with open(test_book_path, 'r') as fp:\n",
    "        parser = PDFParser(fp)\n",
    "        document = PDFDocument(parser)\n",
    "        extractable += document.is_extractable\n",
    "extractable"
   ]
  },
  {
   "cell_type": "markdown",
   "metadata": {},
   "source": [
    "all of the documents are extractable!"
   ]
  },
  {
   "cell_type": "code",
   "execution_count": 462,
   "metadata": {
    "collapsed": true
   },
   "outputs": [],
   "source": [
    "!find ./pdfs/* | xargs -L 1 pdffonts"
   ]
  },
  {
   "cell_type": "markdown",
   "metadata": {},
   "source": [
    "fonts and encodings are consistent"
   ]
  },
  {
   "cell_type": "markdown",
   "metadata": {},
   "source": [
    "## Testing pdf miner on single page"
   ]
  },
  {
   "cell_type": "code",
   "execution_count": 20,
   "metadata": {
    "collapsed": false
   },
   "outputs": [],
   "source": [
    "# pages = []\n",
    "# laparams = LAParams()\n",
    "# device = PDFPageAggregator(rsrcmgr, laparams=laparams)\n",
    "# interpreter = PDFPageInterpreter(rsrcmgr, device)\n",
    "# for page in PDFPage.create_pages(document):\n",
    "#     interpreter.process_page(page)\n",
    "#     # receive the LTPage object for the page.\n",
    "#     pages.append(device.get_result())"
   ]
  },
  {
   "cell_type": "markdown",
   "metadata": {},
   "source": [
    "### drawing bounding boxes over image"
   ]
  },
  {
   "cell_type": "code",
   "execution_count": 473,
   "metadata": {
    "collapsed": false
   },
   "outputs": [],
   "source": [
    "book_breakdowns"
   ]
  },
  {
   "cell_type": "code",
   "execution_count": 26,
   "metadata": {
    "collapsed": false
   },
   "outputs": [],
   "source": [
    "# page_file ='test_page.pdf'\n",
    "# page_layout = make_page_layout(page_file)\n",
    "# page_png_stream, y_height = make_png_stream(page_file)\n",
    "# page_img = make_open_cv_img(page_png_stream)\n",
    "\n",
    "# for box in page_layout._objs:\n",
    "#     lr, ul = get_bbox_tuple(box, y_height)\n",
    "#     cv2.rectangle(page_img, ul, lr, color=random_color(), thickness=2)\n",
    "#     try:\n",
    "#         print(box.get_text())\n",
    "#     except AttributeError:\n",
    "#         pass\n",
    "# display(Image.fromarray(page_img, 'RGB'))"
   ]
  },
  {
   "cell_type": "code",
   "execution_count": 27,
   "metadata": {
    "collapsed": true
   },
   "outputs": [],
   "source": [
    "#  laparams = LAParams()\n",
    "#     page_layouts = []\n",
    "#     with open(pdf_file, 'r') as fp:\n",
    "#         parser = PDFParser(fp)\n",
    "#         document = PDFDocument(parser)\n",
    "#         rsrcmgr = PDFResourceManager()\n",
    "#         device = PDFPageAggregator(rsrcmgr, laparams=laparams)\n",
    "#         interpreter = PDFPageInterpreter(rsrcmgr, device)\n",
    "#         for page in PDFPage.create_pages(document):\n",
    "#             interpreter.process_page(page)\n",
    "#             layout = device.get_result()\n",
    "#             page_layouts.append(layout)\n",
    "#     return page_layouts"
   ]
  },
  {
   "cell_type": "markdown",
   "metadata": {},
   "source": [
    "pdf miner doesn't seem to find figs/ images"
   ]
  },
  {
   "cell_type": "markdown",
   "metadata": {},
   "source": [
    "## Drawing sample pages"
   ]
  },
  {
   "cell_type": "markdown",
   "metadata": {},
   "source": [
    "### First, breadth- a random page from each category-"
   ]
  },
  {
   "cell_type": "code",
   "execution_count": 474,
   "metadata": {
    "collapsed": false,
    "scrolled": false
   },
   "outputs": [],
   "source": [
    "for group, books in book_breakdowns.items():\n",
    "    print(group)\n",
    "    print('\\n'.join(books[2:3] + [' ']))\n",
    "    book_file ='./pdfs/' + books[2]\n",
    "    draw_pdf_with_boxes(book_file, [51,51])"
   ]
  },
  {
   "cell_type": "markdown",
   "metadata": {},
   "source": [
    "decent splitting params-\n",
    "line_overlap=0.5,\n",
    " char_margin=2.0,\n",
    " line_margin=0.5,\n",
    " word_margin=0.2,\n",
    " boxes_flow=0.5"
   ]
  },
  {
   "cell_type": "markdown",
   "metadata": {},
   "source": [
    "and now a random page from a single category"
   ]
  },
  {
   "cell_type": "code",
   "execution_count": 476,
   "metadata": {
    "collapsed": false,
    "scrolled": false
   },
   "outputs": [],
   "source": [
    "for idx in range(len(book_breakdowns['daily_sci'])):\n",
    "    book_file ='./pdfs/' + book_breakdowns['daily_sci'][idx]\n",
    "    draw_pdf_with_boxes(book_file, [149,149])"
   ]
  },
  {
   "cell_type": "markdown",
   "metadata": {},
   "source": [
    "## Proposal"
   ]
  },
  {
   "cell_type": "markdown",
   "metadata": {},
   "source": [
    "## Draft Schema"
   ]
  },
  {
   "cell_type": "markdown",
   "metadata": {},
   "source": [
    "title\n",
    "\n",
    "header/topic\n",
    "\n",
    "definition\n",
    "\n",
    "explanation\n",
    "\n",
    "discussion\n",
    "\n",
    "question \n",
    "\n",
    "diagram label\n",
    "\n",
    "other\n"
   ]
  },
  {
   "cell_type": "markdown",
   "metadata": {},
   "source": [
    "# END"
   ]
  },
  {
   "cell_type": "markdown",
   "metadata": {},
   "source": [
    "### experiments with acrobat text recognition"
   ]
  },
  {
   "cell_type": "code",
   "execution_count": 427,
   "metadata": {
    "collapsed": true
   },
   "outputs": [],
   "source": [
    "# line_overlap=0.5,\n",
    "#                  char_margin=2.0,\n",
    "#                  line_margin=0.5,\n",
    "#                  word_margin=0.1,\n",
    "#                  boxes_flow=0.5,\n",
    "\n",
    "# book_file = 'exact_1.pdf'\n",
    "# draw_pdf_with_boxes(book_file, 0)\n",
    "\n",
    "# book_file = 'single_page_test.pdf'\n",
    "# draw_pdf_with_boxes(book_file, 0, \n",
    "#                 line_overlap=0.5,\n",
    "#                  char_margin=2.,\n",
    "#                  line_margin=0.9,\n",
    "#                  word_margin=0.1, #no affect\n",
    "#                  boxes_flow=1.0 )# no affect\n",
    "\n",
    "# # tpl1 = make_page_layouts('single_page_test.pdf', 0)\n",
    "# tpl1 = make_page_layouts(book_file, 0, \n",
    "#              line_overlap=0.5,\n",
    "#                  char_margin=2.5,\n",
    "#                  line_margin=0.9,\n",
    "#                  word_margin=0.1, #no affect\n",
    "#                  boxes_flow=0.5 )# no affect\n",
    "\n",
    "# tpl1_boxes = tpl1[0]._objs\n",
    "# tpl1_boxes"
   ]
  }
 ],
 "metadata": {
  "kernelspec": {
   "display_name": "Python 2",
   "language": "python",
   "name": "python2"
  },
  "language_info": {
   "codemirror_mode": {
    "name": "ipython",
    "version": 2
   },
   "file_extension": ".py",
   "mimetype": "text/x-python",
   "name": "python",
   "nbconvert_exporter": "python",
   "pygments_lexer": "ipython2",
   "version": "2.7.10"
  }
 },
 "nbformat": 4,
 "nbformat_minor": 0
}
