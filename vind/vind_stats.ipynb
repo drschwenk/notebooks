{
 "cells": [
  {
   "cell_type": "markdown",
   "metadata": {},
   "source": [
    "# Table of Contents\n",
    "* [VIND dataset](#VIND-dataset)\n",
    "\t* [Basic stats](#Basic-stats)\n",
    "\t\t* [Test/Train split- video numbers](#Test/Train-split--video-numbers)\n",
    "\t\t* [fine-grained action types](#fine-grained-action-types)\n",
    "\t\t* [Establishing non-uniqueness of paths and movie names](#Establishing-non-uniqueness-of-paths-and-movie-names)\n",
    "\t\t* [Coarse category types](#Coarse-category-types)\n",
    "\t\t* [Comparing category distributions between test/train](#Comparing-category-distributions-between-test/train)\n",
    "\t* [Looking at movie length distribution of combined test/train](#Looking-at-movie-length-distribution-of-combined-test/train)\n",
    "\t\t* [In the future, should set max capture length](#In-the-future,-should-set-max-capture-length)\n"
   ]
  },
  {
   "cell_type": "markdown",
   "metadata": {},
   "source": [
    "# VIND dataset"
   ]
  },
  {
   "cell_type": "code",
   "execution_count": 3,
   "metadata": {
    "collapsed": true
   },
   "outputs": [],
   "source": [
    "%%capture\n",
    "import numpy as np\n",
    "import pandas as pd\n",
    "import scipy.stats as st\n",
    "import itertools\n",
    "import operator\n",
    "import math\n",
    "from collections import Counter, defaultdict\n",
    "import glob\n",
    "import os"
   ]
  },
  {
   "cell_type": "code",
   "execution_count": 4,
   "metadata": {
    "collapsed": true
   },
   "outputs": [],
   "source": [
    "%%capture\n",
    "import matplotlib as mpl\n",
    "mpl.use(\"Agg\")\n",
    "import matplotlib.pylab as plt\n",
    "#%matplotlib notebook\n",
    "%matplotlib inline\n",
    "%load_ext base16_mplrc\n",
    "%base16_mplrc light default\n",
    "plt.rcParams['figure.figsize'] = (16.0, 10.0)"
   ]
  },
  {
   "cell_type": "markdown",
   "metadata": {},
   "source": [
    "## Basic stats"
   ]
  },
  {
   "cell_type": "markdown",
   "metadata": {},
   "source": [
    "### Test/Train split- video numbers"
   ]
  },
  {
   "cell_type": "code",
   "execution_count": 182,
   "metadata": {
    "collapsed": false
   },
   "outputs": [],
   "source": [
    "!ls data/prediction_videos_final_train/* | wc -l\n",
    "!ls data/prediction_videos_final_test/* | wc -l"
   ]
  },
  {
   "cell_type": "markdown",
   "metadata": {},
   "source": [
    "### fine-grained action types"
   ]
  },
  {
   "cell_type": "code",
   "execution_count": 6,
   "metadata": {
    "collapsed": false,
    "scrolled": true
   },
   "outputs": [],
   "source": [
    "test_cats = !ls data/prediction_videos_final_test\n",
    "test_cats = set(test_cats)\n",
    "test_cats"
   ]
  },
  {
   "cell_type": "code",
   "execution_count": 7,
   "metadata": {
    "collapsed": false,
    "scrolled": true
   },
   "outputs": [],
   "source": [
    "train_cats = !ls data/prediction_videos_final_train\n",
    "train_cats = set(train_cats)\n",
    "train_cats"
   ]
  },
  {
   "cell_type": "code",
   "execution_count": 8,
   "metadata": {
    "collapsed": false,
    "scrolled": true
   },
   "outputs": [],
   "source": [
    "test_cats.difference(train_cats)"
   ]
  },
  {
   "cell_type": "markdown",
   "metadata": {},
   "source": [
    "Some categories don't appear in both test and train"
   ]
  },
  {
   "cell_type": "markdown",
   "metadata": {},
   "source": [
    "### Establishing non-uniqueness of paths and movie names"
   ]
  },
  {
   "cell_type": "code",
   "execution_count": 9,
   "metadata": {
    "collapsed": false
   },
   "outputs": [],
   "source": [
    "test_movie_names = []\n",
    "for movie in glob.glob('./data/prediction_videos_final_test/*/*'):\n",
    "    test_movie_names.append(movie.split('/')[4])"
   ]
  },
  {
   "cell_type": "code",
   "execution_count": 10,
   "metadata": {
    "collapsed": false
   },
   "outputs": [],
   "source": [
    "test_movie_names[:5]"
   ]
  },
  {
   "cell_type": "code",
   "execution_count": 11,
   "metadata": {
    "collapsed": false
   },
   "outputs": [],
   "source": [
    "print(len(test_movie_names))\n",
    "print(len(set(test_movie_names)))"
   ]
  },
  {
   "cell_type": "markdown",
   "metadata": {},
   "source": [
    "Movie names are not unique"
   ]
  },
  {
   "cell_type": "code",
   "execution_count": 12,
   "metadata": {
    "collapsed": false
   },
   "outputs": [],
   "source": [
    "[m for m in test_movie_names if m == '00000']"
   ]
  },
  {
   "cell_type": "markdown",
   "metadata": {},
   "source": [
    "These 'stable' images can be ignored"
   ]
  },
  {
   "cell_type": "code",
   "execution_count": 13,
   "metadata": {
    "collapsed": true
   },
   "outputs": [],
   "source": [
    "train_movie_names = []\n",
    "for movie in glob.glob('./data/prediction_videos_final_train/*/*'):\n",
    "    train_movie_names.append(movie.split('/')[4])"
   ]
  },
  {
   "cell_type": "code",
   "execution_count": 221,
   "metadata": {
    "collapsed": false
   },
   "outputs": [],
   "source": [
    "print(len(train_movie_names))\n",
    "print(len(set(train_movie_names)))\n",
    "print(len(test_movie_names) + len(train_movie_names))\n",
    "print()\n",
    "print(len(set(train_movie_names).intersection(set(test_movie_names))))\n",
    "print(len(set(train_movie_names).difference(set(test_movie_names))))"
   ]
  },
  {
   "cell_type": "code",
   "execution_count": 87,
   "metadata": {
    "collapsed": false
   },
   "outputs": [],
   "source": [
    "full_train_movie_names = []\n",
    "for movie in glob.glob('./data/prediction_videos_final_train/*/*'):\n",
    "    full_train_movie_names.append('/'.join(movie.split('/')[3:5]))\n",
    "\n",
    "full_test_movie_names = []\n",
    "for movie in glob.glob('./data/prediction_videos_final_test/*/*'):\n",
    "    full_test_movie_names.append('/'.join(movie.split('/')[3:5]))"
   ]
  },
  {
   "cell_type": "code",
   "execution_count": 222,
   "metadata": {
    "collapsed": false
   },
   "outputs": [],
   "source": [
    "print(len(full_train_movie_names))\n",
    "print(len(set(full_train_movie_names)))\n",
    "print()\n",
    "print(len(full_test_movie_names))\n",
    "print(len(set(full_test_movie_names)))"
   ]
  },
  {
   "cell_type": "code",
   "execution_count": 18,
   "metadata": {
    "collapsed": false
   },
   "outputs": [],
   "source": [
    "print(len(set(full_train_movie_names).intersection(set(full_train_movie_names))))\n",
    "print(len(set(train_movie_names)))"
   ]
  },
  {
   "cell_type": "markdown",
   "metadata": {},
   "source": [
    "### Coarse category types"
   ]
  },
  {
   "cell_type": "code",
   "execution_count": 108,
   "metadata": {
    "collapsed": false
   },
   "outputs": [],
   "source": [
    "train_cat_occurence = [cat.split('/')[0] for cat in full_train_movie_names]\n",
    "\n",
    "train_cat_counts = Counter(train_cat_occurence)\n",
    "train_cat_counts.most_common()[:10]"
   ]
  },
  {
   "cell_type": "code",
   "execution_count": 110,
   "metadata": {
    "collapsed": false
   },
   "outputs": [],
   "source": [
    "test_cat_occurence = [cat.split('/')[0] for cat in full_test_movie_names]\n",
    "\n",
    "test_cat_counts = Counter(test_cat_occurence)\n",
    "test_cat_counts.most_common()[:10]"
   ]
  },
  {
   "cell_type": "code",
   "execution_count": 150,
   "metadata": {
    "collapsed": false
   },
   "outputs": [],
   "source": [
    "train_meta_cat_occurence = [cat.split('/')[0].split('-', maxsplit=1)[0] for cat in full_train_movie_names]\n",
    "\n",
    "train_meta_cat_counts = Counter(train_meta_cat_occurence)\n",
    "train_meta_cat_counts.most_common()"
   ]
  },
  {
   "cell_type": "code",
   "execution_count": 149,
   "metadata": {
    "collapsed": false
   },
   "outputs": [],
   "source": [
    "test_meta_cat_occurence = [cat.split('/')[0].split('-', maxsplit=1)[0] for cat in full_test_movie_names]\n",
    "\n",
    "test_meta_cat_counts = Counter(test_meta_cat_occurence)\n",
    "sorted_test = test_meta_cat_counts.most_common()"
   ]
  },
  {
   "cell_type": "code",
   "execution_count": null,
   "metadata": {
    "collapsed": true
   },
   "outputs": [],
   "source": []
  },
  {
   "cell_type": "markdown",
   "metadata": {},
   "source": [
    "### Comparing category distributions between test/train"
   ]
  },
  {
   "cell_type": "code",
   "execution_count": 171,
   "metadata": {
    "collapsed": false
   },
   "outputs": [],
   "source": [
    "bot_test = [cat[0] for cat in sorted_test]\n",
    "wid_test = [cat[1] for cat in sorted_test]\n",
    "\n",
    "bot_train = bot_test \n",
    "wid_train = [train_meta_cat_counts[cat[0]] for cat in sorted_test]\n",
    "\n",
    "fig, ax = plt.subplots()\n",
    "ax.barh(np.arange(len(wid_test)),wid_test, alpha = 0.6)\n",
    "ax.barh(np.arange(len(wid_test)),wid_train, alpha = 0.6, color='y')\n",
    "\n",
    "_ = ax.set_yticklabels(bot_test)"
   ]
  },
  {
   "cell_type": "code",
   "execution_count": 19,
   "metadata": {
    "collapsed": false
   },
   "outputs": [],
   "source": [
    "all_movies = []\n",
    "for movie in glob.glob('./data/prediction_videos_final_train/*/*'):\n",
    "    all_movies.append('/'.join(movie.split('/')[2:5]))\n",
    "\n",
    "full_test_movie = []\n",
    "for movie in glob.glob('./data/prediction_videos_final_test/*/*'):\n",
    "    all_movies.append('/'.join(movie.split('/')[2:5]))"
   ]
  },
  {
   "cell_type": "code",
   "execution_count": 20,
   "metadata": {
    "collapsed": false
   },
   "outputs": [],
   "source": [
    "all_movies[:5]"
   ]
  },
  {
   "cell_type": "markdown",
   "metadata": {},
   "source": [
    "## Looking at movie length distribution of combined test/train"
   ]
  },
  {
   "cell_type": "code",
   "execution_count": 223,
   "metadata": {
    "collapsed": false
   },
   "outputs": [],
   "source": [
    "movie_lengths = {}\n",
    "for path in all_movies:\n",
    "    files = os.listdir('./data/'+path)\n",
    "    movie_lengths[''.join(path.split('_', maxsplit=3)[3:])] = len(files)"
   ]
  },
  {
   "cell_type": "code",
   "execution_count": 75,
   "metadata": {
    "collapsed": false,
    "scrolled": true
   },
   "outputs": [],
   "source": [
    "sorted_movies = sorted(movie_lengths.items(), key=operator.itemgetter(1))"
   ]
  },
  {
   "cell_type": "code",
   "execution_count": 76,
   "metadata": {
    "collapsed": false,
    "scrolled": true
   },
   "outputs": [],
   "source": [
    "sorted_movies[295:305]"
   ]
  },
  {
   "cell_type": "code",
   "execution_count": 77,
   "metadata": {
    "collapsed": false
   },
   "outputs": [],
   "source": [
    "sorted_movies[-10:]"
   ]
  },
  {
   "cell_type": "code",
   "execution_count": 38,
   "metadata": {
    "collapsed": false
   },
   "outputs": [],
   "source": [
    "length_series = pd.Series(list(movie_lengths.values()))\n",
    "_ = length_series.hist(bins = 30, log = True)"
   ]
  },
  {
   "cell_type": "code",
   "execution_count": 226,
   "metadata": {
    "collapsed": false
   },
   "outputs": [],
   "source": [
    "length_series = pd.Series([val for val in movie_lengths.values() if val < 300])\n",
    "_ = length_series.hist(bins = 30)"
   ]
  },
  {
   "cell_type": "code",
   "execution_count": 216,
   "metadata": {
    "collapsed": false
   },
   "outputs": [],
   "source": [
    "len_array = np.array([int(sm[1]) for sm in sorted_movies])\n",
    "\n",
    "len_array_f = len_array[len_array > 1]\n",
    "len_array_f = len_array_f[len_array_f < 300]\n",
    "l_full, l_fill =len(len_array), len(len_array_f)\n",
    "print(l_full, l_fill)\n",
    "ldiff = l_full- l_fill\n",
    "print(ldiff)\n",
    "print(ldiff/l_full)"
   ]
  },
  {
   "cell_type": "code",
   "execution_count": 217,
   "metadata": {
    "collapsed": false
   },
   "outputs": [],
   "source": [
    "300/24"
   ]
  },
  {
   "cell_type": "markdown",
   "metadata": {},
   "source": [
    "Only 5% of the videos have more than 300 frames, or 12s"
   ]
  },
  {
   "cell_type": "code",
   "execution_count": 81,
   "metadata": {
    "collapsed": false
   },
   "outputs": [],
   "source": [
    "df = pd.DataFrame.from_records(sorted_movies)"
   ]
  },
  {
   "cell_type": "code",
   "execution_count": 176,
   "metadata": {
    "collapsed": false
   },
   "outputs": [],
   "source": [
    "df[0].to_csv('./movies_sorted_by_length.csv', index = False)"
   ]
  },
  {
   "cell_type": "markdown",
   "metadata": {},
   "source": [
    "### In the future, should set max capture length"
   ]
  },
  {
   "cell_type": "code",
   "execution_count": null,
   "metadata": {
    "collapsed": true
   },
   "outputs": [],
   "source": []
  }
 ],
 "metadata": {
  "kernelspec": {
   "display_name": "Python 3",
   "language": "python",
   "name": "python3"
  },
  "language_info": {
   "codemirror_mode": {
    "name": "ipython",
    "version": 3
   },
   "file_extension": ".py",
   "mimetype": "text/x-python",
   "name": "python",
   "nbconvert_exporter": "python",
   "pygments_lexer": "ipython3",
   "version": "3.5.0"
  }
 },
 "nbformat": 4,
 "nbformat_minor": 0
}
