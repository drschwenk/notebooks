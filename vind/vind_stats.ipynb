{
 "cells": [
  {
   "cell_type": "markdown",
   "metadata": {},
   "source": [
    "# Table of Contents\n",
    "* [VIND dataset](#VIND-dataset)\n",
    "\t* [Basic stats](#Basic-stats)\n",
    "\t\t* [Test/Train split- video numbers](#Test/Train-split--video-numbers)\n",
    "\t\t* [fine-grained action types](#fine-grained-action-types)\n",
    "\t\t* [Establishing non-uniqueness of paths and movie names](#Establishing-non-uniqueness-of-paths-and-movie-names)\n",
    "\t\t* [Coarse category types](#Coarse-category-types)\n",
    "\t\t* [Comparing category distributions between test/train](#Comparing-category-distributions-between-test/train)\n",
    "\t* [Looking at movie length distribution of combined test/train](#Looking-at-movie-length-distribution-of-combined-test/train)\n",
    "\t* [Sorting replacment videos](#Sorting-replacment-videos)\n",
    "\t* [second pass over selected categories](#second-pass-over-selected-categories)\n",
    "\t\t* [In the future, should set max capture length](#In-the-future,-should-set-max-capture-length)\n",
    "\t* [Confirmation code output test](#Confirmation-code-output-test)\n",
    "\t* [identicle frames](#identicle-frames)\n",
    "\t* [file renaming example](#file-renaming-example)\n",
    "\t* [similar image comparison](#similar-image-comparison)\n"
   ]
  },
  {
   "cell_type": "markdown",
   "metadata": {},
   "source": [
    "# VIND dataset"
   ]
  },
  {
   "cell_type": "code",
   "execution_count": 1,
   "metadata": {
    "collapsed": true
   },
   "outputs": [],
   "source": [
    "%%capture\n",
    "import numpy as np\n",
    "import pandas as pd\n",
    "import scipy.stats as st\n",
    "import itertools\n",
    "import operator\n",
    "import math\n",
    "from collections import Counter, defaultdict\n",
    "import glob\n",
    "import os"
   ]
  },
  {
   "cell_type": "code",
   "execution_count": 2,
   "metadata": {
    "collapsed": true
   },
   "outputs": [],
   "source": [
    "%%capture\n",
    "import matplotlib as mpl\n",
    "mpl.use(\"Agg\")\n",
    "import matplotlib.pylab as plt\n",
    "#%matplotlib notebook\n",
    "%matplotlib inline\n",
    "%load_ext base16_mplrc\n",
    "%base16_mplrc light default\n",
    "plt.rcParams['figure.figsize'] = (16.0, 10.0)"
   ]
  },
  {
   "cell_type": "markdown",
   "metadata": {},
   "source": [
    "go over rugby to screen pov changes\n",
    "\n",
    "ask about first person pov\n",
    "low frame rate train lifting_weights 130_0\n",
    "\n",
    "subset image/video\n",
    "\n",
    "slow motion/ repeated frames \n",
    "data/prediction_videos_final_train/falling-cliff-jumping/56_0\n",
    "diving/cliff jumping\n",
    "data/prediction_videos_final_train/falling-cliff-jumping/100_2"
   ]
  },
  {
   "cell_type": "markdown",
   "metadata": {},
   "source": [
    "## Basic stats"
   ]
  },
  {
   "cell_type": "markdown",
   "metadata": {},
   "source": [
    "### Test/Train split- video numbers"
   ]
  },
  {
   "cell_type": "code",
   "execution_count": 3,
   "metadata": {
    "collapsed": false
   },
   "outputs": [],
   "source": [
    "!ls data/prediction_videos_final_train/* | wc -l\n",
    "!ls data/prediction_videos_final_test/* | wc -l"
   ]
  },
  {
   "cell_type": "code",
   "execution_count": 4,
   "metadata": {
    "collapsed": false
   },
   "outputs": [],
   "source": [
    "ntot = 6887"
   ]
  },
  {
   "cell_type": "code",
   "execution_count": 125,
   "metadata": {
    "collapsed": false
   },
   "outputs": [],
   "source": [
    "ntot*0.95"
   ]
  },
  {
   "cell_type": "code",
   "execution_count": 120,
   "metadata": {
    "collapsed": false
   },
   "outputs": [],
   "source": [
    "(ntot-6018)*15/100"
   ]
  },
  {
   "cell_type": "code",
   "execution_count": 6,
   "metadata": {
    "collapsed": false
   },
   "outputs": [],
   "source": [
    "1420 * 5 /3600"
   ]
  },
  {
   "cell_type": "markdown",
   "metadata": {},
   "source": [
    "### fine-grained action types"
   ]
  },
  {
   "cell_type": "code",
   "execution_count": 7,
   "metadata": {
    "collapsed": false
   },
   "outputs": [],
   "source": [
    "test_cats = !ls data/prediction_videos_final_test\n",
    "test_cats = set(test_cats)\n",
    "test_cats"
   ]
  },
  {
   "cell_type": "code",
   "execution_count": 8,
   "metadata": {
    "collapsed": false
   },
   "outputs": [],
   "source": [
    "train_cats = !ls data/prediction_videos_final_train\n",
    "train_cats = set(train_cats)\n",
    "train_cats"
   ]
  },
  {
   "cell_type": "code",
   "execution_count": 9,
   "metadata": {
    "collapsed": false
   },
   "outputs": [],
   "source": [
    "test_cats.difference(train_cats)"
   ]
  },
  {
   "cell_type": "code",
   "execution_count": null,
   "metadata": {
    "collapsed": true
   },
   "outputs": [],
   "source": []
  },
  {
   "cell_type": "markdown",
   "metadata": {},
   "source": [
    "Some categories don't appear in both test and train"
   ]
  },
  {
   "cell_type": "markdown",
   "metadata": {},
   "source": [
    "### Establishing non-uniqueness of paths and movie names"
   ]
  },
  {
   "cell_type": "code",
   "execution_count": 10,
   "metadata": {
    "collapsed": false
   },
   "outputs": [],
   "source": [
    "test_movie_names = []\n",
    "for movie in glob.glob('./data/prediction_videos_final_test/*/*'):\n",
    "    test_movie_names.append(movie.split('/')[4])"
   ]
  },
  {
   "cell_type": "code",
   "execution_count": 11,
   "metadata": {
    "collapsed": false
   },
   "outputs": [],
   "source": [
    "test_movie_names[:5]"
   ]
  },
  {
   "cell_type": "code",
   "execution_count": 12,
   "metadata": {
    "collapsed": false
   },
   "outputs": [],
   "source": [
    "print(len(test_movie_names))\n",
    "print(len(set(test_movie_names)))"
   ]
  },
  {
   "cell_type": "markdown",
   "metadata": {},
   "source": [
    "Movie names are not unique"
   ]
  },
  {
   "cell_type": "code",
   "execution_count": 13,
   "metadata": {
    "collapsed": false
   },
   "outputs": [],
   "source": [
    "[m for m in test_movie_names if m == '00000']"
   ]
  },
  {
   "cell_type": "markdown",
   "metadata": {},
   "source": [
    "These 'stable' images can be ignored"
   ]
  },
  {
   "cell_type": "code",
   "execution_count": 14,
   "metadata": {
    "collapsed": true
   },
   "outputs": [],
   "source": [
    "train_movie_names = []\n",
    "for movie in glob.glob('./data/prediction_videos_final_train/*/*'):\n",
    "    train_movie_names.append(movie.split('/')[4])"
   ]
  },
  {
   "cell_type": "code",
   "execution_count": 15,
   "metadata": {
    "collapsed": false
   },
   "outputs": [],
   "source": [
    "print(len(train_movie_names))\n",
    "print(len(set(train_movie_names)))\n",
    "print(len(test_movie_names) + len(train_movie_names))\n",
    "print()\n",
    "print(len(set(train_movie_names).intersection(set(test_movie_names))))\n",
    "print(len(set(train_movie_names).difference(set(test_movie_names))))"
   ]
  },
  {
   "cell_type": "code",
   "execution_count": 16,
   "metadata": {
    "collapsed": false
   },
   "outputs": [],
   "source": [
    "full_train_movie_names = []\n",
    "for movie in glob.glob('./data/prediction_videos_final_train/*/*'):\n",
    "    full_train_movie_names.append('/'.join(movie.split('/')[3:5]))\n",
    "\n",
    "full_test_movie_names = []\n",
    "for movie in glob.glob('./data/prediction_videos_final_test/*/*'):\n",
    "    full_test_movie_names.append('/'.join(movie.split('/')[3:5]))"
   ]
  },
  {
   "cell_type": "code",
   "execution_count": 17,
   "metadata": {
    "collapsed": false
   },
   "outputs": [],
   "source": [
    "print(len(full_train_movie_names))\n",
    "print(len(set(full_train_movie_names)))\n",
    "print()\n",
    "print(len(full_test_movie_names))\n",
    "print(len(set(full_test_movie_names)))"
   ]
  },
  {
   "cell_type": "code",
   "execution_count": 18,
   "metadata": {
    "collapsed": false
   },
   "outputs": [],
   "source": [
    "print(len(set(full_train_movie_names).intersection(set(full_train_movie_names))))\n",
    "print(len(set(train_movie_names)))"
   ]
  },
  {
   "cell_type": "markdown",
   "metadata": {},
   "source": [
    "### Coarse category types"
   ]
  },
  {
   "cell_type": "code",
   "execution_count": 19,
   "metadata": {
    "collapsed": false
   },
   "outputs": [],
   "source": [
    "train_cat_occurence = [cat.split('/')[0] for cat in full_train_movie_names]\n",
    "\n",
    "train_cat_counts = Counter(train_cat_occurence)\n",
    "train_cat_counts.most_common()[:10]"
   ]
  },
  {
   "cell_type": "code",
   "execution_count": 20,
   "metadata": {
    "collapsed": false
   },
   "outputs": [],
   "source": [
    "test_cat_occurence = [cat.split('/')[0] for cat in full_test_movie_names]\n",
    "\n",
    "test_cat_counts = Counter(test_cat_occurence)\n",
    "test_cat_counts.most_common()[:10]"
   ]
  },
  {
   "cell_type": "code",
   "execution_count": 21,
   "metadata": {
    "collapsed": false
   },
   "outputs": [],
   "source": [
    "train_meta_cat_occurence = [cat.split('/')[0].split('-', maxsplit=1)[0] for cat in full_train_movie_names]\n",
    "\n",
    "train_meta_cat_counts = Counter(train_meta_cat_occurence)\n",
    "train_meta_cat_counts.most_common()"
   ]
  },
  {
   "cell_type": "code",
   "execution_count": 22,
   "metadata": {
    "collapsed": false
   },
   "outputs": [],
   "source": [
    "test_meta_cat_occurence = [cat.split('/')[0].split('-', maxsplit=1)[0] for cat in full_test_movie_names]\n",
    "\n",
    "test_meta_cat_counts = Counter(test_meta_cat_occurence)\n",
    "sorted_test = test_meta_cat_counts.most_common()"
   ]
  },
  {
   "cell_type": "markdown",
   "metadata": {},
   "source": [
    "### Comparing category distributions between test/train"
   ]
  },
  {
   "cell_type": "code",
   "execution_count": 23,
   "metadata": {
    "collapsed": false
   },
   "outputs": [],
   "source": [
    "bot_test = [cat[0] for cat in sorted_test]\n",
    "wid_test = [cat[1] for cat in sorted_test]\n",
    "\n",
    "bot_train = bot_test \n",
    "wid_train = [train_meta_cat_counts[cat[0]] for cat in sorted_test]\n",
    "\n",
    "fig, ax = plt.subplots()\n",
    "ax.barh(np.arange(len(wid_test)),wid_test, alpha = 0.6)\n",
    "ax.barh(np.arange(len(wid_test)),wid_train, alpha = 0.6, color='y')\n",
    "\n",
    "_ = ax.set_yticklabels(bot_test)"
   ]
  },
  {
   "cell_type": "code",
   "execution_count": 24,
   "metadata": {
    "collapsed": false
   },
   "outputs": [],
   "source": [
    "all_movies = []\n",
    "for movie in glob.glob('./data/prediction_videos_final_train/*/*'):\n",
    "    all_movies.append('/'.join(movie.split('/')[2:5]))\n",
    "\n",
    "full_test_movie = []\n",
    "for movie in glob.glob('./data/prediction_videos_final_test/*/*'):\n",
    "    all_movies.append('/'.join(movie.split('/')[2:5]))"
   ]
  },
  {
   "cell_type": "code",
   "execution_count": 25,
   "metadata": {
    "collapsed": false
   },
   "outputs": [],
   "source": [
    "all_movies[:5]"
   ]
  },
  {
   "cell_type": "markdown",
   "metadata": {},
   "source": [
    "## Looking at movie length distribution of combined test/train"
   ]
  },
  {
   "cell_type": "code",
   "execution_count": 26,
   "metadata": {
    "collapsed": false
   },
   "outputs": [],
   "source": [
    "movie_lengths = {}\n",
    "for path in all_movies:\n",
    "    files = os.listdir('./data/'+path)\n",
    "    movie_lengths[''.join(path.split('_', maxsplit=3)[3:])] = len(files)\n",
    "\n",
    "sorted_movies = sorted(movie_lengths.items(), key=operator.itemgetter(1))"
   ]
  },
  {
   "cell_type": "code",
   "execution_count": 28,
   "metadata": {
    "collapsed": false,
    "scrolled": true
   },
   "outputs": [],
   "source": [
    "sorted_movies[293:305]"
   ]
  },
  {
   "cell_type": "code",
   "execution_count": 29,
   "metadata": {
    "collapsed": false
   },
   "outputs": [],
   "source": [
    "386/24"
   ]
  },
  {
   "cell_type": "code",
   "execution_count": 30,
   "metadata": {
    "collapsed": false
   },
   "outputs": [],
   "source": [
    "sorted_movies[-20:]"
   ]
  },
  {
   "cell_type": "code",
   "execution_count": 31,
   "metadata": {
    "collapsed": false
   },
   "outputs": [],
   "source": [
    "length_series = pd.Series(list(movie_lengths.values()))\n",
    "_ = length_series.hist(bins = 30, log = True)"
   ]
  },
  {
   "cell_type": "code",
   "execution_count": 128,
   "metadata": {
    "collapsed": false
   },
   "outputs": [],
   "source": [
    "length_series = pd.Series([val for val in movie_lengths.values() if val < 300])\n",
    "_ = length_series.hist(bins = 30)"
   ]
  },
  {
   "cell_type": "code",
   "execution_count": 33,
   "metadata": {
    "collapsed": false
   },
   "outputs": [],
   "source": [
    "len_array = np.array([int(sm[1]) for sm in sorted_movies])\n",
    "\n",
    "len_array_f = len_array[len_array > 1]\n",
    "len_array_f = len_array_f[len_array_f < 300]\n",
    "l_full, l_fill =len(len_array), len(len_array_f)\n",
    "print(l_full, l_fill)\n",
    "ldiff = l_full- l_fill\n",
    "print(ldiff)\n",
    "print(ldiff/l_full)"
   ]
  },
  {
   "cell_type": "markdown",
   "metadata": {},
   "source": [
    "Only 5% of the videos have more than 300 frames, or 12s"
   ]
  },
  {
   "cell_type": "code",
   "execution_count": 35,
   "metadata": {
    "collapsed": false
   },
   "outputs": [],
   "source": [
    "df = pd.DataFrame.from_records(sorted_movies)"
   ]
  },
  {
   "cell_type": "markdown",
   "metadata": {},
   "source": [
    "!!! Remove movies that have been removed if this is re-written !!!"
   ]
  },
  {
   "cell_type": "code",
   "execution_count": 36,
   "metadata": {
    "collapsed": false
   },
   "outputs": [],
   "source": [
    "df[0].to_csv('./movies_sorted_by_length.csv', index = False)"
   ]
  },
  {
   "cell_type": "markdown",
   "metadata": {},
   "source": [
    "## Sorting replacment videos"
   ]
  },
  {
   "cell_type": "code",
   "execution_count": 196,
   "metadata": {
    "collapsed": true
   },
   "outputs": [],
   "source": [
    "replacement_movie_names = []\n",
    "for movie in glob.glob('./data/prediction_videos_3_categories/*/*'):\n",
    "    replacement_movie_names.append('/'.join(movie.split('/')[3:5]))"
   ]
  },
  {
   "cell_type": "code",
   "execution_count": 207,
   "metadata": {
    "collapsed": false
   },
   "outputs": [],
   "source": [
    "bowling_videos = replacement_movie_names[0:129]"
   ]
  },
  {
   "cell_type": "code",
   "execution_count": 160,
   "metadata": {
    "collapsed": false
   },
   "outputs": [],
   "source": [
    "replacement_movie_lengths = {}\n",
    "for path in replacement_movie_names:\n",
    "    files = os.listdir('./data/prediction_videos_3_categories/'+path)\n",
    "    replacement_movie_lengths[path] = len(files)"
   ]
  },
  {
   "cell_type": "code",
   "execution_count": 166,
   "metadata": {
    "collapsed": true
   },
   "outputs": [],
   "source": [
    "sorted_replacement_movies = sorted(replacement_movie_lengths.items(), key=operator.itemgetter(1))\n",
    "sdf = pd.DataFrame.from_records(sorted_replacement_movies)\n",
    "sdf[0].to_csv('./bowling_movies_sorted_by_length.csv', index = False)"
   ]
  },
  {
   "cell_type": "code",
   "execution_count": 244,
   "metadata": {
    "collapsed": false
   },
   "outputs": [],
   "source": [
    "bowling_movie_lengths = {}\n",
    "for path in bowling_videos:\n",
    "    files = os.listdir('./data/prediction_videos_3_categories/'+path)\n",
    "    bowling_movie_lengths[path] = len(files)\n",
    "\n",
    "sorted_bowling_videos = sorted(bowling_movie_lengths.items(), key=operator.itemgetter(1))\n",
    "sdf = pd.DataFrame.from_records(sorted_bowling_videos)\n",
    "sdf[0].to_csv('./bowling_movies_sorted_by_length.csv', index = False)"
   ]
  },
  {
   "cell_type": "code",
   "execution_count": 245,
   "metadata": {
    "collapsed": false
   },
   "outputs": [],
   "source": [
    "len(sorted_replacement_movies)"
   ]
  },
  {
   "cell_type": "markdown",
   "metadata": {},
   "source": [
    "## second pass over selected categories"
   ]
  },
  {
   "cell_type": "code",
   "execution_count": 246,
   "metadata": {
    "collapsed": false
   },
   "outputs": [],
   "source": [
    "all_movie_2s = []\n",
    "for movie_2 in glob.glob('./data/prediction_videos_final_train/*billiard*/*'):\n",
    "    all_movie_2s.append('/'.join(movie_2.split('/')[2:5]))\n",
    "\n",
    "full_test_movie_2 = []\n",
    "for movie_2 in glob.glob('./data/prediction_videos_final_test/*billiard*/*'):\n",
    "    all_movie_2s.append('/'.join(movie_2.split('/')[2:5]))\n",
    "    \n",
    "movie_2_lengths = {}\n",
    "for path in all_movie_2s:\n",
    "    files = os.listdir('./data/'+path)\n",
    "    movie_2_lengths[''.join(path.split('_', maxsplit=3)[3:])] = len(files)\n",
    "\n",
    "sorted_movie_2s = sorted(movie_2_lengths.items(), key=operator.itemgetter(1))"
   ]
  },
  {
   "cell_type": "code",
   "execution_count": 247,
   "metadata": {
    "collapsed": false
   },
   "outputs": [],
   "source": [
    "spdf = pd.DataFrame.from_records(sorted_movie_2s)\n",
    "spdf[0].to_csv('./second_pass_billiard_test.csv', index = False)"
   ]
  },
  {
   "cell_type": "code",
   "execution_count": 248,
   "metadata": {
    "collapsed": false
   },
   "outputs": [],
   "source": [
    "%page sorted_movie_2s"
   ]
  },
  {
   "cell_type": "code",
   "execution_count": 249,
   "metadata": {
    "collapsed": false
   },
   "outputs": [],
   "source": [
    "len(sorted_movie_2s)"
   ]
  },
  {
   "cell_type": "markdown",
   "metadata": {},
   "source": [
    "### In the future, should set max capture length"
   ]
  },
  {
   "cell_type": "markdown",
   "metadata": {},
   "source": [
    "## Confirmation code output test"
   ]
  },
  {
   "cell_type": "code",
   "execution_count": 37,
   "metadata": {
    "collapsed": true
   },
   "outputs": [],
   "source": [
    "import ast"
   ]
  },
  {
   "cell_type": "code",
   "execution_count": 38,
   "metadata": {
    "collapsed": false
   },
   "outputs": [],
   "source": [
    "# frame_results = []\n",
    "# with open('ex_log.txt', 'r') as f:\n",
    "#     frame_results = f.readlines()"
   ]
  },
  {
   "cell_type": "code",
   "execution_count": null,
   "metadata": {
    "collapsed": false
   },
   "outputs": [],
   "source": [
    "spt = frame_results[0].split(', ', maxsplit =2)"
   ]
  },
  {
   "cell_type": "code",
   "execution_count": null,
   "metadata": {
    "collapsed": false
   },
   "outputs": [],
   "source": [
    "flist = ast.literal_eval(spt[2])"
   ]
  },
  {
   "cell_type": "markdown",
   "metadata": {},
   "source": [
    "## identicle frames"
   ]
  },
  {
   "cell_type": "markdown",
   "metadata": {},
   "source": [
    "passing-rugby, train  95_3 96_3 are identicle\n",
    "\n",
    "\n",
    "data/prediction_videos_final_test/passing-rugby/118_3\n",
    "\n",
    "\n",
    "data/prediction_videos_final_train/passing-rugby/117_3"
   ]
  },
  {
   "cell_type": "markdown",
   "metadata": {},
   "source": [
    "## file renaming example"
   ]
  },
  {
   "cell_type": "code",
   "execution_count": null,
   "metadata": {
    "collapsed": true
   },
   "outputs": [],
   "source": [
    "import os"
   ]
  },
  {
   "cell_type": "code",
   "execution_count": null,
   "metadata": {
    "collapsed": true
   },
   "outputs": [],
   "source": [
    "frames = [['00000', '00020'], ['00040', '00050']]"
   ]
  },
  {
   "cell_type": "code",
   "execution_count": null,
   "metadata": {
    "collapsed": false
   },
   "outputs": [],
   "source": [
    "old_path = './79_2/'\n",
    "new_path = './test/'\n",
    "fext = '.png'\n",
    "os.mkdir(new_path)\n",
    "for span in frames:\n",
    "    for frame in range(int(span[0]), int(span[1])+1):\n",
    "        oldf = old_path+str(frame).zfill(5) + fext\n",
    "        newf = new_path+str(frame).zfill(5) + fext\n",
    "        os.rename(oldf, newf)"
   ]
  },
  {
   "cell_type": "markdown",
   "metadata": {},
   "source": [
    "## similar image comparison"
   ]
  },
  {
   "cell_type": "code",
   "execution_count": 92,
   "metadata": {
    "collapsed": false
   },
   "outputs": [],
   "source": [
    "from skimage.measure import compare_ssim as ssim\n",
    "from skimage.measure import compare_mse as mse\n",
    "import cv2\n",
    "from IPython.core.display import display"
   ]
  },
  {
   "cell_type": "code",
   "execution_count": 93,
   "metadata": {
    "collapsed": true
   },
   "outputs": [],
   "source": [
    "image1 = cv2.imread('./similar_ex/53_6/00039.png')\n",
    "image2 = cv2.imread('./similar_ex/53_7/00036.png')"
   ]
  },
  {
   "cell_type": "code",
   "execution_count": 96,
   "metadata": {
    "collapsed": false
   },
   "outputs": [],
   "source": [
    "s = ssim(image1, image2, multichannel=True)\n",
    "s"
   ]
  },
  {
   "cell_type": "code",
   "execution_count": 97,
   "metadata": {
    "collapsed": false
   },
   "outputs": [],
   "source": [
    "s = mse(image1, image2)\n",
    "s"
   ]
  },
  {
   "cell_type": "code",
   "execution_count": 74,
   "metadata": {
    "collapsed": false
   },
   "outputs": [],
   "source": [
    "_ = plt.imshow(image1)"
   ]
  },
  {
   "cell_type": "code",
   "execution_count": 75,
   "metadata": {
    "collapsed": false
   },
   "outputs": [],
   "source": [
    "_ = plt.imshow(image2)"
   ]
  },
  {
   "cell_type": "code",
   "execution_count": 78,
   "metadata": {
    "collapsed": false
   },
   "outputs": [],
   "source": [
    "_ = plt.imshow(image1 - image2)"
   ]
  },
  {
   "cell_type": "code",
   "execution_count": null,
   "metadata": {
    "collapsed": true
   },
   "outputs": [],
   "source": []
  }
 ],
 "metadata": {
  "kernelspec": {
   "display_name": "Python 3",
   "language": "python",
   "name": "python3"
  },
  "language_info": {
   "codemirror_mode": {
    "name": "ipython",
    "version": 3
   },
   "file_extension": ".py",
   "mimetype": "text/x-python",
   "name": "python",
   "nbconvert_exporter": "python",
   "pygments_lexer": "ipython3",
   "version": "3.5.0"
  }
 },
 "nbformat": 4,
 "nbformat_minor": 0
}
